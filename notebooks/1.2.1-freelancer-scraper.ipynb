{
 "cells": [
  {
   "cell_type": "markdown",
   "source": "# Freelancer Scraper",
   "metadata": {
    "cell_id": "12f26d08-6f73-44c4-a749-f8da6545a3c3",
    "deepnote_cell_type": "markdown"
   }
  },
  {
   "cell_type": "code",
   "metadata": {
    "cell_id": "00001-19068ac1-867a-44da-a989-ea7caebb688f",
    "deepnote_cell_type": "code"
   },
   "source": "#pip install --upgrade selenium\n#!pip install webdriver-manager",
   "execution_count": null,
   "outputs": []
  },
  {
   "cell_type": "code",
   "metadata": {
    "cell_id": "00002-1785fb5e-e351-422a-b576-e4d64cd4d8d7",
    "deepnote_cell_type": "code"
   },
   "source": "#Import the necessary packages needed to build the freelancer bot and navigate the pages\nimport re\nimport pandas as pd\nfrom time import sleep\nfrom selenium import webdriver\nfrom webdriver_manager.chrome import ChromeDriverManager\nfrom selenium.webdriver.common.keys import Keys\nfrom selenium.webdriver.common.by import By",
   "execution_count": null,
   "outputs": []
  },
  {
   "cell_type": "code",
   "metadata": {
    "cell_id": "00003-6a4af1b1-a627-4345-8bc8-e90423995b73",
    "deepnote_cell_type": "code"
   },
   "source": "class FreelancerScraper:\n    \n    def __init__(self,num_pages,job_or_field = None,url= None):\n        \n        #Check if a job or webpage to extract from was inputted\n        if (job_or_field is None) and (url is None):\n            raise ValueError('Please provide one of job_or_field or url for scraping')\n            \n            \n        #Store the number of pages to extract from\n        self.num_pages = num_pages\n        \n        #Note the job to scrape on and the job field\n        if url:\n            self.url = url\n            self.job_or_field = self.url.split('/')[-1]\n        \n        elif job_or_field:\n            self.job_or_field = job_or_field\n            self.url = f'https://www.freelancer.com/freelancers/united-states/{self.job_or_field}'\n            \n        #List to store the scraped user profile links\n        self.user_profiles = []\n        \n        #List to store scraped user profile info\n        self.users_info = []\n        \n        \n    def get_usernames(self):\n        \n        #Create browser instance\n        self.browser = webdriver.Chrome(ChromeDriverManager().install())\n        \n        #Get the starting webpage and wait sometime for elements to load\n        self.browser.get(self.url)\n        sleep(3)\n        \n        #See if online selected, and deselect. Also wait for sometime for elements to load\n        try:\n            self.browser.find_element(By.ID,\"selected-online\").click()\n            sleep(3)\n        except:\n            pass\n        \n        #Click the next button num_pages times\n        for _ in range(self.num_pages):\n            \n            #Get the profile links for everyone on the page\n            usernames = self.browser.find_elements(By.CLASS_NAME,\"find-freelancer-username\")\n\n            for user in usernames:\n                self.user_profiles.append(user.get_attribute('href'))\n                \n            #NAVIGATION TO NEXT PAGE\n            \n            #Find all the page navigation buttons\n            pg_nav_btns = self.browser.find_elements(By.CSS_SELECTOR,\"a[data-target='pagination']\")\n            \n            #Find and click on the last one (next page button) \n            pg_nav_btns[-1].click()\n            sleep(3)\n        \n        #Close the browser when done\n        self.browser.quit()  \n   \n    def extract_all(self):\n        \n        \"\"\"\n        NOTE: NOT COMPLETED\n        Multi-page username and user profile link scraping:\n        \"\"\"\n\n        #Variable to track if the page iterations should be terminated\n        terminate = False\n\n        #Start search from page 1\n        pg = 1\n        \n        #Iterate through pages until no more results found\n        while not terminate:\n            \n            self.browser.get(self.url+'/'+str(pg))\n            sleep(3)\n        \n        \n            #See if online selected, and deselect\n            browser.find_element(By.ID,\"selected-online\").click()\n            sleep(3)\n\n            #Get the profile links for everyone on the page\n            usernames = browser.find_elements(By.CLASS_NAME,\"find-freelancer-username\")\n\n            for user in usernames:\n                user_profiles.append(user.get_attribute('href'))\n\n        \n        \n    def get_user_profile_info(self,user_profile_link):\n        \n        \"\"\"\n        Scrapes and inputted user profile link\n        \"\"\"\n        \n        self.browser = webdriver.Chrome(ChromeDriverManager().install())\n        self.browser.get(user_profile_link)\n        sleep(3)\n        \n        #Dictionary to store the user's info\n        user_info = {}\n        \n        #Store the job_or_field\n        user_info['job_or_field'] = self.job_or_field\n\n        #Get name\n        user_info['name'] = self.browser.find_element(By.CSS_SELECTOR,\"h3[data-color='dark']\").text\n        \n        #Store the profile link\n        user_info['profile_link'] = user_profile_link\n\n        #Get tagline\n        user_info['tagline'] = self.browser.find_element(By.CSS_SELECTOR,\"h2[data-color='mid']\").text\n\n        ###### Get description\n        description_box = self.browser.find_element(By.CSS_SELECTOR,\"fl-text[data-max-lines='15']\")\n\n        #Try to click on the read more button and extract text\n        try:\n            description_box.find_element(By.CLASS_NAME,'ReadMoreButton').click()\n            user_info['user_description'] = description_box.text\n        #If error is thrown because text doesn't need to be expanded, then we can just pull direct text \n        except:\n            user_info['user_description'] = description_box.text\n        ######################    \n\n        #Get location\n        user_info['location'] = self.browser.find_element(By.CSS_SELECTOR,\"fl-col[class='SupplementaryInfo']\").text\n\n        #Get join date\n        user_info['join_date'] = self.browser.find_element(By.XPATH, \"//*[contains(text(),'Joined')]\").text.replace('Joined ','')\n\n        #Hourly rate\n        user_info['hourly_rate'] = re.findall('\\$\\d+',self.browser.find_element(By.XPATH, \"//*[contains(text(),'USD')]\").text)[0]\n\n        #Get pay grade\n        user_info['pay_grade'] = self.browser.find_element(By.CSS_SELECTOR,\"div[data-size='xxsmall\").text\n\n        #######Get rating container\n        rating_container = self.browser.find_elements(By.CSS_SELECTOR,\"fl-bit[class ='RatingContainer']\")[1]\n        \n\n        #Get average rating and number of reviews\n        user_info['avg_rating'], reviews = rating_container.text.split('\\n')\n        user_info['num_reviews'] = re.findall('\\d+',reviews)[0]\n        ##################################\n\n        #Get number of recommendations\n        user_info['num_recommendations']=re.findall('\\d+',self.browser.find_element(By.CSS_SELECTOR,\"fl-col[class='RecommendationsText']\").text)[0]\n\n        ### GET STATS ON PERFORMANCE\n        pct_jobs_completed, pct_on_budget, pct_on_time, repeat_hire_rate = [item.text.\\\n                                                                            replace('%','') for item in self.browser.\\\n                                                                            find_elements(By.CSS_SELECTOR,\"fl-text[class='ReputationItemAmount']\")]\n        \n        user_info['pct_jobs_completed'] = pct_jobs_completed\n        user_info['pct_on_budget'] = pct_on_budget\n        user_info['pct_on_time'] = pct_on_time\n        user_info['repeat_hire_rate'] = repeat_hire_rate\n        ##############################\n\n        #Add the extracted info the list for all users\n        self.users_info.append(user_info)\n        \n        #Close the browser when done\n        self.browser.close()  \n        \n    \n    def run(self):\n        \n        #Extract all the usernames for the particular role\n        self.get_usernames()\n        \n        #Get all the info for each of the usernames\n        for url in self.user_profiles:\n            self.get_user_profile_info(url)\n            sleep(4)\n    \n        #Return all the scraped data\n        return self.users_info\n\n\n\n        \n        ",
   "execution_count": null,
   "outputs": []
  },
  {
   "cell_type": "markdown",
   "source": "rating_container = self.browser.find_element(By.CSS_SELECTOR,\"span[class='IconContent']\")",
   "metadata": {
    "cell_id": "00004-48bba7e4-9ebe-4e6e-8ab4-f83d1fadf21c",
    "deepnote_cell_type": "markdown"
   }
  },
  {
   "cell_type": "code",
   "metadata": {
    "cell_id": "00005-39510144-e92f-4ad2-b623-ff8065bb2e7e",
    "deepnote_cell_type": "code"
   },
   "source": "finance_da_url = 'https://www.freelancer.com/freelancers/united-states/finance-data-analytics'\nscraper = FreelancerScraper(num_pages=6,url= finance_da_url)\nscraped_df = scraper.run()",
   "execution_count": null,
   "outputs": [
    {
     "name": "stderr",
     "output_type": "stream",
     "text": "\n\n====== WebDriver manager ======\nCurrent google-chrome version is 98.0.4758\nGet LATEST chromedriver version for 98.0.4758 google-chrome\nDriver [/Users/koredeakande/.wdm/drivers/chromedriver/mac64/98.0.4758.102/chromedriver] found in cache\n\n\n====== WebDriver manager ======\nCurrent google-chrome version is 98.0.4758\nGet LATEST chromedriver version for 98.0.4758 google-chrome\nDriver [/Users/koredeakande/.wdm/drivers/chromedriver/mac64/98.0.4758.102/chromedriver] found in cache\n\n\n====== WebDriver manager ======\nCurrent google-chrome version is 98.0.4758\nGet LATEST chromedriver version for 98.0.4758 google-chrome\nDriver [/Users/koredeakande/.wdm/drivers/chromedriver/mac64/98.0.4758.102/chromedriver] found in cache\n\n\n====== WebDriver manager ======\nCurrent google-chrome version is 98.0.4758\nGet LATEST chromedriver version for 98.0.4758 google-chrome\nDriver [/Users/koredeakande/.wdm/drivers/chromedriver/mac64/98.0.4758.102/chromedriver] found in cache\n\n\n====== WebDriver manager ======\nCurrent google-chrome version is 98.0.4758\nGet LATEST chromedriver version for 98.0.4758 google-chrome\nDriver [/Users/koredeakande/.wdm/drivers/chromedriver/mac64/98.0.4758.102/chromedriver] found in cache\n\n\n====== WebDriver manager ======\nCurrent google-chrome version is 98.0.4758\nGet LATEST chromedriver version for 98.0.4758 google-chrome\nDriver [/Users/koredeakande/.wdm/drivers/chromedriver/mac64/98.0.4758.102/chromedriver] found in cache\n\n\n====== WebDriver manager ======\nCurrent google-chrome version is 98.0.4758\nGet LATEST chromedriver version for 98.0.4758 google-chrome\nDriver [/Users/koredeakande/.wdm/drivers/chromedriver/mac64/98.0.4758.102/chromedriver] found in cache\n\n\n====== WebDriver manager ======\nCurrent google-chrome version is 98.0.4758\nGet LATEST chromedriver version for 98.0.4758 google-chrome\nDriver [/Users/koredeakande/.wdm/drivers/chromedriver/mac64/98.0.4758.102/chromedriver] found in cache\n\n\n====== WebDriver manager ======\nCurrent google-chrome version is 98.0.4758\nGet LATEST chromedriver version for 98.0.4758 google-chrome\nDriver [/Users/koredeakande/.wdm/drivers/chromedriver/mac64/98.0.4758.102/chromedriver] found in cache\n\n\n====== WebDriver manager ======\nCurrent google-chrome version is 98.0.4758\nGet LATEST chromedriver version for 98.0.4758 google-chrome\nDriver [/Users/koredeakande/.wdm/drivers/chromedriver/mac64/98.0.4758.102/chromedriver] found in cache\n\n\n====== WebDriver manager ======\nCurrent google-chrome version is 98.0.4758\nGet LATEST chromedriver version for 98.0.4758 google-chrome\nDriver [/Users/koredeakande/.wdm/drivers/chromedriver/mac64/98.0.4758.102/chromedriver] found in cache\n\n\n====== WebDriver manager ======\nCurrent google-chrome version is 98.0.4758\nGet LATEST chromedriver version for 98.0.4758 google-chrome\nDriver [/Users/koredeakande/.wdm/drivers/chromedriver/mac64/98.0.4758.102/chromedriver] found in cache\n\n\n====== WebDriver manager ======\nCurrent google-chrome version is 98.0.4758\nGet LATEST chromedriver version for 98.0.4758 google-chrome\nDriver [/Users/koredeakande/.wdm/drivers/chromedriver/mac64/98.0.4758.102/chromedriver] found in cache\n\n\n====== WebDriver manager ======\nCurrent google-chrome version is 98.0.4758\nGet LATEST chromedriver version for 98.0.4758 google-chrome\nDriver [/Users/koredeakande/.wdm/drivers/chromedriver/mac64/98.0.4758.102/chromedriver] found in cache\n\n\n====== WebDriver manager ======\nCurrent google-chrome version is 98.0.4758\nGet LATEST chromedriver version for 98.0.4758 google-chrome\nDriver [/Users/koredeakande/.wdm/drivers/chromedriver/mac64/98.0.4758.102/chromedriver] found in cache\n\n\n====== WebDriver manager ======\nCurrent google-chrome version is 98.0.4758\nGet LATEST chromedriver version for 98.0.4758 google-chrome\nDriver [/Users/koredeakande/.wdm/drivers/chromedriver/mac64/98.0.4758.102/chromedriver] found in cache\n\n\n====== WebDriver manager ======\nCurrent google-chrome version is 98.0.4758\nGet LATEST chromedriver version for 98.0.4758 google-chrome\nDriver [/Users/koredeakande/.wdm/drivers/chromedriver/mac64/98.0.4758.102/chromedriver] found in cache\n\n\n====== WebDriver manager ======\nCurrent google-chrome version is 98.0.4758\nGet LATEST chromedriver version for 98.0.4758 google-chrome\nDriver [/Users/koredeakande/.wdm/drivers/chromedriver/mac64/98.0.4758.102/chromedriver] found in cache\n\n\n====== WebDriver manager ======\nCurrent google-chrome version is 98.0.4758\nGet LATEST chromedriver version for 98.0.4758 google-chrome\nDriver [/Users/koredeakande/.wdm/drivers/chromedriver/mac64/98.0.4758.102/chromedriver] found in cache\n\n\n====== WebDriver manager ======\nCurrent google-chrome version is 98.0.4758\nGet LATEST chromedriver version for 98.0.4758 google-chrome\nDriver [/Users/koredeakande/.wdm/drivers/chromedriver/mac64/98.0.4758.102/chromedriver] found in cache\n\n\n====== WebDriver manager ======\nCurrent google-chrome version is 98.0.4758\nGet LATEST chromedriver version for 98.0.4758 google-chrome\nDriver [/Users/koredeakande/.wdm/drivers/chromedriver/mac64/98.0.4758.102/chromedriver] found in cache\n\n\n====== WebDriver manager ======\nCurrent google-chrome version is 98.0.4758\nGet LATEST chromedriver version for 98.0.4758 google-chrome\nDriver [/Users/koredeakande/.wdm/drivers/chromedriver/mac64/98.0.4758.102/chromedriver] found in cache\n\n\n====== WebDriver manager ======\nCurrent google-chrome version is 98.0.4758\nGet LATEST chromedriver version for 98.0.4758 google-chrome\nDriver [/Users/koredeakande/.wdm/drivers/chromedriver/mac64/98.0.4758.102/chromedriver] found in cache\n\n\n====== WebDriver manager ======\nCurrent google-chrome version is 98.0.4758\nGet LATEST chromedriver version for 98.0.4758 google-chrome\nDriver [/Users/koredeakande/.wdm/drivers/chromedriver/mac64/98.0.4758.102/chromedriver] found in cache\n\n\n====== WebDriver manager ======\nCurrent google-chrome version is 98.0.4758\nGet LATEST chromedriver version for 98.0.4758 google-chrome\nDriver [/Users/koredeakande/.wdm/drivers/chromedriver/mac64/98.0.4758.102/chromedriver] found in cache\n\n\n====== WebDriver manager ======\nCurrent google-chrome version is 98.0.4758\nGet LATEST chromedriver version for 98.0.4758 google-chrome\nDriver [/Users/koredeakande/.wdm/drivers/chromedriver/mac64/98.0.4758.102/chromedriver] found in cache\n\n\n====== WebDriver manager ======\nCurrent google-chrome version is 98.0.4758\nGet LATEST chromedriver version for 98.0.4758 google-chrome\nDriver [/Users/koredeakande/.wdm/drivers/chromedriver/mac64/98.0.4758.102/chromedriver] found in cache\n\n\n====== WebDriver manager ======\nCurrent google-chrome version is 98.0.4758\nGet LATEST chromedriver version for 98.0.4758 google-chrome\nDriver [/Users/koredeakande/.wdm/drivers/chromedriver/mac64/98.0.4758.102/chromedriver] found in cache\n\n\n====== WebDriver manager ======\nCurrent google-chrome version is 98.0.4758\nGet LATEST chromedriver version for 98.0.4758 google-chrome\nDriver [/Users/koredeakande/.wdm/drivers/chromedriver/mac64/98.0.4758.102/chromedriver] found in cache\n\n\n====== WebDriver manager ======\nCurrent google-chrome version is 98.0.4758\nGet LATEST chromedriver version for 98.0.4758 google-chrome\nDriver [/Users/koredeakande/.wdm/drivers/chromedriver/mac64/98.0.4758.102/chromedriver] found in cache\n\n\n====== WebDriver manager ======\nCurrent google-chrome version is 98.0.4758\nGet LATEST chromedriver version for 98.0.4758 google-chrome\nDriver [/Users/koredeakande/.wdm/drivers/chromedriver/mac64/98.0.4758.102/chromedriver] found in cache\n\n\n====== WebDriver manager ======\nCurrent google-chrome version is 98.0.4758\nGet LATEST chromedriver version for 98.0.4758 google-chrome\nDriver [/Users/koredeakande/.wdm/drivers/chromedriver/mac64/98.0.4758.102/chromedriver] found in cache\n\n\n====== WebDriver manager ======\nCurrent google-chrome version is 98.0.4758\nGet LATEST chromedriver version for 98.0.4758 google-chrome\nDriver [/Users/koredeakande/.wdm/drivers/chromedriver/mac64/98.0.4758.102/chromedriver] found in cache\n\n\n====== WebDriver manager ======\nCurrent google-chrome version is 98.0.4758\nGet LATEST chromedriver version for 98.0.4758 google-chrome\nDriver [/Users/koredeakande/.wdm/drivers/chromedriver/mac64/98.0.4758.102/chromedriver] found in cache\n\n\n====== WebDriver manager ======\n"
    },
    {
     "name": "stderr",
     "output_type": "stream",
     "text": "Current google-chrome version is 98.0.4758\nGet LATEST chromedriver version for 98.0.4758 google-chrome\nDriver [/Users/koredeakande/.wdm/drivers/chromedriver/mac64/98.0.4758.102/chromedriver] found in cache\n\n\n====== WebDriver manager ======\nCurrent google-chrome version is 98.0.4758\nGet LATEST chromedriver version for 98.0.4758 google-chrome\nDriver [/Users/koredeakande/.wdm/drivers/chromedriver/mac64/98.0.4758.102/chromedriver] found in cache\n\n\n====== WebDriver manager ======\nCurrent google-chrome version is 98.0.4758\nGet LATEST chromedriver version for 98.0.4758 google-chrome\nDriver [/Users/koredeakande/.wdm/drivers/chromedriver/mac64/98.0.4758.102/chromedriver] found in cache\n\n\n====== WebDriver manager ======\nCurrent google-chrome version is 98.0.4758\nGet LATEST chromedriver version for 98.0.4758 google-chrome\nDriver [/Users/koredeakande/.wdm/drivers/chromedriver/mac64/98.0.4758.102/chromedriver] found in cache\n\n\n====== WebDriver manager ======\nCurrent google-chrome version is 98.0.4758\nGet LATEST chromedriver version for 98.0.4758 google-chrome\nDriver [/Users/koredeakande/.wdm/drivers/chromedriver/mac64/98.0.4758.102/chromedriver] found in cache\n\n\n====== WebDriver manager ======\nCurrent google-chrome version is 98.0.4758\nGet LATEST chromedriver version for 98.0.4758 google-chrome\nDriver [/Users/koredeakande/.wdm/drivers/chromedriver/mac64/98.0.4758.102/chromedriver] found in cache\n\n\n====== WebDriver manager ======\nCurrent google-chrome version is 98.0.4758\nGet LATEST chromedriver version for 98.0.4758 google-chrome\nDriver [/Users/koredeakande/.wdm/drivers/chromedriver/mac64/98.0.4758.102/chromedriver] found in cache\n\n\n====== WebDriver manager ======\nCurrent google-chrome version is 98.0.4758\nGet LATEST chromedriver version for 98.0.4758 google-chrome\nDriver [/Users/koredeakande/.wdm/drivers/chromedriver/mac64/98.0.4758.102/chromedriver] found in cache\n\n\n====== WebDriver manager ======\nCurrent google-chrome version is 98.0.4758\nGet LATEST chromedriver version for 98.0.4758 google-chrome\nDriver [/Users/koredeakande/.wdm/drivers/chromedriver/mac64/98.0.4758.102/chromedriver] found in cache\n\n\n====== WebDriver manager ======\nCurrent google-chrome version is 98.0.4758\nGet LATEST chromedriver version for 98.0.4758 google-chrome\nDriver [/Users/koredeakande/.wdm/drivers/chromedriver/mac64/98.0.4758.102/chromedriver] found in cache\n\n\n====== WebDriver manager ======\nCurrent google-chrome version is 98.0.4758\nGet LATEST chromedriver version for 98.0.4758 google-chrome\nDriver [/Users/koredeakande/.wdm/drivers/chromedriver/mac64/98.0.4758.102/chromedriver] found in cache\n\n\n====== WebDriver manager ======\nCurrent google-chrome version is 98.0.4758\nGet LATEST chromedriver version for 98.0.4758 google-chrome\nDriver [/Users/koredeakande/.wdm/drivers/chromedriver/mac64/98.0.4758.102/chromedriver] found in cache\n\n\n====== WebDriver manager ======\nCurrent google-chrome version is 98.0.4758\nGet LATEST chromedriver version for 98.0.4758 google-chrome\nDriver [/Users/koredeakande/.wdm/drivers/chromedriver/mac64/98.0.4758.102/chromedriver] found in cache\n\n\n====== WebDriver manager ======\nCurrent google-chrome version is 98.0.4758\nGet LATEST chromedriver version for 98.0.4758 google-chrome\nDriver [/Users/koredeakande/.wdm/drivers/chromedriver/mac64/98.0.4758.102/chromedriver] found in cache\n\n\n====== WebDriver manager ======\nCurrent google-chrome version is 98.0.4758\nGet LATEST chromedriver version for 98.0.4758 google-chrome\nDriver [/Users/koredeakande/.wdm/drivers/chromedriver/mac64/98.0.4758.102/chromedriver] found in cache\n\n\n====== WebDriver manager ======\nCurrent google-chrome version is 98.0.4758\nGet LATEST chromedriver version for 98.0.4758 google-chrome\nDriver [/Users/koredeakande/.wdm/drivers/chromedriver/mac64/98.0.4758.102/chromedriver] found in cache\n\n\n====== WebDriver manager ======\nCurrent google-chrome version is 98.0.4758\nGet LATEST chromedriver version for 98.0.4758 google-chrome\nDriver [/Users/koredeakande/.wdm/drivers/chromedriver/mac64/98.0.4758.102/chromedriver] found in cache\n\n\n====== WebDriver manager ======\nCurrent google-chrome version is 98.0.4758\nGet LATEST chromedriver version for 98.0.4758 google-chrome\nDriver [/Users/koredeakande/.wdm/drivers/chromedriver/mac64/98.0.4758.102/chromedriver] found in cache\n\n\n====== WebDriver manager ======\nCurrent google-chrome version is 98.0.4758\nGet LATEST chromedriver version for 98.0.4758 google-chrome\nDriver [/Users/koredeakande/.wdm/drivers/chromedriver/mac64/98.0.4758.102/chromedriver] found in cache\n\n\n====== WebDriver manager ======\nCurrent google-chrome version is 98.0.4758\nGet LATEST chromedriver version for 98.0.4758 google-chrome\nDriver [/Users/koredeakande/.wdm/drivers/chromedriver/mac64/98.0.4758.102/chromedriver] found in cache\n\n\n====== WebDriver manager ======\nCurrent google-chrome version is 98.0.4758\nGet LATEST chromedriver version for 98.0.4758 google-chrome\nDriver [/Users/koredeakande/.wdm/drivers/chromedriver/mac64/98.0.4758.102/chromedriver] found in cache\n\n\n====== WebDriver manager ======\nCurrent google-chrome version is 98.0.4758\nGet LATEST chromedriver version for 98.0.4758 google-chrome\nDriver [/Users/koredeakande/.wdm/drivers/chromedriver/mac64/98.0.4758.102/chromedriver] found in cache\n\n\n====== WebDriver manager ======\nCurrent google-chrome version is 98.0.4758\nGet LATEST chromedriver version for 98.0.4758 google-chrome\nDriver [/Users/koredeakande/.wdm/drivers/chromedriver/mac64/98.0.4758.102/chromedriver] found in cache\n\n\n====== WebDriver manager ======\nCurrent google-chrome version is 98.0.4758\nGet LATEST chromedriver version for 98.0.4758 google-chrome\nDriver [/Users/koredeakande/.wdm/drivers/chromedriver/mac64/98.0.4758.102/chromedriver] found in cache\n\n\n====== WebDriver manager ======\nCurrent google-chrome version is 98.0.4758\nGet LATEST chromedriver version for 98.0.4758 google-chrome\nDriver [/Users/koredeakande/.wdm/drivers/chromedriver/mac64/98.0.4758.102/chromedriver] found in cache\n\n\n====== WebDriver manager ======\nCurrent google-chrome version is 98.0.4758\nGet LATEST chromedriver version for 98.0.4758 google-chrome\nDriver [/Users/koredeakande/.wdm/drivers/chromedriver/mac64/98.0.4758.102/chromedriver] found in cache\n\n\n====== WebDriver manager ======\nCurrent google-chrome version is 98.0.4758\nGet LATEST chromedriver version for 98.0.4758 google-chrome\nDriver [/Users/koredeakande/.wdm/drivers/chromedriver/mac64/98.0.4758.102/chromedriver] found in cache\n"
    }
   ]
  },
  {
   "cell_type": "code",
   "metadata": {
    "cell_id": "00006-befca21f-ed5a-47bd-a646-86b0c518d042",
    "deepnote_cell_type": "code"
   },
   "source": "scraped_pd_df = pd.DataFrame(scraped_df)\nscraped_pd_df.head()",
   "execution_count": null,
   "outputs": [
    {
     "data": {
      "text/html": "<div>\n<style scoped>\n    .dataframe tbody tr th:only-of-type {\n        vertical-align: middle;\n    }\n\n    .dataframe tbody tr th {\n        vertical-align: top;\n    }\n\n    .dataframe thead th {\n        text-align: right;\n    }\n</style>\n<table border=\"1\" class=\"dataframe\">\n  <thead>\n    <tr style=\"text-align: right;\">\n      <th></th>\n      <th>job_or_field</th>\n      <th>name</th>\n      <th>profile_link</th>\n      <th>tagline</th>\n      <th>user_description</th>\n      <th>location</th>\n      <th>join_date</th>\n      <th>hourly_rate</th>\n      <th>pay_grade</th>\n      <th>avg_rating</th>\n      <th>num_reviews</th>\n      <th>num_recommendations</th>\n      <th>pct_jobs_completed</th>\n      <th>pct_on_budget</th>\n      <th>pct_on_time</th>\n      <th>repeat_hire_rate</th>\n    </tr>\n  </thead>\n  <tbody>\n    <tr>\n      <th>0</th>\n      <td>finance-data-analytics</td>\n      <td>Michael S.</td>\n      <td>https://www.freelancer.com/u/stallonem</td>\n      <td>Experienced Market Researcher</td>\n      <td>I have over 12 years of experience helping bra...</td>\n      <td>Wallkill, United States</td>\n      <td>December 7, 2020</td>\n      <td>$115</td>\n      <td>7.2</td>\n      <td>5.0</td>\n      <td>1</td>\n      <td>2</td>\n      <td>100</td>\n      <td>100</td>\n      <td>100</td>\n      <td>100</td>\n    </tr>\n    <tr>\n      <th>1</th>\n      <td>finance-data-analytics</td>\n      <td>Teena V.</td>\n      <td>https://www.freelancer.com/u/TeenaVernekar</td>\n      <td>Virtual Assistant - Financial Accounting &amp; Bil...</td>\n      <td>I am self-motivated and precise individual wit...</td>\n      <td>Charlotte, United States</td>\n      <td>September 11, 2017</td>\n      <td>$15</td>\n      <td>7.8</td>\n      <td>5.0</td>\n      <td>7</td>\n      <td>8</td>\n      <td>100</td>\n      <td>100</td>\n      <td>100</td>\n      <td>33</td>\n    </tr>\n    <tr>\n      <th>2</th>\n      <td>finance-data-analytics</td>\n      <td>Tatiana L.</td>\n      <td>https://www.freelancer.com/u/TatianaLLL</td>\n      <td>US Taxes, Bookkeeping, IRS Tax Debt Resolution.</td>\n      <td>Hello, my name is Tatiana Loughman &amp; I'm:\\n - ...</td>\n      <td>Heath, United States</td>\n      <td>October 27, 2017</td>\n      <td>$99</td>\n      <td>5.7</td>\n      <td>5.0</td>\n      <td>28</td>\n      <td>3</td>\n      <td>100</td>\n      <td>100</td>\n      <td>95</td>\n      <td>20</td>\n    </tr>\n    <tr>\n      <th>3</th>\n      <td>finance-data-analytics</td>\n      <td>Megan M.</td>\n      <td>https://www.freelancer.com/u/meganimcauliffe</td>\n      <td>Data Analyst/Atmospheric Scientist</td>\n      <td>Skilled data analyst and R programmer for vari...</td>\n      <td>Willmar, United States</td>\n      <td>October 11, 2021</td>\n      <td>$15</td>\n      <td>2.8</td>\n      <td>5.0</td>\n      <td>1</td>\n      <td>0</td>\n      <td>100</td>\n      <td>100</td>\n      <td>100</td>\n      <td>N/A</td>\n    </tr>\n    <tr>\n      <th>4</th>\n      <td>finance-data-analytics</td>\n      <td>Helen Y.</td>\n      <td>https://www.freelancer.com/u/hyu289</td>\n      <td>Front End Developer</td>\n      <td>I have three years of working experience in le...</td>\n      <td>Madison, United States</td>\n      <td>November 7, 2019</td>\n      <td>$30</td>\n      <td>4.0</td>\n      <td>5.0</td>\n      <td>7</td>\n      <td>0</td>\n      <td>100</td>\n      <td>100</td>\n      <td>100</td>\n      <td>33</td>\n    </tr>\n  </tbody>\n</table>\n</div>",
      "text/plain": "             job_or_field        name  \\\n0  finance-data-analytics  Michael S.   \n1  finance-data-analytics    Teena V.   \n2  finance-data-analytics  Tatiana L.   \n3  finance-data-analytics    Megan M.   \n4  finance-data-analytics    Helen Y.   \n\n                                   profile_link  \\\n0        https://www.freelancer.com/u/stallonem   \n1    https://www.freelancer.com/u/TeenaVernekar   \n2       https://www.freelancer.com/u/TatianaLLL   \n3  https://www.freelancer.com/u/meganimcauliffe   \n4           https://www.freelancer.com/u/hyu289   \n\n                                             tagline  \\\n0                      Experienced Market Researcher   \n1  Virtual Assistant - Financial Accounting & Bil...   \n2    US Taxes, Bookkeeping, IRS Tax Debt Resolution.   \n3                 Data Analyst/Atmospheric Scientist   \n4                                Front End Developer   \n\n                                    user_description  \\\n0  I have over 12 years of experience helping bra...   \n1  I am self-motivated and precise individual wit...   \n2  Hello, my name is Tatiana Loughman & I'm:\\n - ...   \n3  Skilled data analyst and R programmer for vari...   \n4  I have three years of working experience in le...   \n\n                   location           join_date hourly_rate pay_grade  \\\n0   Wallkill, United States    December 7, 2020        $115       7.2   \n1  Charlotte, United States  September 11, 2017         $15       7.8   \n2      Heath, United States    October 27, 2017         $99       5.7   \n3    Willmar, United States    October 11, 2021         $15       2.8   \n4    Madison, United States    November 7, 2019         $30       4.0   \n\n  avg_rating num_reviews num_recommendations pct_jobs_completed pct_on_budget  \\\n0        5.0           1                   2                100           100   \n1        5.0           7                   8                100           100   \n2        5.0          28                   3                100           100   \n3        5.0           1                   0                100           100   \n4        5.0           7                   0                100           100   \n\n  pct_on_time repeat_hire_rate  \n0         100              100  \n1         100               33  \n2          95               20  \n3         100              N/A  \n4         100               33  "
     },
     "execution_count": 282,
     "metadata": {},
     "output_type": "execute_result"
    }
   ]
  },
  {
   "cell_type": "code",
   "metadata": {
    "cell_id": "00007-49459076-0e6e-48a8-8b4f-cb4652e6abb7",
    "deepnote_cell_type": "code"
   },
   "source": "scraped_pd_df.to_csv('finance-data-analytics.csv',index=False)",
   "execution_count": null,
   "outputs": []
  },
  {
   "cell_type": "code",
   "metadata": {
    "cell_id": "00008-a3df5a70-92a4-4e2c-b4f9-2a6eae733845",
    "deepnote_cell_type": "code"
   },
   "source": "",
   "execution_count": null,
   "outputs": []
  },
  {
   "cell_type": "code",
   "metadata": {
    "cell_id": "00009-b93ee97e-0e71-4299-8bdf-91737f2160dc",
    "deepnote_cell_type": "code"
   },
   "source": "",
   "execution_count": null,
   "outputs": []
  },
  {
   "cell_type": "code",
   "metadata": {
    "cell_id": "00010-826f8f54-d2ee-43c0-9edb-79fa8fbcb891",
    "deepnote_cell_type": "code"
   },
   "source": "",
   "execution_count": null,
   "outputs": []
  },
  {
   "cell_type": "code",
   "metadata": {
    "cell_id": "00011-f56c4ad0-164e-43ef-9bf3-fec192fb0497",
    "deepnote_cell_type": "code"
   },
   "source": "",
   "execution_count": null,
   "outputs": []
  },
  {
   "cell_type": "code",
   "metadata": {
    "cell_id": "00012-bc08df6d-9d4f-42ca-89c6-8c2c22b6af67",
    "deepnote_cell_type": "code"
   },
   "source": "",
   "execution_count": null,
   "outputs": []
  },
  {
   "cell_type": "markdown",
   "source": "# Test Runs",
   "metadata": {
    "cell_id": "00013-4f279f40-e954-45b3-b144-61d567ac4333",
    "deepnote_cell_type": "markdown"
   }
  },
  {
   "cell_type": "code",
   "metadata": {
    "cell_id": "00014-191f4e80-c2e1-4669-aa2c-ea96e2f08d34",
    "deepnote_cell_type": "code"
   },
   "source": "browser = webdriver.Chrome(ChromeDriverManager().install())\nbrowser.get('https://www.freelancer.com/freelancers/united-states/finance-data-analytics')\nsleep(3)\n\n#See if online selected, and deselect\nbrowser.find_element(By.ID,\"selected-online\").click()\nsleep(3)\n\nbrowser.find_elements(By.CSS_SELECTOR,\"a[data-target='pagination']\")",
   "execution_count": null,
   "outputs": [
    {
     "name": "stderr",
     "output_type": "stream",
     "text": "\n\n====== WebDriver manager ======\nCurrent google-chrome version is 98.0.4758\nGet LATEST chromedriver version for 98.0.4758 google-chrome\nDriver [/Users/koredeakande/.wdm/drivers/chromedriver/mac64/98.0.4758.102/chromedriver] found in cache\n"
    },
    {
     "data": {
      "text/plain": "[<selenium.webdriver.remote.webelement.WebElement (session=\"2d297fcd75185b2995af615ffb0c719a\", element=\"88900fab-f10c-439c-b600-308c7129d20d\")>,\n <selenium.webdriver.remote.webelement.WebElement (session=\"2d297fcd75185b2995af615ffb0c719a\", element=\"851fffee-d1bb-4e0e-8b0e-2207019e8f4e\")>,\n <selenium.webdriver.remote.webelement.WebElement (session=\"2d297fcd75185b2995af615ffb0c719a\", element=\"c1809a49-fad7-485a-9b93-aac18e249884\")>,\n <selenium.webdriver.remote.webelement.WebElement (session=\"2d297fcd75185b2995af615ffb0c719a\", element=\"4fa2ac52-c5b1-43a1-9e8e-48c096329f58\")>,\n <selenium.webdriver.remote.webelement.WebElement (session=\"2d297fcd75185b2995af615ffb0c719a\", element=\"0a820fa3-f6a7-4c46-ba09-1b4b9f7132eb\")>,\n <selenium.webdriver.remote.webelement.WebElement (session=\"2d297fcd75185b2995af615ffb0c719a\", element=\"0e664080-ea96-4334-9541-928cdcce4aab\")>,\n <selenium.webdriver.remote.webelement.WebElement (session=\"2d297fcd75185b2995af615ffb0c719a\", element=\"05e8ab99-ba07-4a3b-a22f-4fcd2949c1e2\")>,\n <selenium.webdriver.remote.webelement.WebElement (session=\"2d297fcd75185b2995af615ffb0c719a\", element=\"8d517a5f-79e9-44a3-83ad-97d2345dd7a1\")>,\n <selenium.webdriver.remote.webelement.WebElement (session=\"2d297fcd75185b2995af615ffb0c719a\", element=\"5e73e616-ac20-4597-b4d1-f66a74f4d872\")>,\n <selenium.webdriver.remote.webelement.WebElement (session=\"2d297fcd75185b2995af615ffb0c719a\", element=\"6adc4113-f300-4770-893d-43e37287f0d9\")>,\n <selenium.webdriver.remote.webelement.WebElement (session=\"2d297fcd75185b2995af615ffb0c719a\", element=\"cf617571-1663-46af-87e5-cec151473d56\")>,\n <selenium.webdriver.remote.webelement.WebElement (session=\"2d297fcd75185b2995af615ffb0c719a\", element=\"57e5e415-6075-4007-a4d0-1fe202dcd0de\")>,\n <selenium.webdriver.remote.webelement.WebElement (session=\"2d297fcd75185b2995af615ffb0c719a\", element=\"e05391e9-687a-4f07-80bb-93cc477af2cf\")>,\n <selenium.webdriver.remote.webelement.WebElement (session=\"2d297fcd75185b2995af615ffb0c719a\", element=\"c370ef98-60d3-4363-8efc-8251eb6c03c3\")>]"
     },
     "execution_count": 216,
     "metadata": {},
     "output_type": "execute_result"
    }
   ]
  },
  {
   "cell_type": "code",
   "metadata": {
    "cell_id": "00015-4857df29-15eb-44f4-a61b-8b1f8660e20d",
    "deepnote_cell_type": "code"
   },
   "source": "for i in range(3-):\n    print(i)",
   "execution_count": null,
   "outputs": [
    {
     "name": "stdout",
     "output_type": "stream",
     "text": "0\n1\n2\n"
    }
   ]
  },
  {
   "cell_type": "code",
   "metadata": {
    "cell_id": "00016-1e65fe34-2412-4a03-bab9-b715cbf6ec71",
    "deepnote_cell_type": "code"
   },
   "source": "browser.find_elements(By.CSS_SELECTOR,\"a[data-target='pagination']\")[-1].click()",
   "execution_count": null,
   "outputs": []
  },
  {
   "cell_type": "code",
   "metadata": {
    "cell_id": "00017-415317b3-4e16-48fe-855c-9fa57d209e57",
    "deepnote_cell_type": "code"
   },
   "source": "brow",
   "execution_count": null,
   "outputs": []
  },
  {
   "cell_type": "code",
   "metadata": {
    "cell_id": "00018-0fa797b4-f178-4659-9fa3-833bbbf72eb8",
    "deepnote_cell_type": "code"
   },
   "source": "user_profiles = []\n\nbrowser = webdriver.Chrome(ChromeDriverManager().install())\nbrowser.get('https://www.freelancer.com/freelancers/united-states/finance-data-analytics')\nsleep(3)\n\n#See if online selected, and deselect\nbrowser.find_element(By.ID,\"selected-online\").click()\nsleep(3)\n\n\n#Get the profile links for everyone on the page\nusernames = browser.find_elements(By.CLASS_NAME,\"find-freelancer-username\")\n\nfor user in usernames:\n    user_profiles.append(user.get_attribute('href'))\n",
   "execution_count": null,
   "outputs": [
    {
     "name": "stderr",
     "output_type": "stream",
     "text": "\n\n====== WebDriver manager ======\nCurrent google-chrome version is 98.0.4758\nGet LATEST chromedriver version for 98.0.4758 google-chrome\nDriver [/Users/koredeakande/.wdm/drivers/chromedriver/mac64/98.0.4758.102/chromedriver] found in cache\n"
    }
   ]
  },
  {
   "cell_type": "code",
   "metadata": {
    "cell_id": "00019-06b4ac61-fdda-4343-93a5-2c0835e5beee",
    "deepnote_cell_type": "code"
   },
   "source": "user_profiles",
   "execution_count": null,
   "outputs": [
    {
     "data": {
      "text/plain": "['https://www.freelancer.com/u/stallonem',\n 'https://www.freelancer.com/u/TeenaVernekar',\n 'https://www.freelancer.com/u/TatianaLLL',\n 'https://www.freelancer.com/u/meganimcauliffe',\n 'https://www.freelancer.com/u/hyu289',\n 'https://www.freelancer.com/u/Nsarker1242',\n 'https://www.freelancer.com/u/marcus01001',\n 'https://www.freelancer.com/u/michaelhanley00',\n 'https://www.freelancer.com/u/palwasham8',\n 'https://www.freelancer.com/u/LeahAnson']"
     },
     "execution_count": 23,
     "metadata": {},
     "output_type": "execute_result"
    }
   ]
  },
  {
   "cell_type": "code",
   "metadata": {
    "cell_id": "00020-b3eab1f4-e85f-4977-b6c6-dcb4cdef0fc0",
    "deepnote_cell_type": "code"
   },
   "source": "",
   "execution_count": null,
   "outputs": []
  },
  {
   "cell_type": "code",
   "metadata": {
    "cell_id": "00021-10173bd5-00ab-4c5d-802e-931a43ae9422",
    "deepnote_cell_type": "code"
   },
   "source": "",
   "execution_count": null,
   "outputs": []
  },
  {
   "cell_type": "code",
   "metadata": {
    "cell_id": "00022-3e6577f9-5335-4b11-bd95-5536217aaaff",
    "deepnote_cell_type": "code"
   },
   "source": "browser = webdriver.Chrome(ChromeDriverManager().install())\nbrowser.get('https://www.freelancer.com/u/TatianaLLL')\nsleep(3)",
   "execution_count": null,
   "outputs": [
    {
     "name": "stderr",
     "output_type": "stream",
     "text": "\n\n====== WebDriver manager ======\nCurrent google-chrome version is 98.0.4758\nGet LATEST chromedriver version for 98.0.4758 google-chrome\nDriver [/Users/koredeakande/.wdm/drivers/chromedriver/mac64/98.0.4758.102/chromedriver] found in cache\n"
    }
   ]
  },
  {
   "cell_type": "code",
   "metadata": {
    "cell_id": "00023-532bc23b-6047-4c85-8376-63ebd4b20717",
    "deepnote_cell_type": "code"
   },
   "source": "#Get rating container\nrating_container = browser.find_element(By.CSS_SELECTOR,\"span[class='IconContent']\")\n\n#Get average rating and number of reviews\navg_rating, reviews = rating_container.text.split('\\n')\nnum_reviews = re.findall('\\d+',reviews)[0]",
   "execution_count": null,
   "outputs": [
    {
     "ename": "ValueError",
     "evalue": "not enough values to unpack (expected 2, got 1)",
     "output_type": "error",
     "traceback": [
      "\u001b[0;31m---------------------------------------------------------------------------\u001b[0m",
      "\u001b[0;31mValueError\u001b[0m                                Traceback (most recent call last)",
      "\u001b[0;32m<ipython-input-252-005f8e33ef7d>\u001b[0m in \u001b[0;36m<module>\u001b[0;34m\u001b[0m\n\u001b[1;32m      3\u001b[0m \u001b[0;34m\u001b[0m\u001b[0m\n\u001b[1;32m      4\u001b[0m \u001b[0;31m#Get average rating and number of reviews\u001b[0m\u001b[0;34m\u001b[0m\u001b[0;34m\u001b[0m\u001b[0;34m\u001b[0m\u001b[0m\n\u001b[0;32m----> 5\u001b[0;31m \u001b[0mavg_rating\u001b[0m\u001b[0;34m,\u001b[0m \u001b[0mreviews\u001b[0m \u001b[0;34m=\u001b[0m \u001b[0mrating_container\u001b[0m\u001b[0;34m.\u001b[0m\u001b[0mtext\u001b[0m\u001b[0;34m.\u001b[0m\u001b[0msplit\u001b[0m\u001b[0;34m(\u001b[0m\u001b[0;34m'\\n'\u001b[0m\u001b[0;34m)\u001b[0m\u001b[0;34m\u001b[0m\u001b[0;34m\u001b[0m\u001b[0m\n\u001b[0m\u001b[1;32m      6\u001b[0m \u001b[0mnum_reviews\u001b[0m \u001b[0;34m=\u001b[0m \u001b[0mre\u001b[0m\u001b[0;34m.\u001b[0m\u001b[0mfindall\u001b[0m\u001b[0;34m(\u001b[0m\u001b[0;34m'\\d+'\u001b[0m\u001b[0;34m,\u001b[0m\u001b[0mreviews\u001b[0m\u001b[0;34m)\u001b[0m\u001b[0;34m[\u001b[0m\u001b[0;36m0\u001b[0m\u001b[0;34m]\u001b[0m\u001b[0;34m\u001b[0m\u001b[0;34m\u001b[0m\u001b[0m\n",
      "\u001b[0;31mValueError\u001b[0m: not enough values to unpack (expected 2, got 1)"
     ]
    }
   ]
  },
  {
   "cell_type": "code",
   "metadata": {
    "cell_id": "00024-9e4bb8c1-c981-4bf7-8b4f-398e24f58b6e",
    "deepnote_cell_type": "code"
   },
   "source": "browser = webdriver.Chrome(ChromeDriverManager().install())\nbrowser.get('https://www.freelancer.com/u/michaelhanley00')\nsleep(3)",
   "execution_count": null,
   "outputs": [
    {
     "name": "stderr",
     "output_type": "stream",
     "text": "\n\n====== WebDriver manager ======\nCurrent google-chrome version is 98.0.4758\nGet LATEST chromedriver version for 98.0.4758 google-chrome\nDriver [/Users/koredeakande/.wdm/drivers/chromedriver/mac64/98.0.4758.102/chromedriver] found in cache\n"
    }
   ]
  },
  {
   "cell_type": "code",
   "metadata": {
    "cell_id": "00025-62a44fac-831b-4782-86fd-667d3b01a75c",
    "deepnote_cell_type": "code"
   },
   "source": "browser.find_elements(By.CSS_SELECTOR,\"fl-bit[class ='RatingContainer']\")[1].text.split('\\n')",
   "execution_count": null,
   "outputs": [
    {
     "data": {
      "text/plain": "['5.0', '(16 reviews)']"
     },
     "execution_count": 278,
     "metadata": {},
     "output_type": "execute_result"
    }
   ]
  },
  {
   "cell_type": "code",
   "metadata": {
    "cell_id": "00026-567f9993-d692-4d24-a681-241b03df67ec",
    "deepnote_cell_type": "code"
   },
   "source": "a = browser.find_element_by_xpath(\"//span[contains(text(),'reviews')]\")\na.find_element(By.CSS_SELECTOR,\"fl-bit[class ='ValueBlock ng-star-inserted']\").text",
   "execution_count": null,
   "outputs": [
    {
     "ename": "NoSuchElementException",
     "evalue": "Message: no such element: Unable to locate element: {\"method\":\"css selector\",\"selector\":\"fl-bit[class ='ValueBlock ng-star-inserted']\"}\n  (Session info: chrome=98.0.4758.109)\n",
     "output_type": "error",
     "traceback": [
      "\u001b[0;31m---------------------------------------------------------------------------\u001b[0m",
      "\u001b[0;31mNoSuchElementException\u001b[0m                    Traceback (most recent call last)",
      "\u001b[0;32m<ipython-input-270-96910d019b56>\u001b[0m in \u001b[0;36m<module>\u001b[0;34m\u001b[0m\n\u001b[1;32m      1\u001b[0m \u001b[0ma\u001b[0m \u001b[0;34m=\u001b[0m \u001b[0mbrowser\u001b[0m\u001b[0;34m.\u001b[0m\u001b[0mfind_element_by_xpath\u001b[0m\u001b[0;34m(\u001b[0m\u001b[0;34m\"//span[contains(text(),'reviews')]\"\u001b[0m\u001b[0;34m)\u001b[0m\u001b[0;34m\u001b[0m\u001b[0;34m\u001b[0m\u001b[0m\n\u001b[0;32m----> 2\u001b[0;31m \u001b[0ma\u001b[0m\u001b[0;34m.\u001b[0m\u001b[0mfind_element\u001b[0m\u001b[0;34m(\u001b[0m\u001b[0mBy\u001b[0m\u001b[0;34m.\u001b[0m\u001b[0mCSS_SELECTOR\u001b[0m\u001b[0;34m,\u001b[0m\u001b[0;34m\"fl-bit[class ='ValueBlock ng-star-inserted']\"\u001b[0m\u001b[0;34m)\u001b[0m\u001b[0;34m.\u001b[0m\u001b[0mtext\u001b[0m\u001b[0;34m\u001b[0m\u001b[0;34m\u001b[0m\u001b[0m\n\u001b[0m",
      "\u001b[0;32m~/opt/anaconda3/lib/python3.7/site-packages/selenium/webdriver/remote/webelement.py\u001b[0m in \u001b[0;36mfind_element\u001b[0;34m(self, by, value)\u001b[0m\n\u001b[1;32m    657\u001b[0m                 \u001b[0melement\u001b[0m\u001b[0;34m.\u001b[0m\u001b[0mscreenshot\u001b[0m\u001b[0;34m(\u001b[0m\u001b[0;34m'/Screenshots/foo.png'\u001b[0m\u001b[0;34m)\u001b[0m\u001b[0;34m\u001b[0m\u001b[0;34m\u001b[0m\u001b[0m\n\u001b[1;32m    658\u001b[0m         \"\"\"\n\u001b[0;32m--> 659\u001b[0;31m         \u001b[0;32mif\u001b[0m \u001b[0;32mnot\u001b[0m \u001b[0mfilename\u001b[0m\u001b[0;34m.\u001b[0m\u001b[0mlower\u001b[0m\u001b[0;34m(\u001b[0m\u001b[0;34m)\u001b[0m\u001b[0;34m.\u001b[0m\u001b[0mendswith\u001b[0m\u001b[0;34m(\u001b[0m\u001b[0;34m'.png'\u001b[0m\u001b[0;34m)\u001b[0m\u001b[0;34m:\u001b[0m\u001b[0;34m\u001b[0m\u001b[0;34m\u001b[0m\u001b[0m\n\u001b[0m\u001b[1;32m    660\u001b[0m             warnings.warn(\"name used for saved screenshot does not match file \"\n\u001b[1;32m    661\u001b[0m                           \"type. It should end with a `.png` extension\", UserWarning)\n",
      "\u001b[0;32m~/opt/anaconda3/lib/python3.7/site-packages/selenium/webdriver/remote/webelement.py\u001b[0m in \u001b[0;36m_execute\u001b[0;34m(self, command, params)\u001b[0m\n\u001b[1;32m    631\u001b[0m \u001b[0;34m\u001b[0m\u001b[0m\n\u001b[1;32m    632\u001b[0m     \u001b[0;34m@\u001b[0m\u001b[0mproperty\u001b[0m\u001b[0;34m\u001b[0m\u001b[0;34m\u001b[0m\u001b[0m\n\u001b[0;32m--> 633\u001b[0;31m     \u001b[0;32mdef\u001b[0m \u001b[0mscreenshot_as_png\u001b[0m\u001b[0;34m(\u001b[0m\u001b[0mself\u001b[0m\u001b[0;34m)\u001b[0m \u001b[0;34m->\u001b[0m \u001b[0mstr\u001b[0m\u001b[0;34m:\u001b[0m\u001b[0;34m\u001b[0m\u001b[0;34m\u001b[0m\u001b[0m\n\u001b[0m\u001b[1;32m    634\u001b[0m         \"\"\"\n\u001b[1;32m    635\u001b[0m         \u001b[0mGets\u001b[0m \u001b[0mthe\u001b[0m \u001b[0mscreenshot\u001b[0m \u001b[0mof\u001b[0m \u001b[0mthe\u001b[0m \u001b[0mcurrent\u001b[0m \u001b[0melement\u001b[0m \u001b[0;32mas\u001b[0m \u001b[0ma\u001b[0m \u001b[0mbinary\u001b[0m \u001b[0mdata\u001b[0m\u001b[0;34m.\u001b[0m\u001b[0;34m\u001b[0m\u001b[0;34m\u001b[0m\u001b[0m\n",
      "\u001b[0;32m~/opt/anaconda3/lib/python3.7/site-packages/selenium/webdriver/remote/webdriver.py\u001b[0m in \u001b[0;36mexecute\u001b[0;34m(self, driver_command, params)\u001b[0m\n\u001b[1;32m    319\u001b[0m             \u001b[0;34m:\u001b[0m\u001b[0;34m:\u001b[0m\u001b[0;34m\u001b[0m\u001b[0;34m\u001b[0m\u001b[0m\n\u001b[1;32m    320\u001b[0m \u001b[0;34m\u001b[0m\u001b[0m\n\u001b[0;32m--> 321\u001b[0;31m                 \u001b[0mname\u001b[0m \u001b[0;34m=\u001b[0m \u001b[0mdriver\u001b[0m\u001b[0;34m.\u001b[0m\u001b[0mname\u001b[0m\u001b[0;34m\u001b[0m\u001b[0;34m\u001b[0m\u001b[0m\n\u001b[0m\u001b[1;32m    322\u001b[0m         \"\"\"\n\u001b[1;32m    323\u001b[0m         \u001b[0;32mif\u001b[0m \u001b[0;34m'browserName'\u001b[0m \u001b[0;32min\u001b[0m \u001b[0mself\u001b[0m\u001b[0;34m.\u001b[0m\u001b[0mcaps\u001b[0m\u001b[0;34m:\u001b[0m\u001b[0;34m\u001b[0m\u001b[0;34m\u001b[0m\u001b[0m\n",
      "\u001b[0;32m~/opt/anaconda3/lib/python3.7/site-packages/selenium/webdriver/remote/errorhandler.py\u001b[0m in \u001b[0;36mcheck_response\u001b[0;34m(self, response)\u001b[0m\n\u001b[1;32m    240\u001b[0m         \u001b[0;32mif\u001b[0m \u001b[0mexception_class\u001b[0m \u001b[0;34m==\u001b[0m \u001b[0mUnexpectedAlertPresentException\u001b[0m\u001b[0;34m:\u001b[0m\u001b[0;34m\u001b[0m\u001b[0;34m\u001b[0m\u001b[0m\n\u001b[1;32m    241\u001b[0m             \u001b[0malert_text\u001b[0m \u001b[0;34m=\u001b[0m \u001b[0;32mNone\u001b[0m\u001b[0;34m\u001b[0m\u001b[0;34m\u001b[0m\u001b[0m\n\u001b[0;32m--> 242\u001b[0;31m             \u001b[0;32mif\u001b[0m \u001b[0;34m'data'\u001b[0m \u001b[0;32min\u001b[0m \u001b[0mvalue\u001b[0m\u001b[0;34m:\u001b[0m\u001b[0;34m\u001b[0m\u001b[0;34m\u001b[0m\u001b[0m\n\u001b[0m\u001b[1;32m    243\u001b[0m                 \u001b[0malert_text\u001b[0m \u001b[0;34m=\u001b[0m \u001b[0mvalue\u001b[0m\u001b[0;34m[\u001b[0m\u001b[0;34m'data'\u001b[0m\u001b[0;34m]\u001b[0m\u001b[0;34m.\u001b[0m\u001b[0mget\u001b[0m\u001b[0;34m(\u001b[0m\u001b[0;34m'text'\u001b[0m\u001b[0;34m)\u001b[0m\u001b[0;34m\u001b[0m\u001b[0;34m\u001b[0m\u001b[0m\n\u001b[1;32m    244\u001b[0m             \u001b[0;32melif\u001b[0m \u001b[0;34m'alert'\u001b[0m \u001b[0;32min\u001b[0m \u001b[0mvalue\u001b[0m\u001b[0;34m:\u001b[0m\u001b[0;34m\u001b[0m\u001b[0;34m\u001b[0m\u001b[0m\n",
      "\u001b[0;31mNoSuchElementException\u001b[0m: Message: no such element: Unable to locate element: {\"method\":\"css selector\",\"selector\":\"fl-bit[class ='ValueBlock ng-star-inserted']\"}\n  (Session info: chrome=98.0.4758.109)\n"
     ]
    }
   ]
  },
  {
   "cell_type": "code",
   "metadata": {
    "cell_id": "00027-e3a19b47-cd17-4915-bff6-a8aa148689c4",
    "deepnote_cell_type": "code"
   },
   "source": "a = browser.find_element(By.CSS_SELECTOR,\"fl-rating[data-type='stars']\")\na.find_element(By.CSS_SELECTOR,\"fl-bit[class ='ValueBlock ng-star-inserted']\").text",
   "execution_count": null,
   "outputs": [
    {
     "data": {
      "text/plain": "''"
     },
     "execution_count": 264,
     "metadata": {},
     "output_type": "execute_result"
    }
   ]
  },
  {
   "cell_type": "code",
   "metadata": {
    "cell_id": "00028-883f6448-618c-4042-a2cc-dbb8da37fff0",
    "deepnote_cell_type": "code"
   },
   "source": "user_info = {}\n\n#Get name\nname = browser.find_element(By.CSS_SELECTOR,\"h3[data-color='dark']\").text\n\n#Get tagline\ntagline = browser.find_element(By.CSS_SELECTOR,\"h2[data-color='mid']\").text\n\n###### Get description\ndescription_box = browser.find_element(By.CSS_SELECTOR,\"fl-text[data-max-lines='15']\")\n\n#Try to click on the read more button and extract text\ntry:\n    description_box.find_element(By.CLASS_NAME,'ReadMoreButton').click()\n    user_description = description_box.text\n#If error is thrown because text doesn't need to be expanded, then we can just pull direct text \nexcept:\n    user_description = description_box.text\n######################    \n\n#Get location\nlocation = browser.find_element(By.CSS_SELECTOR,\"fl-col[class='SupplementaryInfo']\").text\n\n#Get join date\njoin_date = browser.find_element(By.XPATH, \"//*[contains(text(),'Joined')]\").text.replace('Joined ','')\n\n#Hourly rate\nhourly_rate = re.findall('\\$\\d+',browser.find_element(By.XPATH, \"//*[contains(text(),'USD')]\").text)[0]\n\n#Get pay grade\npay_grade = browser.find_element(By.CSS_SELECTOR,\"div[data-size='xxsmall\").text\n\n#Get rating container\nrating_container = browser.find_element(By.CSS_SELECTOR,\"span[class='IconContent']\")\n\n#Get average rating and number of reviews\navg_rating, reviews = rating_container.text.split('\\n')\nnum_reviews = re.findall('\\d+',reviews)[0]\n\n#Get number of recommendations\nnum_recommendations=re.findall('\\d+',browser.find_element(By.CSS_SELECTOR,\"fl-col[class='RecommendationsText']\").text)[0]\n\n### GET STATS ON PERFORMANCE\npct_jobs_completed, pct_on_budget, pct_on_time, repeat_hire_rate = [item.text.\\\n                                                                    replace('%','') for item in browser.\\\n                                                                    find_elements(By.CSS_SELECTOR,\"fl-text[class='ReputationItemAmount']\")]\n##############################\n\n\n\n\n\n\n",
   "execution_count": null,
   "outputs": [
    {
     "data": {
      "text/plain": "'2'"
     },
     "execution_count": 198,
     "metadata": {},
     "output_type": "execute_result"
    }
   ]
  },
  {
   "cell_type": "code",
   "metadata": {
    "cell_id": "00029-fd7113ae-5b25-4d53-a658-81981d72aea6",
    "deepnote_cell_type": "code"
   },
   "source": "",
   "execution_count": null,
   "outputs": [
    {
     "data": {
      "text/plain": "['100', '100', '100', '100']"
     },
     "execution_count": 205,
     "metadata": {},
     "output_type": "execute_result"
    }
   ]
  },
  {
   "cell_type": "code",
   "metadata": {
    "cell_id": "00030-17c5c424-4c12-4d2c-8516-f932f22a4822",
    "deepnote_cell_type": "code"
   },
   "source": "user_description",
   "execution_count": null,
   "outputs": [
    {
     "data": {
      "text/plain": "'I have over 12 years of experience helping brands make informed business decisions. My clients have ranged from small businesses to major global brands like L’Oréal, Marriott, Colgate, Citibank, and Walmart. Across all clients, my job has always been to feed data & insights into every decision, ensuring that a brand’s efforts are effective, efficient, measurable, and always improving.\\n\\nWhile my background has taught me a breadth of invaluable technical skills, my true passion lies in the art and the people side of market research. I love to transform a complex dataset into a clear narrative, to help a client address a challenge by designing a custom methodology, to unlock a deeper or unexpected human insight that helps inspire a creative idea. These are the things that make me tick, and throughout my career, it has been this passion to collaborate and my relentless pursuit of solutions that has set me apart from others in my field.\\n\\nMy skillset includes the following:\\n- Writing, programming, and analyzing surveys\\n- Translating data into clear, impactful narratives\\n- Building compelling presentations & reports from multiple data sources\\n- Developing audience targeting strategies, profiles & segmentations\\n- Mapping out consumer journeys & brand experiences\\n- Identifying consumer & business trends & insights\\n- Designing measurement plans to quantify marketing impact'"
     },
     "execution_count": 188,
     "metadata": {},
     "output_type": "execute_result"
    }
   ]
  },
  {
   "cell_type": "code",
   "metadata": {
    "cell_id": "00031-57f0968f-1270-4576-ad29-06d476db80eb",
    "deepnote_cell_type": "code"
   },
   "source": "num_reviews",
   "execution_count": null,
   "outputs": [
    {
     "data": {
      "text/plain": "'1'"
     },
     "execution_count": 161,
     "metadata": {},
     "output_type": "execute_result"
    }
   ]
  },
  {
   "cell_type": "code",
   "metadata": {
    "cell_id": "00032-f63b7d7b-d21b-4799-a377-7f1b133513c7",
    "deepnote_cell_type": "code"
   },
   "source": "rating_container.find_element_by_xpath(\"/span\")",
   "execution_count": null,
   "outputs": [
    {
     "ename": "NoSuchElementException",
     "evalue": "Message: no such element: Unable to locate element: {\"method\":\"xpath\",\"selector\":\"/span\"}\n  (Session info: chrome=98.0.4758.109)\n",
     "output_type": "error",
     "traceback": [
      "\u001b[0;31m---------------------------------------------------------------------------\u001b[0m",
      "\u001b[0;31mNoSuchElementException\u001b[0m                    Traceback (most recent call last)",
      "\u001b[0;32m<ipython-input-150-ce50631d7c5e>\u001b[0m in \u001b[0;36m<module>\u001b[0;34m\u001b[0m\n\u001b[0;32m----> 1\u001b[0;31m \u001b[0mrating_container\u001b[0m\u001b[0;34m.\u001b[0m\u001b[0mfind_element_by_xpath\u001b[0m\u001b[0;34m(\u001b[0m\u001b[0;34m\"/span\"\u001b[0m\u001b[0;34m)\u001b[0m\u001b[0;34m\u001b[0m\u001b[0;34m\u001b[0m\u001b[0m\n\u001b[0m",
      "\u001b[0;32m~/opt/anaconda3/lib/python3.7/site-packages/selenium/webdriver/remote/webelement.py\u001b[0m in \u001b[0;36mfind_element_by_xpath\u001b[0;34m(self, xpath)\u001b[0m\n\u001b[1;32m    349\u001b[0m \u001b[0;34m\u001b[0m\u001b[0m\n\u001b[1;32m    350\u001b[0m         \u001b[0;34m:\u001b[0m\u001b[0mReturns\u001b[0m\u001b[0;34m:\u001b[0m\u001b[0;34m\u001b[0m\u001b[0;34m\u001b[0m\u001b[0m\n\u001b[0;32m--> 351\u001b[0;31m          \u001b[0;34m-\u001b[0m \u001b[0mlist\u001b[0m \u001b[0mof\u001b[0m \u001b[0mWebElement\u001b[0m \u001b[0;34m-\u001b[0m \u001b[0ma\u001b[0m \u001b[0mlist\u001b[0m \u001b[0;32mwith\u001b[0m \u001b[0melements\u001b[0m \u001b[0;32mif\u001b[0m \u001b[0many\u001b[0m \u001b[0mwas\u001b[0m \u001b[0mfound\u001b[0m\u001b[0;34m.\u001b[0m  \u001b[0mAn\u001b[0m\u001b[0;34m\u001b[0m\u001b[0;34m\u001b[0m\u001b[0m\n\u001b[0m\u001b[1;32m    352\u001b[0m            \u001b[0mempty\u001b[0m \u001b[0mlist\u001b[0m \u001b[0;32mif\u001b[0m \u001b[0;32mnot\u001b[0m\u001b[0;34m\u001b[0m\u001b[0;34m\u001b[0m\u001b[0m\n\u001b[1;32m    353\u001b[0m \u001b[0;34m\u001b[0m\u001b[0m\n",
      "\u001b[0;32m~/opt/anaconda3/lib/python3.7/site-packages/selenium/webdriver/remote/webelement.py\u001b[0m in \u001b[0;36mfind_element\u001b[0;34m(self, by, value)\u001b[0m\n\u001b[1;32m    657\u001b[0m                 \u001b[0melement\u001b[0m\u001b[0;34m.\u001b[0m\u001b[0mscreenshot\u001b[0m\u001b[0;34m(\u001b[0m\u001b[0;34m'/Screenshots/foo.png'\u001b[0m\u001b[0;34m)\u001b[0m\u001b[0;34m\u001b[0m\u001b[0;34m\u001b[0m\u001b[0m\n\u001b[1;32m    658\u001b[0m         \"\"\"\n\u001b[0;32m--> 659\u001b[0;31m         \u001b[0;32mif\u001b[0m \u001b[0;32mnot\u001b[0m \u001b[0mfilename\u001b[0m\u001b[0;34m.\u001b[0m\u001b[0mlower\u001b[0m\u001b[0;34m(\u001b[0m\u001b[0;34m)\u001b[0m\u001b[0;34m.\u001b[0m\u001b[0mendswith\u001b[0m\u001b[0;34m(\u001b[0m\u001b[0;34m'.png'\u001b[0m\u001b[0;34m)\u001b[0m\u001b[0;34m:\u001b[0m\u001b[0;34m\u001b[0m\u001b[0;34m\u001b[0m\u001b[0m\n\u001b[0m\u001b[1;32m    660\u001b[0m             warnings.warn(\"name used for saved screenshot does not match file \"\n\u001b[1;32m    661\u001b[0m                           \"type. It should end with a `.png` extension\", UserWarning)\n",
      "\u001b[0;32m~/opt/anaconda3/lib/python3.7/site-packages/selenium/webdriver/remote/webelement.py\u001b[0m in \u001b[0;36m_execute\u001b[0;34m(self, command, params)\u001b[0m\n\u001b[1;32m    631\u001b[0m \u001b[0;34m\u001b[0m\u001b[0m\n\u001b[1;32m    632\u001b[0m     \u001b[0;34m@\u001b[0m\u001b[0mproperty\u001b[0m\u001b[0;34m\u001b[0m\u001b[0;34m\u001b[0m\u001b[0m\n\u001b[0;32m--> 633\u001b[0;31m     \u001b[0;32mdef\u001b[0m \u001b[0mscreenshot_as_png\u001b[0m\u001b[0;34m(\u001b[0m\u001b[0mself\u001b[0m\u001b[0;34m)\u001b[0m \u001b[0;34m->\u001b[0m \u001b[0mstr\u001b[0m\u001b[0;34m:\u001b[0m\u001b[0;34m\u001b[0m\u001b[0;34m\u001b[0m\u001b[0m\n\u001b[0m\u001b[1;32m    634\u001b[0m         \"\"\"\n\u001b[1;32m    635\u001b[0m         \u001b[0mGets\u001b[0m \u001b[0mthe\u001b[0m \u001b[0mscreenshot\u001b[0m \u001b[0mof\u001b[0m \u001b[0mthe\u001b[0m \u001b[0mcurrent\u001b[0m \u001b[0melement\u001b[0m \u001b[0;32mas\u001b[0m \u001b[0ma\u001b[0m \u001b[0mbinary\u001b[0m \u001b[0mdata\u001b[0m\u001b[0;34m.\u001b[0m\u001b[0;34m\u001b[0m\u001b[0;34m\u001b[0m\u001b[0m\n",
      "\u001b[0;32m~/opt/anaconda3/lib/python3.7/site-packages/selenium/webdriver/remote/webdriver.py\u001b[0m in \u001b[0;36mexecute\u001b[0;34m(self, driver_command, params)\u001b[0m\n\u001b[1;32m    319\u001b[0m             \u001b[0;34m:\u001b[0m\u001b[0;34m:\u001b[0m\u001b[0;34m\u001b[0m\u001b[0;34m\u001b[0m\u001b[0m\n\u001b[1;32m    320\u001b[0m \u001b[0;34m\u001b[0m\u001b[0m\n\u001b[0;32m--> 321\u001b[0;31m                 \u001b[0mname\u001b[0m \u001b[0;34m=\u001b[0m \u001b[0mdriver\u001b[0m\u001b[0;34m.\u001b[0m\u001b[0mname\u001b[0m\u001b[0;34m\u001b[0m\u001b[0;34m\u001b[0m\u001b[0m\n\u001b[0m\u001b[1;32m    322\u001b[0m         \"\"\"\n\u001b[1;32m    323\u001b[0m         \u001b[0;32mif\u001b[0m \u001b[0;34m'browserName'\u001b[0m \u001b[0;32min\u001b[0m \u001b[0mself\u001b[0m\u001b[0;34m.\u001b[0m\u001b[0mcaps\u001b[0m\u001b[0;34m:\u001b[0m\u001b[0;34m\u001b[0m\u001b[0;34m\u001b[0m\u001b[0m\n",
      "\u001b[0;32m~/opt/anaconda3/lib/python3.7/site-packages/selenium/webdriver/remote/errorhandler.py\u001b[0m in \u001b[0;36mcheck_response\u001b[0;34m(self, response)\u001b[0m\n\u001b[1;32m    240\u001b[0m         \u001b[0;32mif\u001b[0m \u001b[0mexception_class\u001b[0m \u001b[0;34m==\u001b[0m \u001b[0mUnexpectedAlertPresentException\u001b[0m\u001b[0;34m:\u001b[0m\u001b[0;34m\u001b[0m\u001b[0;34m\u001b[0m\u001b[0m\n\u001b[1;32m    241\u001b[0m             \u001b[0malert_text\u001b[0m \u001b[0;34m=\u001b[0m \u001b[0;32mNone\u001b[0m\u001b[0;34m\u001b[0m\u001b[0;34m\u001b[0m\u001b[0m\n\u001b[0;32m--> 242\u001b[0;31m             \u001b[0;32mif\u001b[0m \u001b[0;34m'data'\u001b[0m \u001b[0;32min\u001b[0m \u001b[0mvalue\u001b[0m\u001b[0;34m:\u001b[0m\u001b[0;34m\u001b[0m\u001b[0;34m\u001b[0m\u001b[0m\n\u001b[0m\u001b[1;32m    243\u001b[0m                 \u001b[0malert_text\u001b[0m \u001b[0;34m=\u001b[0m \u001b[0mvalue\u001b[0m\u001b[0;34m[\u001b[0m\u001b[0;34m'data'\u001b[0m\u001b[0;34m]\u001b[0m\u001b[0;34m.\u001b[0m\u001b[0mget\u001b[0m\u001b[0;34m(\u001b[0m\u001b[0;34m'text'\u001b[0m\u001b[0;34m)\u001b[0m\u001b[0;34m\u001b[0m\u001b[0;34m\u001b[0m\u001b[0m\n\u001b[1;32m    244\u001b[0m             \u001b[0;32melif\u001b[0m \u001b[0;34m'alert'\u001b[0m \u001b[0;32min\u001b[0m \u001b[0mvalue\u001b[0m\u001b[0;34m:\u001b[0m\u001b[0;34m\u001b[0m\u001b[0;34m\u001b[0m\u001b[0m\n",
      "\u001b[0;31mNoSuchElementException\u001b[0m: Message: no such element: Unable to locate element: {\"method\":\"xpath\",\"selector\":\"/span\"}\n  (Session info: chrome=98.0.4758.109)\n"
     ]
    }
   ]
  },
  {
   "cell_type": "code",
   "metadata": {
    "cell_id": "00033-0410b676-a438-4ef2-8b59-2d1ba3f14a32",
    "deepnote_cell_type": "code"
   },
   "source": "",
   "execution_count": null,
   "outputs": [
    {
     "data": {
      "text/plain": "<selenium.webdriver.remote.webelement.WebElement (session=\"bb0b74bc1911489eb664a8a111533d1b\", element=\"459beca7-34c6-463d-8028-b60fb6624639\")>"
     },
     "execution_count": 145,
     "metadata": {},
     "output_type": "execute_result"
    }
   ]
  },
  {
   "cell_type": "code",
   "metadata": {
    "cell_id": "00034-d46bf8aa-c131-4483-87b8-e7938bc2ef9f",
    "deepnote_cell_type": "code"
   },
   "source": "re.findall('\\\\d+',browser.find_element_by_xpath(recommendations_xpath).text)",
   "execution_count": null,
   "outputs": [
    {
     "data": {
      "text/plain": "['2']"
     },
     "execution_count": 109,
     "metadata": {},
     "output_type": "execute_result"
    }
   ]
  },
  {
   "cell_type": "code",
   "metadata": {
    "cell_id": "00035-37c09fd7-ecf6-43da-90cd-91af8cfb7389",
    "deepnote_cell_type": "code"
   },
   "source": "ids = driver.find_elements_by_xpath('//*[@id]')\nfor ii in ids:\n    #print ii.tag_name\n    print ii.get_attribute('id')    # id name as string",
   "execution_count": null,
   "outputs": []
  },
  {
   "cell_type": "code",
   "metadata": {
    "cell_id": "00036-c1c774db-cce3-442e-b37e-c6bbf5564b76",
    "deepnote_cell_type": "code"
   },
   "source": "find_element_by_tag_name()",
   "execution_count": null,
   "outputs": []
  },
  {
   "cell_type": "code",
   "metadata": {
    "cell_id": "00037-687c827e-c0d5-4ab8-bd72-020e3e41fabb",
    "deepnote_cell_type": "code"
   },
   "source": "",
   "execution_count": null,
   "outputs": []
  },
  {
   "cell_type": "markdown",
   "source": "<a style='text-decoration:none;line-height:16px;display:flex;color:#5B5B62;padding:10px;justify-content:end;' href='https://deepnote.com?utm_source=created-in-deepnote-cell&projectId=acc27b92-84be-4130-8026-204943f38189' target=\"_blank\">\n<img alt='Created in deepnote.com' style='display:inline;max-height:16px;margin:0px;margin-right:7.5px;' src='data:image/svg+xml;base64,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' > </img>\nCreated in <span style='font-weight:600;margin-left:4px;'>Deepnote</span></a>",
   "metadata": {
    "tags": [],
    "created_in_deepnote_cell": true,
    "deepnote_cell_type": "markdown"
   }
  }
 ],
 "nbformat": 4,
 "nbformat_minor": 5,
 "metadata": {
  "kernelspec": {
   "display_name": "Python 3",
   "language": "python",
   "name": "python3"
  },
  "language_info": {
   "codemirror_mode": {
    "name": "ipython",
    "version": 3
   },
   "file_extension": ".py",
   "mimetype": "text/x-python",
   "name": "python",
   "nbconvert_exporter": "python",
   "pygments_lexer": "ipython3",
   "version": "3.7.11"
  },
  "deepnote_notebook_id": "38ded2da-91e6-4c19-9291-c21c908f704b",
  "deepnote": {},
  "deepnote_execution_queue": []
 }
}