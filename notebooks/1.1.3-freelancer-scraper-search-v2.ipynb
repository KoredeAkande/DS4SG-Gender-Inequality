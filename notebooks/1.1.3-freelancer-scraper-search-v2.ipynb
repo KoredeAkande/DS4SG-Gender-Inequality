{
 "cells": [
  {
   "cell_type": "markdown",
   "source": "# Freelancer Scraper - search by keyword\n\n**Goal**: scrape results from Freelancer.com when using a specific search query.",
   "metadata": {
    "cell_id": "aa40ce83-83ab-492e-9c85-c754345d1f94",
    "deepnote_cell_type": "markdown",
    "deepnote_cell_height": 208.390625
   }
  },
  {
   "cell_type": "markdown",
   "source": "",
   "metadata": {
    "cell_id": "a596b649-c9c3-4360-9629-c80c783b005c",
    "tags": [],
    "deepnote_cell_type": "markdown",
    "deepnote_cell_height": 46
   }
  },
  {
   "cell_type": "code",
   "metadata": {
    "deepnote_to_be_reexecuted": false,
    "execution_millis": 11,
    "execution_start": 1647622729249,
    "source_hash": "f679a1ab",
    "cell_id": "00001-7d15b276-bcbc-4592-aeae-8d1afa1ae769",
    "deepnote_cell_type": "code",
    "deepnote_cell_height": 225
   },
   "source": "#Import the necessary packages needed to build the freelancer bot and navigate the pages\nimport re\nimport pandas as pd\nfrom time import sleep\nfrom selenium import webdriver\nfrom webdriver_manager.chrome import ChromeDriverManager\nfrom selenium.webdriver.common.keys import Keys\nfrom selenium.webdriver.common.by import By\nfrom selenium.webdriver.chrome.options import Options",
   "execution_count": null,
   "outputs": []
  },
  {
   "cell_type": "code",
   "metadata": {
    "deepnote_to_be_reexecuted": false,
    "execution_millis": 48,
    "execution_start": 1647622731324,
    "source_hash": "240d67c6",
    "cell_id": "00002-f742cac5-5b12-46e9-aa36-34e2b57585eb",
    "deepnote_cell_type": "code",
    "deepnote_cell_height": 6993
   },
   "source": "class FreelancerScraper:\n    \"\"\"\n    Class that scrapes for talent listings on Freelancer.com based on a\n    specified search query.\n    \"\"\"\n\n    def __init__(self,search=None, max_rows=float(\"inf\")):\n        \"\"\"\n        Initializes the scraper.\n\n        :search: -- the search term to use when searching for listings.\n        :max_rows: -- the maximum number of rows to fetch (defaults to infinity, which\n                      fetches the total number of rows available)\n        \"\"\"\n        \n        # check if a search term was provided\n        if search is None:\n            raise ValueError('Please provide a search term for scraping.')\n        \n        self.search = search\n\n        # focusing only on freelancers in the United States\n        self.url = f'https://www.freelancer.com/freelancers/united-states/'\n\n        # sets a hard limit on the amount of rows\n        # the scraper should fetch. This is needed\n        # sometimes when there are a lot of results\n        # and you don't want the scraper\n        self.max_rows = max_rows\n            \n        #List to store the scraped user profile links\n        self.user_profiles = set([])\n        \n        #List to store scraped user profile info\n        self.users_info = []\n        \n        \n    def get_all_usernames(self):\n        \"\"\"\n        Fetches all usernames (and profile links) associated with the search query.\n        It stores the retrieved user profile links in self.user_profiles.\n        \"\"\"\n        \n        print(\"Fetching usernames...\")\n\n        # options for selenium that allow it to run\n        # in DeepNote without having to open any physical\n        # Chrome tabs\n        options = Options()\n        options.add_argument(\"--headless\")\n        options.add_argument('--no-sandbox')\n\n        # create browser instance\n        self.browser = webdriver.Chrome(options=options)\n        \n        # get the starting webpage and wait sometime for elements to load\n        self.browser.get(self.url)\n        sleep(3)\n        \n        # see if the online filter is selected, and deselect. Also wait for sometime for elements to load\n        try:\n            self.browser.find_element(By.ID,\"selected-online\").click()\n            sleep(3)\n        except:\n            pass\n\n        # input our search term into the search bar\n        # and press ENTER to run the search\n        search_input = self.browser.find_element(By.ID, \"freeSearchInput\")\n        search_input.clear()\n        search_input.send_keys(self.search)\n        search_input.send_keys(Keys.RETURN)\n\n        # wait for results\n        sleep(3)\n\n        # get the total results found (to calculate a stopping point)\n        result_amount_text = self.browser.find_element(By.CLASS_NAME, \"result-amount\").text\n        result_amount = int(result_amount_text.split(\" \")[1])\n\n        print(\"Found\", result_amount, \"total results.\")\n\n        usernames_scraped = 0\n        \n        # while we still have usernames left to scrape, continue retrieving info\n        while usernames_scraped < result_amount and usernames_scraped < self.max_rows:\n            \n            # get the profile links for everyone on the page\n            usernames = self.browser.find_elements(By.CLASS_NAME,\"find-freelancer-username\")\n            \n            for user in usernames:\n                usernames_scraped += 1\n\n                # add username to list of profiles\n                # to fetch later\n                self.user_profiles.add(user.get_attribute('href'))\n            \n            print(\"Usernames fetched:\", usernames_scraped)\n\n            # NAVIGATION TO NEXT PAGE\n            \n            # find all the page navigation buttons\n            pg_nav_btns = self.browser.find_elements(By.CSS_SELECTOR,\"a[data-target='pagination']\")\n            \n            # find and click on the last one (next page button) \n            pg_nav_btns[-1].click()\n\n            # wait for next page to load\n            sleep(3)\n        \n        #Close the browser when done\n        self.browser.quit()  \n        \n        \n    def get_user_profile_info(self,user_profile_link):\n        \"\"\"\n        Scrapes an inputted user profile link\n        \"\"\"\n        \n        print(\"Getting profile information from\", user_profile_link, \"...\")\n\n        # options that allow selenium to run on DeepNote\n        options = Options()\n        options.add_argument(\"--headless\")\n        options.add_argument('--no-sandbox')\n        \n        try:\n\n            self.browser = webdriver.Chrome(options=options)\n\n            # get profile page\n            self.browser.get(user_profile_link)\n            sleep(2)\n        \n            # dictionary to store the user's info\n            user_info = {}\n            \n            # store the search query used\n            user_info['search_query'] = self.search\n\n            # get name\n            user_info['name'] = self.browser.find_element(By.CSS_SELECTOR,\"h3[data-color='dark']\").text\n            \n            # store the profile link\n            user_info['profile_link'] = user_profile_link\n            \n            \n            ################## GET FREELANCER BADGES\n            try:\n                # get the badges\n                badge_container = self.browser.find_element(By.CSS_SELECTOR,\"fl-bit[class ='NameContainer-badges']\")\n                badges = [x.get_attribute('data-type') for x in badge_container.find_elements(By.CSS_SELECTOR,\"fl-badge\")]\n\n                # replace membership with plus_membership\n                badges = ['plus-membership' if x=='membership' else x for x in badges] \n            except:\n                badges = []\n\n            if not badges: badges = []\n\n            user_info['freelancer_badges'] = badges   \n            #####################################################################################\n\n\n            ################## GET VERIFICATIONS\n            verifications_list = self.browser.find_element(By.CSS_SELECTOR,\n                                                           \"app-user-profile-verifications\")\n\n            ver_items = verifications_list.find_elements(By.CSS_SELECTOR,\n                                                         \"fl-bit[class='ProfileVerificationItem-label']\")\n\n            verification_text = [x.text for x in ver_items]\n\n            verification_symbs = [x.find_element(By.CSS_SELECTOR,\"div[class ='IconContainer']\").\\\n                                    get_attribute('data-color') for x in ver_items]\n\n            verification_status = [True if symb=='success' else False for symb in verification_symbs]\n\n            verifications = [*zip(verification_text,verification_status)]\n\n            user_info['verifications'] = verifications  \n            #####################################################################################\n\n            # get tagline\n            user_info['tagline'] = self.browser.find_element(By.CSS_SELECTOR,\"h2[data-color='mid']\").text\n\n            # get description\n            description_box = self.browser.find_element(By.CSS_SELECTOR,\"fl-text[data-max-lines='15']\")\n\n            # try to click on the read more button and extract text\n            try:\n                description_box.find_element(By.CLASS_NAME,'ReadMoreButton').click()\n                user_info['user_description'] = description_box.text\n            # if error is thrown because text doesn't need to be expanded, then we can just pull direct text \n            except:\n                user_info['user_description'] = description_box.text\n\n            ################## GET CERTIFICATIONS\n            try:\n                certifications_list = self.browser.find_element(By.CSS_SELECTOR,\"app-user-profile-exams\")\n\n                cert_items = certifications_list.find_elements(By.CSS_SELECTOR,\n                                                            \"fl-bit[class='UserProfileExams-item ng-star-inserted']\")\n                \n                certifications = [tuple(x.text.split('\\n')) for x in cert_items]\n                \n            except:\n                certifications = []\n\n            if not certifications: certifications = [] \n\n            user_info['certifications'] = certifications\n\n            #####################################################################################\n            \n            \n            ################################# EXTRACTING TOP SKILLS\n\n            #1. Expanding list to get all top skills\n\n            ####tracker for view_more top skills\n            view_more_button = True\n\n            ####Click view more button until all top_skills appear\n            while view_more_button:\n                try:\n                    self.browser.find_element(By.XPATH, \"//button[text()=' View More ']\").click()\n                    sleep(0.5)\n\n                #If error is thrown because view more button disappears – stop trying to click\n                except:\n                    view_more_button = False\n\n            #2. Extracting the top skills\n\n            ####List to store all top skills\n            top_skills = []\n\n            ####Iterate through all listed skills\n            for skill in self.browser.find_elements(By.CSS_SELECTOR,\"fl-bit[class ='UserProfileSkill']\"):\n\n                #Get the skill\n                skill_text = skill.text\n\n                #If a number is indicated in the skill\n                if '\\n' in skill_text:\n\n                    #Note skill and count\n                    sk,ct = skill_text.split('\\n')       \n                    top_skills.append((sk,int(ct)))\n\n                #Note count as 1\n                else:\n                    top_skills.append((skill_text,0))\n            \n            #Store user top skills\n            user_info['top_skills'] = top_skills\n            ###########################################################################################\n\n            #Get location\n            user_info['location'] = self.browser.find_element(By.CSS_SELECTOR,\"fl-col[class='SupplementaryInfo']\").text\n\n            #Get join date\n            user_info['join_date'] = self.browser.find_element(By.XPATH, \"//*[contains(text(),'Joined')]\").text.replace('Joined ','')\n\n            #Hourly rate\n            user_info['hourly_rate'] = re.findall('\\$\\d+',self.browser.find_element(By.XPATH, \"//*[contains(text(),'USD')]\").text)[0]\n\n            #Get pay grade\n            user_info['pay_grade'] = self.browser.find_element(By.CSS_SELECTOR,\"div[data-size='xxsmall\").text\n\n            #######Get rating container\n            rating_container = self.browser.find_elements(By.CSS_SELECTOR,\"fl-bit[class ='RatingContainer']\")[1]\n            \n\n            #Get average rating and number of reviews\n            user_info['avg_rating'], reviews = rating_container.text.split('\\n')\n            user_info['num_reviews'] = re.findall('\\d+',reviews)[0]\n            ##################################\n\n            #Get number of recommendations\n            user_info['num_recommendations']=re.findall('\\d+',self.browser.find_element(By.CSS_SELECTOR,\"fl-col[class='RecommendationsText']\").text)[0]\n\n            ### GET STATS ON PERFORMANCE\n            pct_jobs_completed, pct_on_budget, pct_on_time, repeat_hire_rate = [item.text.\\\n                                                                                replace('%','') for item in self.browser.\\\n                                                                                find_elements(By.CSS_SELECTOR,\"fl-text[class='ReputationItemAmount']\")]\n            \n            user_info['pct_jobs_completed'] = pct_jobs_completed\n            user_info['pct_on_budget'] = pct_on_budget\n            user_info['pct_on_time'] = pct_on_time\n            user_info['repeat_hire_rate'] = repeat_hire_rate\n            ##############################\n            \n            #Add the extracted info the list for all users\n            self.users_info.append(user_info)\n\n            print(\"Fetched user info from\", user_profile_link)\n\n            #Close the browser when done\n            self.browser.close()\n        \n        except Exception as e:\n\n            print(\"Failed to fetch user profile:\", user_profile_link)\n            print(e)\n          \n    \n    def get_pd_dataframe(self):\n        \"\"\"\n        Exports data to a Pandas DataFrame\n        \"\"\"\n\n        export_to_pd_dict_array = []\n\n        # turn list features into individual columns\n        for user in self.users_info:\n\n            certifications = {}\n            for cert in user.get(\"certifications\", []):\n                if len(cert) > 1:\n                    cert_name, val = cert\n                    certifications[f\"certifications_{'_'.join(cert_name.split(' ')).lower()}\"] = val\n                else:\n                    cert_name = cert[0]\n                    certifications[f\"certifications_{'_'.join(cert_name.split(' ')).lower()}\"] = True\n\n            # format is \"verification_verification_name\": value\n            verifications = {f\"verification_{'_'.join(name.split(' ')).lower()}\": val for name, val in user.get(\"verifications\", [])}\n\n            # format is \"skill_skill_name\": value\n            skills = {f\"skill_{'_'.join(name.split(' ')).lower()}\": val for name, val in user.get(\"top_skills\", [])}\n\n            # format is \"badge_badge_name\": True\n            badges = {f\"badge_{'_'.join(name.split('-')).lower()}\": True for name in user.get(\"freelancer_badges\", [])}\n\n            user_copy = {**user}\n\n            # delete columns that we've just processed\n            del user_copy[\"certifications\"]\n            del user_copy[\"verifications\"]\n            del user_copy[\"top_skills\"]\n            del user_copy[\"freelancer_badges\"]\n\n            user_for_pd = {\n                **user_copy,\n                **certifications,\n                **verifications,\n                **skills,\n                **badges\n            }\n\n            export_to_pd_dict_array.append(user_for_pd)\n\n        # create dataframe and return\n        df = pd.DataFrame(export_to_pd_dict_array)\n\n        return df\n\n\n    def get_raw_pd_dataframe(self):\n        \"\"\"\n        Exports the data as a Pandas DataFrame without doing any pre-processing\n        \"\"\"\n        df = pd.DataFrame(self.users_info)\n\n        return df\n    \n\n    def run(self):\n        \n        # extract all the usernames for the particular search query\n        self.get_all_usernames()\n        \n        users_fetched = 0\n        # get all the info for each of the usernames\n        for url in self.user_profiles:\n            self.get_user_profile_info(url)\n            users_fetched += 1\n            print(\"Users fetched:\", users_fetched)\n            sleep(2.5)\n    \n        print(\"All done!\")\n  \n        ",
   "execution_count": null,
   "outputs": []
  },
  {
   "cell_type": "code",
   "metadata": {
    "deepnote_to_be_reexecuted": false,
    "execution_millis": 64897201,
    "execution_start": 1647622733766,
    "source_hash": "f3239a7d",
    "cell_id": "00004-0223b5f3-acec-47d6-94be-1ade35369251",
    "deepnote_cell_type": "code",
    "deepnote_cell_height": 1354
   },
   "source": "scraper = FreelancerScraper(search=\"designer\", max_rows=5000)\nscraper.run()",
   "execution_count": null,
   "outputs": [
    {
     "name": "stdout",
     "text": "Fetched user info from https://www.freelancer.com/u/brownfreelance\nUsers fetched: 1187\nGetting profile information from https://www.freelancer.com/u/saadimran8892 ...\nFetched user info from https://www.freelancer.com/u/saadimran8892\nUsers fetched: 1188\nGetting profile information from https://www.freelancer.com/u/Shaiguy88 ...\nFetched user info from https://www.freelancer.com/u/Shaiguy88\nUsers fetched: 1189\nGetting profile information from https://www.freelancer.com/u/EffectiveKeY ...\nFetched user info from https://www.freelancer.com/u/EffectiveKeY\nUsers fetched: 1190\nGetting profile information from https://www.freelancer.com/u/mysticpixels ...\nFailed to fetch user profile: https://www.freelancer.com/u/mysticpixels\nMessage: no such element: Unable to locate element: {\"method\":\"css selector\",\"selector\":\"h2[data-color='mid']\"}\n  (Session info: headless chrome=90.0.4430.212)\nStacktrace:\n#0 0x561fa3b757f9 <unknown>\n#1 0x561fa3b153b3 <unknown>\n#2 0x561fa385d016 <unknown>\n#3 0x561fa389181e <unknown>\n#4 0x561fa38c78fb <unknown>\n#5 0x561fa38b4ded <unknown>\n#6 0x561fa38c59e1 <unknown>\n#7 0x561fa38b4c93 <unknown>\n#8 0x561fa3886ce4 <unknown>\n#9 0x561fa38884d2 <unknown>\n#10 0x561fa3b41542 <unknown>\n#11 0x561fa3b50ce7 <unknown>\n#12 0x561fa3b509e4 <unknown>\n#13 0x561fa3b5513a <unknown>\n#14 0x561fa3b515b9 <unknown>\n#15 0x561fa3b36e00 <unknown>\n#16 0x561fa3b685d2 <unknown>\n#17 0x561fa3b68778 <unknown>\n#18 0x561fa3b80a1f <unknown>\n#19 0x7f5bb1466fa3 start_thread\n#20 0x7f5bb04bc4cf clone\n\nUsers fetched: 1191\nGetting profile information from https://www.freelancer.com/u/shannahdesign ...\nFetched user info from https://www.freelancer.com/u/shannahdesign\nUsers fetched: 1192\nGetting profile information from https://www.freelancer.com/u/revinamounds ...\nFetched user info from https://www.freelancer.com/u/revinamounds\nUsers fetched: 1193\nGetting profile information from https://www.freelancer.com/u/bohcurtis ...\nFetched user info from https://www.freelancer.com/u/bohcurtis\nUsers fetched: 1194\nGetting profile information from https://www.freelancer.com/u/jessicajones86 ...\nFetched user info from https://www.freelancer.com/u/jessicajones86\nUsers fetched: 1195\nGetting profile information from https://www.freelancer.com/u/Terence2020 ...\nFetched user info from https://www.freelancer.com/u/Terence2020\nUsers fetched: 1196\nGetting profile information from https://www.freelancer.com/u/TaylorFeld ...\nFetched user info from https://www.freelancer.com/u/TaylorFeld\nUsers fetched: 1197\nGetting profile information from https://www.freelancer.com/u/nisha7375 ...\nFetched user info from https://www.freelancer.com/u/nisha7375\nUsers fetched: 1198\nGetting profile information from https://www.freelancer.com/u/Claretone ...\nFetched user info from https://www.freelancer.com/u/Claretone\nUsers fetched: 1199\nGetting profile information from https://www.freelancer.com/u/WissenFreiheit ...\nFetched user info from https://www.freelancer.com/u/WissenFreiheit\nUsers fetched: 1200\nGetting profile information from https://www.freelancer.com/u/squaretodoroki ...\nFetched user info from https://www.freelancer.com/u/squaretodoroki\nUsers fetched: 1201\nGetting profile information from https://www.freelancer.com/u/PxoMedia ...\nFetched user info from https://www.freelancer.com/u/PxoMedia\nUsers fetched: 1202\nGetting profile information from https://www.freelancer.com/u/vesmaeelzadeh ...\nFetched user info from https://www.freelancer.com/u/vesmaeelzadeh\nUsers fetched: 1203\nGetting profile information from https://www.freelancer.com/u/timothymurenzi ...\nFetched user info from https://www.freelancer.com/u/timothymurenzi\nUsers fetched: 1204\nGetting profile information from https://www.freelancer.com/u/tiasnyder6 ...\nFetched user info from https://www.freelancer.com/u/tiasnyder6\nUsers fetched: 1205\nGetting profile information from https://www.freelancer.com/u/amandaminc ...\nFetched user info from https://www.freelancer.com/u/amandaminc\nUsers fetched: 1206\nGetting profile information from https://www.freelancer.com/u/Rslanarch ...\nFetched user info from https://www.freelancer.com/u/Rslanarch\nUsers fetched: 1207\nGetting profile information from https://www.freelancer.com/u/vw2153007vw ...\nFetched user info from https://www.freelancer.com/u/vw2153007vw\nUsers fetched: 1208\nGetting profile information from https://www.freelancer.com/u/cvedesart ...\nFetched user info from https://www.freelancer.com/u/cvedesart\nUsers fetched: 1209\nGetting profile information from https://www.freelancer.com/u/beballuna1 ...\nFetched user info from https://www.freelancer.com/u/beballuna1\nUsers fetched: 1210\nGetting profile information from https://www.freelancer.com/u/ny2106 ...\nFetched user info from https://www.freelancer.com/u/ny2106\nUsers fetched: 1211\nGetting profile information from https://www.freelancer.com/u/geekstudio413 ...\nFetched user info from https://www.freelancer.com/u/geekstudio413\nUsers fetched: 1212\nGetting profile information from https://www.freelancer.com/u/Jwerz ...\nFetched user info from https://www.freelancer.com/u/Jwerz\nUsers fetched: 1213\nGetting profile information from https://www.freelancer.com/u/FeliciaHobbs ...\nFetched user info from https://www.freelancer.com/u/FeliciaHobbs\nUsers fetched: 1214\nGetting profile information from https://www.freelancer.com/u/joseberia ...\nFetched user info from https://www.freelancer.com/u/joseberia\nUsers fetched: 1215\nGetting profile information from https://www.freelancer.com/u/plainformstudio ...\nFetched user info from https://www.freelancer.com/u/plainformstudio\nUsers fetched: 1216\nGetting profile information from https://www.freelancer.com/u/khoshkholgh ...\nFetched user info from https://www.freelancer.com/u/khoshkholgh\nUsers fetched: 1217\nGetting profile information from https://www.freelancer.com/u/KingMartin007 ...\nFetched user info from https://www.freelancer.com/u/KingMartin007\nUsers fetched: 1218\nGetting profile information from https://www.freelancer.com/u/Nancy38T ...\nFetched user info from https://www.freelancer.com/u/Nancy38T\nUsers fetched: 1219\nGetting profile information from https://www.freelancer.com/u/melpat ...\nFetched user info from https://www.freelancer.com/u/melpat\nUsers fetched: 1220\nGetting profile information from https://www.freelancer.com/u/Virtuallina ...\nFetched user info from https://www.freelancer.com/u/Virtuallina\nUsers fetched: 1221\nGetting profile information from https://www.freelancer.com/u/RageDesignZ ...\nFetched user info from https://www.freelancer.com/u/RageDesignZ\nUsers fetched: 1222\nGetting profile information from https://www.freelancer.com/u/usamaameer26 ...\nFetched user info from https://www.freelancer.com/u/usamaameer26\nUsers fetched: 1223\nGetting profile information from https://www.freelancer.com/u/Mehdiazadeh ...\nFetched user info from https://www.freelancer.com/u/Mehdiazadeh\nUsers fetched: 1224\nGetting profile information from https://www.freelancer.com/u/brdivi ...\nFetched user info from https://www.freelancer.com/u/brdivi\nUsers fetched: 1225\nGetting profile information from https://www.freelancer.com/u/savjurgensen ...\nFetched user info from https://www.freelancer.com/u/savjurgensen\nUsers fetched: 1226\nGetting profile information from https://www.freelancer.com/u/ahuraplus ...\nFetched user info from https://www.freelancer.com/u/ahuraplus\nUsers fetched: 1227\nGetting profile information from https://www.freelancer.com/u/CreativeinTN ...\nFetched user info from https://www.freelancer.com/u/CreativeinTN\nUsers fetched: 1228\nGetting profile information from https://www.freelancer.com/u/emdesigns2 ...\nFetched user info from https://www.freelancer.com/u/emdesigns2\nUsers fetched: 1229\nGetting profile information from https://www.freelancer.com/u/Kimbelwriter ...\nFetched user info from https://www.freelancer.com/u/Kimbelwriter\nUsers fetched: 1230\nGetting profile information from https://www.freelancer.com/u/coolass ...\nFailed to fetch user profile: https://www.freelancer.com/u/coolass\nMessage: no such element: Unable to locate element: {\"method\":\"css selector\",\"selector\":\"h2[data-color='mid']\"}\n  (Session info: headless chrome=90.0.4430.212)\nStacktrace:\n#0 0x5625300ba7f9 <unknown>\n#1 0x56253005a3b3 <unknown>\n#2 0x56252fda2016 <unknown>\n#3 0x56252fdd681e <unknown>\n#4 0x56252fe0c8fb <unknown>\n#5 0x56252fdf9ded <unknown>\n#6 0x56252fe0a9e1 <unknown>\n#7 0x56252fdf9c93 <unknown>\n#8 0x56252fdcbce4 <unknown>\n#9 0x56252fdcd4d2 <unknown>\n#10 0x562530086542 <unknown>\n#11 0x562530095ce7 <unknown>\n#12 0x5625300959e4 <unknown>\n#13 0x56253009a13a <unknown>\n#14 0x5625300965b9 <unknown>\n#15 0x56253007be00 <unknown>\n#16 0x5625300ad5d2 <unknown>\n#17 0x5625300ad778 <unknown>\n#18 0x5625300c5a1f <unknown>\n#19 0x7f8a7a501fa3 start_thread\n#20 0x7f8a795574cf clone\n\nUsers fetched: 1231\nGetting profile information from https://www.freelancer.com/u/aatejon ...\nFetched user info from https://www.freelancer.com/u/aatejon\nUsers fetched: 1232\nGetting profile information from https://www.freelancer.com/u/ewright097 ...\nFetched user info from https://www.freelancer.com/u/ewright097\nUsers fetched: 1233\nGetting profile information from https://www.freelancer.com/u/Radcustomsco ...\nFetched user info from https://www.freelancer.com/u/Radcustomsco\nUsers fetched: 1234\nGetting profile information from https://www.freelancer.com/u/TDITraserdesign ...\nFetched user info from https://www.freelancer.com/u/TDITraserdesign\nUsers fetched: 1235\nGetting profile information from https://www.freelancer.com/u/ibdesignhub ...\nFetched user info from https://www.freelancer.com/u/ibdesignhub\nUsers fetched: 1236\nGetting profile information from https://www.freelancer.com/u/abewillows ...\nFetched user info from https://www.freelancer.com/u/abewillows\nUsers fetched: 1237\nGetting profile information from https://www.freelancer.com/u/SsmillesS ...\nFetched user info from https://www.freelancer.com/u/SsmillesS\nUsers fetched: 1238\nGetting profile information from https://www.freelancer.com/u/NamesJ ...\nFetched user info from https://www.freelancer.com/u/NamesJ\nUsers fetched: 1239\nGetting profile information from https://www.freelancer.com/u/rjuric ...\nFetched user info from https://www.freelancer.com/u/rjuric\nUsers fetched: 1240\nGetting profile information from https://www.freelancer.com/u/Mrezanaserkhaki ...\nFetched user info from https://www.freelancer.com/u/Mrezanaserkhaki\nUsers fetched: 1241\nGetting profile information from https://www.freelancer.com/u/tmac7 ...\nFetched user info from https://www.freelancer.com/u/tmac7\nUsers fetched: 1242\nGetting profile information from https://www.freelancer.com/u/DigiHazard ...\nFetched user info from https://www.freelancer.com/u/DigiHazard\nUsers fetched: 1243\nGetting profile information from https://www.freelancer.com/u/scottc9 ...\nFetched user info from https://www.freelancer.com/u/scottc9\nUsers fetched: 1244\nGetting profile information from https://www.freelancer.com/u/LisaL7 ...\nFetched user info from https://www.freelancer.com/u/LisaL7\nUsers fetched: 1245\nGetting profile information from https://www.freelancer.com/u/sumairaladhaa ...\nFetched user info from https://www.freelancer.com/u/sumairaladhaa\nUsers fetched: 1246\nGetting profile information from https://www.freelancer.com/u/EliEliJay2 ...\nFetched user info from https://www.freelancer.com/u/EliEliJay2\nUsers fetched: 1247\nGetting profile information from https://www.freelancer.com/u/Bunniccino ...\nFetched user info from https://www.freelancer.com/u/Bunniccino\nUsers fetched: 1248\nGetting profile information from https://www.freelancer.com/u/Celv6 ...\nFetched user info from https://www.freelancer.com/u/Celv6\nUsers fetched: 1249\nGetting profile information from https://www.freelancer.com/u/saudkhalid09 ...\nFetched user info from https://www.freelancer.com/u/saudkhalid09\nUsers fetched: 1250\nGetting profile information from https://www.freelancer.com/u/Alkateb1 ...\nFetched user info from https://www.freelancer.com/u/Alkateb1\nUsers fetched: 1251\nGetting profile information from https://www.freelancer.com/u/jonharrah ...\nFetched user info from https://www.freelancer.com/u/jonharrah\nUsers fetched: 1252\nGetting profile information from https://www.freelancer.com/u/kimorelus ...\nFetched user info from https://www.freelancer.com/u/kimorelus\nUsers fetched: 1253\nGetting profile information from https://www.freelancer.com/u/nwgraphics ...\nFetched user info from https://www.freelancer.com/u/nwgraphics\nUsers fetched: 1254\nGetting profile information from https://www.freelancer.com/u/thedesignstudio4 ...\nFetched user info from https://www.freelancer.com/u/thedesignstudio4\nUsers fetched: 1255\nGetting profile information from https://www.freelancer.com/u/Blevblayne92 ...\nFetched user info from https://www.freelancer.com/u/Blevblayne92\nUsers fetched: 1256\nGetting profile information from https://www.freelancer.com/u/creativjn ...\nFetched user info from https://www.freelancer.com/u/creativjn\nUsers fetched: 1257\nGetting profile information from https://www.freelancer.com/u/Bhogretmenoglu ...\nFetched user info from https://www.freelancer.com/u/Bhogretmenoglu\nUsers fetched: 1258\nGetting profile information from https://www.freelancer.com/u/DaytonNYC ...\nFetched user info from https://www.freelancer.com/u/DaytonNYC\nUsers fetched: 1259\nGetting profile information from https://www.freelancer.com/u/Rezvandesign ...\nFetched user info from https://www.freelancer.com/u/Rezvandesign\nUsers fetched: 1260\nGetting profile information from https://www.freelancer.com/u/lfqgraphics ...\nFetched user info from https://www.freelancer.com/u/lfqgraphics\nUsers fetched: 1261\nGetting profile information from https://www.freelancer.com/u/rodrigocusttodio ...\nFetched user info from https://www.freelancer.com/u/rodrigocusttodio\nUsers fetched: 1262\nGetting profile information from https://www.freelancer.com/u/emjveconsulting ...\nFetched user info from https://www.freelancer.com/u/emjveconsulting\nUsers fetched: 1263\nGetting profile information from https://www.freelancer.com/u/GalacticNoodles ...\nFetched user info from https://www.freelancer.com/u/GalacticNoodles\nUsers fetched: 1264\nGetting profile information from https://www.freelancer.com/u/quillenmarketing ...\nFetched user info from https://www.freelancer.com/u/quillenmarketing\nUsers fetched: 1265\nGetting profile information from https://www.freelancer.com/u/GuyValere ...\nFetched user info from https://www.freelancer.com/u/GuyValere\nUsers fetched: 1266\nGetting profile information from https://www.freelancer.com/u/raeleighboyd ...\nFetched user info from https://www.freelancer.com/u/raeleighboyd\nUsers fetched: 1267\nGetting profile information from https://www.freelancer.com/u/pooletyasia ...\nFetched user info from https://www.freelancer.com/u/pooletyasia\nUsers fetched: 1268\nGetting profile information from https://www.freelancer.com/u/Talujanese ...\nFetched user info from https://www.freelancer.com/u/Talujanese\nUsers fetched: 1269\nGetting profile information from https://www.freelancer.com/u/kheybe ...\nFetched user info from https://www.freelancer.com/u/kheybe\nUsers fetched: 1270\nGetting profile information from https://www.freelancer.com/u/CassieZhang ...\nFetched user info from https://www.freelancer.com/u/CassieZhang\nUsers fetched: 1271\nGetting profile information from https://www.freelancer.com/u/andrewwalant ...\nFetched user info from https://www.freelancer.com/u/andrewwalant\nUsers fetched: 1272\nGetting profile information from https://www.freelancer.com/u/CheeseHeadGames ...\nFetched user info from https://www.freelancer.com/u/CheeseHeadGames\nUsers fetched: 1273\nGetting profile information from https://www.freelancer.com/u/Andrewgranger ...\nFetched user info from https://www.freelancer.com/u/Andrewgranger\nUsers fetched: 1274\nGetting profile information from https://www.freelancer.com/u/milcha13 ...\nFetched user info from https://www.freelancer.com/u/milcha13\nUsers fetched: 1275\nGetting profile information from https://www.freelancer.com/u/mjernigan ...\nFetched user info from https://www.freelancer.com/u/mjernigan\nUsers fetched: 1276\nGetting profile information from https://www.freelancer.com/u/UmerAkhter ...\nFetched user info from https://www.freelancer.com/u/UmerAkhter\nUsers fetched: 1277\nGetting profile information from https://www.freelancer.com/u/adrianramirez117 ...\nFetched user info from https://www.freelancer.com/u/adrianramirez117\nUsers fetched: 1278\nGetting profile information from https://www.freelancer.com/u/KAHykes1993 ...\nFetched user info from https://www.freelancer.com/u/KAHykes1993\nUsers fetched: 1279\nGetting profile information from https://www.freelancer.com/u/rhali786 ...\nFetched user info from https://www.freelancer.com/u/rhali786\nUsers fetched: 1280\nGetting profile information from https://www.freelancer.com/u/XzstArt ...\nFetched user info from https://www.freelancer.com/u/XzstArt\nUsers fetched: 1281\nGetting profile information from https://www.freelancer.com/u/EvodieJean2 ...\nFetched user info from https://www.freelancer.com/u/EvodieJean2\nUsers fetched: 1282\nGetting profile information from https://www.freelancer.com/u/jhousedesigns ...\nFetched user info from https://www.freelancer.com/u/jhousedesigns\nUsers fetched: 1283\nGetting profile information from https://www.freelancer.com/u/DesignsBySaraK ...\nFetched user info from https://www.freelancer.com/u/DesignsBySaraK\nUsers fetched: 1284\nGetting profile information from https://www.freelancer.com/u/Paintbrush1096 ...\nFetched user info from https://www.freelancer.com/u/Paintbrush1096\nUsers fetched: 1285\nGetting profile information from https://www.freelancer.com/u/devajeetk ...\nFetched user info from https://www.freelancer.com/u/devajeetk\nUsers fetched: 1286\nGetting profile information from https://www.freelancer.com/u/vmcastejon ...\nFetched user info from https://www.freelancer.com/u/vmcastejon\nUsers fetched: 1287\nGetting profile information from https://www.freelancer.com/u/philippemeister ...\nFetched user info from https://www.freelancer.com/u/philippemeister\nUsers fetched: 1288\nGetting profile information from https://www.freelancer.com/u/ethannorgard ...\nFetched user info from https://www.freelancer.com/u/ethannorgard\nUsers fetched: 1289\nGetting profile information from https://www.freelancer.com/u/blogsitemaker ...\nFetched user info from https://www.freelancer.com/u/blogsitemaker\nUsers fetched: 1290\nGetting profile information from https://www.freelancer.com/u/srivalligade ...\nFetched user info from https://www.freelancer.com/u/srivalligade\nUsers fetched: 1291\nGetting profile information from https://www.freelancer.com/u/deepeshkvr ...\nFetched user info from https://www.freelancer.com/u/deepeshkvr\nUsers fetched: 1292\nGetting profile information from https://www.freelancer.com/u/LoganShipman ...\nFetched user info from https://www.freelancer.com/u/LoganShipman\nUsers fetched: 1293\nGetting profile information from https://www.freelancer.com/u/tcobo001 ...\nFetched user info from https://www.freelancer.com/u/tcobo001\nUsers fetched: 1294\nGetting profile information from https://www.freelancer.com/u/rammimaddi ...\nFetched user info from https://www.freelancer.com/u/rammimaddi\nUsers fetched: 1295\nGetting profile information from https://www.freelancer.com/u/nickelsun88 ...\nFetched user info from https://www.freelancer.com/u/nickelsun88\nUsers fetched: 1296\nGetting profile information from https://www.freelancer.com/u/pineda082790 ...\nFetched user info from https://www.freelancer.com/u/pineda082790\nUsers fetched: 1297\nGetting profile information from https://www.freelancer.com/u/jaysonqedwards ...\nFetched user info from https://www.freelancer.com/u/jaysonqedwards\nUsers fetched: 1298\nGetting profile information from https://www.freelancer.com/u/cosmitaldesigns ...\nFetched user info from https://www.freelancer.com/u/cosmitaldesigns\nUsers fetched: 1299\nGetting profile information from https://www.freelancer.com/u/Chrisben2022 ...\nFetched user info from https://www.freelancer.com/u/Chrisben2022\nUsers fetched: 1300\nGetting profile information from https://www.freelancer.com/u/luisveocho ...\nFetched user info from https://www.freelancer.com/u/luisveocho\nUsers fetched: 1301\nGetting profile information from https://www.freelancer.com/u/shanesites ...\nFetched user info from https://www.freelancer.com/u/shanesites\nUsers fetched: 1302\nGetting profile information from https://www.freelancer.com/u/immorley ...\nFetched user info from https://www.freelancer.com/u/immorley\nUsers fetched: 1303\nGetting profile information from https://www.freelancer.com/u/espot30 ...\nFetched user info from https://www.freelancer.com/u/espot30\nUsers fetched: 1304\nGetting profile information from https://www.freelancer.com/u/MrsEMarie ...\nFetched user info from https://www.freelancer.com/u/MrsEMarie\nUsers fetched: 1305\nGetting profile information from https://www.freelancer.com/u/PrinceDenniz ...\nFetched user info from https://www.freelancer.com/u/PrinceDenniz\nUsers fetched: 1306\nGetting profile information from https://www.freelancer.com/u/rongodby10 ...\nFetched user info from https://www.freelancer.com/u/rongodby10\nUsers fetched: 1307\nGetting profile information from https://www.freelancer.com/u/ancaandreeamarin ...\nFetched user info from https://www.freelancer.com/u/ancaandreeamarin\nUsers fetched: 1308\nGetting profile information from https://www.freelancer.com/u/seanmcclain ...\nFetched user info from https://www.freelancer.com/u/seanmcclain\nUsers fetched: 1309\nGetting profile information from https://www.freelancer.com/u/Michellelb ...\nFetched user info from https://www.freelancer.com/u/Michellelb\nUsers fetched: 1310\nGetting profile information from https://www.freelancer.com/u/Dennox ...\nFetched user info from https://www.freelancer.com/u/Dennox\nUsers fetched: 1311\nGetting profile information from https://www.freelancer.com/u/fb5421c8c419142 ...\nFetched user info from https://www.freelancer.com/u/fb5421c8c419142\nUsers fetched: 1312\nGetting profile information from https://www.freelancer.com/u/CiaraRyan96 ...\nFetched user info from https://www.freelancer.com/u/CiaraRyan96\nUsers fetched: 1313\nGetting profile information from https://www.freelancer.com/u/Brynnajoy ...\nFetched user info from https://www.freelancer.com/u/Brynnajoy\nUsers fetched: 1314\nGetting profile information from https://www.freelancer.com/u/gummybearspartan ...\nFetched user info from https://www.freelancer.com/u/gummybearspartan\nUsers fetched: 1315\nGetting profile information from https://www.freelancer.com/u/rockst4rx ...\nFetched user info from https://www.freelancer.com/u/rockst4rx\nUsers fetched: 1316\nGetting profile information from https://www.freelancer.com/u/aliciachinatomby ...\nFetched user info from https://www.freelancer.com/u/aliciachinatomby\nUsers fetched: 1317\nGetting profile information from https://www.freelancer.com/u/OnXGraphics ...\nFetched user info from https://www.freelancer.com/u/OnXGraphics\nUsers fetched: 1318\nGetting profile information from https://www.freelancer.com/u/nauticawillliams ...\nFetched user info from https://www.freelancer.com/u/nauticawillliams\nUsers fetched: 1319\nGetting profile information from https://www.freelancer.com/u/litegraphic805 ...\nFetched user info from https://www.freelancer.com/u/litegraphic805\nUsers fetched: 1320\nGetting profile information from https://www.freelancer.com/u/dudetru25 ...\nFetched user info from https://www.freelancer.com/u/dudetru25\nUsers fetched: 1321\nGetting profile information from https://www.freelancer.com/u/ronaaron2 ...\nFetched user info from https://www.freelancer.com/u/ronaaron2\nUsers fetched: 1322\nGetting profile information from https://www.freelancer.com/u/sserge2 ...\nFetched user info from https://www.freelancer.com/u/sserge2\nUsers fetched: 1323\nGetting profile information from https://www.freelancer.com/u/wendyn ...\nFetched user info from https://www.freelancer.com/u/wendyn\nUsers fetched: 1324\nGetting profile information from https://www.freelancer.com/u/RPhoenix ...\nFetched user info from https://www.freelancer.com/u/RPhoenix\nUsers fetched: 1325\nGetting profile information from https://www.freelancer.com/u/lyliabellal45 ...\nFetched user info from https://www.freelancer.com/u/lyliabellal45\nUsers fetched: 1326\nGetting profile information from https://www.freelancer.com/u/goju1980 ...\nFetched user info from https://www.freelancer.com/u/goju1980\nUsers fetched: 1327\nGetting profile information from https://www.freelancer.com/u/krisppikul ...\nFetched user info from https://www.freelancer.com/u/krisppikul\nUsers fetched: 1328\nGetting profile information from https://www.freelancer.com/u/joegcelano ...\nFetched user info from https://www.freelancer.com/u/joegcelano\nUsers fetched: 1329\nGetting profile information from https://www.freelancer.com/u/JasmineW231993 ...\nFetched user info from https://www.freelancer.com/u/JasmineW231993\nUsers fetched: 1330\nGetting profile information from https://www.freelancer.com/u/Juliablckwll ...\nFetched user info from https://www.freelancer.com/u/Juliablckwll\nUsers fetched: 1331\nGetting profile information from https://www.freelancer.com/u/SaminaKhatani ...\nFetched user info from https://www.freelancer.com/u/SaminaKhatani\nUsers fetched: 1332\nGetting profile information from https://www.freelancer.com/u/ashleemarcoux ...\nFetched user info from https://www.freelancer.com/u/ashleemarcoux\nUsers fetched: 1333\nGetting profile information from https://www.freelancer.com/u/elsamorten ...\nFetched user info from https://www.freelancer.com/u/elsamorten\nUsers fetched: 1334\nGetting profile information from https://www.freelancer.com/u/painter2408 ...\nFetched user info from https://www.freelancer.com/u/painter2408\nUsers fetched: 1335\nGetting profile information from https://www.freelancer.com/u/CapSights ...\nFetched user info from https://www.freelancer.com/u/CapSights\nUsers fetched: 1336\nGetting profile information from https://www.freelancer.com/u/Sciocore1 ...\nFetched user info from https://www.freelancer.com/u/Sciocore1\nUsers fetched: 1337\nGetting profile information from https://www.freelancer.com/u/jaydjkim ...\nFetched user info from https://www.freelancer.com/u/jaydjkim\nUsers fetched: 1338\nGetting profile information from https://www.freelancer.com/u/jason191 ...\nFetched user info from https://www.freelancer.com/u/jason191\nUsers fetched: 1339\nGetting profile information from https://www.freelancer.com/u/Dayalarm7 ...\nFetched user info from https://www.freelancer.com/u/Dayalarm7\nUsers fetched: 1340\nGetting profile information from https://www.freelancer.com/u/KHarmon ...\nFetched user info from https://www.freelancer.com/u/KHarmon\nUsers fetched: 1341\nGetting profile information from https://www.freelancer.com/u/tbanks2216 ...\nFetched user info from https://www.freelancer.com/u/tbanks2216\nUsers fetched: 1342\nGetting profile information from https://www.freelancer.com/u/kerlasolution ...\nFetched user info from https://www.freelancer.com/u/kerlasolution\nUsers fetched: 1343\nGetting profile information from https://www.freelancer.com/u/NovaStudios ...\nFetched user info from https://www.freelancer.com/u/NovaStudios\nUsers fetched: 1344\nGetting profile information from https://www.freelancer.com/u/naazaniin1 ...\nFetched user info from https://www.freelancer.com/u/naazaniin1\nUsers fetched: 1345\nGetting profile information from https://www.freelancer.com/u/artemtemerev ...\nFetched user info from https://www.freelancer.com/u/artemtemerev\nUsers fetched: 1346\nGetting profile information from https://www.freelancer.com/u/lutherbrian195 ...\nFetched user info from https://www.freelancer.com/u/lutherbrian195\nUsers fetched: 1347\nGetting profile information from https://www.freelancer.com/u/EganB ...\nFetched user info from https://www.freelancer.com/u/EganB\nUsers fetched: 1348\nGetting profile information from https://www.freelancer.com/u/royaroshanaei11 ...\nFetched user info from https://www.freelancer.com/u/royaroshanaei11\nUsers fetched: 1349\nGetting profile information from https://www.freelancer.com/u/d9cody ...\nFetched user info from https://www.freelancer.com/u/d9cody\nUsers fetched: 1350\nGetting profile information from https://www.freelancer.com/u/calnight15 ...\nFetched user info from https://www.freelancer.com/u/calnight15\nUsers fetched: 1351\nGetting profile information from https://www.freelancer.com/u/eddieconcept ...\nFetched user info from https://www.freelancer.com/u/eddieconcept\nUsers fetched: 1352\nGetting profile information from https://www.freelancer.com/u/Devonta4k ...\nFetched user info from https://www.freelancer.com/u/Devonta4k\nUsers fetched: 1353\nGetting profile information from https://www.freelancer.com/u/AKcustomGraphics ...\nFetched user info from https://www.freelancer.com/u/AKcustomGraphics\nUsers fetched: 1354\nGetting profile information from https://www.freelancer.com/u/gumb0042 ...\nFetched user info from https://www.freelancer.com/u/gumb0042\nUsers fetched: 1355\nGetting profile information from https://www.freelancer.com/u/allisonwhitting3 ...\nFetched user info from https://www.freelancer.com/u/allisonwhitting3\nUsers fetched: 1356\nGetting profile information from https://www.freelancer.com/u/beautifulinpinkx ...\nFetched user info from https://www.freelancer.com/u/beautifulinpinkx\nUsers fetched: 1357\nGetting profile information from https://www.freelancer.com/u/tudiptechnology ...\nFetched user info from https://www.freelancer.com/u/tudiptechnology\nUsers fetched: 1358\nGetting profile information from https://www.freelancer.com/u/alexzavala ...\nFetched user info from https://www.freelancer.com/u/alexzavala\nUsers fetched: 1359\nGetting profile information from https://www.freelancer.com/u/giftgale ...\nFetched user info from https://www.freelancer.com/u/giftgale\nUsers fetched: 1360\nGetting profile information from https://www.freelancer.com/u/jhawkinshnotk ...\nFetched user info from https://www.freelancer.com/u/jhawkinshnotk\nUsers fetched: 1361\nGetting profile information from https://www.freelancer.com/u/QuillandScale ...\nFetched user info from https://www.freelancer.com/u/QuillandScale\nUsers fetched: 1362\nGetting profile information from https://www.freelancer.com/u/ScottJay15 ...\nFetched user info from https://www.freelancer.com/u/ScottJay15\nUsers fetched: 1363\nGetting profile information from https://www.freelancer.com/u/enquipallc ...\nFetched user info from https://www.freelancer.com/u/enquipallc\nUsers fetched: 1364\nGetting profile information from https://www.freelancer.com/u/bookingsmichaelc ...\nFetched user info from https://www.freelancer.com/u/bookingsmichaelc\nUsers fetched: 1365\nGetting profile information from https://www.freelancer.com/u/scottb1715 ...\nFetched user info from https://www.freelancer.com/u/scottb1715\nUsers fetched: 1366\nGetting profile information from https://www.freelancer.com/u/SmayanInv ...\nFetched user info from https://www.freelancer.com/u/SmayanInv\nUsers fetched: 1367\nGetting profile information from https://www.freelancer.com/u/kkrzykwa926 ...\nFetched user info from https://www.freelancer.com/u/kkrzykwa926\nUsers fetched: 1368\nGetting profile information from https://www.freelancer.com/u/philtnorton ...\nFetched user info from https://www.freelancer.com/u/philtnorton\nUsers fetched: 1369\nGetting profile information from https://www.freelancer.com/u/JackieAstrid ...\nFetched user info from https://www.freelancer.com/u/JackieAstrid\nUsers fetched: 1370\nGetting profile information from https://www.freelancer.com/u/bellisKC ...\nFetched user info from https://www.freelancer.com/u/bellisKC\nUsers fetched: 1371\nGetting profile information from https://www.freelancer.com/u/Harriette ...\nFetched user info from https://www.freelancer.com/u/Harriette\nUsers fetched: 1372\nGetting profile information from https://www.freelancer.com/u/juliareed11 ...\nFetched user info from https://www.freelancer.com/u/juliareed11\nUsers fetched: 1373\nGetting profile information from https://www.freelancer.com/u/hmatthewstephens ...\nFetched user info from https://www.freelancer.com/u/hmatthewstephens\nUsers fetched: 1374\nGetting profile information from https://www.freelancer.com/u/KonceptDeesign ...\nFetched user info from https://www.freelancer.com/u/KonceptDeesign\nUsers fetched: 1375\nGetting profile information from https://www.freelancer.com/u/Mollygores ...\nFetched user info from https://www.freelancer.com/u/Mollygores\nUsers fetched: 1376\nGetting profile information from https://www.freelancer.com/u/andrewUX ...\nFetched user info from https://www.freelancer.com/u/andrewUX\nUsers fetched: 1377\nGetting profile information from https://www.freelancer.com/u/tonywfilm1 ...\nFetched user info from https://www.freelancer.com/u/tonywfilm1\nUsers fetched: 1378\nGetting profile information from https://www.freelancer.com/u/faresmh088 ...\nFetched user info from https://www.freelancer.com/u/faresmh088\nUsers fetched: 1379\nGetting profile information from https://www.freelancer.com/u/RezaPashai ...\nFailed to fetch user profile: https://www.freelancer.com/u/RezaPashai\nMessage: no such element: Unable to locate element: {\"method\":\"css selector\",\"selector\":\"h3[data-color='dark']\"}\n  (Session info: headless chrome=90.0.4430.212)\nStacktrace:\n#0 0x55ab2c57b7f9 <unknown>\n#1 0x55ab2c51b3b3 <unknown>\n#2 0x55ab2c263016 <unknown>\n#3 0x55ab2c29781e <unknown>\n#4 0x55ab2c2cd8fb <unknown>\n#5 0x55ab2c2baded <unknown>\n#6 0x55ab2c2cb9e1 <unknown>\n#7 0x55ab2c2bac93 <unknown>\n#8 0x55ab2c28cce4 <unknown>\n#9 0x55ab2c28e4d2 <unknown>\n#10 0x55ab2c547542 <unknown>\n#11 0x55ab2c556ce7 <unknown>\n#12 0x55ab2c5569e4 <unknown>\n#13 0x55ab2c55b13a <unknown>\n#14 0x55ab2c5575b9 <unknown>\n#15 0x55ab2c53ce00 <unknown>\n#16 0x55ab2c56e5d2 <unknown>\n#17 0x55ab2c56e778 <unknown>\n#18 0x55ab2c586a1f <unknown>\n#19 0x7f50c25b2fa3 start_thread\n#20 0x7f50c16084cf clone\n\nUsers fetched: 1380\nGetting profile information from https://www.freelancer.com/u/jspalinger ...\nFetched user info from https://www.freelancer.com/u/jspalinger\nUsers fetched: 1381\nGetting profile information from https://www.freelancer.com/u/lwi5655091aa6d7c ...\nFetched user info from https://www.freelancer.com/u/lwi5655091aa6d7c\nUsers fetched: 1382\nGetting profile information from https://www.freelancer.com/u/mikamura ...\nFetched user info from https://www.freelancer.com/u/mikamura\nUsers fetched: 1383\nGetting profile information from https://www.freelancer.com/u/iamavocadodesign ...\nFetched user info from https://www.freelancer.com/u/iamavocadodesign\nUsers fetched: 1384\nGetting profile information from https://www.freelancer.com/u/clarity444 ...\nFetched user info from https://www.freelancer.com/u/clarity444\nUsers fetched: 1385\nGetting profile information from https://www.freelancer.com/u/erikschiller ...\nFetched user info from https://www.freelancer.com/u/erikschiller\nUsers fetched: 1386\nGetting profile information from https://www.freelancer.com/u/saviidesigns ...\nFetched user info from https://www.freelancer.com/u/saviidesigns\nUsers fetched: 1387\nGetting profile information from https://www.freelancer.com/u/narikah ...\nFetched user info from https://www.freelancer.com/u/narikah\nUsers fetched: 1388\nGetting profile information from https://www.freelancer.com/u/BubbaCarter ...\nFetched user info from https://www.freelancer.com/u/BubbaCarter\nUsers fetched: 1389\nGetting profile information from https://www.freelancer.com/u/awesEMness ...\nFetched user info from https://www.freelancer.com/u/awesEMness\nUsers fetched: 1390\nGetting profile information from https://www.freelancer.com/u/ejffrey0611 ...\nFetched user info from https://www.freelancer.com/u/ejffrey0611\nUsers fetched: 1391\nGetting profile information from https://www.freelancer.com/u/rositazolghadr ...\nFetched user info from https://www.freelancer.com/u/rositazolghadr\nUsers fetched: 1392\nGetting profile information from https://www.freelancer.com/u/RandyLeeHartwig ...\nFetched user info from https://www.freelancer.com/u/RandyLeeHartwig\nUsers fetched: 1393\nGetting profile information from https://www.freelancer.com/u/ninahorne1221 ...\nFetched user info from https://www.freelancer.com/u/ninahorne1221\nUsers fetched: 1394\nGetting profile information from https://www.freelancer.com/u/JTanner824 ...\nFetched user info from https://www.freelancer.com/u/JTanner824\nUsers fetched: 1395\nGetting profile information from https://www.freelancer.com/u/meckgarrin ...\nFetched user info from https://www.freelancer.com/u/meckgarrin\nUsers fetched: 1396\nGetting profile information from https://www.freelancer.com/u/mohammedazman68 ...\nFetched user info from https://www.freelancer.com/u/mohammedazman68\nUsers fetched: 1397\nGetting profile information from https://www.freelancer.com/u/zenbananas ...\nFetched user info from https://www.freelancer.com/u/zenbananas\nUsers fetched: 1398\nGetting profile information from https://www.freelancer.com/u/SherriEason ...\nFetched user info from https://www.freelancer.com/u/SherriEason\nUsers fetched: 1399\nGetting profile information from https://www.freelancer.com/u/LimitlessCreate ...\nFetched user info from https://www.freelancer.com/u/LimitlessCreate\nUsers fetched: 1400\nGetting profile information from https://www.freelancer.com/u/joshkolenko ...\nFetched user info from https://www.freelancer.com/u/joshkolenko\nUsers fetched: 1401\nGetting profile information from https://www.freelancer.com/u/cocoanderson617 ...\nFetched user info from https://www.freelancer.com/u/cocoanderson617\nUsers fetched: 1402\nGetting profile information from https://www.freelancer.com/u/bobpleasant ...\nFetched user info from https://www.freelancer.com/u/bobpleasant\nUsers fetched: 1403\nGetting profile information from https://www.freelancer.com/u/Tatan22 ...\nFetched user info from https://www.freelancer.com/u/Tatan22\nUsers fetched: 1404\nGetting profile information from https://www.freelancer.com/u/PerformancePlus ...\nFetched user info from https://www.freelancer.com/u/PerformancePlus\nUsers fetched: 1405\nGetting profile information from https://www.freelancer.com/u/stuntbombaclot ...\nFetched user info from https://www.freelancer.com/u/stuntbombaclot\nUsers fetched: 1406\nGetting profile information from https://www.freelancer.com/u/brysonbreakey ...\nFetched user info from https://www.freelancer.com/u/brysonbreakey\nUsers fetched: 1407\nGetting profile information from https://www.freelancer.com/u/andoo391 ...\nFetched user info from https://www.freelancer.com/u/andoo391\nUsers fetched: 1408\nGetting profile information from https://www.freelancer.com/u/blackarrow67 ...\nFetched user info from https://www.freelancer.com/u/blackarrow67\nUsers fetched: 1409\nGetting profile information from https://www.freelancer.com/u/willehgooddesign ...\nFetched user info from https://www.freelancer.com/u/willehgooddesign\nUsers fetched: 1410\nGetting profile information from https://www.freelancer.com/u/valeriefacundo ...\nFetched user info from https://www.freelancer.com/u/valeriefacundo\nUsers fetched: 1411\nGetting profile information from https://www.freelancer.com/u/MeganCentonze ...\nFetched user info from https://www.freelancer.com/u/MeganCentonze\nUsers fetched: 1412\nGetting profile information from https://www.freelancer.com/u/Limabean74 ...\nFetched user info from https://www.freelancer.com/u/Limabean74\nUsers fetched: 1413\nGetting profile information from https://www.freelancer.com/u/jamilakatura ...\nFetched user info from https://www.freelancer.com/u/jamilakatura\nUsers fetched: 1414\nGetting profile information from https://www.freelancer.com/u/Craftingcults ...\nFetched user info from https://www.freelancer.com/u/Craftingcults\nUsers fetched: 1415\nGetting profile information from https://www.freelancer.com/u/dmromano ...\nFetched user info from https://www.freelancer.com/u/dmromano\nUsers fetched: 1416\nGetting profile information from https://www.freelancer.com/u/jonahefisher ...\nFetched user info from https://www.freelancer.com/u/jonahefisher\nUsers fetched: 1417\nGetting profile information from https://www.freelancer.com/u/KyleSumner ...\nFetched user info from https://www.freelancer.com/u/KyleSumner\nUsers fetched: 1418\nGetting profile information from https://www.freelancer.com/u/barbking366 ...\nFetched user info from https://www.freelancer.com/u/barbking366\nUsers fetched: 1419\nGetting profile information from https://www.freelancer.com/u/Bizkonson ...\nFetched user info from https://www.freelancer.com/u/Bizkonson\nUsers fetched: 1420\nGetting profile information from https://www.freelancer.com/u/talfano ...\nFetched user info from https://www.freelancer.com/u/talfano\nUsers fetched: 1421\nGetting profile information from https://www.freelancer.com/u/victorwang412 ...\nFetched user info from https://www.freelancer.com/u/victorwang412\nUsers fetched: 1422\nGetting profile information from https://www.freelancer.com/u/AVXStudio ...\nFetched user info from https://www.freelancer.com/u/AVXStudio\nUsers fetched: 1423\nGetting profile information from https://www.freelancer.com/u/narvaezarch ...\nFetched user info from https://www.freelancer.com/u/narvaezarch\nUsers fetched: 1424\nGetting profile information from https://www.freelancer.com/u/kramercanfield ...\nFetched user info from https://www.freelancer.com/u/kramercanfield\nUsers fetched: 1425\nGetting profile information from https://www.freelancer.com/u/ebp ...\nFetched user info from https://www.freelancer.com/u/ebp\nUsers fetched: 1426\nGetting profile information from https://www.freelancer.com/u/bRidea ...\nFetched user info from https://www.freelancer.com/u/bRidea\nUsers fetched: 1427\nGetting profile information from https://www.freelancer.com/u/beamon456 ...\nFetched user info from https://www.freelancer.com/u/beamon456\nUsers fetched: 1428\nGetting profile information from https://www.freelancer.com/u/mayzeco ...\nFetched user info from https://www.freelancer.com/u/mayzeco\nUsers fetched: 1429\nGetting profile information from https://www.freelancer.com/u/itsdondivin ...\nFetched user info from https://www.freelancer.com/u/itsdondivin\nUsers fetched: 1430\nGetting profile information from https://www.freelancer.com/u/TonyK2424 ...\nFetched user info from https://www.freelancer.com/u/TonyK2424\nUsers fetched: 1431\nGetting profile information from https://www.freelancer.com/u/ShelbyDesignz ...\nFetched user info from https://www.freelancer.com/u/ShelbyDesignz\nUsers fetched: 1432\nGetting profile information from https://www.freelancer.com/u/RusticRosePrint ...\nFetched user info from https://www.freelancer.com/u/RusticRosePrint\nUsers fetched: 1433\nGetting profile information from https://www.freelancer.com/u/deebugz ...\nFetched user info from https://www.freelancer.com/u/deebugz\nUsers fetched: 1434\nGetting profile information from https://www.freelancer.com/u/yk101 ...\nFetched user info from https://www.freelancer.com/u/yk101\nUsers fetched: 1435\nGetting profile information from https://www.freelancer.com/u/indecipher ...\nFetched user info from https://www.freelancer.com/u/indecipher\nUsers fetched: 1436\nGetting profile information from https://www.freelancer.com/u/karlmkjr ...\nFetched user info from https://www.freelancer.com/u/karlmkjr\nUsers fetched: 1437\nGetting profile information from https://www.freelancer.com/u/Ochukoere ...\nFetched user info from https://www.freelancer.com/u/Ochukoere\nUsers fetched: 1438\nGetting profile information from https://www.freelancer.com/u/IrinaMityugova ...\nFetched user info from https://www.freelancer.com/u/IrinaMityugova\nUsers fetched: 1439\nGetting profile information from https://www.freelancer.com/u/DominusDesigners ...\nFetched user info from https://www.freelancer.com/u/DominusDesigners\nUsers fetched: 1440\nGetting profile information from https://www.freelancer.com/u/jimdelcarpio ...\nFetched user info from https://www.freelancer.com/u/jimdelcarpio\nUsers fetched: 1441\nGetting profile information from https://www.freelancer.com/u/digitlogix2 ...\nFetched user info from https://www.freelancer.com/u/digitlogix2\nUsers fetched: 1442\nGetting profile information from https://www.freelancer.com/u/ds102 ...\nFetched user info from https://www.freelancer.com/u/ds102\nUsers fetched: 1443\nGetting profile information from https://www.freelancer.com/u/jeffblixr ...\nFetched user info from https://www.freelancer.com/u/jeffblixr\nUsers fetched: 1444\nGetting profile information from https://www.freelancer.com/u/sdawg78 ...\nFetched user info from https://www.freelancer.com/u/sdawg78\nUsers fetched: 1445\nGetting profile information from https://www.freelancer.com/u/chrism185 ...\nFetched user info from https://www.freelancer.com/u/chrism185\nUsers fetched: 1446\nGetting profile information from https://www.freelancer.com/u/charlottebsheely ...\nFetched user info from https://www.freelancer.com/u/charlottebsheely\nUsers fetched: 1447\nGetting profile information from https://www.freelancer.com/u/bijahd ...\nFetched user info from https://www.freelancer.com/u/bijahd\nUsers fetched: 1448\nGetting profile information from https://www.freelancer.com/u/mkdfreelance1 ...\nFetched user info from https://www.freelancer.com/u/mkdfreelance1\nUsers fetched: 1449\nGetting profile information from https://www.freelancer.com/u/PaulinaBarca ...\nFetched user info from https://www.freelancer.com/u/PaulinaBarca\nUsers fetched: 1450\nGetting profile information from https://www.freelancer.com/u/ShehryarAli247 ...\nFetched user info from https://www.freelancer.com/u/ShehryarAli247\nUsers fetched: 1451\nGetting profile information from https://www.freelancer.com/u/emilypolakk ...\nFetched user info from https://www.freelancer.com/u/emilypolakk\nUsers fetched: 1452\nGetting profile information from https://www.freelancer.com/u/mohanvamsi2119 ...\nFetched user info from https://www.freelancer.com/u/mohanvamsi2119\nUsers fetched: 1453\nGetting profile information from https://www.freelancer.com/u/cawaivivi ...\nFetched user info from https://www.freelancer.com/u/cawaivivi\nUsers fetched: 1454\nGetting profile information from https://www.freelancer.com/u/josefantunes ...\nFetched user info from https://www.freelancer.com/u/josefantunes\nUsers fetched: 1455\nGetting profile information from https://www.freelancer.com/u/jendanchetz ...\nFetched user info from https://www.freelancer.com/u/jendanchetz\nUsers fetched: 1456\nGetting profile information from https://www.freelancer.com/u/AnisLovida ...\nFetched user info from https://www.freelancer.com/u/AnisLovida\nUsers fetched: 1457\nGetting profile information from https://www.freelancer.com/u/XJuDaHX ...\nFetched user info from https://www.freelancer.com/u/XJuDaHX\nUsers fetched: 1458\nGetting profile information from https://www.freelancer.com/u/Avisaadesign ...\nFetched user info from https://www.freelancer.com/u/Avisaadesign\nUsers fetched: 1459\nGetting profile information from https://www.freelancer.com/u/jjvapas ...\nFetched user info from https://www.freelancer.com/u/jjvapas\nUsers fetched: 1460\nGetting profile information from https://www.freelancer.com/u/melissawynne ...\nFetched user info from https://www.freelancer.com/u/melissawynne\nUsers fetched: 1461\nGetting profile information from https://www.freelancer.com/u/SocialiteX ...\nFetched user info from https://www.freelancer.com/u/SocialiteX\nUsers fetched: 1462\nGetting profile information from https://www.freelancer.com/u/KayChristine ...\nFetched user info from https://www.freelancer.com/u/KayChristine\nUsers fetched: 1463\nGetting profile information from https://www.freelancer.com/u/vikterpro ...\nFetched user info from https://www.freelancer.com/u/vikterpro\nUsers fetched: 1464\nGetting profile information from https://www.freelancer.com/u/tbone71106 ...\nFetched user info from https://www.freelancer.com/u/tbone71106\nUsers fetched: 1465\nGetting profile information from https://www.freelancer.com/u/DesignGraphic58 ...\nFetched user info from https://www.freelancer.com/u/DesignGraphic58\nUsers fetched: 1466\nGetting profile information from https://www.freelancer.com/u/ambarmoreta29 ...\nFetched user info from https://www.freelancer.com/u/ambarmoreta29\nUsers fetched: 1467\nGetting profile information from https://www.freelancer.com/u/oguegoemma ...\nFetched user info from https://www.freelancer.com/u/oguegoemma\nUsers fetched: 1468\nGetting profile information from https://www.freelancer.com/u/Glosgraphics ...\nFetched user info from https://www.freelancer.com/u/Glosgraphics\nUsers fetched: 1469\nGetting profile information from https://www.freelancer.com/u/nidaalidauva ...\nFetched user info from https://www.freelancer.com/u/nidaalidauva\nUsers fetched: 1470\nGetting profile information from https://www.freelancer.com/u/webguydesigns ...\nFetched user info from https://www.freelancer.com/u/webguydesigns\nUsers fetched: 1471\nGetting profile information from https://www.freelancer.com/u/lightpixeldesign ...\nFetched user info from https://www.freelancer.com/u/lightpixeldesign\nUsers fetched: 1472\nGetting profile information from https://www.freelancer.com/u/BaschFilms ...\nFetched user info from https://www.freelancer.com/u/BaschFilms\nUsers fetched: 1473\nGetting profile information from https://www.freelancer.com/u/pmurdockmedia ...\nFetched user info from https://www.freelancer.com/u/pmurdockmedia\nUsers fetched: 1474\nGetting profile information from https://www.freelancer.com/u/nafogel ...\nFetched user info from https://www.freelancer.com/u/nafogel\nUsers fetched: 1475\nGetting profile information from https://www.freelancer.com/u/MageeDvlmpt ...\nFetched user info from https://www.freelancer.com/u/MageeDvlmpt\nUsers fetched: 1476\nGetting profile information from https://www.freelancer.com/u/Blafontain4 ...\nFetched user info from https://www.freelancer.com/u/Blafontain4\nUsers fetched: 1477\nGetting profile information from https://www.freelancer.com/u/designzindabad ...\nFetched user info from https://www.freelancer.com/u/designzindabad\nUsers fetched: 1478\nGetting profile information from https://www.freelancer.com/u/Aleblan23 ...\nFetched user info from https://www.freelancer.com/u/Aleblan23\nUsers fetched: 1479\nGetting profile information from https://www.freelancer.com/u/binnelson ...\nFetched user info from https://www.freelancer.com/u/binnelson\nUsers fetched: 1480\nGetting profile information from https://www.freelancer.com/u/la21vara ...\nFetched user info from https://www.freelancer.com/u/la21vara\nUsers fetched: 1481\nGetting profile information from https://www.freelancer.com/u/brandeeo2009 ...\nFetched user info from https://www.freelancer.com/u/brandeeo2009\nUsers fetched: 1482\nGetting profile information from https://www.freelancer.com/u/rgssoloutions ...\nFetched user info from https://www.freelancer.com/u/rgssoloutions\nUsers fetched: 1483\nGetting profile information from https://www.freelancer.com/u/akadir67 ...\nFetched user info from https://www.freelancer.com/u/akadir67\nUsers fetched: 1484\nGetting profile information from https://www.freelancer.com/u/pixelsdream1 ...\nFetched user info from https://www.freelancer.com/u/pixelsdream1\nUsers fetched: 1485\nGetting profile information from https://www.freelancer.com/u/SteelCyclone ...\nFetched user info from https://www.freelancer.com/u/SteelCyclone\nUsers fetched: 1486\nGetting profile information from https://www.freelancer.com/u/Princesswormy ...\nFetched user info from https://www.freelancer.com/u/Princesswormy\nUsers fetched: 1487\nGetting profile information from https://www.freelancer.com/u/ZeltaWeb ...\nFetched user info from https://www.freelancer.com/u/ZeltaWeb\nUsers fetched: 1488\nGetting profile information from https://www.freelancer.com/u/tutagraphics ...\nFetched user info from https://www.freelancer.com/u/tutagraphics\nUsers fetched: 1489\nGetting profile information from https://www.freelancer.com/u/KimberlyDawnB ...\nFetched user info from https://www.freelancer.com/u/KimberlyDawnB\nUsers fetched: 1490\nGetting profile information from https://www.freelancer.com/u/Gordo2540 ...\nFetched user info from https://www.freelancer.com/u/Gordo2540\nUsers fetched: 1491\nGetting profile information from https://www.freelancer.com/u/JGiles51 ...\nFetched user info from https://www.freelancer.com/u/JGiles51\nUsers fetched: 1492\nGetting profile information from https://www.freelancer.com/u/Megumi0527 ...\nFetched user info from https://www.freelancer.com/u/Megumi0527\nUsers fetched: 1493\nGetting profile information from https://www.freelancer.com/u/xixnoir ...\nFetched user info from https://www.freelancer.com/u/xixnoir\nUsers fetched: 1494\nGetting profile information from https://www.freelancer.com/u/xSMK ...\n",
     "output_type": "stream"
    },
    {
     "name": "stdout",
     "text": "Users fetched: 4284\nGetting profile information from https://www.freelancer.com/u/larrybrazil ...\nFetched user info from https://www.freelancer.com/u/larrybrazil\nUsers fetched: 4285\nGetting profile information from https://www.freelancer.com/u/designbyfrances ...\nFetched user info from https://www.freelancer.com/u/designbyfrances\nUsers fetched: 4286\nGetting profile information from https://www.freelancer.com/u/jameshauge ...\nFetched user info from https://www.freelancer.com/u/jameshauge\nUsers fetched: 4287\nGetting profile information from https://www.freelancer.com/u/MoeAgha ...\nFetched user info from https://www.freelancer.com/u/MoeAgha\nUsers fetched: 4288\nGetting profile information from https://www.freelancer.com/u/Cjmcpherson ...\nFetched user info from https://www.freelancer.com/u/Cjmcpherson\nUsers fetched: 4289\nGetting profile information from https://www.freelancer.com/u/iyamidesignweb ...\nFetched user info from https://www.freelancer.com/u/iyamidesignweb\nUsers fetched: 4290\nGetting profile information from https://www.freelancer.com/u/chancecaut ...\nFetched user info from https://www.freelancer.com/u/chancecaut\nUsers fetched: 4291\nGetting profile information from https://www.freelancer.com/u/FatemBa ...\nFetched user info from https://www.freelancer.com/u/FatemBa\nUsers fetched: 4292\nGetting profile information from https://www.freelancer.com/u/ConnorJoseph ...\nFetched user info from https://www.freelancer.com/u/ConnorJoseph\nUsers fetched: 4293\nGetting profile information from https://www.freelancer.com/u/tahashojae46 ...\nFetched user info from https://www.freelancer.com/u/tahashojae46\nUsers fetched: 4294\nGetting profile information from https://www.freelancer.com/u/welcometoiran ...\nFetched user info from https://www.freelancer.com/u/welcometoiran\nUsers fetched: 4295\nGetting profile information from https://www.freelancer.com/u/forthelove1 ...\nFetched user info from https://www.freelancer.com/u/forthelove1\nUsers fetched: 4296\nGetting profile information from https://www.freelancer.com/u/sarasegura ...\nFetched user info from https://www.freelancer.com/u/sarasegura\nUsers fetched: 4297\nGetting profile information from https://www.freelancer.com/u/theaveragedoug ...\nFetched user info from https://www.freelancer.com/u/theaveragedoug\nUsers fetched: 4298\nGetting profile information from https://www.freelancer.com/u/SooSky ...\nFailed to fetch user profile: https://www.freelancer.com/u/SooSky\nMessage: session not created\nfrom timeout: Timed out receiving message from renderer: 600.000\n  (Session info: headless chrome=90.0.4430.212)\nStacktrace:\n#0 0x560645a197f9 <unknown>\n#1 0x5606459b93b3 <unknown>\n#2 0x560645701016 <unknown>\n#3 0x5606456ebbd1 <unknown>\n#4 0x5606456eaae7 <unknown>\n#5 0x5606456eaf51 <unknown>\n#6 0x5606456ea4f2 <unknown>\n#7 0x5606456fe72c <unknown>\n#8 0x5606456ea4a6 <unknown>\n#9 0x5606456eb727 <unknown>\n#10 0x5606456eaae7 <unknown>\n#11 0x5606456eaf51 <unknown>\n#12 0x5606456ea4f2 <unknown>\n#13 0x5606456f29b5 <unknown>\n#14 0x5606456f2a1c <unknown>\n#15 0x5606456ea4a6 <unknown>\n#16 0x5606456eb727 <unknown>\n#17 0x5606456eaae7 <unknown>\n#18 0x5606456eaf51 <unknown>\n#19 0x5606456ea4f2 <unknown>\n#20 0x5606456f5d2a <unknown>\n#21 0x5606456ea4a6 <unknown>\n#22 0x5606456eb727 <unknown>\n#23 0x5606456eaae7 <unknown>\n#24 0x5606456eaf51 <unknown>\n#25 0x5606456ea4f2 <unknown>\n#26 0x5606456f33a5 <unknown>\n#27 0x5606456ea4a6 <unknown>\n#28 0x5606456eb727 <unknown>\n#29 0x5606456eaae7 <unknown>\n#30 0x5606456eaf51 <unknown>\n#31 0x5606456ea4f2 <unknown>\n#32 0x5606456f1ced <unknown>\n#33 0x5606456ea4a6 <unknown>\n#34 0x5606456eb727 <unknown>\n#35 0x5606456eaae7 <unknown>\n#36 0x5606456eaf51 <unknown>\n#37 0x5606456ea4f2 <unknown>\n#38 0x5606456e4ee5 <unknown>\n#39 0x5606456ea4a6 <unknown>\n#40 0x5606456ea419 <unknown>\n#41 0x5606456e9f03 <unknown>\n#42 0x560645702a33 <unknown>\n#43 0x56064575eeee <unknown>\n#44 0x560645758c93 <unknown>\n#45 0x56064572ace4 <unknown>\n#46 0x56064572c4d2 <unknown>\n#47 0x5606459e5542 <unknown>\n#48 0x5606459f4ce7 <unknown>\n#49 0x5606459f49e4 <unknown>\n#50 0x5606459f913a <unknown>\n#51 0x5606459f55b9 <unknown>\n#52 0x5606459dae00 <unknown>\n#53 0x560645a0c5d2 <unknown>\n#54 0x560645a0c778 <unknown>\n#55 0x560645a24a1f <unknown>\n#56 0x7fc231f9dfa3 start_thread\n#57 0x7fc230ff34cf clone\n\nUsers fetched: 4299\nGetting profile information from https://www.freelancer.com/u/azy8000 ...\nFetched user info from https://www.freelancer.com/u/azy8000\nUsers fetched: 4300\nGetting profile information from https://www.freelancer.com/u/mikaylahedmonds ...\nFetched user info from https://www.freelancer.com/u/mikaylahedmonds\nUsers fetched: 4301\nGetting profile information from https://www.freelancer.com/u/Rilwzn ...\nFetched user info from https://www.freelancer.com/u/Rilwzn\nUsers fetched: 4302\nGetting profile information from https://www.freelancer.com/u/boholler ...\nFetched user info from https://www.freelancer.com/u/boholler\nUsers fetched: 4303\nGetting profile information from https://www.freelancer.com/u/designkazi ...\nFetched user info from https://www.freelancer.com/u/designkazi\nUsers fetched: 4304\nGetting profile information from https://www.freelancer.com/u/Rico3232 ...\nFetched user info from https://www.freelancer.com/u/Rico3232\nUsers fetched: 4305\nGetting profile information from https://www.freelancer.com/u/valenevalene ...\nFetched user info from https://www.freelancer.com/u/valenevalene\nUsers fetched: 4306\nGetting profile information from https://www.freelancer.com/u/Moapeez ...\nFetched user info from https://www.freelancer.com/u/Moapeez\nUsers fetched: 4307\nGetting profile information from https://www.freelancer.com/u/youssefch404 ...\nFetched user info from https://www.freelancer.com/u/youssefch404\nUsers fetched: 4308\nGetting profile information from https://www.freelancer.com/u/naichellesdavis9 ...\nFetched user info from https://www.freelancer.com/u/naichellesdavis9\nUsers fetched: 4309\nGetting profile information from https://www.freelancer.com/u/jonyexpert ...\nFailed to fetch user profile: https://www.freelancer.com/u/jonyexpert\nMessage: no such element: Unable to locate element: {\"method\":\"css selector\",\"selector\":\"h2[data-color='mid']\"}\n  (Session info: headless chrome=90.0.4430.212)\nStacktrace:\n#0 0x55e94cfde7f9 <unknown>\n#1 0x55e94cf7e3b3 <unknown>\n#2 0x55e94ccc6016 <unknown>\n#3 0x55e94ccfa81e <unknown>\n#4 0x55e94cd308fb <unknown>\n#5 0x55e94cd1dded <unknown>\n#6 0x55e94cd2e9e1 <unknown>\n#7 0x55e94cd1dc93 <unknown>\n#8 0x55e94ccefce4 <unknown>\n#9 0x55e94ccf14d2 <unknown>\n#10 0x55e94cfaa542 <unknown>\n#11 0x55e94cfb9ce7 <unknown>\n#12 0x55e94cfb99e4 <unknown>\n#13 0x55e94cfbe13a <unknown>\n#14 0x55e94cfba5b9 <unknown>\n#15 0x55e94cf9fe00 <unknown>\n#16 0x55e94cfd15d2 <unknown>\n#17 0x55e94cfd1778 <unknown>\n#18 0x55e94cfe9a1f <unknown>\n#19 0x7fed82e47fa3 start_thread\n#20 0x7fed81e9d4cf clone\n\nUsers fetched: 4310\nGetting profile information from https://www.freelancer.com/u/comwizz2 ...\nFetched user info from https://www.freelancer.com/u/comwizz2\nUsers fetched: 4311\nGetting profile information from https://www.freelancer.com/u/ttheen ...\nFetched user info from https://www.freelancer.com/u/ttheen\nUsers fetched: 4312\nGetting profile information from https://www.freelancer.com/u/dgraves56 ...\nFetched user info from https://www.freelancer.com/u/dgraves56\nUsers fetched: 4313\nGetting profile information from https://www.freelancer.com/u/bmllamas ...\nFetched user info from https://www.freelancer.com/u/bmllamas\nUsers fetched: 4314\nGetting profile information from https://www.freelancer.com/u/r2b2design ...\nFetched user info from https://www.freelancer.com/u/r2b2design\nUsers fetched: 4315\nGetting profile information from https://www.freelancer.com/u/zedwards40 ...\nFetched user info from https://www.freelancer.com/u/zedwards40\nUsers fetched: 4316\nGetting profile information from https://www.freelancer.com/u/toddlockwoodny ...\nFetched user info from https://www.freelancer.com/u/toddlockwoodny\nUsers fetched: 4317\nGetting profile information from https://www.freelancer.com/u/Maddiekm0 ...\nFetched user info from https://www.freelancer.com/u/Maddiekm0\nUsers fetched: 4318\nGetting profile information from https://www.freelancer.com/u/sritter09 ...\nFetched user info from https://www.freelancer.com/u/sritter09\nUsers fetched: 4319\nGetting profile information from https://www.freelancer.com/u/Dhineshvikram ...\nFetched user info from https://www.freelancer.com/u/Dhineshvikram\nUsers fetched: 4320\nGetting profile information from https://www.freelancer.com/u/SimplySulay ...\nFetched user info from https://www.freelancer.com/u/SimplySulay\nUsers fetched: 4321\nGetting profile information from https://www.freelancer.com/u/PROALLDAY ...\nFetched user info from https://www.freelancer.com/u/PROALLDAY\nUsers fetched: 4322\nGetting profile information from https://www.freelancer.com/u/lbullocksc ...\nFetched user info from https://www.freelancer.com/u/lbullocksc\nUsers fetched: 4323\nGetting profile information from https://www.freelancer.com/u/Brittanyolvera ...\nFetched user info from https://www.freelancer.com/u/Brittanyolvera\nUsers fetched: 4324\nGetting profile information from https://www.freelancer.com/u/d2diaz ...\nFetched user info from https://www.freelancer.com/u/d2diaz\nUsers fetched: 4325\nGetting profile information from https://www.freelancer.com/u/arreisoglu ...\nFetched user info from https://www.freelancer.com/u/arreisoglu\nUsers fetched: 4326\nGetting profile information from https://www.freelancer.com/u/marcarmo7 ...\nFetched user info from https://www.freelancer.com/u/marcarmo7\nUsers fetched: 4327\nGetting profile information from https://www.freelancer.com/u/AlcuinCrow ...\nFetched user info from https://www.freelancer.com/u/AlcuinCrow\nUsers fetched: 4328\nGetting profile information from https://www.freelancer.com/u/shawn6024 ...\nFetched user info from https://www.freelancer.com/u/shawn6024\nUsers fetched: 4329\nGetting profile information from https://www.freelancer.com/u/shultish1760 ...\nFetched user info from https://www.freelancer.com/u/shultish1760\nUsers fetched: 4330\nGetting profile information from https://www.freelancer.com/u/blackboxbusiness ...\nFetched user info from https://www.freelancer.com/u/blackboxbusiness\nUsers fetched: 4331\nGetting profile information from https://www.freelancer.com/u/quentinrivers11 ...\nFetched user info from https://www.freelancer.com/u/quentinrivers11\nUsers fetched: 4332\nGetting profile information from https://www.freelancer.com/u/melaniewest ...\nFetched user info from https://www.freelancer.com/u/melaniewest\nUsers fetched: 4333\nGetting profile information from https://www.freelancer.com/u/Sgriff08 ...\nFetched user info from https://www.freelancer.com/u/Sgriff08\nUsers fetched: 4334\nGetting profile information from https://www.freelancer.com/u/emadshoukri ...\nFetched user info from https://www.freelancer.com/u/emadshoukri\nUsers fetched: 4335\nGetting profile information from https://www.freelancer.com/u/Casandra0895 ...\nFetched user info from https://www.freelancer.com/u/Casandra0895\nUsers fetched: 4336\nGetting profile information from https://www.freelancer.com/u/AlexCapp74 ...\nFetched user info from https://www.freelancer.com/u/AlexCapp74\nUsers fetched: 4337\nGetting profile information from https://www.freelancer.com/u/TylerBurgess ...\nFetched user info from https://www.freelancer.com/u/TylerBurgess\nUsers fetched: 4338\nGetting profile information from https://www.freelancer.com/u/poojakarki244 ...\nFetched user info from https://www.freelancer.com/u/poojakarki244\nUsers fetched: 4339\nGetting profile information from https://www.freelancer.com/u/peternewman82 ...\nFetched user info from https://www.freelancer.com/u/peternewman82\nUsers fetched: 4340\nGetting profile information from https://www.freelancer.com/u/driverc7 ...\nFetched user info from https://www.freelancer.com/u/driverc7\nUsers fetched: 4341\nGetting profile information from https://www.freelancer.com/u/bpmac021 ...\nFetched user info from https://www.freelancer.com/u/bpmac021\nUsers fetched: 4342\nGetting profile information from https://www.freelancer.com/u/Parisw22 ...\nFetched user info from https://www.freelancer.com/u/Parisw22\nUsers fetched: 4343\nGetting profile information from https://www.freelancer.com/u/suriem ...\nFetched user info from https://www.freelancer.com/u/suriem\nUsers fetched: 4344\nGetting profile information from https://www.freelancer.com/u/eflynndrawnk ...\nFetched user info from https://www.freelancer.com/u/eflynndrawnk\nUsers fetched: 4345\nGetting profile information from https://www.freelancer.com/u/hladyk ...\nFetched user info from https://www.freelancer.com/u/hladyk\nUsers fetched: 4346\nGetting profile information from https://www.freelancer.com/u/salmansamana ...\nFetched user info from https://www.freelancer.com/u/salmansamana\nUsers fetched: 4347\nGetting profile information from https://www.freelancer.com/u/Lorenajuana19 ...\nFetched user info from https://www.freelancer.com/u/Lorenajuana19\nUsers fetched: 4348\nGetting profile information from https://www.freelancer.com/u/BrianStandridge ...\nFetched user info from https://www.freelancer.com/u/BrianStandridge\nUsers fetched: 4349\nGetting profile information from https://www.freelancer.com/u/dajahdlogan20 ...\nFetched user info from https://www.freelancer.com/u/dajahdlogan20\nUsers fetched: 4350\nGetting profile information from https://www.freelancer.com/u/sheilabrennan ...\nFetched user info from https://www.freelancer.com/u/sheilabrennan\nUsers fetched: 4351\nGetting profile information from https://www.freelancer.com/u/sakiajuhi487 ...\nFetched user info from https://www.freelancer.com/u/sakiajuhi487\nUsers fetched: 4352\nGetting profile information from https://www.freelancer.com/u/sebastian1914 ...\nFetched user info from https://www.freelancer.com/u/sebastian1914\nUsers fetched: 4353\nGetting profile information from https://www.freelancer.com/u/beautifulsoulo ...\nFetched user info from https://www.freelancer.com/u/beautifulsoulo\nUsers fetched: 4354\nGetting profile information from https://www.freelancer.com/u/marvelwingsdesig ...\nFetched user info from https://www.freelancer.com/u/marvelwingsdesig\nUsers fetched: 4355\nGetting profile information from https://www.freelancer.com/u/Winstonrw ...\nFetched user info from https://www.freelancer.com/u/Winstonrw\nUsers fetched: 4356\nGetting profile information from https://www.freelancer.com/u/Ron1590 ...\nFetched user info from https://www.freelancer.com/u/Ron1590\nUsers fetched: 4357\nGetting profile information from https://www.freelancer.com/u/rylierios ...\nFetched user info from https://www.freelancer.com/u/rylierios\nUsers fetched: 4358\nGetting profile information from https://www.freelancer.com/u/enirenberg ...\nFetched user info from https://www.freelancer.com/u/enirenberg\nUsers fetched: 4359\nGetting profile information from https://www.freelancer.com/u/ScottyWentling ...\nFetched user info from https://www.freelancer.com/u/ScottyWentling\nUsers fetched: 4360\nGetting profile information from https://www.freelancer.com/u/CindyBinh68 ...\nFetched user info from https://www.freelancer.com/u/CindyBinh68\nUsers fetched: 4361\nGetting profile information from https://www.freelancer.com/u/bfordbarry ...\nFetched user info from https://www.freelancer.com/u/bfordbarry\nUsers fetched: 4362\nGetting profile information from https://www.freelancer.com/u/youry1 ...\nFetched user info from https://www.freelancer.com/u/youry1\nUsers fetched: 4363\nGetting profile information from https://www.freelancer.com/u/lauriemcd ...\nFailed to fetch user profile: https://www.freelancer.com/u/lauriemcd\nMessage: session not created\nfrom timeout: Timed out receiving message from renderer: 600.000\n  (Session info: headless chrome=90.0.4430.212)\nStacktrace:\n#0 0x55813b54b7f9 <unknown>\n#1 0x55813b4eb3b3 <unknown>\n#2 0x55813b233016 <unknown>\n#3 0x55813b21dbd1 <unknown>\n#4 0x55813b21cae7 <unknown>\n#5 0x55813b21cf51 <unknown>\n#6 0x55813b21c4f2 <unknown>\n#7 0x55813b23072c <unknown>\n#8 0x55813b21c4a6 <unknown>\n#9 0x55813b21d727 <unknown>\n#10 0x55813b21cae7 <unknown>\n#11 0x55813b21cf51 <unknown>\n#12 0x55813b21c4f2 <unknown>\n#13 0x55813b2249b5 <unknown>\n#14 0x55813b224a1c <unknown>\n#15 0x55813b21c4a6 <unknown>\n#16 0x55813b21d727 <unknown>\n#17 0x55813b21cae7 <unknown>\n#18 0x55813b21cf51 <unknown>\n#19 0x55813b21c4f2 <unknown>\n#20 0x55813b227d2a <unknown>\n#21 0x55813b21c4a6 <unknown>\n#22 0x55813b21d727 <unknown>\n#23 0x55813b21cae7 <unknown>\n#24 0x55813b21cf51 <unknown>\n#25 0x55813b21c4f2 <unknown>\n#26 0x55813b2253a5 <unknown>\n#27 0x55813b21c4a6 <unknown>\n#28 0x55813b21d727 <unknown>\n#29 0x55813b21cae7 <unknown>\n#30 0x55813b21cf51 <unknown>\n#31 0x55813b21c4f2 <unknown>\n#32 0x55813b223ced <unknown>\n#33 0x55813b21c4a6 <unknown>\n#34 0x55813b21d727 <unknown>\n#35 0x55813b21cae7 <unknown>\n#36 0x55813b21cf51 <unknown>\n#37 0x55813b21c4f2 <unknown>\n#38 0x55813b216ee5 <unknown>\n#39 0x55813b21c4a6 <unknown>\n#40 0x55813b21c419 <unknown>\n#41 0x55813b21bf03 <unknown>\n#42 0x55813b234a33 <unknown>\n#43 0x55813b290eee <unknown>\n#44 0x55813b28ac93 <unknown>\n#45 0x55813b25cce4 <unknown>\n#46 0x55813b25e4d2 <unknown>\n#47 0x55813b517542 <unknown>\n#48 0x55813b526ce7 <unknown>\n#49 0x55813b5269e4 <unknown>\n#50 0x55813b52b13a <unknown>\n#51 0x55813b5275b9 <unknown>\n#52 0x55813b50ce00 <unknown>\n#53 0x55813b53e5d2 <unknown>\n#54 0x55813b53e778 <unknown>\n#55 0x55813b556a1f <unknown>\n#56 0x7feadfe2ffa3 start_thread\n#57 0x7feadee854cf clone\n\nUsers fetched: 4364\nGetting profile information from https://www.freelancer.com/u/joshuabrdei ...\nFetched user info from https://www.freelancer.com/u/joshuabrdei\nUsers fetched: 4365\nGetting profile information from https://www.freelancer.com/u/dhditz ...\nFetched user info from https://www.freelancer.com/u/dhditz\nUsers fetched: 4366\nGetting profile information from https://www.freelancer.com/u/jade35 ...\nFetched user info from https://www.freelancer.com/u/jade35\nUsers fetched: 4367\nGetting profile information from https://www.freelancer.com/u/joshuaguilbeau ...\nFetched user info from https://www.freelancer.com/u/joshuaguilbeau\nUsers fetched: 4368\nGetting profile information from https://www.freelancer.com/u/dwilli93 ...\nFetched user info from https://www.freelancer.com/u/dwilli93\nUsers fetched: 4369\nGetting profile information from https://www.freelancer.com/u/AlizaStudio ...\nFetched user info from https://www.freelancer.com/u/AlizaStudio\nUsers fetched: 4370\nGetting profile information from https://www.freelancer.com/u/petrasalam ...\nFetched user info from https://www.freelancer.com/u/petrasalam\nUsers fetched: 4371\nGetting profile information from https://www.freelancer.com/u/cndesigner ...\nFetched user info from https://www.freelancer.com/u/cndesigner\nUsers fetched: 4372\nGetting profile information from https://www.freelancer.com/u/fadisaleh ...\nFetched user info from https://www.freelancer.com/u/fadisaleh\nUsers fetched: 4373\nGetting profile information from https://www.freelancer.com/u/sara379 ...\nFetched user info from https://www.freelancer.com/u/sara379\nUsers fetched: 4374\nGetting profile information from https://www.freelancer.com/u/EdgyMemer ...\nFetched user info from https://www.freelancer.com/u/EdgyMemer\nUsers fetched: 4375\nGetting profile information from https://www.freelancer.com/u/thewebgurusllc ...\nFetched user info from https://www.freelancer.com/u/thewebgurusllc\nUsers fetched: 4376\nGetting profile information from https://www.freelancer.com/u/Anloaguer1 ...\nFetched user info from https://www.freelancer.com/u/Anloaguer1\nUsers fetched: 4377\nGetting profile information from https://www.freelancer.com/u/praveenpks ...\nFetched user info from https://www.freelancer.com/u/praveenpks\nUsers fetched: 4378\nGetting profile information from https://www.freelancer.com/u/RezaOnline ...\nFetched user info from https://www.freelancer.com/u/RezaOnline\nUsers fetched: 4379\nGetting profile information from https://www.freelancer.com/u/MasonVrana ...\nFetched user info from https://www.freelancer.com/u/MasonVrana\nUsers fetched: 4380\nGetting profile information from https://www.freelancer.com/u/MarcSchimizzi ...\nFetched user info from https://www.freelancer.com/u/MarcSchimizzi\nUsers fetched: 4381\nGetting profile information from https://www.freelancer.com/u/kantiray ...\nFetched user info from https://www.freelancer.com/u/kantiray\nUsers fetched: 4382\nGetting profile information from https://www.freelancer.com/u/LaceyWMcGhee ...\nFetched user info from https://www.freelancer.com/u/LaceyWMcGhee\nUsers fetched: 4383\nGetting profile information from https://www.freelancer.com/u/douxdolci ...\nFetched user info from https://www.freelancer.com/u/douxdolci\nUsers fetched: 4384\nGetting profile information from https://www.freelancer.com/u/renegademama ...\nFetched user info from https://www.freelancer.com/u/renegademama\nUsers fetched: 4385\nGetting profile information from https://www.freelancer.com/u/programind ...\nFetched user info from https://www.freelancer.com/u/programind\nUsers fetched: 4386\nGetting profile information from https://www.freelancer.com/u/amazon115 ...\nFetched user info from https://www.freelancer.com/u/amazon115\nUsers fetched: 4387\nGetting profile information from https://www.freelancer.com/u/cleveralgorithm ...\nFetched user info from https://www.freelancer.com/u/cleveralgorithm\nUsers fetched: 4388\nGetting profile information from https://www.freelancer.com/u/rmillien13 ...\nFetched user info from https://www.freelancer.com/u/rmillien13\nUsers fetched: 4389\nGetting profile information from https://www.freelancer.com/u/SRen16 ...\nFetched user info from https://www.freelancer.com/u/SRen16\nUsers fetched: 4390\nGetting profile information from https://www.freelancer.com/u/kyonitalbert23 ...\nFetched user info from https://www.freelancer.com/u/kyonitalbert23\nUsers fetched: 4391\nGetting profile information from https://www.freelancer.com/u/arta462 ...\nFetched user info from https://www.freelancer.com/u/arta462\nUsers fetched: 4392\nGetting profile information from https://www.freelancer.com/u/cagandesign ...\nFetched user info from https://www.freelancer.com/u/cagandesign\nUsers fetched: 4393\nGetting profile information from https://www.freelancer.com/u/Rycast ...\nFetched user info from https://www.freelancer.com/u/Rycast\nUsers fetched: 4394\nGetting profile information from https://www.freelancer.com/u/Jadylane ...\nFetched user info from https://www.freelancer.com/u/Jadylane\nUsers fetched: 4395\nGetting profile information from https://www.freelancer.com/u/saeedban09 ...\nFetched user info from https://www.freelancer.com/u/saeedban09\nUsers fetched: 4396\nGetting profile information from https://www.freelancer.com/u/bwright2020 ...\nFetched user info from https://www.freelancer.com/u/bwright2020\nUsers fetched: 4397\nGetting profile information from https://www.freelancer.com/u/Chuka7 ...\nFetched user info from https://www.freelancer.com/u/Chuka7\nUsers fetched: 4398\nGetting profile information from https://www.freelancer.com/u/rkucsbdev ...\nFetched user info from https://www.freelancer.com/u/rkucsbdev\nUsers fetched: 4399\nGetting profile information from https://www.freelancer.com/u/Vidien ...\nFetched user info from https://www.freelancer.com/u/Vidien\nUsers fetched: 4400\nGetting profile information from https://www.freelancer.com/u/ShadyZakhary ...\nFetched user info from https://www.freelancer.com/u/ShadyZakhary\nUsers fetched: 4401\nGetting profile information from https://www.freelancer.com/u/fcostagraphic ...\nFetched user info from https://www.freelancer.com/u/fcostagraphic\nUsers fetched: 4402\nGetting profile information from https://www.freelancer.com/u/Ryn77 ...\nFetched user info from https://www.freelancer.com/u/Ryn77\nUsers fetched: 4403\nGetting profile information from https://www.freelancer.com/u/Verogonz129 ...\nFetched user info from https://www.freelancer.com/u/Verogonz129\nUsers fetched: 4404\nGetting profile information from https://www.freelancer.com/u/truartist83 ...\nFetched user info from https://www.freelancer.com/u/truartist83\nUsers fetched: 4405\nGetting profile information from https://www.freelancer.com/u/KavanahCreative ...\nFetched user info from https://www.freelancer.com/u/KavanahCreative\nUsers fetched: 4406\nGetting profile information from https://www.freelancer.com/u/genesisbailey ...\nFetched user info from https://www.freelancer.com/u/genesisbailey\nUsers fetched: 4407\nGetting profile information from https://www.freelancer.com/u/issalouboutin ...\nFetched user info from https://www.freelancer.com/u/issalouboutin\nUsers fetched: 4408\nGetting profile information from https://www.freelancer.com/u/kwaldo ...\nFetched user info from https://www.freelancer.com/u/kwaldo\nUsers fetched: 4409\nGetting profile information from https://www.freelancer.com/u/ShanaHarford ...\nFetched user info from https://www.freelancer.com/u/ShanaHarford\nUsers fetched: 4410\nGetting profile information from https://www.freelancer.com/u/msalawy ...\nFetched user info from https://www.freelancer.com/u/msalawy\nUsers fetched: 4411\nGetting profile information from https://www.freelancer.com/u/Mannyisaac ...\nFetched user info from https://www.freelancer.com/u/Mannyisaac\nUsers fetched: 4412\nGetting profile information from https://www.freelancer.com/u/designingposts ...\nFetched user info from https://www.freelancer.com/u/designingposts\nUsers fetched: 4413\nGetting profile information from https://www.freelancer.com/u/Jhoney123 ...\nFetched user info from https://www.freelancer.com/u/Jhoney123\nUsers fetched: 4414\nGetting profile information from https://www.freelancer.com/u/yohijadedios ...\nFailed to fetch user profile: https://www.freelancer.com/u/yohijadedios\nMessage: session not created\nfrom timeout: Timed out receiving message from renderer: 600.000\n  (Session info: headless chrome=90.0.4430.212)\nStacktrace:\n#0 0x55ce1091f7f9 <unknown>\n#1 0x55ce108bf3b3 <unknown>\n#2 0x55ce10607016 <unknown>\n#3 0x55ce105f1bd1 <unknown>\n#4 0x55ce105f0ae7 <unknown>\n#5 0x55ce105f0f51 <unknown>\n#6 0x55ce105f04f2 <unknown>\n#7 0x55ce1060472c <unknown>\n#8 0x55ce105f04a6 <unknown>\n#9 0x55ce105f1727 <unknown>\n#10 0x55ce105f0ae7 <unknown>\n#11 0x55ce105f0f51 <unknown>\n#12 0x55ce105f04f2 <unknown>\n#13 0x55ce105f89b5 <unknown>\n#14 0x55ce105f8a1c <unknown>\n#15 0x55ce105f04a6 <unknown>\n#16 0x55ce105f1727 <unknown>\n#17 0x55ce105f0ae7 <unknown>\n#18 0x55ce105f0f51 <unknown>\n#19 0x55ce105f04f2 <unknown>\n#20 0x55ce105fbd2a <unknown>\n#21 0x55ce105f04a6 <unknown>\n#22 0x55ce105f1727 <unknown>\n#23 0x55ce105f0ae7 <unknown>\n#24 0x55ce105f0f51 <unknown>\n#25 0x55ce105f04f2 <unknown>\n#26 0x55ce105f93a5 <unknown>\n#27 0x55ce105f04a6 <unknown>\n#28 0x55ce105f1727 <unknown>\n#29 0x55ce105f0ae7 <unknown>\n#30 0x55ce105f0f51 <unknown>\n#31 0x55ce105f04f2 <unknown>\n#32 0x55ce105f7ced <unknown>\n#33 0x55ce105f04a6 <unknown>\n#34 0x55ce105f1727 <unknown>\n#35 0x55ce105f0ae7 <unknown>\n#36 0x55ce105f0f51 <unknown>\n#37 0x55ce105f04f2 <unknown>\n#38 0x55ce105eaee5 <unknown>\n#39 0x55ce105f04a6 <unknown>\n#40 0x55ce105f0419 <unknown>\n#41 0x55ce105eff03 <unknown>\n#42 0x55ce10608a33 <unknown>\n#43 0x55ce10664eee <unknown>\n#44 0x55ce1065ec93 <unknown>\n#45 0x55ce10630ce4 <unknown>\n#46 0x55ce106324d2 <unknown>\n#47 0x55ce108eb542 <unknown>\n#48 0x55ce108face7 <unknown>\n#49 0x55ce108fa9e4 <unknown>\n#50 0x55ce108ff13a <unknown>\n#51 0x55ce108fb5b9 <unknown>\n#52 0x55ce108e0e00 <unknown>\n#53 0x55ce109125d2 <unknown>\n#54 0x55ce10912778 <unknown>\n#55 0x55ce1092aa1f <unknown>\n#56 0x7fd98c3d4fa3 start_thread\n#57 0x7fd98b42a4cf clone\n\nUsers fetched: 4415\nGetting profile information from https://www.freelancer.com/u/prajwalkandel888 ...\nFetched user info from https://www.freelancer.com/u/prajwalkandel888\nUsers fetched: 4416\nGetting profile information from https://www.freelancer.com/u/IvanBerca ...\nFetched user info from https://www.freelancer.com/u/IvanBerca\nUsers fetched: 4417\nGetting profile information from https://www.freelancer.com/u/Jjklocker ...\nFetched user info from https://www.freelancer.com/u/Jjklocker\nUsers fetched: 4418\nGetting profile information from https://www.freelancer.com/u/farzad1357 ...\nFetched user info from https://www.freelancer.com/u/farzad1357\nUsers fetched: 4419\nGetting profile information from https://www.freelancer.com/u/navuabdul20 ...\nFetched user info from https://www.freelancer.com/u/navuabdul20\nUsers fetched: 4420\nGetting profile information from https://www.freelancer.com/u/weimtime04 ...\nFetched user info from https://www.freelancer.com/u/weimtime04\nUsers fetched: 4421\nGetting profile information from https://www.freelancer.com/u/CodyADesigns ...\nFetched user info from https://www.freelancer.com/u/CodyADesigns\nUsers fetched: 4422\nGetting profile information from https://www.freelancer.com/u/Alicemyint ...\nFetched user info from https://www.freelancer.com/u/Alicemyint\nUsers fetched: 4423\nGetting profile information from https://www.freelancer.com/u/lideishi ...\nFetched user info from https://www.freelancer.com/u/lideishi\nUsers fetched: 4424\nGetting profile information from https://www.freelancer.com/u/Julien2011 ...\nFetched user info from https://www.freelancer.com/u/Julien2011\nUsers fetched: 4425\nGetting profile information from https://www.freelancer.com/u/TaylorT493 ...\nFetched user info from https://www.freelancer.com/u/TaylorT493\nUsers fetched: 4426\nGetting profile information from https://www.freelancer.com/u/R2Me2 ...\nFetched user info from https://www.freelancer.com/u/R2Me2\nUsers fetched: 4427\nGetting profile information from https://www.freelancer.com/u/gsriggs93 ...\nFetched user info from https://www.freelancer.com/u/gsriggs93\nUsers fetched: 4428\nGetting profile information from https://www.freelancer.com/u/allreagray ...\nFetched user info from https://www.freelancer.com/u/allreagray\nUsers fetched: 4429\nGetting profile information from https://www.freelancer.com/u/arinashpin ...\nFetched user info from https://www.freelancer.com/u/arinashpin\nUsers fetched: 4430\nGetting profile information from https://www.freelancer.com/u/iqbalm11 ...\nFetched user info from https://www.freelancer.com/u/iqbalm11\nUsers fetched: 4431\nGetting profile information from https://www.freelancer.com/u/Jenniemorenz ...\nFetched user info from https://www.freelancer.com/u/Jenniemorenz\nUsers fetched: 4432\nGetting profile information from https://www.freelancer.com/u/Hans702 ...\nFetched user info from https://www.freelancer.com/u/Hans702\nUsers fetched: 4433\nGetting profile information from https://www.freelancer.com/u/kpearl56 ...\nFetched user info from https://www.freelancer.com/u/kpearl56\nUsers fetched: 4434\nGetting profile information from https://www.freelancer.com/u/LussetteCast ...\nFetched user info from https://www.freelancer.com/u/LussetteCast\nUsers fetched: 4435\nGetting profile information from https://www.freelancer.com/u/emilydewaard ...\nFetched user info from https://www.freelancer.com/u/emilydewaard\nUsers fetched: 4436\nGetting profile information from https://www.freelancer.com/u/ramirterrancew ...\nFetched user info from https://www.freelancer.com/u/ramirterrancew\nUsers fetched: 4437\nGetting profile information from https://www.freelancer.com/u/remiyahk ...\nFetched user info from https://www.freelancer.com/u/remiyahk\nUsers fetched: 4438\nGetting profile information from https://www.freelancer.com/u/dking82 ...\nFetched user info from https://www.freelancer.com/u/dking82\nUsers fetched: 4439\nGetting profile information from https://www.freelancer.com/u/robbie09 ...\nFetched user info from https://www.freelancer.com/u/robbie09\nUsers fetched: 4440\nGetting profile information from https://www.freelancer.com/u/SrCADDesigner ...\nFetched user info from https://www.freelancer.com/u/SrCADDesigner\nUsers fetched: 4441\nGetting profile information from https://www.freelancer.com/u/amotivatedmom ...\nFetched user info from https://www.freelancer.com/u/amotivatedmom\nUsers fetched: 4442\nGetting profile information from https://www.freelancer.com/u/jeffyas ...\nFetched user info from https://www.freelancer.com/u/jeffyas\nUsers fetched: 4443\nGetting profile information from https://www.freelancer.com/u/Scottcooper ...\nFetched user info from https://www.freelancer.com/u/Scottcooper\nUsers fetched: 4444\nGetting profile information from https://www.freelancer.com/u/kwmcgrego ...\nFetched user info from https://www.freelancer.com/u/kwmcgrego\nUsers fetched: 4445\nGetting profile information from https://www.freelancer.com/u/ArkadeDesign ...\nFetched user info from https://www.freelancer.com/u/ArkadeDesign\nUsers fetched: 4446\nGetting profile information from https://www.freelancer.com/u/artnayk ...\nFetched user info from https://www.freelancer.com/u/artnayk\nUsers fetched: 4447\nGetting profile information from https://www.freelancer.com/u/itskreestah ...\nFetched user info from https://www.freelancer.com/u/itskreestah\nUsers fetched: 4448\nGetting profile information from https://www.freelancer.com/u/zforeman ...\nFetched user info from https://www.freelancer.com/u/zforeman\nUsers fetched: 4449\nGetting profile information from https://www.freelancer.com/u/HexaJohn ...\nFetched user info from https://www.freelancer.com/u/HexaJohn\nUsers fetched: 4450\nGetting profile information from https://www.freelancer.com/u/afbarba66 ...\nFetched user info from https://www.freelancer.com/u/afbarba66\nUsers fetched: 4451\nGetting profile information from https://www.freelancer.com/u/nliberti ...\nFetched user info from https://www.freelancer.com/u/nliberti\nUsers fetched: 4452\nGetting profile information from https://www.freelancer.com/u/clemenscan ...\nFetched user info from https://www.freelancer.com/u/clemenscan\nUsers fetched: 4453\nGetting profile information from https://www.freelancer.com/u/cbrewer79 ...\nFetched user info from https://www.freelancer.com/u/cbrewer79\nUsers fetched: 4454\nGetting profile information from https://www.freelancer.com/u/thegride20134 ...\nFetched user info from https://www.freelancer.com/u/thegride20134\nUsers fetched: 4455\nGetting profile information from https://www.freelancer.com/u/abarnes0587 ...\nFetched user info from https://www.freelancer.com/u/abarnes0587\nUsers fetched: 4456\nGetting profile information from https://www.freelancer.com/u/housebryanward ...\nFetched user info from https://www.freelancer.com/u/housebryanward\nUsers fetched: 4457\nGetting profile information from https://www.freelancer.com/u/zskeet1500 ...\nFetched user info from https://www.freelancer.com/u/zskeet1500\nUsers fetched: 4458\nGetting profile information from https://www.freelancer.com/u/Xiaozhangzhang ...\nFetched user info from https://www.freelancer.com/u/Xiaozhangzhang\nUsers fetched: 4459\nGetting profile information from https://www.freelancer.com/u/clew44 ...\nFetched user info from https://www.freelancer.com/u/clew44\nUsers fetched: 4460\nGetting profile information from https://www.freelancer.com/u/samirken ...\nFetched user info from https://www.freelancer.com/u/samirken\nUsers fetched: 4461\nGetting profile information from https://www.freelancer.com/u/Sfurr ...\nFetched user info from https://www.freelancer.com/u/Sfurr\nUsers fetched: 4462\nGetting profile information from https://www.freelancer.com/u/msariiOfficial ...\nFetched user info from https://www.freelancer.com/u/msariiOfficial\nUsers fetched: 4463\nGetting profile information from https://www.freelancer.com/u/MRGRAPH003 ...\nFetched user info from https://www.freelancer.com/u/MRGRAPH003\nUsers fetched: 4464\nGetting profile information from https://www.freelancer.com/u/Observaexterba ...\nFetched user info from https://www.freelancer.com/u/Observaexterba\nUsers fetched: 4465\nGetting profile information from https://www.freelancer.com/u/jmwebtech ...\nFetched user info from https://www.freelancer.com/u/jmwebtech\nUsers fetched: 4466\nGetting profile information from https://www.freelancer.com/u/Artilhas ...\nFetched user info from https://www.freelancer.com/u/Artilhas\nUsers fetched: 4467\nGetting profile information from https://www.freelancer.com/u/Deontxy ...\nFetched user info from https://www.freelancer.com/u/Deontxy\nUsers fetched: 4468\nGetting profile information from https://www.freelancer.com/u/zaidalsayes ...\nFetched user info from https://www.freelancer.com/u/zaidalsayes\nUsers fetched: 4469\nGetting profile information from https://www.freelancer.com/u/jasonenglund ...\nFetched user info from https://www.freelancer.com/u/jasonenglund\nUsers fetched: 4470\nGetting profile information from https://www.freelancer.com/u/Ridafarhat5 ...\nFetched user info from https://www.freelancer.com/u/Ridafarhat5\nUsers fetched: 4471\nGetting profile information from https://www.freelancer.com/u/MarieHP ...\nFetched user info from https://www.freelancer.com/u/MarieHP\nUsers fetched: 4472\nGetting profile information from https://www.freelancer.com/u/mannyvanegas ...\nFetched user info from https://www.freelancer.com/u/mannyvanegas\nUsers fetched: 4473\nGetting profile information from https://www.freelancer.com/u/PhilFree3D ...\nFetched user info from https://www.freelancer.com/u/PhilFree3D\nUsers fetched: 4474\nGetting profile information from https://www.freelancer.com/u/juananddone ...\nFetched user info from https://www.freelancer.com/u/juananddone\nUsers fetched: 4475\nGetting profile information from https://www.freelancer.com/u/Shemaine146 ...\nFetched user info from https://www.freelancer.com/u/Shemaine146\nUsers fetched: 4476\nGetting profile information from https://www.freelancer.com/u/sheydar ...\nFetched user info from https://www.freelancer.com/u/sheydar\nUsers fetched: 4477\nGetting profile information from https://www.freelancer.com/u/vetddmig ...\nFetched user info from https://www.freelancer.com/u/vetddmig\nUsers fetched: 4478\nGetting profile information from https://www.freelancer.com/u/jeffhanley76 ...\nFetched user info from https://www.freelancer.com/u/jeffhanley76\nUsers fetched: 4479\nGetting profile information from https://www.freelancer.com/u/PoliArtDesignz ...\nFetched user info from https://www.freelancer.com/u/PoliArtDesignz\nUsers fetched: 4480\nGetting profile information from https://www.freelancer.com/u/Jeremy0472 ...\nFetched user info from https://www.freelancer.com/u/Jeremy0472\nUsers fetched: 4481\nGetting profile information from https://www.freelancer.com/u/SimplyDesigned ...\nFetched user info from https://www.freelancer.com/u/SimplyDesigned\nUsers fetched: 4482\nGetting profile information from https://www.freelancer.com/u/Veganbabe75 ...\nFetched user info from https://www.freelancer.com/u/Veganbabe75\nUsers fetched: 4483\nGetting profile information from https://www.freelancer.com/u/ptejedor ...\nFetched user info from https://www.freelancer.com/u/ptejedor\nUsers fetched: 4484\nGetting profile information from https://www.freelancer.com/u/brianbad93 ...\nFetched user info from https://www.freelancer.com/u/brianbad93\nUsers fetched: 4485\nGetting profile information from https://www.freelancer.com/u/debbietownsend ...\nFetched user info from https://www.freelancer.com/u/debbietownsend\nUsers fetched: 4486\nGetting profile information from https://www.freelancer.com/u/joshuagreenvw ...\nFetched user info from https://www.freelancer.com/u/joshuagreenvw\nUsers fetched: 4487\nGetting profile information from https://www.freelancer.com/u/sdavidowitzneu ...\nFetched user info from https://www.freelancer.com/u/sdavidowitzneu\nUsers fetched: 4488\nGetting profile information from https://www.freelancer.com/u/asheyeus ...\nFetched user info from https://www.freelancer.com/u/asheyeus\nUsers fetched: 4489\nGetting profile information from https://www.freelancer.com/u/SonnyWilliamsTV ...\nFetched user info from https://www.freelancer.com/u/SonnyWilliamsTV\nUsers fetched: 4490\nGetting profile information from https://www.freelancer.com/u/mpetty720 ...\nFetched user info from https://www.freelancer.com/u/mpetty720\nUsers fetched: 4491\nGetting profile information from https://www.freelancer.com/u/jessica1030 ...\nFetched user info from https://www.freelancer.com/u/jessica1030\nUsers fetched: 4492\nGetting profile information from https://www.freelancer.com/u/ajringer204 ...\nFetched user info from https://www.freelancer.com/u/ajringer204\nUsers fetched: 4493\nGetting profile information from https://www.freelancer.com/u/CreasiveDesigns1 ...\nFetched user info from https://www.freelancer.com/u/CreasiveDesigns1\nUsers fetched: 4494\nGetting profile information from https://www.freelancer.com/u/pamelajn ...\nFetched user info from https://www.freelancer.com/u/pamelajn\nUsers fetched: 4495\nGetting profile information from https://www.freelancer.com/u/FLGRAPHIX9 ...\nFetched user info from https://www.freelancer.com/u/FLGRAPHIX9\nUsers fetched: 4496\nGetting profile information from https://www.freelancer.com/u/theOrangePixel ...\nFetched user info from https://www.freelancer.com/u/theOrangePixel\nUsers fetched: 4497\nGetting profile information from https://www.freelancer.com/u/CFBTEL ...\nFetched user info from https://www.freelancer.com/u/CFBTEL\nUsers fetched: 4498\nGetting profile information from https://www.freelancer.com/u/Krithi100 ...\nFetched user info from https://www.freelancer.com/u/Krithi100\nUsers fetched: 4499\nGetting profile information from https://www.freelancer.com/u/Nestorovskab ...\nFetched user info from https://www.freelancer.com/u/Nestorovskab\nUsers fetched: 4500\nGetting profile information from https://www.freelancer.com/u/maitane ...\nFetched user info from https://www.freelancer.com/u/maitane\nUsers fetched: 4501\nGetting profile information from https://www.freelancer.com/u/daxcastro ...\nFetched user info from https://www.freelancer.com/u/daxcastro\nUsers fetched: 4502\nGetting profile information from https://www.freelancer.com/u/gpalma1 ...\nFetched user info from https://www.freelancer.com/u/gpalma1\nUsers fetched: 4503\nGetting profile information from https://www.freelancer.com/u/iamjohnwhite ...\nFetched user info from https://www.freelancer.com/u/iamjohnwhite\nUsers fetched: 4504\nGetting profile information from https://www.freelancer.com/u/MaryMelek ...\nFetched user info from https://www.freelancer.com/u/MaryMelek\nUsers fetched: 4505\nGetting profile information from https://www.freelancer.com/u/CrystalT83 ...\nFetched user info from https://www.freelancer.com/u/CrystalT83\nUsers fetched: 4506\nGetting profile information from https://www.freelancer.com/u/cpujolsart ...\nFetched user info from https://www.freelancer.com/u/cpujolsart\nUsers fetched: 4507\nGetting profile information from https://www.freelancer.com/u/Jansu2604 ...\nFetched user info from https://www.freelancer.com/u/Jansu2604\nUsers fetched: 4508\nGetting profile information from https://www.freelancer.com/u/aarondesigner30 ...\nFetched user info from https://www.freelancer.com/u/aarondesigner30\nUsers fetched: 4509\nGetting profile information from https://www.freelancer.com/u/ASnyder1233 ...\nFetched user info from https://www.freelancer.com/u/ASnyder1233\nUsers fetched: 4510\nGetting profile information from https://www.freelancer.com/u/SpeakEduReview ...\nFetched user info from https://www.freelancer.com/u/SpeakEduReview\nUsers fetched: 4511\nGetting profile information from https://www.freelancer.com/u/jplaiche ...\nFetched user info from https://www.freelancer.com/u/jplaiche\nUsers fetched: 4512\nGetting profile information from https://www.freelancer.com/u/terannovonsaker ...\nFetched user info from https://www.freelancer.com/u/terannovonsaker\nUsers fetched: 4513\nGetting profile information from https://www.freelancer.com/u/Paulann87 ...\nFetched user info from https://www.freelancer.com/u/Paulann87\nUsers fetched: 4514\nGetting profile information from https://www.freelancer.com/u/brianwandtke ...\nFetched user info from https://www.freelancer.com/u/brianwandtke\nUsers fetched: 4515\nGetting profile information from https://www.freelancer.com/u/dangraffgraphic1 ...\nFetched user info from https://www.freelancer.com/u/dangraffgraphic1\nUsers fetched: 4516\nGetting profile information from https://www.freelancer.com/u/Jbcampbell2019 ...\nFetched user info from https://www.freelancer.com/u/Jbcampbell2019\nUsers fetched: 4517\nGetting profile information from https://www.freelancer.com/u/nawonpark ...\nFetched user info from https://www.freelancer.com/u/nawonpark\nUsers fetched: 4518\nGetting profile information from https://www.freelancer.com/u/Serenityskye ...\nFetched user info from https://www.freelancer.com/u/Serenityskye\nUsers fetched: 4519\nGetting profile information from https://www.freelancer.com/u/LeBeauStudio ...\nFetched user info from https://www.freelancer.com/u/LeBeauStudio\nUsers fetched: 4520\nGetting profile information from https://www.freelancer.com/u/PrimoDesigns ...\nFetched user info from https://www.freelancer.com/u/PrimoDesigns\nUsers fetched: 4521\nGetting profile information from https://www.freelancer.com/u/avangion ...\nFetched user info from https://www.freelancer.com/u/avangion\nUsers fetched: 4522\nGetting profile information from https://www.freelancer.com/u/Mhardnett01 ...\nFetched user info from https://www.freelancer.com/u/Mhardnett01\nUsers fetched: 4523\nGetting profile information from https://www.freelancer.com/u/nipacreative ...\nFetched user info from https://www.freelancer.com/u/nipacreative\nUsers fetched: 4524\nGetting profile information from https://www.freelancer.com/u/aklangel998 ...\nFetched user info from https://www.freelancer.com/u/aklangel998\nUsers fetched: 4525\nGetting profile information from https://www.freelancer.com/u/pekavar ...\nFetched user info from https://www.freelancer.com/u/pekavar\nUsers fetched: 4526\nGetting profile information from https://www.freelancer.com/u/brooklynnsalo ...\nFetched user info from https://www.freelancer.com/u/brooklynnsalo\nUsers fetched: 4527\nGetting profile information from https://www.freelancer.com/u/nhobby ...\nFetched user info from https://www.freelancer.com/u/nhobby\nUsers fetched: 4528\nGetting profile information from https://www.freelancer.com/u/jessileonard ...\nFetched user info from https://www.freelancer.com/u/jessileonard\nUsers fetched: 4529\nGetting profile information from https://www.freelancer.com/u/TSWEnterprises ...\nFetched user info from https://www.freelancer.com/u/TSWEnterprises\nUsers fetched: 4530\nGetting profile information from https://www.freelancer.com/u/lianarivasdesign ...\nFetched user info from https://www.freelancer.com/u/lianarivasdesign\nUsers fetched: 4531\nGetting profile information from https://www.freelancer.com/u/kenishabowden17 ...\nFetched user info from https://www.freelancer.com/u/kenishabowden17\nUsers fetched: 4532\nGetting profile information from https://www.freelancer.com/u/KipSedillo ...\nFetched user info from https://www.freelancer.com/u/KipSedillo\nUsers fetched: 4533\nGetting profile information from https://www.freelancer.com/u/oneesmusasif ...\nFetched user info from https://www.freelancer.com/u/oneesmusasif\nUsers fetched: 4534\nGetting profile information from https://www.freelancer.com/u/originals2 ...\nFetched user info from https://www.freelancer.com/u/originals2\nUsers fetched: 4535\nGetting profile information from https://www.freelancer.com/u/AHMNco ...\nFetched user info from https://www.freelancer.com/u/AHMNco\nUsers fetched: 4536\nGetting profile information from https://www.freelancer.com/u/RussG11 ...\nFetched user info from https://www.freelancer.com/u/RussG11\nUsers fetched: 4537\nGetting profile information from https://www.freelancer.com/u/Djsruthi ...\nFetched user info from https://www.freelancer.com/u/Djsruthi\nUsers fetched: 4538\nGetting profile information from https://www.freelancer.com/u/BlakeKoch ...\nFetched user info from https://www.freelancer.com/u/BlakeKoch\nUsers fetched: 4539\nGetting profile information from https://www.freelancer.com/u/hudaansariconte1 ...\nFetched user info from https://www.freelancer.com/u/hudaansariconte1\nUsers fetched: 4540\nGetting profile information from https://www.freelancer.com/u/ay0xdee ...\nFetched user info from https://www.freelancer.com/u/ay0xdee\nUsers fetched: 4541\nGetting profile information from https://www.freelancer.com/u/yeltper ...\nFetched user info from https://www.freelancer.com/u/yeltper\nUsers fetched: 4542\nGetting profile information from https://www.freelancer.com/u/drjacknapier ...\nFetched user info from https://www.freelancer.com/u/drjacknapier\nUsers fetched: 4543\nGetting profile information from https://www.freelancer.com/u/jdbully3671 ...\nFetched user info from https://www.freelancer.com/u/jdbully3671\nUsers fetched: 4544\nGetting profile information from https://www.freelancer.com/u/jdran ...\nFetched user info from https://www.freelancer.com/u/jdran\nUsers fetched: 4545\nAll done!\n",
     "output_type": "stream"
    }
   ]
  },
  {
   "cell_type": "code",
   "metadata": {
    "deepnote_to_be_reexecuted": false,
    "execution_millis": 1304,
    "execution_start": 1647744427611,
    "source_hash": "4d444fc9",
    "cell_id": "00005-ffb99a23-8829-42f1-be58-9e4f2df03dc5",
    "deepnote_cell_type": "code",
    "deepnote_cell_height": 809
   },
   "source": "scraped_pd_df = scraper.get_pd_dataframe()\n\nprint(scraped_pd_df.head())\n\nscraped_pd_df_raw = scraper.get_raw_pd_dataframe()\n\nprint(scraped_pd_df_raw.head())",
   "execution_count": null,
   "outputs": [
    {
     "name": "stdout",
     "text": "  search_query        name                                 profile_link  \\\n0     designer    Milen S.  https://www.freelancer.com/u/MsCaddServices   \n1     designer   Jeremy C.         https://www.freelancer.com/u/Conescu   \n2     designer  Nichole W.       https://www.freelancer.com/u/NicholeMW   \n3     designer   Robert H.     https://www.freelancer.com/u/rhoenig1277   \n4     designer     Shea L.      https://www.freelancer.com/u/blaqsupply   \n\n                                             tagline  \\\n0              Designer with Wide BIM and CAD Skills   \n1                       Strategy and Creative Leader   \n2                                    www.nicalan.com   \n3  Web Developer, Designer, Wordpress, Graphic Ar...   \n4       Helping people establish an online presence.   \n\n                                    user_description  \\\n0  I am a building and interior designer with wid...   \n1  I am an award-winning designer with 30 years o...   \n2  I am a full service graphic designer with exte...   \n3  I'm a full stack web developer with experience...   \n4  From day one, I believe that I can begin makin...   \n\n                      location          join_date hourly_rate pay_grade  \\\n0       Edmonds, United States   October 16, 2020         $45       0.0   \n1        Orinda, United States   January 22, 2022         $90       0.0   \n2         Holly, United States   January 22, 2019         $25       4.0   \n3        Beloit, United States     April 27, 2010         $75       0.0   \n4  Cockeysville, United States  November 20, 2015         $25       0.0   \n\n  avg_rating  ... skill_sales_account_management skill_process_validation  \\\n0        0.0  ...                            NaN                      NaN   \n1        0.0  ...                            NaN                      NaN   \n2        5.0  ...                            NaN                      NaN   \n3        0.0  ...                            NaN                      NaN   \n4        0.0  ...                            NaN                      NaN   \n\n  skill_supply_chain skill_technical_recruiter skill_sourcing  \\\n0                NaN                       NaN            NaN   \n1                NaN                       NaN            NaN   \n2                NaN                       NaN            NaN   \n3                NaN                       NaN            NaN   \n4                NaN                       NaN            NaN   \n\n  skill_investment_management  skill_chemistry_tutoring  \\\n0                         NaN                       NaN   \n1                         NaN                       NaN   \n2                         NaN                       NaN   \n3                         NaN                       NaN   \n4                         NaN                       NaN   \n\n   skill_career_consulting  skill_development_assessment  skill_learndash  \n0                      NaN                           NaN              NaN  \n1                      NaN                           NaN              NaN  \n2                      NaN                           NaN              NaN  \n3                      NaN                           NaN              NaN  \n4                      NaN                           NaN              NaN  \n\n[5 rows x 1709 columns]\n  search_query        name                                 profile_link  \\\n0     designer    Milen S.  https://www.freelancer.com/u/MsCaddServices   \n1     designer   Jeremy C.         https://www.freelancer.com/u/Conescu   \n2     designer  Nichole W.       https://www.freelancer.com/u/NicholeMW   \n3     designer   Robert H.     https://www.freelancer.com/u/rhoenig1277   \n4     designer     Shea L.      https://www.freelancer.com/u/blaqsupply   \n\n   freelancer_badges                                      verifications  \\\n0                 []  [(Preferred Freelancer, False), (Identity Veri...   \n1  [plus-membership]  [(Preferred Freelancer, False), (Identity Veri...   \n2                 []  [(Preferred Freelancer, False), (Identity Veri...   \n3                 []  [(Preferred Freelancer, False), (Identity Veri...   \n4                 []  [(Preferred Freelancer, False), (Identity Veri...   \n\n                                             tagline  \\\n0              Designer with Wide BIM and CAD Skills   \n1                       Strategy and Creative Leader   \n2                                    www.nicalan.com   \n3  Web Developer, Designer, Wordpress, Graphic Ar...   \n4       Helping people establish an online presence.   \n\n                                    user_description  \\\n0  I am a building and interior designer with wid...   \n1  I am an award-winning designer with 30 years o...   \n2  I am a full service graphic designer with exte...   \n3  I'm a full stack web developer with experience...   \n4  From day one, I believe that I can begin makin...   \n\n                   certifications  \\\n0                              []   \n1           [(US English 1, 90%)]   \n2           [(US English 1, 97%)]   \n3  [(Foundation vWorker Member,)]   \n4                              []   \n\n                                          top_skills  \\\n0  [(Engineering, 0), (Building Architecture, 0),...   \n1  [(Website Design, 0), (Graphic Design, 0), (Lo...   \n2  [(Graphic Design, 1), (Banner Design, 1), (Pho...   \n3  [(PHP, 0), (ASP, 0), (JavaScript, 0), (.NET, 0...   \n4  [(Adobe Flash, 0), (Graphic Design, 0), (Inter...   \n\n                      location          join_date hourly_rate pay_grade  \\\n0       Edmonds, United States   October 16, 2020         $45       0.0   \n1        Orinda, United States   January 22, 2022         $90       0.0   \n2         Holly, United States   January 22, 2019         $25       4.0   \n3        Beloit, United States     April 27, 2010         $75       0.0   \n4  Cockeysville, United States  November 20, 2015         $25       0.0   \n\n  avg_rating num_reviews num_recommendations pct_jobs_completed pct_on_budget  \\\n0        0.0           0                   0                N/A           N/A   \n1        0.0           0                   0                N/A           N/A   \n2        5.0           2                   0                100           100   \n3        0.0           0                   0                N/A           N/A   \n4        0.0           0                   0                N/A           N/A   \n\n  pct_on_time repeat_hire_rate  \n0         N/A              N/A  \n1         N/A              N/A  \n2         100              N/A  \n3         N/A              N/A  \n4         N/A              N/A  \n",
     "output_type": "stream"
    }
   ]
  },
  {
   "cell_type": "code",
   "metadata": {
    "deepnote_to_be_reexecuted": false,
    "execution_millis": 2031,
    "execution_start": 1647744442973,
    "source_hash": "8a761bbb",
    "cell_id": "00006-82c59ab8-fead-49d5-91e9-2b8732b257b1",
    "deepnote_cell_type": "code",
    "deepnote_cell_height": 99
   },
   "source": "scraped_pd_df.to_csv(f'{\"_\".join(scraper.search.split(\" \"))}.csv',index=False)\nscraped_pd_df_raw.to_csv(f'{\"_\".join(scraper.search.split(\" \"))}_raw.csv',index=False)",
   "execution_count": null,
   "outputs": []
  },
  {
   "cell_type": "code",
   "metadata": {
    "cell_id": "e0525eea-9c27-4666-a4f6-6773d469ae24",
    "tags": [],
    "deepnote_to_be_reexecuted": false,
    "source_hash": "8aa27923",
    "execution_start": 1647468322845,
    "execution_millis": 34,
    "deepnote_cell_type": "code",
    "deepnote_cell_height": 81
   },
   "source": "",
   "execution_count": null,
   "outputs": []
  },
  {
   "cell_type": "markdown",
   "source": "## Quick test runs on a profiles",
   "metadata": {
    "cell_id": "fbcc56f2-bdd2-4d04-bad0-f08926694819",
    "tags": [],
    "deepnote_cell_type": "markdown",
    "deepnote_cell_height": 70
   }
  },
  {
   "cell_type": "markdown",
   "source": "### a. User with badges & certifications",
   "metadata": {
    "cell_id": "942eac97-592e-491a-b4d5-512567182e69",
    "tags": [],
    "deepnote_cell_type": "markdown",
    "deepnote_cell_height": 62
   }
  },
  {
   "cell_type": "code",
   "metadata": {
    "cell_id": "00003-1cd899a1-57ed-4c82-ad48-d553553ba967",
    "deepnote_to_be_reexecuted": false,
    "source_hash": "bd8495bb",
    "execution_start": 1647449268667,
    "execution_millis": 10983,
    "deepnote_cell_type": "code",
    "deepnote_cell_height": 804.375,
    "deepnote_output_heights": [
     null,
     606.1875
    ]
   },
   "source": "scraper = FreelancerScraper(search=\"designer\", max_rows=5000)\nscraper.get_user_profile_info('https://www.freelancer.com/u/TatianaLLL')\nscraper.users_info",
   "execution_count": null,
   "outputs": [
    {
     "name": "stdout",
     "text": "Getting profile information from https://www.freelancer.com/u/TatianaLLL ...\nFetched user info from https://www.freelancer.com/u/TatianaLLL\n",
     "output_type": "stream"
    },
    {
     "output_type": "execute_result",
     "execution_count": 16,
     "data": {
      "text/plain": "[{'search_query': 'designer',\n  'name': 'Tatiana L.',\n  'profile_link': 'https://www.freelancer.com/u/TatianaLLL',\n  'freelancer_badges': ['plus-membership', 'preferred-freelancer', 'verified'],\n  'verifications': [('Preferred Freelancer', True),\n   ('Identity Verified', True),\n   ('Payment Verified', True),\n   ('Phone Verified', True),\n   ('Email Verified', True),\n   ('Facebook Connected', True)],\n  'tagline': 'US Taxes, Bookkeeping, IRS Tax Debt Resolution.',\n  'user_description': \"Hello, my name is Tatiana Loughman & I'm:\\n - an Enrolled Agent,\\n - Chartered Economist, \\n - QBO ProAdvisor,\\n- Authorized E-File Provider.\\n\\nI'm enrolled to practice before The IRS.\\nI have 10+ years of experience. \\nI have many satisfied clients.\\nI'm very diligent & dedicated to each client.\\nI have a Masters in Economics, majoring in Accounting & Auditing;\\n Bachelors in Criminal Justice;\\n variety of certificates.\\n\\nI offer IRS Representation:\\n- Offer in Compromise,\\n- Penalties Abatement,\\n- IRS Communication,\\n- Filing Never-filed Returns,\\n- Other IRS Issue Resolutions\\n\\nBookkeeping:\\n- Accounting, \\n- Payroll, \\n- Errors Corrections, \\n- Adjusting Entries,\\n- Documents Storing Organizing,\\n- Quickbooks, Manager\\n- Reconciliations\\n\\nTax:\\n- Tax Returns Preparations, \\n- Individual,\\n- Business\\n\\nFinding Errors:\\n- Comparison of Your Business Ratios to the Industry Average, \\n- Business Risks Mitigations\\n\\nReferences to FASB, IRC, etc\\n________________________________________\\nDon’t let the IRS take advantage of your hard-earned money. Review your US tax returns with a tax professional.\\n\\nSome people think that not opening a letter from the IRS somehow magically constitutes not receiving the letter. IRS letters don’t work like that. Once it is in your mailbox, it is being mailed by the IRS. \\nWhat to do when you received a letter from the IRS? You have options: taking care of it on your own (if you are a tax lawyer, an enrolled agent, or a CPA). Another option is to contact an enrolled agent that may save you money on the services provided and take care of your IRS problems on the IRS level (just like a CPA or a tax lawyer represent you on the IRS level). Enrolled agents are licensed to represent taxpayers before the IRS. “Tax lawyer near me” google search will take you to agencies that employ a tax lawyer, a CPA, and an enrolled agent. Tax lawyers can also represent you in tax court. A CPA or an enrolled agent can’t represent you in tax court. Most tax problem cases get resolved on the IRS level and never reach the tax court anyway.\",\n  'certifications': [('US English 1', '92%'),\n   ('Preferred Freelancer Program SLA 1', '89%'),\n   ('Accounting Principles 1', '77%'),\n   ('Basic Numeracy 1', '77%')],\n  'top_skills': [('Accounting', 29),\n   ('Intuit QuickBooks', 27),\n   ('Finance', 24),\n   ('Payroll', 22),\n   ('Bookkeeping', 20),\n   ('Tax', 5),\n   ('Research Writing', 3),\n   ('Tax Law', 3),\n   ('Article Writing', 1),\n   ('Business Analysis', 1),\n   ('Bank Reconciliation', 1),\n   ('Abatement', 1),\n   ('Annual Report Design', 1),\n   ('Research', 0),\n   ('Report Writing', 0),\n   ('Inventory Management', 0),\n   ('English (US) Translator', 0),\n   ('Startups', 0),\n   ('Financial Planning', 0),\n   ('Employment Tax', 0),\n   ('Personal Tax', 0),\n   ('Tax Compliance', 0),\n   ('Tax Compliance and Outsourcing', 0),\n   ('Tax Management Consulting', 0),\n   ('Tax Reporting', 0),\n   ('Corporate Transactions', 0),\n   ('Local Job', 0),\n   ('Workday Financials', 0),\n   ('Corporate Income Tax', 0),\n   ('Personal Income Tax', 0),\n   ('Tax Accounting', 0),\n   ('US Taxation', 0),\n   ('Startup Consulting', 0),\n   ('Tax Preparation', 0),\n   ('Workday Compensation', 0),\n   ('Workday Payroll', 0)],\n  'location': 'Heath, United States',\n  'join_date': 'October 27, 2017',\n  'hourly_rate': '$99',\n  'pay_grade': '5.7',\n  'avg_rating': '5.0',\n  'num_reviews': '28',\n  'num_recommendations': '3',\n  'pct_jobs_completed': '100',\n  'pct_on_budget': '100',\n  'pct_on_time': '95',\n  'repeat_hire_rate': '20'}]"
     },
     "metadata": {}
    }
   ]
  },
  {
   "cell_type": "code",
   "metadata": {
    "cell_id": "7ee0d430-866d-44b8-9bed-e305bab2c5c7",
    "tags": [],
    "deepnote_to_be_reexecuted": false,
    "source_hash": "2392b86e",
    "execution_start": 1647449304982,
    "execution_millis": 146,
    "deepnote_cell_type": "code",
    "deepnote_cell_height": 263.796875
   },
   "source": "processed_df_test = scraper.get_pd_dataframe()\nprocessed_df_test",
   "execution_count": null,
   "outputs": [
    {
     "output_type": "execute_result",
     "execution_count": 17,
     "data": {
      "application/vnd.deepnote.dataframe.v3+json": {
       "column_count": 65,
       "row_count": 1,
       "columns": [
        {
         "name": "search_query",
         "dtype": "object",
         "stats": {
          "unique_count": 1,
          "nan_count": 0,
          "categories": [
           {
            "name": "designer",
            "count": 1
           }
          ]
         }
        },
        {
         "name": "name",
         "dtype": "object",
         "stats": {
          "unique_count": 1,
          "nan_count": 0,
          "categories": [
           {
            "name": "Tatiana L.",
            "count": 1
           }
          ]
         }
        },
        {
         "name": "profile_link",
         "dtype": "object",
         "stats": {
          "unique_count": 1,
          "nan_count": 0,
          "categories": [
           {
            "name": "https://www.freelancer.com/u/TatianaLLL",
            "count": 1
           }
          ]
         }
        },
        {
         "name": "tagline",
         "dtype": "object",
         "stats": {
          "unique_count": 1,
          "nan_count": 0,
          "categories": [
           {
            "name": "US Taxes, Bookkeeping, IRS Tax Debt Resolution.",
            "count": 1
           }
          ]
         }
        },
        {
         "name": "user_description",
         "dtype": "object",
         "stats": {
          "unique_count": 1,
          "nan_count": 0,
          "categories": [
           {
            "name": "Hello, my name is Tatiana Loughman & I'm:\n - an Enrolled Agent,\n - Chartered Economist, \n - QBO ProAdvisor,\n- Authorized E-File Provider.\n\nI'm enrolled to practice before The IRS.\nI have 10+ years of experience. \nI have many satisfied clients.\nI'm very diligent & dedicated to each client.\nI have a Masters in Economics, majoring in Accounting & Auditing;\n Bachelors in Criminal Justice;\n variety of certificates.\n\nI offer IRS Representation:\n- Offer in Compromise,\n- Penalties Abatement,\n- IRS Communication,\n- Filing Never-filed Returns,\n- Other IRS Issue Resolutions\n\nBookkeeping:\n- Accounting, \n- Payroll, \n- Errors Corrections, \n- Adjusting Entries,\n- Documents Storing Organizing,\n- Quickbooks, Manager\n- Reconciliations\n\nTax:\n- Tax Returns Preparations, \n- Individual,\n- Business\n\nFinding Errors:\n- Comparison of Your Business Ratios to the Industry Average, \n- Business Risks Mitigations\n\nReferences to FASB, IRC, etc\n________________________________________\nDon’t let the IRS take advantage of your hard-earned money. Review your US tax returns with a tax professional.\n\nSome people think that not opening a letter from the IRS somehow magically constitutes not receiving the letter. IRS letters don’t work like that. Once it is in your mailbox, it is being mailed by the IRS. \nWhat to do when you received a letter from the IRS? You have options: taking care of it on your own (if you are a tax lawyer, an enrolled agent, or a CPA). Another option is to contact an enrolled agent that may save you money on the services provided and take care of your IRS problems on the IRS level (just like a CPA or a tax lawyer represent you on the IRS level). Enrolled agents are licensed to represent taxpayers before the IRS. “Tax lawyer near me” google search will take you to agencies that employ a tax lawyer, a CPA, and an enrolled agent. Tax lawyers can also represent you in tax court. A CPA or an enrolled agent can’t represent you in tax court. Most tax problem cases get resolved on the IRS level and never reach the tax court anyway.",
            "count": 1
           }
          ]
         }
        },
        {
         "name": "location",
         "dtype": "object",
         "stats": {
          "unique_count": 1,
          "nan_count": 0,
          "categories": [
           {
            "name": "Heath, United States",
            "count": 1
           }
          ]
         }
        },
        {
         "name": "join_date",
         "dtype": "object",
         "stats": {
          "unique_count": 1,
          "nan_count": 0,
          "categories": [
           {
            "name": "October 27, 2017",
            "count": 1
           }
          ]
         }
        },
        {
         "name": "hourly_rate",
         "dtype": "object",
         "stats": {
          "unique_count": 1,
          "nan_count": 0,
          "categories": [
           {
            "name": "$99",
            "count": 1
           }
          ]
         }
        },
        {
         "name": "pay_grade",
         "dtype": "object",
         "stats": {
          "unique_count": 1,
          "nan_count": 0,
          "categories": [
           {
            "name": "5.7",
            "count": 1
           }
          ]
         }
        },
        {
         "name": "avg_rating",
         "dtype": "object",
         "stats": {
          "unique_count": 1,
          "nan_count": 0,
          "categories": [
           {
            "name": "5.0",
            "count": 1
           }
          ]
         }
        },
        {
         "name": "num_reviews",
         "dtype": "object",
         "stats": {
          "unique_count": 1,
          "nan_count": 0,
          "categories": [
           {
            "name": "28",
            "count": 1
           }
          ]
         }
        },
        {
         "name": "num_recommendations",
         "dtype": "object",
         "stats": {
          "unique_count": 1,
          "nan_count": 0,
          "categories": [
           {
            "name": "3",
            "count": 1
           }
          ]
         }
        },
        {
         "name": "pct_jobs_completed",
         "dtype": "object",
         "stats": {
          "unique_count": 1,
          "nan_count": 0,
          "categories": [
           {
            "name": "100",
            "count": 1
           }
          ]
         }
        },
        {
         "name": "pct_on_budget",
         "dtype": "object",
         "stats": {
          "unique_count": 1,
          "nan_count": 0,
          "categories": [
           {
            "name": "100",
            "count": 1
           }
          ]
         }
        },
        {
         "name": "pct_on_time",
         "dtype": "object",
         "stats": {
          "unique_count": 1,
          "nan_count": 0,
          "categories": [
           {
            "name": "95",
            "count": 1
           }
          ]
         }
        },
        {
         "name": "repeat_hire_rate",
         "dtype": "object",
         "stats": {
          "unique_count": 1,
          "nan_count": 0,
          "categories": [
           {
            "name": "20",
            "count": 1
           }
          ]
         }
        },
        {
         "name": "certifications_us_english_1",
         "dtype": "object",
         "stats": {
          "unique_count": 1,
          "nan_count": 0,
          "categories": [
           {
            "name": "92%",
            "count": 1
           }
          ]
         }
        },
        {
         "name": "certifications_preferred_freelancer_program_sla_1",
         "dtype": "object",
         "stats": {
          "unique_count": 1,
          "nan_count": 0,
          "categories": [
           {
            "name": "89%",
            "count": 1
           }
          ]
         }
        },
        {
         "name": "certifications_accounting_principles_1",
         "dtype": "object",
         "stats": {
          "unique_count": 1,
          "nan_count": 0,
          "categories": [
           {
            "name": "77%",
            "count": 1
           }
          ]
         }
        },
        {
         "name": "certifications_basic_numeracy_1",
         "dtype": "object",
         "stats": {
          "unique_count": 1,
          "nan_count": 0,
          "categories": [
           {
            "name": "77%",
            "count": 1
           }
          ]
         }
        },
        {
         "name": "verification_preferred_freelancer",
         "dtype": "bool",
         "stats": {
          "unique_count": 1,
          "nan_count": 0,
          "categories": [
           {
            "name": "True",
            "count": 1
           }
          ]
         }
        },
        {
         "name": "verification_identity_verified",
         "dtype": "bool",
         "stats": {
          "unique_count": 1,
          "nan_count": 0,
          "categories": [
           {
            "name": "True",
            "count": 1
           }
          ]
         }
        },
        {
         "name": "verification_payment_verified",
         "dtype": "bool",
         "stats": {
          "unique_count": 1,
          "nan_count": 0,
          "categories": [
           {
            "name": "True",
            "count": 1
           }
          ]
         }
        },
        {
         "name": "verification_phone_verified",
         "dtype": "bool",
         "stats": {
          "unique_count": 1,
          "nan_count": 0,
          "categories": [
           {
            "name": "True",
            "count": 1
           }
          ]
         }
        },
        {
         "name": "verification_email_verified",
         "dtype": "bool",
         "stats": {
          "unique_count": 1,
          "nan_count": 0,
          "categories": [
           {
            "name": "True",
            "count": 1
           }
          ]
         }
        },
        {
         "name": "verification_facebook_connected",
         "dtype": "bool",
         "stats": {
          "unique_count": 1,
          "nan_count": 0,
          "categories": [
           {
            "name": "True",
            "count": 1
           }
          ]
         }
        },
        {
         "name": "skill_accounting",
         "dtype": "int64",
         "stats": {
          "unique_count": 1,
          "nan_count": 0,
          "min": "29",
          "max": "29",
          "histogram": [
           {
            "bin_start": 28.5,
            "bin_end": 28.6,
            "count": 0
           },
           {
            "bin_start": 28.6,
            "bin_end": 28.7,
            "count": 0
           },
           {
            "bin_start": 28.7,
            "bin_end": 28.8,
            "count": 0
           },
           {
            "bin_start": 28.8,
            "bin_end": 28.9,
            "count": 0
           },
           {
            "bin_start": 28.9,
            "bin_end": 29,
            "count": 0
           },
           {
            "bin_start": 29,
            "bin_end": 29.1,
            "count": 1
           },
           {
            "bin_start": 29.1,
            "bin_end": 29.2,
            "count": 0
           },
           {
            "bin_start": 29.2,
            "bin_end": 29.3,
            "count": 0
           },
           {
            "bin_start": 29.3,
            "bin_end": 29.4,
            "count": 0
           },
           {
            "bin_start": 29.4,
            "bin_end": 29.5,
            "count": 0
           }
          ]
         }
        },
        {
         "name": "skill_intuit_quickbooks",
         "dtype": "int64",
         "stats": {
          "unique_count": 1,
          "nan_count": 0,
          "min": "27",
          "max": "27",
          "histogram": [
           {
            "bin_start": 26.5,
            "bin_end": 26.6,
            "count": 0
           },
           {
            "bin_start": 26.6,
            "bin_end": 26.7,
            "count": 0
           },
           {
            "bin_start": 26.7,
            "bin_end": 26.8,
            "count": 0
           },
           {
            "bin_start": 26.8,
            "bin_end": 26.9,
            "count": 0
           },
           {
            "bin_start": 26.9,
            "bin_end": 27,
            "count": 0
           },
           {
            "bin_start": 27,
            "bin_end": 27.1,
            "count": 1
           },
           {
            "bin_start": 27.1,
            "bin_end": 27.2,
            "count": 0
           },
           {
            "bin_start": 27.2,
            "bin_end": 27.3,
            "count": 0
           },
           {
            "bin_start": 27.3,
            "bin_end": 27.4,
            "count": 0
           },
           {
            "bin_start": 27.4,
            "bin_end": 27.5,
            "count": 0
           }
          ]
         }
        },
        {
         "name": "skill_finance",
         "dtype": "int64",
         "stats": {
          "unique_count": 1,
          "nan_count": 0,
          "min": "24",
          "max": "24",
          "histogram": [
           {
            "bin_start": 23.5,
            "bin_end": 23.6,
            "count": 0
           },
           {
            "bin_start": 23.6,
            "bin_end": 23.7,
            "count": 0
           },
           {
            "bin_start": 23.7,
            "bin_end": 23.8,
            "count": 0
           },
           {
            "bin_start": 23.8,
            "bin_end": 23.9,
            "count": 0
           },
           {
            "bin_start": 23.9,
            "bin_end": 24,
            "count": 0
           },
           {
            "bin_start": 24,
            "bin_end": 24.1,
            "count": 1
           },
           {
            "bin_start": 24.1,
            "bin_end": 24.2,
            "count": 0
           },
           {
            "bin_start": 24.2,
            "bin_end": 24.3,
            "count": 0
           },
           {
            "bin_start": 24.3,
            "bin_end": 24.4,
            "count": 0
           },
           {
            "bin_start": 24.4,
            "bin_end": 24.5,
            "count": 0
           }
          ]
         }
        },
        {
         "name": "skill_payroll",
         "dtype": "int64",
         "stats": {
          "unique_count": 1,
          "nan_count": 0,
          "min": "22",
          "max": "22",
          "histogram": [
           {
            "bin_start": 21.5,
            "bin_end": 21.6,
            "count": 0
           },
           {
            "bin_start": 21.6,
            "bin_end": 21.7,
            "count": 0
           },
           {
            "bin_start": 21.7,
            "bin_end": 21.8,
            "count": 0
           },
           {
            "bin_start": 21.8,
            "bin_end": 21.9,
            "count": 0
           },
           {
            "bin_start": 21.9,
            "bin_end": 22,
            "count": 0
           },
           {
            "bin_start": 22,
            "bin_end": 22.1,
            "count": 1
           },
           {
            "bin_start": 22.1,
            "bin_end": 22.2,
            "count": 0
           },
           {
            "bin_start": 22.2,
            "bin_end": 22.3,
            "count": 0
           },
           {
            "bin_start": 22.3,
            "bin_end": 22.4,
            "count": 0
           },
           {
            "bin_start": 22.4,
            "bin_end": 22.5,
            "count": 0
           }
          ]
         }
        },
        {
         "name": "skill_bookkeeping",
         "dtype": "int64",
         "stats": {
          "unique_count": 1,
          "nan_count": 0,
          "min": "20",
          "max": "20",
          "histogram": [
           {
            "bin_start": 19.5,
            "bin_end": 19.6,
            "count": 0
           },
           {
            "bin_start": 19.6,
            "bin_end": 19.7,
            "count": 0
           },
           {
            "bin_start": 19.7,
            "bin_end": 19.8,
            "count": 0
           },
           {
            "bin_start": 19.8,
            "bin_end": 19.9,
            "count": 0
           },
           {
            "bin_start": 19.9,
            "bin_end": 20,
            "count": 0
           },
           {
            "bin_start": 20,
            "bin_end": 20.1,
            "count": 1
           },
           {
            "bin_start": 20.1,
            "bin_end": 20.2,
            "count": 0
           },
           {
            "bin_start": 20.2,
            "bin_end": 20.3,
            "count": 0
           },
           {
            "bin_start": 20.3,
            "bin_end": 20.4,
            "count": 0
           },
           {
            "bin_start": 20.4,
            "bin_end": 20.5,
            "count": 0
           }
          ]
         }
        },
        {
         "name": "skill_tax",
         "dtype": "int64",
         "stats": {
          "unique_count": 1,
          "nan_count": 0,
          "min": "5",
          "max": "5",
          "histogram": [
           {
            "bin_start": 4.5,
            "bin_end": 4.6,
            "count": 0
           },
           {
            "bin_start": 4.6,
            "bin_end": 4.7,
            "count": 0
           },
           {
            "bin_start": 4.7,
            "bin_end": 4.8,
            "count": 0
           },
           {
            "bin_start": 4.8,
            "bin_end": 4.9,
            "count": 0
           },
           {
            "bin_start": 4.9,
            "bin_end": 5,
            "count": 0
           },
           {
            "bin_start": 5,
            "bin_end": 5.1,
            "count": 1
           },
           {
            "bin_start": 5.1,
            "bin_end": 5.2,
            "count": 0
           },
           {
            "bin_start": 5.2,
            "bin_end": 5.3,
            "count": 0
           },
           {
            "bin_start": 5.3,
            "bin_end": 5.4,
            "count": 0
           },
           {
            "bin_start": 5.4,
            "bin_end": 5.5,
            "count": 0
           }
          ]
         }
        },
        {
         "name": "skill_research_writing",
         "dtype": "int64",
         "stats": {
          "unique_count": 1,
          "nan_count": 0,
          "min": "3",
          "max": "3",
          "histogram": [
           {
            "bin_start": 2.5,
            "bin_end": 2.6,
            "count": 0
           },
           {
            "bin_start": 2.6,
            "bin_end": 2.7,
            "count": 0
           },
           {
            "bin_start": 2.7,
            "bin_end": 2.8,
            "count": 0
           },
           {
            "bin_start": 2.8,
            "bin_end": 2.9,
            "count": 0
           },
           {
            "bin_start": 2.9,
            "bin_end": 3,
            "count": 0
           },
           {
            "bin_start": 3,
            "bin_end": 3.1,
            "count": 1
           },
           {
            "bin_start": 3.1,
            "bin_end": 3.2,
            "count": 0
           },
           {
            "bin_start": 3.2,
            "bin_end": 3.3,
            "count": 0
           },
           {
            "bin_start": 3.3,
            "bin_end": 3.4,
            "count": 0
           },
           {
            "bin_start": 3.4,
            "bin_end": 3.5,
            "count": 0
           }
          ]
         }
        },
        {
         "name": "skill_tax_law",
         "dtype": "int64",
         "stats": {
          "unique_count": 1,
          "nan_count": 0,
          "min": "3",
          "max": "3",
          "histogram": [
           {
            "bin_start": 2.5,
            "bin_end": 2.6,
            "count": 0
           },
           {
            "bin_start": 2.6,
            "bin_end": 2.7,
            "count": 0
           },
           {
            "bin_start": 2.7,
            "bin_end": 2.8,
            "count": 0
           },
           {
            "bin_start": 2.8,
            "bin_end": 2.9,
            "count": 0
           },
           {
            "bin_start": 2.9,
            "bin_end": 3,
            "count": 0
           },
           {
            "bin_start": 3,
            "bin_end": 3.1,
            "count": 1
           },
           {
            "bin_start": 3.1,
            "bin_end": 3.2,
            "count": 0
           },
           {
            "bin_start": 3.2,
            "bin_end": 3.3,
            "count": 0
           },
           {
            "bin_start": 3.3,
            "bin_end": 3.4,
            "count": 0
           },
           {
            "bin_start": 3.4,
            "bin_end": 3.5,
            "count": 0
           }
          ]
         }
        },
        {
         "name": "skill_article_writing",
         "dtype": "int64",
         "stats": {
          "unique_count": 1,
          "nan_count": 0,
          "min": "1",
          "max": "1",
          "histogram": [
           {
            "bin_start": 0.5,
            "bin_end": 0.6,
            "count": 0
           },
           {
            "bin_start": 0.6,
            "bin_end": 0.7,
            "count": 0
           },
           {
            "bin_start": 0.7,
            "bin_end": 0.8,
            "count": 0
           },
           {
            "bin_start": 0.8,
            "bin_end": 0.9,
            "count": 0
           },
           {
            "bin_start": 0.9,
            "bin_end": 1,
            "count": 0
           },
           {
            "bin_start": 1,
            "bin_end": 1.1,
            "count": 1
           },
           {
            "bin_start": 1.1,
            "bin_end": 1.2000000000000002,
            "count": 0
           },
           {
            "bin_start": 1.2000000000000002,
            "bin_end": 1.3,
            "count": 0
           },
           {
            "bin_start": 1.3,
            "bin_end": 1.4,
            "count": 0
           },
           {
            "bin_start": 1.4,
            "bin_end": 1.5,
            "count": 0
           }
          ]
         }
        },
        {
         "name": "skill_business_analysis",
         "dtype": "int64",
         "stats": {
          "unique_count": 1,
          "nan_count": 0,
          "min": "1",
          "max": "1",
          "histogram": [
           {
            "bin_start": 0.5,
            "bin_end": 0.6,
            "count": 0
           },
           {
            "bin_start": 0.6,
            "bin_end": 0.7,
            "count": 0
           },
           {
            "bin_start": 0.7,
            "bin_end": 0.8,
            "count": 0
           },
           {
            "bin_start": 0.8,
            "bin_end": 0.9,
            "count": 0
           },
           {
            "bin_start": 0.9,
            "bin_end": 1,
            "count": 0
           },
           {
            "bin_start": 1,
            "bin_end": 1.1,
            "count": 1
           },
           {
            "bin_start": 1.1,
            "bin_end": 1.2000000000000002,
            "count": 0
           },
           {
            "bin_start": 1.2000000000000002,
            "bin_end": 1.3,
            "count": 0
           },
           {
            "bin_start": 1.3,
            "bin_end": 1.4,
            "count": 0
           },
           {
            "bin_start": 1.4,
            "bin_end": 1.5,
            "count": 0
           }
          ]
         }
        },
        {
         "name": "skill_bank_reconciliation",
         "dtype": "int64",
         "stats": {
          "unique_count": 1,
          "nan_count": 0,
          "min": "1",
          "max": "1",
          "histogram": [
           {
            "bin_start": 0.5,
            "bin_end": 0.6,
            "count": 0
           },
           {
            "bin_start": 0.6,
            "bin_end": 0.7,
            "count": 0
           },
           {
            "bin_start": 0.7,
            "bin_end": 0.8,
            "count": 0
           },
           {
            "bin_start": 0.8,
            "bin_end": 0.9,
            "count": 0
           },
           {
            "bin_start": 0.9,
            "bin_end": 1,
            "count": 0
           },
           {
            "bin_start": 1,
            "bin_end": 1.1,
            "count": 1
           },
           {
            "bin_start": 1.1,
            "bin_end": 1.2000000000000002,
            "count": 0
           },
           {
            "bin_start": 1.2000000000000002,
            "bin_end": 1.3,
            "count": 0
           },
           {
            "bin_start": 1.3,
            "bin_end": 1.4,
            "count": 0
           },
           {
            "bin_start": 1.4,
            "bin_end": 1.5,
            "count": 0
           }
          ]
         }
        },
        {
         "name": "skill_abatement",
         "dtype": "int64",
         "stats": {
          "unique_count": 1,
          "nan_count": 0,
          "min": "1",
          "max": "1",
          "histogram": [
           {
            "bin_start": 0.5,
            "bin_end": 0.6,
            "count": 0
           },
           {
            "bin_start": 0.6,
            "bin_end": 0.7,
            "count": 0
           },
           {
            "bin_start": 0.7,
            "bin_end": 0.8,
            "count": 0
           },
           {
            "bin_start": 0.8,
            "bin_end": 0.9,
            "count": 0
           },
           {
            "bin_start": 0.9,
            "bin_end": 1,
            "count": 0
           },
           {
            "bin_start": 1,
            "bin_end": 1.1,
            "count": 1
           },
           {
            "bin_start": 1.1,
            "bin_end": 1.2000000000000002,
            "count": 0
           },
           {
            "bin_start": 1.2000000000000002,
            "bin_end": 1.3,
            "count": 0
           },
           {
            "bin_start": 1.3,
            "bin_end": 1.4,
            "count": 0
           },
           {
            "bin_start": 1.4,
            "bin_end": 1.5,
            "count": 0
           }
          ]
         }
        },
        {
         "name": "skill_annual_report_design",
         "dtype": "int64",
         "stats": {
          "unique_count": 1,
          "nan_count": 0,
          "min": "1",
          "max": "1",
          "histogram": [
           {
            "bin_start": 0.5,
            "bin_end": 0.6,
            "count": 0
           },
           {
            "bin_start": 0.6,
            "bin_end": 0.7,
            "count": 0
           },
           {
            "bin_start": 0.7,
            "bin_end": 0.8,
            "count": 0
           },
           {
            "bin_start": 0.8,
            "bin_end": 0.9,
            "count": 0
           },
           {
            "bin_start": 0.9,
            "bin_end": 1,
            "count": 0
           },
           {
            "bin_start": 1,
            "bin_end": 1.1,
            "count": 1
           },
           {
            "bin_start": 1.1,
            "bin_end": 1.2000000000000002,
            "count": 0
           },
           {
            "bin_start": 1.2000000000000002,
            "bin_end": 1.3,
            "count": 0
           },
           {
            "bin_start": 1.3,
            "bin_end": 1.4,
            "count": 0
           },
           {
            "bin_start": 1.4,
            "bin_end": 1.5,
            "count": 0
           }
          ]
         }
        },
        {
         "name": "skill_research",
         "dtype": "int64",
         "stats": {
          "unique_count": 1,
          "nan_count": 0,
          "min": "0",
          "max": "0",
          "histogram": [
           {
            "bin_start": -0.5,
            "bin_end": -0.4,
            "count": 0
           },
           {
            "bin_start": -0.4,
            "bin_end": -0.3,
            "count": 0
           },
           {
            "bin_start": -0.3,
            "bin_end": -0.19999999999999996,
            "count": 0
           },
           {
            "bin_start": -0.19999999999999996,
            "bin_end": -0.09999999999999998,
            "count": 0
           },
           {
            "bin_start": -0.09999999999999998,
            "bin_end": 0,
            "count": 0
           },
           {
            "bin_start": 0,
            "bin_end": 0.10000000000000009,
            "count": 1
           },
           {
            "bin_start": 0.10000000000000009,
            "bin_end": 0.20000000000000007,
            "count": 0
           },
           {
            "bin_start": 0.20000000000000007,
            "bin_end": 0.30000000000000004,
            "count": 0
           },
           {
            "bin_start": 0.30000000000000004,
            "bin_end": 0.4,
            "count": 0
           },
           {
            "bin_start": 0.4,
            "bin_end": 0.5,
            "count": 0
           }
          ]
         }
        },
        {
         "name": "skill_report_writing",
         "dtype": "int64",
         "stats": {
          "unique_count": 1,
          "nan_count": 0,
          "min": "0",
          "max": "0",
          "histogram": [
           {
            "bin_start": -0.5,
            "bin_end": -0.4,
            "count": 0
           },
           {
            "bin_start": -0.4,
            "bin_end": -0.3,
            "count": 0
           },
           {
            "bin_start": -0.3,
            "bin_end": -0.19999999999999996,
            "count": 0
           },
           {
            "bin_start": -0.19999999999999996,
            "bin_end": -0.09999999999999998,
            "count": 0
           },
           {
            "bin_start": -0.09999999999999998,
            "bin_end": 0,
            "count": 0
           },
           {
            "bin_start": 0,
            "bin_end": 0.10000000000000009,
            "count": 1
           },
           {
            "bin_start": 0.10000000000000009,
            "bin_end": 0.20000000000000007,
            "count": 0
           },
           {
            "bin_start": 0.20000000000000007,
            "bin_end": 0.30000000000000004,
            "count": 0
           },
           {
            "bin_start": 0.30000000000000004,
            "bin_end": 0.4,
            "count": 0
           },
           {
            "bin_start": 0.4,
            "bin_end": 0.5,
            "count": 0
           }
          ]
         }
        },
        {
         "name": "skill_inventory_management",
         "dtype": "int64",
         "stats": {
          "unique_count": 1,
          "nan_count": 0,
          "min": "0",
          "max": "0",
          "histogram": [
           {
            "bin_start": -0.5,
            "bin_end": -0.4,
            "count": 0
           },
           {
            "bin_start": -0.4,
            "bin_end": -0.3,
            "count": 0
           },
           {
            "bin_start": -0.3,
            "bin_end": -0.19999999999999996,
            "count": 0
           },
           {
            "bin_start": -0.19999999999999996,
            "bin_end": -0.09999999999999998,
            "count": 0
           },
           {
            "bin_start": -0.09999999999999998,
            "bin_end": 0,
            "count": 0
           },
           {
            "bin_start": 0,
            "bin_end": 0.10000000000000009,
            "count": 1
           },
           {
            "bin_start": 0.10000000000000009,
            "bin_end": 0.20000000000000007,
            "count": 0
           },
           {
            "bin_start": 0.20000000000000007,
            "bin_end": 0.30000000000000004,
            "count": 0
           },
           {
            "bin_start": 0.30000000000000004,
            "bin_end": 0.4,
            "count": 0
           },
           {
            "bin_start": 0.4,
            "bin_end": 0.5,
            "count": 0
           }
          ]
         }
        },
        {
         "name": "skill_english_(us)_translator",
         "dtype": "int64",
         "stats": {
          "unique_count": 1,
          "nan_count": 0,
          "min": "0",
          "max": "0",
          "histogram": [
           {
            "bin_start": -0.5,
            "bin_end": -0.4,
            "count": 0
           },
           {
            "bin_start": -0.4,
            "bin_end": -0.3,
            "count": 0
           },
           {
            "bin_start": -0.3,
            "bin_end": -0.19999999999999996,
            "count": 0
           },
           {
            "bin_start": -0.19999999999999996,
            "bin_end": -0.09999999999999998,
            "count": 0
           },
           {
            "bin_start": -0.09999999999999998,
            "bin_end": 0,
            "count": 0
           },
           {
            "bin_start": 0,
            "bin_end": 0.10000000000000009,
            "count": 1
           },
           {
            "bin_start": 0.10000000000000009,
            "bin_end": 0.20000000000000007,
            "count": 0
           },
           {
            "bin_start": 0.20000000000000007,
            "bin_end": 0.30000000000000004,
            "count": 0
           },
           {
            "bin_start": 0.30000000000000004,
            "bin_end": 0.4,
            "count": 0
           },
           {
            "bin_start": 0.4,
            "bin_end": 0.5,
            "count": 0
           }
          ]
         }
        },
        {
         "name": "skill_startups",
         "dtype": "int64",
         "stats": {
          "unique_count": 1,
          "nan_count": 0,
          "min": "0",
          "max": "0",
          "histogram": [
           {
            "bin_start": -0.5,
            "bin_end": -0.4,
            "count": 0
           },
           {
            "bin_start": -0.4,
            "bin_end": -0.3,
            "count": 0
           },
           {
            "bin_start": -0.3,
            "bin_end": -0.19999999999999996,
            "count": 0
           },
           {
            "bin_start": -0.19999999999999996,
            "bin_end": -0.09999999999999998,
            "count": 0
           },
           {
            "bin_start": -0.09999999999999998,
            "bin_end": 0,
            "count": 0
           },
           {
            "bin_start": 0,
            "bin_end": 0.10000000000000009,
            "count": 1
           },
           {
            "bin_start": 0.10000000000000009,
            "bin_end": 0.20000000000000007,
            "count": 0
           },
           {
            "bin_start": 0.20000000000000007,
            "bin_end": 0.30000000000000004,
            "count": 0
           },
           {
            "bin_start": 0.30000000000000004,
            "bin_end": 0.4,
            "count": 0
           },
           {
            "bin_start": 0.4,
            "bin_end": 0.5,
            "count": 0
           }
          ]
         }
        },
        {
         "name": "skill_financial_planning",
         "dtype": "int64",
         "stats": {
          "unique_count": 1,
          "nan_count": 0,
          "min": "0",
          "max": "0",
          "histogram": [
           {
            "bin_start": -0.5,
            "bin_end": -0.4,
            "count": 0
           },
           {
            "bin_start": -0.4,
            "bin_end": -0.3,
            "count": 0
           },
           {
            "bin_start": -0.3,
            "bin_end": -0.19999999999999996,
            "count": 0
           },
           {
            "bin_start": -0.19999999999999996,
            "bin_end": -0.09999999999999998,
            "count": 0
           },
           {
            "bin_start": -0.09999999999999998,
            "bin_end": 0,
            "count": 0
           },
           {
            "bin_start": 0,
            "bin_end": 0.10000000000000009,
            "count": 1
           },
           {
            "bin_start": 0.10000000000000009,
            "bin_end": 0.20000000000000007,
            "count": 0
           },
           {
            "bin_start": 0.20000000000000007,
            "bin_end": 0.30000000000000004,
            "count": 0
           },
           {
            "bin_start": 0.30000000000000004,
            "bin_end": 0.4,
            "count": 0
           },
           {
            "bin_start": 0.4,
            "bin_end": 0.5,
            "count": 0
           }
          ]
         }
        },
        {
         "name": "skill_employment_tax",
         "dtype": "int64",
         "stats": {
          "unique_count": 1,
          "nan_count": 0,
          "min": "0",
          "max": "0",
          "histogram": [
           {
            "bin_start": -0.5,
            "bin_end": -0.4,
            "count": 0
           },
           {
            "bin_start": -0.4,
            "bin_end": -0.3,
            "count": 0
           },
           {
            "bin_start": -0.3,
            "bin_end": -0.19999999999999996,
            "count": 0
           },
           {
            "bin_start": -0.19999999999999996,
            "bin_end": -0.09999999999999998,
            "count": 0
           },
           {
            "bin_start": -0.09999999999999998,
            "bin_end": 0,
            "count": 0
           },
           {
            "bin_start": 0,
            "bin_end": 0.10000000000000009,
            "count": 1
           },
           {
            "bin_start": 0.10000000000000009,
            "bin_end": 0.20000000000000007,
            "count": 0
           },
           {
            "bin_start": 0.20000000000000007,
            "bin_end": 0.30000000000000004,
            "count": 0
           },
           {
            "bin_start": 0.30000000000000004,
            "bin_end": 0.4,
            "count": 0
           },
           {
            "bin_start": 0.4,
            "bin_end": 0.5,
            "count": 0
           }
          ]
         }
        },
        {
         "name": "skill_personal_tax",
         "dtype": "int64",
         "stats": {
          "unique_count": 1,
          "nan_count": 0,
          "min": "0",
          "max": "0",
          "histogram": [
           {
            "bin_start": -0.5,
            "bin_end": -0.4,
            "count": 0
           },
           {
            "bin_start": -0.4,
            "bin_end": -0.3,
            "count": 0
           },
           {
            "bin_start": -0.3,
            "bin_end": -0.19999999999999996,
            "count": 0
           },
           {
            "bin_start": -0.19999999999999996,
            "bin_end": -0.09999999999999998,
            "count": 0
           },
           {
            "bin_start": -0.09999999999999998,
            "bin_end": 0,
            "count": 0
           },
           {
            "bin_start": 0,
            "bin_end": 0.10000000000000009,
            "count": 1
           },
           {
            "bin_start": 0.10000000000000009,
            "bin_end": 0.20000000000000007,
            "count": 0
           },
           {
            "bin_start": 0.20000000000000007,
            "bin_end": 0.30000000000000004,
            "count": 0
           },
           {
            "bin_start": 0.30000000000000004,
            "bin_end": 0.4,
            "count": 0
           },
           {
            "bin_start": 0.4,
            "bin_end": 0.5,
            "count": 0
           }
          ]
         }
        },
        {
         "name": "skill_tax_compliance",
         "dtype": "int64",
         "stats": {
          "unique_count": 1,
          "nan_count": 0,
          "min": "0",
          "max": "0",
          "histogram": [
           {
            "bin_start": -0.5,
            "bin_end": -0.4,
            "count": 0
           },
           {
            "bin_start": -0.4,
            "bin_end": -0.3,
            "count": 0
           },
           {
            "bin_start": -0.3,
            "bin_end": -0.19999999999999996,
            "count": 0
           },
           {
            "bin_start": -0.19999999999999996,
            "bin_end": -0.09999999999999998,
            "count": 0
           },
           {
            "bin_start": -0.09999999999999998,
            "bin_end": 0,
            "count": 0
           },
           {
            "bin_start": 0,
            "bin_end": 0.10000000000000009,
            "count": 1
           },
           {
            "bin_start": 0.10000000000000009,
            "bin_end": 0.20000000000000007,
            "count": 0
           },
           {
            "bin_start": 0.20000000000000007,
            "bin_end": 0.30000000000000004,
            "count": 0
           },
           {
            "bin_start": 0.30000000000000004,
            "bin_end": 0.4,
            "count": 0
           },
           {
            "bin_start": 0.4,
            "bin_end": 0.5,
            "count": 0
           }
          ]
         }
        },
        {
         "name": "skill_tax_compliance_and_outsourcing",
         "dtype": "int64",
         "stats": {
          "unique_count": 1,
          "nan_count": 0,
          "min": "0",
          "max": "0",
          "histogram": [
           {
            "bin_start": -0.5,
            "bin_end": -0.4,
            "count": 0
           },
           {
            "bin_start": -0.4,
            "bin_end": -0.3,
            "count": 0
           },
           {
            "bin_start": -0.3,
            "bin_end": -0.19999999999999996,
            "count": 0
           },
           {
            "bin_start": -0.19999999999999996,
            "bin_end": -0.09999999999999998,
            "count": 0
           },
           {
            "bin_start": -0.09999999999999998,
            "bin_end": 0,
            "count": 0
           },
           {
            "bin_start": 0,
            "bin_end": 0.10000000000000009,
            "count": 1
           },
           {
            "bin_start": 0.10000000000000009,
            "bin_end": 0.20000000000000007,
            "count": 0
           },
           {
            "bin_start": 0.20000000000000007,
            "bin_end": 0.30000000000000004,
            "count": 0
           },
           {
            "bin_start": 0.30000000000000004,
            "bin_end": 0.4,
            "count": 0
           },
           {
            "bin_start": 0.4,
            "bin_end": 0.5,
            "count": 0
           }
          ]
         }
        },
        {
         "name": "skill_tax_management_consulting",
         "dtype": "int64",
         "stats": {
          "unique_count": 1,
          "nan_count": 0,
          "min": "0",
          "max": "0",
          "histogram": [
           {
            "bin_start": -0.5,
            "bin_end": -0.4,
            "count": 0
           },
           {
            "bin_start": -0.4,
            "bin_end": -0.3,
            "count": 0
           },
           {
            "bin_start": -0.3,
            "bin_end": -0.19999999999999996,
            "count": 0
           },
           {
            "bin_start": -0.19999999999999996,
            "bin_end": -0.09999999999999998,
            "count": 0
           },
           {
            "bin_start": -0.09999999999999998,
            "bin_end": 0,
            "count": 0
           },
           {
            "bin_start": 0,
            "bin_end": 0.10000000000000009,
            "count": 1
           },
           {
            "bin_start": 0.10000000000000009,
            "bin_end": 0.20000000000000007,
            "count": 0
           },
           {
            "bin_start": 0.20000000000000007,
            "bin_end": 0.30000000000000004,
            "count": 0
           },
           {
            "bin_start": 0.30000000000000004,
            "bin_end": 0.4,
            "count": 0
           },
           {
            "bin_start": 0.4,
            "bin_end": 0.5,
            "count": 0
           }
          ]
         }
        },
        {
         "name": "skill_tax_reporting",
         "dtype": "int64",
         "stats": {
          "unique_count": 1,
          "nan_count": 0,
          "min": "0",
          "max": "0",
          "histogram": [
           {
            "bin_start": -0.5,
            "bin_end": -0.4,
            "count": 0
           },
           {
            "bin_start": -0.4,
            "bin_end": -0.3,
            "count": 0
           },
           {
            "bin_start": -0.3,
            "bin_end": -0.19999999999999996,
            "count": 0
           },
           {
            "bin_start": -0.19999999999999996,
            "bin_end": -0.09999999999999998,
            "count": 0
           },
           {
            "bin_start": -0.09999999999999998,
            "bin_end": 0,
            "count": 0
           },
           {
            "bin_start": 0,
            "bin_end": 0.10000000000000009,
            "count": 1
           },
           {
            "bin_start": 0.10000000000000009,
            "bin_end": 0.20000000000000007,
            "count": 0
           },
           {
            "bin_start": 0.20000000000000007,
            "bin_end": 0.30000000000000004,
            "count": 0
           },
           {
            "bin_start": 0.30000000000000004,
            "bin_end": 0.4,
            "count": 0
           },
           {
            "bin_start": 0.4,
            "bin_end": 0.5,
            "count": 0
           }
          ]
         }
        },
        {
         "name": "skill_corporate_transactions",
         "dtype": "int64",
         "stats": {
          "unique_count": 1,
          "nan_count": 0,
          "min": "0",
          "max": "0",
          "histogram": [
           {
            "bin_start": -0.5,
            "bin_end": -0.4,
            "count": 0
           },
           {
            "bin_start": -0.4,
            "bin_end": -0.3,
            "count": 0
           },
           {
            "bin_start": -0.3,
            "bin_end": -0.19999999999999996,
            "count": 0
           },
           {
            "bin_start": -0.19999999999999996,
            "bin_end": -0.09999999999999998,
            "count": 0
           },
           {
            "bin_start": -0.09999999999999998,
            "bin_end": 0,
            "count": 0
           },
           {
            "bin_start": 0,
            "bin_end": 0.10000000000000009,
            "count": 1
           },
           {
            "bin_start": 0.10000000000000009,
            "bin_end": 0.20000000000000007,
            "count": 0
           },
           {
            "bin_start": 0.20000000000000007,
            "bin_end": 0.30000000000000004,
            "count": 0
           },
           {
            "bin_start": 0.30000000000000004,
            "bin_end": 0.4,
            "count": 0
           },
           {
            "bin_start": 0.4,
            "bin_end": 0.5,
            "count": 0
           }
          ]
         }
        },
        {
         "name": "skill_local_job",
         "dtype": "int64",
         "stats": {
          "unique_count": 1,
          "nan_count": 0,
          "min": "0",
          "max": "0",
          "histogram": [
           {
            "bin_start": -0.5,
            "bin_end": -0.4,
            "count": 0
           },
           {
            "bin_start": -0.4,
            "bin_end": -0.3,
            "count": 0
           },
           {
            "bin_start": -0.3,
            "bin_end": -0.19999999999999996,
            "count": 0
           },
           {
            "bin_start": -0.19999999999999996,
            "bin_end": -0.09999999999999998,
            "count": 0
           },
           {
            "bin_start": -0.09999999999999998,
            "bin_end": 0,
            "count": 0
           },
           {
            "bin_start": 0,
            "bin_end": 0.10000000000000009,
            "count": 1
           },
           {
            "bin_start": 0.10000000000000009,
            "bin_end": 0.20000000000000007,
            "count": 0
           },
           {
            "bin_start": 0.20000000000000007,
            "bin_end": 0.30000000000000004,
            "count": 0
           },
           {
            "bin_start": 0.30000000000000004,
            "bin_end": 0.4,
            "count": 0
           },
           {
            "bin_start": 0.4,
            "bin_end": 0.5,
            "count": 0
           }
          ]
         }
        },
        {
         "name": "skill_workday_financials",
         "dtype": "int64",
         "stats": {
          "unique_count": 1,
          "nan_count": 0,
          "min": "0",
          "max": "0",
          "histogram": [
           {
            "bin_start": -0.5,
            "bin_end": -0.4,
            "count": 0
           },
           {
            "bin_start": -0.4,
            "bin_end": -0.3,
            "count": 0
           },
           {
            "bin_start": -0.3,
            "bin_end": -0.19999999999999996,
            "count": 0
           },
           {
            "bin_start": -0.19999999999999996,
            "bin_end": -0.09999999999999998,
            "count": 0
           },
           {
            "bin_start": -0.09999999999999998,
            "bin_end": 0,
            "count": 0
           },
           {
            "bin_start": 0,
            "bin_end": 0.10000000000000009,
            "count": 1
           },
           {
            "bin_start": 0.10000000000000009,
            "bin_end": 0.20000000000000007,
            "count": 0
           },
           {
            "bin_start": 0.20000000000000007,
            "bin_end": 0.30000000000000004,
            "count": 0
           },
           {
            "bin_start": 0.30000000000000004,
            "bin_end": 0.4,
            "count": 0
           },
           {
            "bin_start": 0.4,
            "bin_end": 0.5,
            "count": 0
           }
          ]
         }
        },
        {
         "name": "skill_corporate_income_tax",
         "dtype": "int64",
         "stats": {
          "unique_count": 1,
          "nan_count": 0,
          "min": "0",
          "max": "0",
          "histogram": [
           {
            "bin_start": -0.5,
            "bin_end": -0.4,
            "count": 0
           },
           {
            "bin_start": -0.4,
            "bin_end": -0.3,
            "count": 0
           },
           {
            "bin_start": -0.3,
            "bin_end": -0.19999999999999996,
            "count": 0
           },
           {
            "bin_start": -0.19999999999999996,
            "bin_end": -0.09999999999999998,
            "count": 0
           },
           {
            "bin_start": -0.09999999999999998,
            "bin_end": 0,
            "count": 0
           },
           {
            "bin_start": 0,
            "bin_end": 0.10000000000000009,
            "count": 1
           },
           {
            "bin_start": 0.10000000000000009,
            "bin_end": 0.20000000000000007,
            "count": 0
           },
           {
            "bin_start": 0.20000000000000007,
            "bin_end": 0.30000000000000004,
            "count": 0
           },
           {
            "bin_start": 0.30000000000000004,
            "bin_end": 0.4,
            "count": 0
           },
           {
            "bin_start": 0.4,
            "bin_end": 0.5,
            "count": 0
           }
          ]
         }
        },
        {
         "name": "skill_personal_income_tax",
         "dtype": "int64",
         "stats": {
          "unique_count": 1,
          "nan_count": 0,
          "min": "0",
          "max": "0",
          "histogram": [
           {
            "bin_start": -0.5,
            "bin_end": -0.4,
            "count": 0
           },
           {
            "bin_start": -0.4,
            "bin_end": -0.3,
            "count": 0
           },
           {
            "bin_start": -0.3,
            "bin_end": -0.19999999999999996,
            "count": 0
           },
           {
            "bin_start": -0.19999999999999996,
            "bin_end": -0.09999999999999998,
            "count": 0
           },
           {
            "bin_start": -0.09999999999999998,
            "bin_end": 0,
            "count": 0
           },
           {
            "bin_start": 0,
            "bin_end": 0.10000000000000009,
            "count": 1
           },
           {
            "bin_start": 0.10000000000000009,
            "bin_end": 0.20000000000000007,
            "count": 0
           },
           {
            "bin_start": 0.20000000000000007,
            "bin_end": 0.30000000000000004,
            "count": 0
           },
           {
            "bin_start": 0.30000000000000004,
            "bin_end": 0.4,
            "count": 0
           },
           {
            "bin_start": 0.4,
            "bin_end": 0.5,
            "count": 0
           }
          ]
         }
        },
        {
         "name": "skill_tax_accounting",
         "dtype": "int64",
         "stats": {
          "unique_count": 1,
          "nan_count": 0,
          "min": "0",
          "max": "0",
          "histogram": [
           {
            "bin_start": -0.5,
            "bin_end": -0.4,
            "count": 0
           },
           {
            "bin_start": -0.4,
            "bin_end": -0.3,
            "count": 0
           },
           {
            "bin_start": -0.3,
            "bin_end": -0.19999999999999996,
            "count": 0
           },
           {
            "bin_start": -0.19999999999999996,
            "bin_end": -0.09999999999999998,
            "count": 0
           },
           {
            "bin_start": -0.09999999999999998,
            "bin_end": 0,
            "count": 0
           },
           {
            "bin_start": 0,
            "bin_end": 0.10000000000000009,
            "count": 1
           },
           {
            "bin_start": 0.10000000000000009,
            "bin_end": 0.20000000000000007,
            "count": 0
           },
           {
            "bin_start": 0.20000000000000007,
            "bin_end": 0.30000000000000004,
            "count": 0
           },
           {
            "bin_start": 0.30000000000000004,
            "bin_end": 0.4,
            "count": 0
           },
           {
            "bin_start": 0.4,
            "bin_end": 0.5,
            "count": 0
           }
          ]
         }
        },
        {
         "name": "skill_us_taxation",
         "dtype": "int64",
         "stats": {
          "unique_count": 1,
          "nan_count": 0,
          "min": "0",
          "max": "0",
          "histogram": [
           {
            "bin_start": -0.5,
            "bin_end": -0.4,
            "count": 0
           },
           {
            "bin_start": -0.4,
            "bin_end": -0.3,
            "count": 0
           },
           {
            "bin_start": -0.3,
            "bin_end": -0.19999999999999996,
            "count": 0
           },
           {
            "bin_start": -0.19999999999999996,
            "bin_end": -0.09999999999999998,
            "count": 0
           },
           {
            "bin_start": -0.09999999999999998,
            "bin_end": 0,
            "count": 0
           },
           {
            "bin_start": 0,
            "bin_end": 0.10000000000000009,
            "count": 1
           },
           {
            "bin_start": 0.10000000000000009,
            "bin_end": 0.20000000000000007,
            "count": 0
           },
           {
            "bin_start": 0.20000000000000007,
            "bin_end": 0.30000000000000004,
            "count": 0
           },
           {
            "bin_start": 0.30000000000000004,
            "bin_end": 0.4,
            "count": 0
           },
           {
            "bin_start": 0.4,
            "bin_end": 0.5,
            "count": 0
           }
          ]
         }
        },
        {
         "name": "skill_startup_consulting",
         "dtype": "int64",
         "stats": {
          "unique_count": 1,
          "nan_count": 0,
          "min": "0",
          "max": "0",
          "histogram": [
           {
            "bin_start": -0.5,
            "bin_end": -0.4,
            "count": 0
           },
           {
            "bin_start": -0.4,
            "bin_end": -0.3,
            "count": 0
           },
           {
            "bin_start": -0.3,
            "bin_end": -0.19999999999999996,
            "count": 0
           },
           {
            "bin_start": -0.19999999999999996,
            "bin_end": -0.09999999999999998,
            "count": 0
           },
           {
            "bin_start": -0.09999999999999998,
            "bin_end": 0,
            "count": 0
           },
           {
            "bin_start": 0,
            "bin_end": 0.10000000000000009,
            "count": 1
           },
           {
            "bin_start": 0.10000000000000009,
            "bin_end": 0.20000000000000007,
            "count": 0
           },
           {
            "bin_start": 0.20000000000000007,
            "bin_end": 0.30000000000000004,
            "count": 0
           },
           {
            "bin_start": 0.30000000000000004,
            "bin_end": 0.4,
            "count": 0
           },
           {
            "bin_start": 0.4,
            "bin_end": 0.5,
            "count": 0
           }
          ]
         }
        },
        {
         "name": "skill_tax_preparation",
         "dtype": "int64",
         "stats": {
          "unique_count": 1,
          "nan_count": 0,
          "min": "0",
          "max": "0",
          "histogram": [
           {
            "bin_start": -0.5,
            "bin_end": -0.4,
            "count": 0
           },
           {
            "bin_start": -0.4,
            "bin_end": -0.3,
            "count": 0
           },
           {
            "bin_start": -0.3,
            "bin_end": -0.19999999999999996,
            "count": 0
           },
           {
            "bin_start": -0.19999999999999996,
            "bin_end": -0.09999999999999998,
            "count": 0
           },
           {
            "bin_start": -0.09999999999999998,
            "bin_end": 0,
            "count": 0
           },
           {
            "bin_start": 0,
            "bin_end": 0.10000000000000009,
            "count": 1
           },
           {
            "bin_start": 0.10000000000000009,
            "bin_end": 0.20000000000000007,
            "count": 0
           },
           {
            "bin_start": 0.20000000000000007,
            "bin_end": 0.30000000000000004,
            "count": 0
           },
           {
            "bin_start": 0.30000000000000004,
            "bin_end": 0.4,
            "count": 0
           },
           {
            "bin_start": 0.4,
            "bin_end": 0.5,
            "count": 0
           }
          ]
         }
        },
        {
         "name": "skill_workday_compensation",
         "dtype": "int64",
         "stats": {
          "unique_count": 1,
          "nan_count": 0,
          "min": "0",
          "max": "0",
          "histogram": [
           {
            "bin_start": -0.5,
            "bin_end": -0.4,
            "count": 0
           },
           {
            "bin_start": -0.4,
            "bin_end": -0.3,
            "count": 0
           },
           {
            "bin_start": -0.3,
            "bin_end": -0.19999999999999996,
            "count": 0
           },
           {
            "bin_start": -0.19999999999999996,
            "bin_end": -0.09999999999999998,
            "count": 0
           },
           {
            "bin_start": -0.09999999999999998,
            "bin_end": 0,
            "count": 0
           },
           {
            "bin_start": 0,
            "bin_end": 0.10000000000000009,
            "count": 1
           },
           {
            "bin_start": 0.10000000000000009,
            "bin_end": 0.20000000000000007,
            "count": 0
           },
           {
            "bin_start": 0.20000000000000007,
            "bin_end": 0.30000000000000004,
            "count": 0
           },
           {
            "bin_start": 0.30000000000000004,
            "bin_end": 0.4,
            "count": 0
           },
           {
            "bin_start": 0.4,
            "bin_end": 0.5,
            "count": 0
           }
          ]
         }
        },
        {
         "name": "skill_workday_payroll",
         "dtype": "int64",
         "stats": {
          "unique_count": 1,
          "nan_count": 0,
          "min": "0",
          "max": "0",
          "histogram": [
           {
            "bin_start": -0.5,
            "bin_end": -0.4,
            "count": 0
           },
           {
            "bin_start": -0.4,
            "bin_end": -0.3,
            "count": 0
           },
           {
            "bin_start": -0.3,
            "bin_end": -0.19999999999999996,
            "count": 0
           },
           {
            "bin_start": -0.19999999999999996,
            "bin_end": -0.09999999999999998,
            "count": 0
           },
           {
            "bin_start": -0.09999999999999998,
            "bin_end": 0,
            "count": 0
           },
           {
            "bin_start": 0,
            "bin_end": 0.10000000000000009,
            "count": 1
           },
           {
            "bin_start": 0.10000000000000009,
            "bin_end": 0.20000000000000007,
            "count": 0
           },
           {
            "bin_start": 0.20000000000000007,
            "bin_end": 0.30000000000000004,
            "count": 0
           },
           {
            "bin_start": 0.30000000000000004,
            "bin_end": 0.4,
            "count": 0
           },
           {
            "bin_start": 0.4,
            "bin_end": 0.5,
            "count": 0
           }
          ]
         }
        },
        {
         "name": "badge_plus_membership",
         "dtype": "bool",
         "stats": {
          "unique_count": 1,
          "nan_count": 0,
          "categories": [
           {
            "name": "True",
            "count": 1
           }
          ]
         }
        },
        {
         "name": "badge_preferred_freelancer",
         "dtype": "bool",
         "stats": {
          "unique_count": 1,
          "nan_count": 0,
          "categories": [
           {
            "name": "True",
            "count": 1
           }
          ]
         }
        },
        {
         "name": "badge_verified",
         "dtype": "bool",
         "stats": {
          "unique_count": 1,
          "nan_count": 0,
          "categories": [
           {
            "name": "True",
            "count": 1
           }
          ]
         }
        },
        {
         "name": "_deepnote_index_column",
         "dtype": "int64"
        }
       ],
       "rows": [
        {
         "search_query": "designer",
         "name": "Tatiana L.",
         "profile_link": "https://www.freelancer.com/u/TatianaLLL",
         "tagline": "US Taxes, Bookkeeping, IRS Tax Debt Resolution.",
         "user_description": "Hello, my name is Tatiana Loughman & I'm:\n - an Enrolled Agent,\n - Chartered Economist, \n - QBO Pro…",
         "location": "Heath, United States",
         "join_date": "October 27, 2017",
         "hourly_rate": "$99",
         "pay_grade": "5.7",
         "avg_rating": "5.0",
         "num_reviews": "28",
         "num_recommendations": "3",
         "pct_jobs_completed": "100",
         "pct_on_budget": "100",
         "pct_on_time": "95",
         "repeat_hire_rate": "20",
         "certifications_us_english_1": "92%",
         "certifications_preferred_freelancer_program_sla_1": "89%",
         "certifications_accounting_principles_1": "77%",
         "certifications_basic_numeracy_1": "77%",
         "verification_preferred_freelancer": true,
         "verification_identity_verified": true,
         "verification_payment_verified": true,
         "verification_phone_verified": true,
         "verification_email_verified": true,
         "verification_facebook_connected": true,
         "skill_accounting": 29,
         "skill_intuit_quickbooks": 27,
         "skill_finance": 24,
         "skill_payroll": 22,
         "skill_bookkeeping": 20,
         "skill_tax": 5,
         "skill_research_writing": 3,
         "skill_tax_law": 3,
         "skill_article_writing": 1,
         "skill_business_analysis": 1,
         "skill_bank_reconciliation": 1,
         "skill_abatement": 1,
         "skill_annual_report_design": 1,
         "skill_research": 0,
         "skill_report_writing": 0,
         "skill_inventory_management": 0,
         "skill_english_(us)_translator": 0,
         "skill_startups": 0,
         "skill_financial_planning": 0,
         "skill_employment_tax": 0,
         "skill_personal_tax": 0,
         "skill_tax_compliance": 0,
         "skill_tax_compliance_and_outsourcing": 0,
         "skill_tax_management_consulting": 0,
         "skill_tax_reporting": 0,
         "skill_corporate_transactions": 0,
         "skill_local_job": 0,
         "skill_workday_financials": 0,
         "skill_corporate_income_tax": 0,
         "skill_personal_income_tax": 0,
         "skill_tax_accounting": 0,
         "skill_us_taxation": 0,
         "skill_startup_consulting": 0,
         "skill_tax_preparation": 0,
         "skill_workday_compensation": 0,
         "skill_workday_payroll": 0,
         "badge_plus_membership": true,
         "badge_preferred_freelancer": true,
         "badge_verified": true,
         "_deepnote_index_column": 0
        }
       ]
      },
      "text/plain": "  search_query        name                             profile_link  \\\n0     designer  Tatiana L.  https://www.freelancer.com/u/TatianaLLL   \n\n                                           tagline  \\\n0  US Taxes, Bookkeeping, IRS Tax Debt Resolution.   \n\n                                    user_description              location  \\\n0  Hello, my name is Tatiana Loughman & I'm:\\n - ...  Heath, United States   \n\n          join_date hourly_rate pay_grade avg_rating  ...  \\\n0  October 27, 2017         $99       5.7        5.0  ...   \n\n  skill_personal_income_tax skill_tax_accounting skill_us_taxation  \\\n0                         0                    0                 0   \n\n  skill_startup_consulting skill_tax_preparation skill_workday_compensation  \\\n0                        0                     0                          0   \n\n  skill_workday_payroll badge_plus_membership badge_preferred_freelancer  \\\n0                     0                  True                       True   \n\n  badge_verified  \n0           True  \n\n[1 rows x 65 columns]",
      "text/html": "<div>\n<style scoped>\n    .dataframe tbody tr th:only-of-type {\n        vertical-align: middle;\n    }\n\n    .dataframe tbody tr th {\n        vertical-align: top;\n    }\n\n    .dataframe thead th {\n        text-align: right;\n    }\n</style>\n<table border=\"1\" class=\"dataframe\">\n  <thead>\n    <tr style=\"text-align: right;\">\n      <th></th>\n      <th>search_query</th>\n      <th>name</th>\n      <th>profile_link</th>\n      <th>tagline</th>\n      <th>user_description</th>\n      <th>location</th>\n      <th>join_date</th>\n      <th>hourly_rate</th>\n      <th>pay_grade</th>\n      <th>avg_rating</th>\n      <th>...</th>\n      <th>skill_personal_income_tax</th>\n      <th>skill_tax_accounting</th>\n      <th>skill_us_taxation</th>\n      <th>skill_startup_consulting</th>\n      <th>skill_tax_preparation</th>\n      <th>skill_workday_compensation</th>\n      <th>skill_workday_payroll</th>\n      <th>badge_plus_membership</th>\n      <th>badge_preferred_freelancer</th>\n      <th>badge_verified</th>\n    </tr>\n  </thead>\n  <tbody>\n    <tr>\n      <th>0</th>\n      <td>designer</td>\n      <td>Tatiana L.</td>\n      <td>https://www.freelancer.com/u/TatianaLLL</td>\n      <td>US Taxes, Bookkeeping, IRS Tax Debt Resolution.</td>\n      <td>Hello, my name is Tatiana Loughman &amp; I'm:\\n - ...</td>\n      <td>Heath, United States</td>\n      <td>October 27, 2017</td>\n      <td>$99</td>\n      <td>5.7</td>\n      <td>5.0</td>\n      <td>...</td>\n      <td>0</td>\n      <td>0</td>\n      <td>0</td>\n      <td>0</td>\n      <td>0</td>\n      <td>0</td>\n      <td>0</td>\n      <td>True</td>\n      <td>True</td>\n      <td>True</td>\n    </tr>\n  </tbody>\n</table>\n<p>1 rows × 65 columns</p>\n</div>"
     },
     "metadata": {}
    }
   ]
  },
  {
   "cell_type": "code",
   "metadata": {
    "cell_id": "1fd32784-58c6-4114-a675-12c3c964ff7b",
    "tags": [],
    "deepnote_to_be_reexecuted": false,
    "source_hash": "b3504316",
    "execution_start": 1647449433820,
    "execution_millis": 4,
    "deepnote_cell_type": "code",
    "deepnote_cell_height": 263.796875
   },
   "source": "raw_df_test = scraper.get_raw_pd_dataframe()\nraw_df_test",
   "execution_count": null,
   "outputs": [
    {
     "output_type": "execute_result",
     "execution_count": 18,
     "data": {
      "application/vnd.deepnote.dataframe.v3+json": {
       "column_count": 20,
       "row_count": 1,
       "columns": [
        {
         "name": "search_query",
         "dtype": "object",
         "stats": {
          "unique_count": 1,
          "nan_count": 0,
          "categories": [
           {
            "name": "designer",
            "count": 1
           }
          ]
         }
        },
        {
         "name": "name",
         "dtype": "object",
         "stats": {
          "unique_count": 1,
          "nan_count": 0,
          "categories": [
           {
            "name": "Tatiana L.",
            "count": 1
           }
          ]
         }
        },
        {
         "name": "profile_link",
         "dtype": "object",
         "stats": {
          "unique_count": 1,
          "nan_count": 0,
          "categories": [
           {
            "name": "https://www.freelancer.com/u/TatianaLLL",
            "count": 1
           }
          ]
         }
        },
        {
         "name": "freelancer_badges",
         "dtype": "object",
         "stats": {
          "unique_count": 1,
          "nan_count": 0,
          "categories": [
           {
            "name": "['plus-membership', 'preferred-freelancer', 'verified']",
            "count": 1
           }
          ]
         }
        },
        {
         "name": "verifications",
         "dtype": "object",
         "stats": {
          "unique_count": 1,
          "nan_count": 0,
          "categories": [
           {
            "name": "[('Preferred Freelancer', True), ('Identity Verified', True), ('Payment Verified', True), ('Phone Verified', True), ('Email Verified', True), ('Facebook Connected', True)]",
            "count": 1
           }
          ]
         }
        },
        {
         "name": "tagline",
         "dtype": "object",
         "stats": {
          "unique_count": 1,
          "nan_count": 0,
          "categories": [
           {
            "name": "US Taxes, Bookkeeping, IRS Tax Debt Resolution.",
            "count": 1
           }
          ]
         }
        },
        {
         "name": "user_description",
         "dtype": "object",
         "stats": {
          "unique_count": 1,
          "nan_count": 0,
          "categories": [
           {
            "name": "Hello, my name is Tatiana Loughman & I'm:\n - an Enrolled Agent,\n - Chartered Economist, \n - QBO ProAdvisor,\n- Authorized E-File Provider.\n\nI'm enrolled to practice before The IRS.\nI have 10+ years of experience. \nI have many satisfied clients.\nI'm very diligent & dedicated to each client.\nI have a Masters in Economics, majoring in Accounting & Auditing;\n Bachelors in Criminal Justice;\n variety of certificates.\n\nI offer IRS Representation:\n- Offer in Compromise,\n- Penalties Abatement,\n- IRS Communication,\n- Filing Never-filed Returns,\n- Other IRS Issue Resolutions\n\nBookkeeping:\n- Accounting, \n- Payroll, \n- Errors Corrections, \n- Adjusting Entries,\n- Documents Storing Organizing,\n- Quickbooks, Manager\n- Reconciliations\n\nTax:\n- Tax Returns Preparations, \n- Individual,\n- Business\n\nFinding Errors:\n- Comparison of Your Business Ratios to the Industry Average, \n- Business Risks Mitigations\n\nReferences to FASB, IRC, etc\n________________________________________\nDon’t let the IRS take advantage of your hard-earned money. Review your US tax returns with a tax professional.\n\nSome people think that not opening a letter from the IRS somehow magically constitutes not receiving the letter. IRS letters don’t work like that. Once it is in your mailbox, it is being mailed by the IRS. \nWhat to do when you received a letter from the IRS? You have options: taking care of it on your own (if you are a tax lawyer, an enrolled agent, or a CPA). Another option is to contact an enrolled agent that may save you money on the services provided and take care of your IRS problems on the IRS level (just like a CPA or a tax lawyer represent you on the IRS level). Enrolled agents are licensed to represent taxpayers before the IRS. “Tax lawyer near me” google search will take you to agencies that employ a tax lawyer, a CPA, and an enrolled agent. Tax lawyers can also represent you in tax court. A CPA or an enrolled agent can’t represent you in tax court. Most tax problem cases get resolved on the IRS level and never reach the tax court anyway.",
            "count": 1
           }
          ]
         }
        },
        {
         "name": "certifications",
         "dtype": "object",
         "stats": {
          "unique_count": 1,
          "nan_count": 0,
          "categories": [
           {
            "name": "[('US English 1', '92%'), ('Preferred Freelancer Program SLA 1', '89%'), ('Accounting Principles 1', '77%'), ('Basic Numeracy 1', '77%')]",
            "count": 1
           }
          ]
         }
        },
        {
         "name": "top_skills",
         "dtype": "object",
         "stats": {
          "unique_count": 1,
          "nan_count": 0,
          "categories": [
           {
            "name": "[('Accounting', 29), ('Intuit QuickBooks', 27), ('Finance', 24), ('Payroll', 22), ('Bookkeeping', 20), ('Tax', 5), ('Research Writing', 3), ('Tax Law', 3), ('Article Writing', 1), ('Business Analysis', 1), ('Bank Reconciliation', 1), ('Abatement', 1), ('Annual Report Design', 1), ('Research', 0), ('Report Writing', 0), ('Inventory Management', 0), ('English (US) Translator', 0), ('Startups', 0), ('Financial Planning', 0), ('Employment Tax', 0), ('Personal Tax', 0), ('Tax Compliance', 0), ('Tax Compliance and Outsourcing', 0), ('Tax Management Consulting', 0), ('Tax Reporting', 0), ('Corporate Transactions', 0), ('Local Job', 0), ('Workday Financials', 0), ('Corporate Income Tax', 0), ('Personal Income Tax', 0), ('Tax Accounting', 0), ('US Taxation', 0), ('Startup Consulting', 0), ('Tax Preparation', 0), ('Workday Compensation', 0), ('Workday Payroll', 0)]",
            "count": 1
           }
          ]
         }
        },
        {
         "name": "location",
         "dtype": "object",
         "stats": {
          "unique_count": 1,
          "nan_count": 0,
          "categories": [
           {
            "name": "Heath, United States",
            "count": 1
           }
          ]
         }
        },
        {
         "name": "join_date",
         "dtype": "object",
         "stats": {
          "unique_count": 1,
          "nan_count": 0,
          "categories": [
           {
            "name": "October 27, 2017",
            "count": 1
           }
          ]
         }
        },
        {
         "name": "hourly_rate",
         "dtype": "object",
         "stats": {
          "unique_count": 1,
          "nan_count": 0,
          "categories": [
           {
            "name": "$99",
            "count": 1
           }
          ]
         }
        },
        {
         "name": "pay_grade",
         "dtype": "object",
         "stats": {
          "unique_count": 1,
          "nan_count": 0,
          "categories": [
           {
            "name": "5.7",
            "count": 1
           }
          ]
         }
        },
        {
         "name": "avg_rating",
         "dtype": "object",
         "stats": {
          "unique_count": 1,
          "nan_count": 0,
          "categories": [
           {
            "name": "5.0",
            "count": 1
           }
          ]
         }
        },
        {
         "name": "num_reviews",
         "dtype": "object",
         "stats": {
          "unique_count": 1,
          "nan_count": 0,
          "categories": [
           {
            "name": "28",
            "count": 1
           }
          ]
         }
        },
        {
         "name": "num_recommendations",
         "dtype": "object",
         "stats": {
          "unique_count": 1,
          "nan_count": 0,
          "categories": [
           {
            "name": "3",
            "count": 1
           }
          ]
         }
        },
        {
         "name": "pct_jobs_completed",
         "dtype": "object",
         "stats": {
          "unique_count": 1,
          "nan_count": 0,
          "categories": [
           {
            "name": "100",
            "count": 1
           }
          ]
         }
        },
        {
         "name": "pct_on_budget",
         "dtype": "object",
         "stats": {
          "unique_count": 1,
          "nan_count": 0,
          "categories": [
           {
            "name": "100",
            "count": 1
           }
          ]
         }
        },
        {
         "name": "pct_on_time",
         "dtype": "object",
         "stats": {
          "unique_count": 1,
          "nan_count": 0,
          "categories": [
           {
            "name": "95",
            "count": 1
           }
          ]
         }
        },
        {
         "name": "repeat_hire_rate",
         "dtype": "object",
         "stats": {
          "unique_count": 1,
          "nan_count": 0,
          "categories": [
           {
            "name": "20",
            "count": 1
           }
          ]
         }
        },
        {
         "name": "_deepnote_index_column",
         "dtype": "int64"
        }
       ],
       "rows": [
        {
         "search_query": "designer",
         "name": "Tatiana L.",
         "profile_link": "https://www.freelancer.com/u/TatianaLLL",
         "freelancer_badges": "['plus-membership', 'preferred-freelancer', 'verified']",
         "verifications": "[('Preferred Freelancer', True), ('Identity Verified', True), ('Payment Verified', True), ('Phone V…",
         "tagline": "US Taxes, Bookkeeping, IRS Tax Debt Resolution.",
         "user_description": "Hello, my name is Tatiana Loughman & I'm:\n - an Enrolled Agent,\n - Chartered Economist, \n - QBO Pro…",
         "certifications": "[('US English 1', '92%'), ('Preferred Freelancer Program SLA 1', '89%'), ('Accounting Principles 1'…",
         "top_skills": "[('Accounting', 29), ('Intuit QuickBooks', 27), ('Finance', 24), ('Payroll', 22), ('Bookkeeping', 2…",
         "location": "Heath, United States",
         "join_date": "October 27, 2017",
         "hourly_rate": "$99",
         "pay_grade": "5.7",
         "avg_rating": "5.0",
         "num_reviews": "28",
         "num_recommendations": "3",
         "pct_jobs_completed": "100",
         "pct_on_budget": "100",
         "pct_on_time": "95",
         "repeat_hire_rate": "20",
         "_deepnote_index_column": 0
        }
       ]
      },
      "text/plain": "  search_query        name                             profile_link  \\\n0     designer  Tatiana L.  https://www.freelancer.com/u/TatianaLLL   \n\n                                   freelancer_badges  \\\n0  [plus-membership, preferred-freelancer, verified]   \n\n                                       verifications  \\\n0  [(Preferred Freelancer, True), (Identity Verif...   \n\n                                           tagline  \\\n0  US Taxes, Bookkeeping, IRS Tax Debt Resolution.   \n\n                                    user_description  \\\n0  Hello, my name is Tatiana Loughman & I'm:\\n - ...   \n\n                                      certifications  \\\n0  [(US English 1, 92%), (Preferred Freelancer Pr...   \n\n                                          top_skills              location  \\\n0  [(Accounting, 29), (Intuit QuickBooks, 27), (F...  Heath, United States   \n\n          join_date hourly_rate pay_grade avg_rating num_reviews  \\\n0  October 27, 2017         $99       5.7        5.0          28   \n\n  num_recommendations pct_jobs_completed pct_on_budget pct_on_time  \\\n0                   3                100           100          95   \n\n  repeat_hire_rate  \n0               20  ",
      "text/html": "<div>\n<style scoped>\n    .dataframe tbody tr th:only-of-type {\n        vertical-align: middle;\n    }\n\n    .dataframe tbody tr th {\n        vertical-align: top;\n    }\n\n    .dataframe thead th {\n        text-align: right;\n    }\n</style>\n<table border=\"1\" class=\"dataframe\">\n  <thead>\n    <tr style=\"text-align: right;\">\n      <th></th>\n      <th>search_query</th>\n      <th>name</th>\n      <th>profile_link</th>\n      <th>freelancer_badges</th>\n      <th>verifications</th>\n      <th>tagline</th>\n      <th>user_description</th>\n      <th>certifications</th>\n      <th>top_skills</th>\n      <th>location</th>\n      <th>join_date</th>\n      <th>hourly_rate</th>\n      <th>pay_grade</th>\n      <th>avg_rating</th>\n      <th>num_reviews</th>\n      <th>num_recommendations</th>\n      <th>pct_jobs_completed</th>\n      <th>pct_on_budget</th>\n      <th>pct_on_time</th>\n      <th>repeat_hire_rate</th>\n    </tr>\n  </thead>\n  <tbody>\n    <tr>\n      <th>0</th>\n      <td>designer</td>\n      <td>Tatiana L.</td>\n      <td>https://www.freelancer.com/u/TatianaLLL</td>\n      <td>[plus-membership, preferred-freelancer, verified]</td>\n      <td>[(Preferred Freelancer, True), (Identity Verif...</td>\n      <td>US Taxes, Bookkeeping, IRS Tax Debt Resolution.</td>\n      <td>Hello, my name is Tatiana Loughman &amp; I'm:\\n - ...</td>\n      <td>[(US English 1, 92%), (Preferred Freelancer Pr...</td>\n      <td>[(Accounting, 29), (Intuit QuickBooks, 27), (F...</td>\n      <td>Heath, United States</td>\n      <td>October 27, 2017</td>\n      <td>$99</td>\n      <td>5.7</td>\n      <td>5.0</td>\n      <td>28</td>\n      <td>3</td>\n      <td>100</td>\n      <td>100</td>\n      <td>95</td>\n      <td>20</td>\n    </tr>\n  </tbody>\n</table>\n</div>"
     },
     "metadata": {}
    }
   ]
  },
  {
   "cell_type": "markdown",
   "source": "### b. User without badges & certifications",
   "metadata": {
    "cell_id": "634893d8-dc06-4a22-822a-edf4770c41bf",
    "tags": [],
    "deepnote_cell_type": "markdown",
    "deepnote_cell_height": 62
   }
  },
  {
   "cell_type": "code",
   "metadata": {
    "cell_id": "21e10380-debd-46c9-b0ed-f5edca23deec",
    "tags": [],
    "deepnote_to_be_reexecuted": false,
    "source_hash": "6aa4647e",
    "execution_start": 1647442307902,
    "execution_millis": 7493,
    "deepnote_cell_type": "code",
    "deepnote_cell_height": 804.375,
    "deepnote_output_heights": [
     null,
     606.1875
    ]
   },
   "source": "scraper = FreelancerScraper(search=\"designer\", max_rows=5000)\nscraper.get_user_profile_info('https://www.freelancer.com/u/TeenaVernekar')\nscraper.users_info",
   "execution_count": null,
   "outputs": [
    {
     "name": "stdout",
     "text": "Getting profile information from https://www.freelancer.com/u/TeenaVernekar ...\nFetched user info from https://www.freelancer.com/u/TeenaVernekar\n",
     "output_type": "stream"
    },
    {
     "output_type": "execute_result",
     "execution_count": 11,
     "data": {
      "text/plain": "[{'search_query': 'designer',\n  'name': 'Teena V.',\n  'profile_link': 'https://www.freelancer.com/u/TeenaVernekar',\n  'freelancer_badges': None,\n  'verifications': [('Preferred Freelancer', False),\n   ('Identity Verified', True),\n   ('Payment Verified', True),\n   ('Phone Verified', True),\n   ('Email Verified', True),\n   ('Facebook Connected', False)],\n  'tagline': 'Virtual Assistant - Financial Accounting & Billing',\n  'user_description': 'I am self-motivated and precise individual with excellent skills in Financial Accounting, Billing, Lead Management, Virtual Assistance, Internet Research & Data Entry & Analysis, Software Quality Assurance & Testing.\\n\\nI was full time employed with Standard Chartered Bank for close to 5 years in the role of Portfolio Relationship Manager, MIS Officer, Quality Control Reviewer. Currently working as a freelancer. \\n\\nMy expertise lies in,\\n• Internet Research, Web scrapping, Data Analytics, Data Mining, Content Management\\n• Financial Accounting, Billing & Accounting, Banking, Virtual Admin Assistant, Lead Management\\n• MIS (Management Information System) & KPI reporting (Key Performance Indicator)\\n• Banking Functionality - credit cards, Sourcing Loans, Balance Transfer, E-statements. \\n• Good understanding of Financial Market, Banking, Investments, Retirement.\\n\\nI hold Bachelor’s degree in Commerce specialized in financial accounting.',\n  'certifications': None,\n  'top_skills': [('Data Entry', 6),\n   ('Bookkeeping', 6),\n   ('Data Analytics', 6),\n   ('Data Extraction', 6),\n   ('Data Processing', 5),\n   ('Web Search', 2),\n   ('Excel', 0),\n   ('Virtual Assistant', 0),\n   ('Order Processing', 0),\n   ('Microsoft Outlook', 0),\n   ('Microsoft Office', 0),\n   ('Email Handling', 0),\n   ('Investment Research', 0),\n   ('Data Scraping', 0)],\n  'location': 'Charlotte, United States',\n  'join_date': 'September 11, 2017',\n  'hourly_rate': '$15',\n  'pay_grade': '7.8',\n  'avg_rating': '5.0',\n  'num_reviews': '7',\n  'num_recommendations': '8',\n  'pct_jobs_completed': '100',\n  'pct_on_budget': '100',\n  'pct_on_time': '100',\n  'repeat_hire_rate': '33'}]"
     },
     "metadata": {}
    }
   ]
  },
  {
   "cell_type": "markdown",
   "source": "---",
   "metadata": {
    "cell_id": "4a2de240-2fad-4027-ada9-0035b5c001aa",
    "tags": [],
    "deepnote_cell_type": "markdown",
    "deepnote_cell_height": 46
   }
  },
  {
   "cell_type": "code",
   "metadata": {
    "cell_id": "00009-1bf43cf3-f222-45b5-b0f2-8c3dc56a5e1e",
    "deepnote_cell_type": "code",
    "deepnote_cell_height": 66
   },
   "source": "",
   "execution_count": null,
   "outputs": []
  },
  {
   "cell_type": "markdown",
   "source": "<a style='text-decoration:none;line-height:16px;display:flex;color:#5B5B62;padding:10px;justify-content:end;' href='https://deepnote.com?utm_source=created-in-deepnote-cell&projectId=acc27b92-84be-4130-8026-204943f38189' target=\"_blank\">\n<img alt='Created in deepnote.com' style='display:inline;max-height:16px;margin:0px;margin-right:7.5px;' src='data:image/svg+xml;base64,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' > </img>\nCreated in <span style='font-weight:600;margin-left:4px;'>Deepnote</span></a>",
   "metadata": {
    "tags": [],
    "created_in_deepnote_cell": true,
    "deepnote_cell_type": "markdown"
   }
  }
 ],
 "nbformat": 4,
 "nbformat_minor": 5,
 "metadata": {
  "deepnote": {},
  "deepnote_execution_queue": [],
  "deepnote_notebook_id": "11883ff2-b587-446c-b5b9-25d24994dbe1",
  "kernelspec": {
   "display_name": "Python 3",
   "language": "python",
   "name": "python3"
  },
  "language_info": {
   "codemirror_mode": {
    "name": "ipython",
    "version": 3
   },
   "file_extension": ".py",
   "mimetype": "text/x-python",
   "name": "python",
   "nbconvert_exporter": "python",
   "pygments_lexer": "ipython3",
   "version": "3.7.11"
  }
 }
}