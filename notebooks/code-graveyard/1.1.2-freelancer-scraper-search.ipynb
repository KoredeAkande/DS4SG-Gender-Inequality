{
 "cells": [
  {
   "cell_type": "markdown",
   "source": "# Freelancer Scraper - search by keyword",
   "metadata": {
    "cell_id": "6d493510-e5bc-4fce-b5ff-00f6c13c3b4f",
    "deepnote_cell_type": "markdown",
    "deepnote_cell_height": 82
   }
  },
  {
   "cell_type": "code",
   "metadata": {
    "cell_id": "00002-37600590-2a83-4781-a698-d459008c3829",
    "deepnote_to_be_reexecuted": false,
    "source_hash": "f679a1ab",
    "execution_start": 1647308786088,
    "execution_millis": 26,
    "deepnote_cell_type": "code",
    "deepnote_cell_height": 225
   },
   "source": "#Import the necessary packages needed to build the freelancer bot and navigate the pages\nimport re\nimport pandas as pd\nfrom time import sleep\nfrom selenium import webdriver\nfrom webdriver_manager.chrome import ChromeDriverManager\nfrom selenium.webdriver.common.keys import Keys\nfrom selenium.webdriver.common.by import By\nfrom selenium.webdriver.chrome.options import Options",
   "execution_count": null,
   "outputs": []
  },
  {
   "cell_type": "code",
   "metadata": {
    "cell_id": "00003-ef4eac38-3701-4401-a3db-e07019b0f8ec",
    "deepnote_to_be_reexecuted": false,
    "source_hash": "57097df1",
    "execution_start": 1647308791083,
    "execution_millis": 2,
    "deepnote_cell_type": "code",
    "deepnote_cell_height": 3591
   },
   "source": "class FreelancerScraper:\n    \n    def __init__(self,search=None, max_rows=float(\"inf\")):\n        \n        #Check if a search term was inputted\n        if search is None:\n            raise ValueError('Please provide a search term for scraping')\n        \n        self.search = search\n        self.url = f'https://www.freelancer.com/freelancers/united-states/'\n\n        # sets a hard limit on the amount of rows\n        # the scraper should fetch\n        self.max_rows = max_rows\n            \n        #List to store the scraped user profile links\n        self.user_profiles = set([])\n        \n        #List to store scraped user profile info\n        self.users_info = []\n        \n        \n    def get_all_usernames(self):\n        \n        print(\"Fetching usernames...\")\n\n        options = Options()\n        options.add_argument(\"--headless\")\n        options.add_argument('--no-sandbox')\n\n        #Create browser instance\n        self.browser = webdriver.Chrome(options=options)\n        \n        #Get the starting webpage and wait sometime for elements to load\n        self.browser.get(self.url)\n        sleep(3)\n        \n        #See if online selected, and deselect. Also wait for sometime for elements to load\n        try:\n            self.browser.find_element(By.ID,\"selected-online\").click()\n            sleep(3)\n        except:\n            pass\n\n        search_input = self.browser.find_element(By.ID, \"freeSearchInput\")\n        search_input.clear()\n        search_input.send_keys(self.search)\n        search_input.send_keys(Keys.RETURN)\n\n        sleep(3)\n\n        result_amount_text = self.browser.find_element(By.CLASS_NAME, \"result-amount\").text\n        result_amount = int(result_amount_text.split(\" \")[1])\n\n        print(\"Found\", result_amount, \"total results.\")\n\n        usernames_scraped = 0\n        \n        while usernames_scraped < result_amount and usernames_scraped < self.max_rows:\n            \n            #Get the profile links for everyone on the page\n            usernames = self.browser.find_elements(By.CLASS_NAME,\"find-freelancer-username\")\n            \n            for user in usernames:\n                usernames_scraped += 1\n\n                # add username to list of profiles\n                # to fetch later\n                self.user_profiles.add(user.get_attribute('href'))\n            \n            print(\"Usernames fetched:\", usernames_scraped)\n\n            #NAVIGATION TO NEXT PAGE\n            \n            # find all the page navigation buttons\n            pg_nav_btns = self.browser.find_elements(By.CSS_SELECTOR,\"a[data-target='pagination']\")\n            \n            # find and click on the last one (next page button) \n            pg_nav_btns[-1].click()\n            sleep(3)\n        \n        #Close the browser when done\n        self.browser.quit()  \n        \n        \n    def get_user_profile_info(self,user_profile_link):\n        \n        \"\"\"\n        Scrapes and inputted user profile link\n        \"\"\"\n        \n        print(\"Getting profile information from\", user_profile_link, \"...\")\n\n        options = Options()\n        options.add_argument(\"--headless\")\n        options.add_argument('--no-sandbox')\n        \n        try:\n\n            self.browser = webdriver.Chrome(options=options)\n            self.browser.get(user_profile_link)\n            sleep(2)\n        \n            #Dictionary to store the user's info\n            user_info = {}\n            \n            #Store the job_or_field\n            user_info['search_query'] = self.search\n\n            #Get name\n            user_info['name'] = self.browser.find_element(By.CSS_SELECTOR,\"h3[data-color='dark']\").text\n            \n            #Store the profile link\n            user_info['profile_link'] = user_profile_link\n\n            #Get tagline\n            user_info['tagline'] = self.browser.find_element(By.CSS_SELECTOR,\"h2[data-color='mid']\").text\n\n            ###### Get description\n            description_box = self.browser.find_element(By.CSS_SELECTOR,\"fl-text[data-max-lines='15']\")\n\n            #Try to click on the read more button and extract text\n            try:\n                description_box.find_element(By.CLASS_NAME,'ReadMoreButton').click()\n                user_info['user_description'] = description_box.text\n            #If error is thrown because text doesn't need to be expanded, then we can just pull direct text \n            except:\n                user_info['user_description'] = description_box.text\n            ######################    \n\n            #Get location\n            user_info['location'] = self.browser.find_element(By.CSS_SELECTOR,\"fl-col[class='SupplementaryInfo']\").text\n\n            #Get join date\n            user_info['join_date'] = self.browser.find_element(By.XPATH, \"//*[contains(text(),'Joined')]\").text.replace('Joined ','')\n\n            #Hourly rate\n            user_info['hourly_rate'] = re.findall('\\$\\d+',self.browser.find_element(By.XPATH, \"//*[contains(text(),'USD')]\").text)[0]\n\n            #Get pay grade\n            user_info['pay_grade'] = self.browser.find_element(By.CSS_SELECTOR,\"div[data-size='xxsmall\").text\n\n            #######Get rating container\n            rating_container = self.browser.find_elements(By.CSS_SELECTOR,\"fl-bit[class ='RatingContainer']\")[1]\n            \n\n            #Get average rating and number of reviews\n            user_info['avg_rating'], reviews = rating_container.text.split('\\n')\n            user_info['num_reviews'] = re.findall('\\d+',reviews)[0]\n            ##################################\n\n            #Get number of recommendations\n            user_info['num_recommendations']=re.findall('\\d+',self.browser.find_element(By.CSS_SELECTOR,\"fl-col[class='RecommendationsText']\").text)[0]\n\n            ### GET STATS ON PERFORMANCE\n            pct_jobs_completed, pct_on_budget, pct_on_time, repeat_hire_rate = [item.text.\\\n                                                                                replace('%','') for item in self.browser.\\\n                                                                                find_elements(By.CSS_SELECTOR,\"fl-text[class='ReputationItemAmount']\")]\n            \n            user_info['pct_jobs_completed'] = pct_jobs_completed\n            user_info['pct_on_budget'] = pct_on_budget\n            user_info['pct_on_time'] = pct_on_time\n            user_info['repeat_hire_rate'] = repeat_hire_rate\n            ##############################\n\n            #Add the extracted info the list for all users\n            self.users_info.append(user_info)\n\n            print(\"Fetched user info from\", user_profile_link)\n\n            #Close the browser when done\n            self.browser.close()\n        \n        except Exception as e:\n\n            print(\"Failed to fetch user profile:\", user_profile_link)\n            print(e)\n          \n        \n    \n    def run(self):\n        \n        #Extract all the usernames for the particular role\n        self.get_all_usernames()\n        \n        users_fetched = 0\n        #Get all the info for each of the usernames\n        for url in self.user_profiles:\n            self.get_user_profile_info(url)\n            users_fetched += 1\n            print(\"Users fetched:\", users_fetched)\n            sleep(2.5)\n    \n        print(\"All done!\")\n  \n        ",
   "execution_count": null,
   "outputs": []
  },
  {
   "cell_type": "code",
   "metadata": {
    "cell_id": "00005-d3abeb34-233a-4d4e-bf8b-6e88820e4f2d",
    "deepnote_to_be_reexecuted": false,
    "source_hash": "f3239a7d",
    "execution_start": 1647362866076,
    "execution_millis": 41434130,
    "deepnote_cell_type": "code",
    "deepnote_cell_height": 1354
   },
   "source": "scraper = FreelancerScraper(search=\"designer\", max_rows=5000)\nscraper.run()",
   "execution_count": null,
   "outputs": [
    {
     "name": "stdout",
     "text": "Users fetched: 1161\nGetting profile information from https://www.freelancer.com/u/amirrzp78 ...\nFetched user info from https://www.freelancer.com/u/amirrzp78\nUsers fetched: 1162\nGetting profile information from https://www.freelancer.com/u/lilbit800 ...\nFetched user info from https://www.freelancer.com/u/lilbit800\nUsers fetched: 1163\nGetting profile information from https://www.freelancer.com/u/Ridafarhat5 ...\nFetched user info from https://www.freelancer.com/u/Ridafarhat5\nUsers fetched: 1164\nGetting profile information from https://www.freelancer.com/u/barrett797 ...\nFetched user info from https://www.freelancer.com/u/barrett797\nUsers fetched: 1165\nGetting profile information from https://www.freelancer.com/u/A7med3aw ...\nFetched user info from https://www.freelancer.com/u/A7med3aw\nUsers fetched: 1166\nGetting profile information from https://www.freelancer.com/u/TaTaArt ...\nFetched user info from https://www.freelancer.com/u/TaTaArt\nUsers fetched: 1167\nGetting profile information from https://www.freelancer.com/u/nidaalidauva ...\nFetched user info from https://www.freelancer.com/u/nidaalidauva\nUsers fetched: 1168\nGetting profile information from https://www.freelancer.com/u/Jbcampbell2019 ...\nFetched user info from https://www.freelancer.com/u/Jbcampbell2019\nUsers fetched: 1169\nGetting profile information from https://www.freelancer.com/u/LauraLupton2022 ...\nFetched user info from https://www.freelancer.com/u/LauraLupton2022\nUsers fetched: 1170\nGetting profile information from https://www.freelancer.com/u/JJamesMcFarland ...\nFetched user info from https://www.freelancer.com/u/JJamesMcFarland\nUsers fetched: 1171\nGetting profile information from https://www.freelancer.com/u/littleboymommy ...\nFetched user info from https://www.freelancer.com/u/littleboymommy\nUsers fetched: 1172\nGetting profile information from https://www.freelancer.com/u/EMAWD ...\nFetched user info from https://www.freelancer.com/u/EMAWD\nUsers fetched: 1173\nGetting profile information from https://www.freelancer.com/u/MNadaa89 ...\nFetched user info from https://www.freelancer.com/u/MNadaa89\nUsers fetched: 1174\nGetting profile information from https://www.freelancer.com/u/rashnarry ...\nFetched user info from https://www.freelancer.com/u/rashnarry\nUsers fetched: 1175\nGetting profile information from https://www.freelancer.com/u/RageDesignZ ...\nFetched user info from https://www.freelancer.com/u/RageDesignZ\nUsers fetched: 1176\nGetting profile information from https://www.freelancer.com/u/ttheen ...\nFetched user info from https://www.freelancer.com/u/ttheen\nUsers fetched: 1177\nGetting profile information from https://www.freelancer.com/u/PhillipBrock ...\nFetched user info from https://www.freelancer.com/u/PhillipBrock\nUsers fetched: 1178\nGetting profile information from https://www.freelancer.com/u/nehain1 ...\nFetched user info from https://www.freelancer.com/u/nehain1\nUsers fetched: 1179\nGetting profile information from https://www.freelancer.com/u/clearandpresent ...\nFetched user info from https://www.freelancer.com/u/clearandpresent\nUsers fetched: 1180\nGetting profile information from https://www.freelancer.com/u/Nermeeni ...\nFetched user info from https://www.freelancer.com/u/Nermeeni\nUsers fetched: 1181\nGetting profile information from https://www.freelancer.com/u/PrintReadyCG ...\nFetched user info from https://www.freelancer.com/u/PrintReadyCG\nUsers fetched: 1182\nGetting profile information from https://www.freelancer.com/u/Bhogretmenoglu ...\nFetched user info from https://www.freelancer.com/u/Bhogretmenoglu\nUsers fetched: 1183\nGetting profile information from https://www.freelancer.com/u/arthurcrippen ...\nFetched user info from https://www.freelancer.com/u/arthurcrippen\nUsers fetched: 1184\nGetting profile information from https://www.freelancer.com/u/TDWells1 ...\nFetched user info from https://www.freelancer.com/u/TDWells1\nUsers fetched: 1185\nGetting profile information from https://www.freelancer.com/u/hkoruk35 ...\nFetched user info from https://www.freelancer.com/u/hkoruk35\nUsers fetched: 1186\nGetting profile information from https://www.freelancer.com/u/Biznetix ...\nFetched user info from https://www.freelancer.com/u/Biznetix\nUsers fetched: 1187\nGetting profile information from https://www.freelancer.com/u/rpomav ...\nFetched user info from https://www.freelancer.com/u/rpomav\nUsers fetched: 1188\nGetting profile information from https://www.freelancer.com/u/CryptoPostage ...\nFetched user info from https://www.freelancer.com/u/CryptoPostage\nUsers fetched: 1189\nGetting profile information from https://www.freelancer.com/u/m2motazedi ...\nFetched user info from https://www.freelancer.com/u/m2motazedi\nUsers fetched: 1190\nGetting profile information from https://www.freelancer.com/u/sethtylerb ...\nFetched user info from https://www.freelancer.com/u/sethtylerb\nUsers fetched: 1191\nGetting profile information from https://www.freelancer.com/u/theMTpage ...\nFetched user info from https://www.freelancer.com/u/theMTpage\nUsers fetched: 1192\nGetting profile information from https://www.freelancer.com/u/KadeemM ...\nFetched user info from https://www.freelancer.com/u/KadeemM\nUsers fetched: 1193\nGetting profile information from https://www.freelancer.com/u/schillusional1 ...\nFetched user info from https://www.freelancer.com/u/schillusional1\nUsers fetched: 1194\nGetting profile information from https://www.freelancer.com/u/SimplySav ...\nFetched user info from https://www.freelancer.com/u/SimplySav\nUsers fetched: 1195\nGetting profile information from https://www.freelancer.com/u/asan0193 ...\nFetched user info from https://www.freelancer.com/u/asan0193\nUsers fetched: 1196\nGetting profile information from https://www.freelancer.com/u/jelieff ...\nFetched user info from https://www.freelancer.com/u/jelieff\nUsers fetched: 1197\nGetting profile information from https://www.freelancer.com/u/jgletow ...\nFetched user info from https://www.freelancer.com/u/jgletow\nUsers fetched: 1198\nGetting profile information from https://www.freelancer.com/u/rlsteward ...\nFetched user info from https://www.freelancer.com/u/rlsteward\nUsers fetched: 1199\nGetting profile information from https://www.freelancer.com/u/riya10g ...\nFetched user info from https://www.freelancer.com/u/riya10g\nUsers fetched: 1200\nGetting profile information from https://www.freelancer.com/u/tpbenner11 ...\nFetched user info from https://www.freelancer.com/u/tpbenner11\nUsers fetched: 1201\nGetting profile information from https://www.freelancer.com/u/dudetru25 ...\nFetched user info from https://www.freelancer.com/u/dudetru25\nUsers fetched: 1202\nGetting profile information from https://www.freelancer.com/u/jessileonard ...\nFetched user info from https://www.freelancer.com/u/jessileonard\nUsers fetched: 1203\nGetting profile information from https://www.freelancer.com/u/all3y1995 ...\nFetched user info from https://www.freelancer.com/u/all3y1995\nUsers fetched: 1204\nGetting profile information from https://www.freelancer.com/u/aina1170 ...\nFetched user info from https://www.freelancer.com/u/aina1170\nUsers fetched: 1205\nGetting profile information from https://www.freelancer.com/u/Anloaguer1 ...\nFetched user info from https://www.freelancer.com/u/Anloaguer1\nUsers fetched: 1206\nGetting profile information from https://www.freelancer.com/u/withmiej ...\nFetched user info from https://www.freelancer.com/u/withmiej\nUsers fetched: 1207\nGetting profile information from https://www.freelancer.com/u/CreativeOutflow ...\nFetched user info from https://www.freelancer.com/u/CreativeOutflow\nUsers fetched: 1208\nGetting profile information from https://www.freelancer.com/u/paulartsy ...\nFetched user info from https://www.freelancer.com/u/paulartsy\nUsers fetched: 1209\nGetting profile information from https://www.freelancer.com/u/DanGilmartin ...\nFetched user info from https://www.freelancer.com/u/DanGilmartin\nUsers fetched: 1210\nGetting profile information from https://www.freelancer.com/u/sserge2 ...\nFetched user info from https://www.freelancer.com/u/sserge2\nUsers fetched: 1211\nGetting profile information from https://www.freelancer.com/u/fadynabil003 ...\nFetched user info from https://www.freelancer.com/u/fadynabil003\nUsers fetched: 1212\nGetting profile information from https://www.freelancer.com/u/KaizenCreative ...\nFetched user info from https://www.freelancer.com/u/KaizenCreative\nUsers fetched: 1213\nGetting profile information from https://www.freelancer.com/u/lamontep49 ...\nFetched user info from https://www.freelancer.com/u/lamontep49\nUsers fetched: 1214\nGetting profile information from https://www.freelancer.com/u/KomDesign ...\nFetched user info from https://www.freelancer.com/u/KomDesign\nUsers fetched: 1215\nGetting profile information from https://www.freelancer.com/u/tuza60 ...\nFetched user info from https://www.freelancer.com/u/tuza60\nUsers fetched: 1216\nGetting profile information from https://www.freelancer.com/u/angelbu4 ...\nFetched user info from https://www.freelancer.com/u/angelbu4\nUsers fetched: 1217\nGetting profile information from https://www.freelancer.com/u/jamieyht ...\nFetched user info from https://www.freelancer.com/u/jamieyht\nUsers fetched: 1218\nGetting profile information from https://www.freelancer.com/u/WenesisPeguero ...\nFetched user info from https://www.freelancer.com/u/WenesisPeguero\nUsers fetched: 1219\nGetting profile information from https://www.freelancer.com/u/DigitalGregg ...\nFetched user info from https://www.freelancer.com/u/DigitalGregg\nUsers fetched: 1220\nGetting profile information from https://www.freelancer.com/u/tzaby1112 ...\nFetched user info from https://www.freelancer.com/u/tzaby1112\nUsers fetched: 1221\nGetting profile information from https://www.freelancer.com/u/Benyamin66 ...\nFetched user info from https://www.freelancer.com/u/Benyamin66\nUsers fetched: 1222\nGetting profile information from https://www.freelancer.com/u/JCraig4 ...\nFetched user info from https://www.freelancer.com/u/JCraig4\nUsers fetched: 1223\nGetting profile information from https://www.freelancer.com/u/gponcedleon ...\nFetched user info from https://www.freelancer.com/u/gponcedleon\nUsers fetched: 1224\nGetting profile information from https://www.freelancer.com/u/marshammc ...\nFetched user info from https://www.freelancer.com/u/marshammc\nUsers fetched: 1225\nGetting profile information from https://www.freelancer.com/u/AITCOM ...\nFetched user info from https://www.freelancer.com/u/AITCOM\nUsers fetched: 1226\nGetting profile information from https://www.freelancer.com/u/sebastian1914 ...\nFetched user info from https://www.freelancer.com/u/sebastian1914\nUsers fetched: 1227\nGetting profile information from https://www.freelancer.com/u/EscobarJosueR ...\nFetched user info from https://www.freelancer.com/u/EscobarJosueR\nUsers fetched: 1228\nGetting profile information from https://www.freelancer.com/u/DwainBernard ...\nFetched user info from https://www.freelancer.com/u/DwainBernard\nUsers fetched: 1229\nGetting profile information from https://www.freelancer.com/u/kristallehd4 ...\nFetched user info from https://www.freelancer.com/u/kristallehd4\nUsers fetched: 1230\nGetting profile information from https://www.freelancer.com/u/ladydiana2191 ...\nFetched user info from https://www.freelancer.com/u/ladydiana2191\nUsers fetched: 1231\nGetting profile information from https://www.freelancer.com/u/cndesigner ...\nFetched user info from https://www.freelancer.com/u/cndesigner\nUsers fetched: 1232\nGetting profile information from https://www.freelancer.com/u/pellauren ...\nFetched user info from https://www.freelancer.com/u/pellauren\nUsers fetched: 1233\nGetting profile information from https://www.freelancer.com/u/bphillips71 ...\nFetched user info from https://www.freelancer.com/u/bphillips71\nUsers fetched: 1234\nGetting profile information from https://www.freelancer.com/u/carolinatome ...\nFetched user info from https://www.freelancer.com/u/carolinatome\nUsers fetched: 1235\nGetting profile information from https://www.freelancer.com/u/AnimateCreate ...\nFetched user info from https://www.freelancer.com/u/AnimateCreate\nUsers fetched: 1236\nGetting profile information from https://www.freelancer.com/u/PadThaiLer ...\nFetched user info from https://www.freelancer.com/u/PadThaiLer\nUsers fetched: 1237\nGetting profile information from https://www.freelancer.com/u/enesj5 ...\nFetched user info from https://www.freelancer.com/u/enesj5\nUsers fetched: 1238\nGetting profile information from https://www.freelancer.com/u/satishbirajdar20 ...\nFetched user info from https://www.freelancer.com/u/satishbirajdar20\nUsers fetched: 1239\nGetting profile information from https://www.freelancer.com/u/DeuceTreDesigns ...\nFetched user info from https://www.freelancer.com/u/DeuceTreDesigns\nUsers fetched: 1240\nGetting profile information from https://www.freelancer.com/u/mysticpixels ...\nFailed to fetch user profile: https://www.freelancer.com/u/mysticpixels\nMessage: no such element: Unable to locate element: {\"method\":\"css selector\",\"selector\":\"h2[data-color='mid']\"}\n  (Session info: headless chrome=90.0.4430.212)\nStacktrace:\n#0 0x55ca53e897f9 <unknown>\n#1 0x55ca53e293b3 <unknown>\n#2 0x55ca53b71016 <unknown>\n#3 0x55ca53ba581e <unknown>\n#4 0x55ca53bdb8fb <unknown>\n#5 0x55ca53bc8ded <unknown>\n#6 0x55ca53bd99e1 <unknown>\n#7 0x55ca53bc8c93 <unknown>\n#8 0x55ca53b9ace4 <unknown>\n#9 0x55ca53b9c4d2 <unknown>\n#10 0x55ca53e55542 <unknown>\n#11 0x55ca53e64ce7 <unknown>\n#12 0x55ca53e649e4 <unknown>\n#13 0x55ca53e6913a <unknown>\n#14 0x55ca53e655b9 <unknown>\n#15 0x55ca53e4ae00 <unknown>\n#16 0x55ca53e7c5d2 <unknown>\n#17 0x55ca53e7c778 <unknown>\n#18 0x55ca53e94a1f <unknown>\n#19 0x7f2ef4b36fa3 start_thread\n#20 0x7f2ef3b8c4cf clone\n\nUsers fetched: 1241\nGetting profile information from https://www.freelancer.com/u/slankapure ...\nFetched user info from https://www.freelancer.com/u/slankapure\nUsers fetched: 1242\nGetting profile information from https://www.freelancer.com/u/rgssoloutions ...\nFetched user info from https://www.freelancer.com/u/rgssoloutions\nUsers fetched: 1243\nGetting profile information from https://www.freelancer.com/u/davaidwilliam ...\nFetched user info from https://www.freelancer.com/u/davaidwilliam\nUsers fetched: 1244\nGetting profile information from https://www.freelancer.com/u/alexzavala ...\nFetched user info from https://www.freelancer.com/u/alexzavala\nUsers fetched: 1245\nGetting profile information from https://www.freelancer.com/u/darinsmith ...\nFetched user info from https://www.freelancer.com/u/darinsmith\nUsers fetched: 1246\nGetting profile information from https://www.freelancer.com/u/LuisJ03 ...\nFetched user info from https://www.freelancer.com/u/LuisJ03\nUsers fetched: 1247\nGetting profile information from https://www.freelancer.com/u/jayareX7 ...\nFetched user info from https://www.freelancer.com/u/jayareX7\nUsers fetched: 1248\nGetting profile information from https://www.freelancer.com/u/dspy8083 ...\nFetched user info from https://www.freelancer.com/u/dspy8083\nUsers fetched: 1249\nGetting profile information from https://www.freelancer.com/u/thegirle ...\nFailed to fetch user profile: https://www.freelancer.com/u/thegirle\nlist index out of range\nUsers fetched: 1250\nGetting profile information from https://www.freelancer.com/u/sammidjones ...\nFetched user info from https://www.freelancer.com/u/sammidjones\nUsers fetched: 1251\nGetting profile information from https://www.freelancer.com/u/sdfingard ...\nFetched user info from https://www.freelancer.com/u/sdfingard\nUsers fetched: 1252\nGetting profile information from https://www.freelancer.com/u/pooletyasia ...\nFetched user info from https://www.freelancer.com/u/pooletyasia\nUsers fetched: 1253\nGetting profile information from https://www.freelancer.com/u/ginelirizarry ...\nFetched user info from https://www.freelancer.com/u/ginelirizarry\nUsers fetched: 1254\nGetting profile information from https://www.freelancer.com/u/marciacajeira ...\nFetched user info from https://www.freelancer.com/u/marciacajeira\nUsers fetched: 1255\nGetting profile information from https://www.freelancer.com/u/YamiNunez95 ...\nFetched user info from https://www.freelancer.com/u/YamiNunez95\nUsers fetched: 1256\nGetting profile information from https://www.freelancer.com/u/edspaeth ...\nFetched user info from https://www.freelancer.com/u/edspaeth\nUsers fetched: 1257\nGetting profile information from https://www.freelancer.com/u/seidelgraphics ...\nFetched user info from https://www.freelancer.com/u/seidelgraphics\nUsers fetched: 1258\nGetting profile information from https://www.freelancer.com/u/iyamidesignweb ...\nFetched user info from https://www.freelancer.com/u/iyamidesignweb\nUsers fetched: 1259\nGetting profile information from https://www.freelancer.com/u/lauriemcd ...\nFetched user info from https://www.freelancer.com/u/lauriemcd\nUsers fetched: 1260\nGetting profile information from https://www.freelancer.com/u/marydp627 ...\nFetched user info from https://www.freelancer.com/u/marydp627\nUsers fetched: 1261\nGetting profile information from https://www.freelancer.com/u/MsCaddServices ...\nFetched user info from https://www.freelancer.com/u/MsCaddServices\nUsers fetched: 1262\nGetting profile information from https://www.freelancer.com/u/yesheciagreen ...\nFetched user info from https://www.freelancer.com/u/yesheciagreen\nUsers fetched: 1263\nGetting profile information from https://www.freelancer.com/u/plainformstudio ...\nFetched user info from https://www.freelancer.com/u/plainformstudio\nUsers fetched: 1264\nGetting profile information from https://www.freelancer.com/u/TrueTechNathan ...\nFetched user info from https://www.freelancer.com/u/TrueTechNathan\nUsers fetched: 1265\nGetting profile information from https://www.freelancer.com/u/the410group ...\nFetched user info from https://www.freelancer.com/u/the410group\nUsers fetched: 1266\nGetting profile information from https://www.freelancer.com/u/AdelaideF ...\nFetched user info from https://www.freelancer.com/u/AdelaideF\nUsers fetched: 1267\nGetting profile information from https://www.freelancer.com/u/JarrenHItch ...\nFetched user info from https://www.freelancer.com/u/JarrenHItch\nUsers fetched: 1268\nGetting profile information from https://www.freelancer.com/u/nightcrewstudio ...\nFetched user info from https://www.freelancer.com/u/nightcrewstudio\nUsers fetched: 1269\nGetting profile information from https://www.freelancer.com/u/buranna95 ...\nFetched user info from https://www.freelancer.com/u/buranna95\nUsers fetched: 1270\nGetting profile information from https://www.freelancer.com/u/PankyNewmen29 ...\nFetched user info from https://www.freelancer.com/u/PankyNewmen29\nUsers fetched: 1271\nGetting profile information from https://www.freelancer.com/u/JonathanGov ...\nFetched user info from https://www.freelancer.com/u/JonathanGov\nUsers fetched: 1272\nGetting profile information from https://www.freelancer.com/u/LaceyWMcGhee ...\nFetched user info from https://www.freelancer.com/u/LaceyWMcGhee\nUsers fetched: 1273\nGetting profile information from https://www.freelancer.com/u/artisticallycami ...\nFetched user info from https://www.freelancer.com/u/artisticallycami\nUsers fetched: 1274\nGetting profile information from https://www.freelancer.com/u/gechappells ...\nFetched user info from https://www.freelancer.com/u/gechappells\nUsers fetched: 1275\nGetting profile information from https://www.freelancer.com/u/saeedgondal ...\nFetched user info from https://www.freelancer.com/u/saeedgondal\nUsers fetched: 1276\nGetting profile information from https://www.freelancer.com/u/vektron ...\nFetched user info from https://www.freelancer.com/u/vektron\nUsers fetched: 1277\nGetting profile information from https://www.freelancer.com/u/yuben112 ...\nFetched user info from https://www.freelancer.com/u/yuben112\nUsers fetched: 1278\nGetting profile information from https://www.freelancer.com/u/KhushaliHaji ...\nFetched user info from https://www.freelancer.com/u/KhushaliHaji\nUsers fetched: 1279\nGetting profile information from https://www.freelancer.com/u/IanCSutherland ...\nFetched user info from https://www.freelancer.com/u/IanCSutherland\nUsers fetched: 1280\nGetting profile information from https://www.freelancer.com/u/wwwjaydotcom ...\nFetched user info from https://www.freelancer.com/u/wwwjaydotcom\nUsers fetched: 1281\nGetting profile information from https://www.freelancer.com/u/AmeXHarleenX ...\nFetched user info from https://www.freelancer.com/u/AmeXHarleenX\nUsers fetched: 1282\nGetting profile information from https://www.freelancer.com/u/cutbyfrank ...\nFetched user info from https://www.freelancer.com/u/cutbyfrank\nUsers fetched: 1283\nGetting profile information from https://www.freelancer.com/u/grantlacorte ...\nFetched user info from https://www.freelancer.com/u/grantlacorte\nUsers fetched: 1284\nGetting profile information from https://www.freelancer.com/u/biggestdiamond01 ...\nFetched user info from https://www.freelancer.com/u/biggestdiamond01\nUsers fetched: 1285\nGetting profile information from https://www.freelancer.com/u/KAV3H ...\nFetched user info from https://www.freelancer.com/u/KAV3H\nUsers fetched: 1286\nGetting profile information from https://www.freelancer.com/u/jennyddesign ...\nFetched user info from https://www.freelancer.com/u/jennyddesign\nUsers fetched: 1287\nGetting profile information from https://www.freelancer.com/u/HASSANPASHA ...\nFetched user info from https://www.freelancer.com/u/HASSANPASHA\nUsers fetched: 1288\nGetting profile information from https://www.freelancer.com/u/jeremiahtaylor ...\nFetched user info from https://www.freelancer.com/u/jeremiahtaylor\nUsers fetched: 1289\nGetting profile information from https://www.freelancer.com/u/Lueya58 ...\nFetched user info from https://www.freelancer.com/u/Lueya58\nUsers fetched: 1290\nGetting profile information from https://www.freelancer.com/u/zackconklin ...\nFetched user info from https://www.freelancer.com/u/zackconklin\nUsers fetched: 1291\nGetting profile information from https://www.freelancer.com/u/BrianStandridge ...\nFetched user info from https://www.freelancer.com/u/BrianStandridge\nUsers fetched: 1292\nGetting profile information from https://www.freelancer.com/u/indgocorp ...\nFetched user info from https://www.freelancer.com/u/indgocorp\nUsers fetched: 1293\nGetting profile information from https://www.freelancer.com/u/RealistRyan ...\nFetched user info from https://www.freelancer.com/u/RealistRyan\nUsers fetched: 1294\nGetting profile information from https://www.freelancer.com/u/WyzrdX ...\nFetched user info from https://www.freelancer.com/u/WyzrdX\nUsers fetched: 1295\nGetting profile information from https://www.freelancer.com/u/R2Me2 ...\nFetched user info from https://www.freelancer.com/u/R2Me2\nUsers fetched: 1296\nGetting profile information from https://www.freelancer.com/u/bmurph8 ...\nFetched user info from https://www.freelancer.com/u/bmurph8\nUsers fetched: 1297\nGetting profile information from https://www.freelancer.com/u/webAMamstudios ...\nFetched user info from https://www.freelancer.com/u/webAMamstudios\nUsers fetched: 1298\nGetting profile information from https://www.freelancer.com/u/bijahd ...\nFetched user info from https://www.freelancer.com/u/bijahd\nUsers fetched: 1299\nGetting profile information from https://www.freelancer.com/u/jarrettbeck13 ...\nFetched user info from https://www.freelancer.com/u/jarrettbeck13\nUsers fetched: 1300\nGetting profile information from https://www.freelancer.com/u/Reese91490 ...\nFetched user info from https://www.freelancer.com/u/Reese91490\nUsers fetched: 1301\nGetting profile information from https://www.freelancer.com/u/orionkm ...\nFetched user info from https://www.freelancer.com/u/orionkm\nUsers fetched: 1302\nGetting profile information from https://www.freelancer.com/u/lfjobs ...\nFetched user info from https://www.freelancer.com/u/lfjobs\nUsers fetched: 1303\nGetting profile information from https://www.freelancer.com/u/JuanZDesigner ...\nFetched user info from https://www.freelancer.com/u/JuanZDesigner\nUsers fetched: 1304\nGetting profile information from https://www.freelancer.com/u/CalPrintingCo ...\nFetched user info from https://www.freelancer.com/u/CalPrintingCo\nUsers fetched: 1305\nGetting profile information from https://www.freelancer.com/u/lkepchar ...\nFetched user info from https://www.freelancer.com/u/lkepchar\nUsers fetched: 1306\nGetting profile information from https://www.freelancer.com/u/greend29 ...\nFetched user info from https://www.freelancer.com/u/greend29\nUsers fetched: 1307\nGetting profile information from https://www.freelancer.com/u/miaweiland ...\nFetched user info from https://www.freelancer.com/u/miaweiland\nUsers fetched: 1308\nGetting profile information from https://www.freelancer.com/u/KevinJoshuaPerez ...\nFetched user info from https://www.freelancer.com/u/KevinJoshuaPerez\nUsers fetched: 1309\nGetting profile information from https://www.freelancer.com/u/Maryin ...\nFetched user info from https://www.freelancer.com/u/Maryin\nUsers fetched: 1310\nGetting profile information from https://www.freelancer.com/u/meriah2020 ...\nFetched user info from https://www.freelancer.com/u/meriah2020\nUsers fetched: 1311\nGetting profile information from https://www.freelancer.com/u/akz821 ...\nFetched user info from https://www.freelancer.com/u/akz821\nUsers fetched: 1312\nGetting profile information from https://www.freelancer.com/u/cvedesart ...\nFetched user info from https://www.freelancer.com/u/cvedesart\nUsers fetched: 1313\nGetting profile information from https://www.freelancer.com/u/alexandortiz ...\nFetched user info from https://www.freelancer.com/u/alexandortiz\nUsers fetched: 1314\nGetting profile information from https://www.freelancer.com/u/BnaxDesigns ...\nFetched user info from https://www.freelancer.com/u/BnaxDesigns\nUsers fetched: 1315\nGetting profile information from https://www.freelancer.com/u/hannahburgos ...\nFetched user info from https://www.freelancer.com/u/hannahburgos\nUsers fetched: 1316\nGetting profile information from https://www.freelancer.com/u/nicolesalem ...\nFetched user info from https://www.freelancer.com/u/nicolesalem\nUsers fetched: 1317\nGetting profile information from https://www.freelancer.com/u/aideliz ...\nFetched user info from https://www.freelancer.com/u/aideliz\nUsers fetched: 1318\nGetting profile information from https://www.freelancer.com/u/bkelli ...\nFetched user info from https://www.freelancer.com/u/bkelli\nUsers fetched: 1319\nGetting profile information from https://www.freelancer.com/u/Lskalli ...\nFetched user info from https://www.freelancer.com/u/Lskalli\nUsers fetched: 1320\nGetting profile information from https://www.freelancer.com/u/XenoStudioNet ...\nFetched user info from https://www.freelancer.com/u/XenoStudioNet\nUsers fetched: 1321\nGetting profile information from https://www.freelancer.com/u/workingme666 ...\nFetched user info from https://www.freelancer.com/u/workingme666\nUsers fetched: 1322\nGetting profile information from https://www.freelancer.com/u/ImpetusHub ...\nFetched user info from https://www.freelancer.com/u/ImpetusHub\nUsers fetched: 1323\nGetting profile information from https://www.freelancer.com/u/Shawnthoughts ...\nFetched user info from https://www.freelancer.com/u/Shawnthoughts\nUsers fetched: 1324\nGetting profile information from https://www.freelancer.com/u/JGiles51 ...\nFetched user info from https://www.freelancer.com/u/JGiles51\nUsers fetched: 1325\nGetting profile information from https://www.freelancer.com/u/gautamsirpramod ...\nFetched user info from https://www.freelancer.com/u/gautamsirpramod\nUsers fetched: 1326\nGetting profile information from https://www.freelancer.com/u/SaminaKhatani ...\nFetched user info from https://www.freelancer.com/u/SaminaKhatani\nUsers fetched: 1327\nGetting profile information from https://www.freelancer.com/u/quentinjdupree ...\nFetched user info from https://www.freelancer.com/u/quentinjdupree\nUsers fetched: 1328\nGetting profile information from https://www.freelancer.com/u/lcanning ...\nFetched user info from https://www.freelancer.com/u/lcanning\nUsers fetched: 1329\nGetting profile information from https://www.freelancer.com/u/LucianaMLeite ...\nFetched user info from https://www.freelancer.com/u/LucianaMLeite\nUsers fetched: 1330\nGetting profile information from https://www.freelancer.com/u/ayorockin27 ...\nFetched user info from https://www.freelancer.com/u/ayorockin27\nUsers fetched: 1331\nGetting profile information from https://www.freelancer.com/u/emahomedesign ...\nFetched user info from https://www.freelancer.com/u/emahomedesign\nUsers fetched: 1332\nGetting profile information from https://www.freelancer.com/u/nschaerer ...\nFetched user info from https://www.freelancer.com/u/nschaerer\nUsers fetched: 1333\nGetting profile information from https://www.freelancer.com/u/tatendae068 ...\nFetched user info from https://www.freelancer.com/u/tatendae068\nUsers fetched: 1334\nGetting profile information from https://www.freelancer.com/u/JosieDaly ...\nFetched user info from https://www.freelancer.com/u/JosieDaly\nUsers fetched: 1335\nGetting profile information from https://www.freelancer.com/u/daniellerubydun ...\nFetched user info from https://www.freelancer.com/u/daniellerubydun\nUsers fetched: 1336\nGetting profile information from https://www.freelancer.com/u/AOverstreet92 ...\nFetched user info from https://www.freelancer.com/u/AOverstreet92\nUsers fetched: 1337\nGetting profile information from https://www.freelancer.com/u/ibfisiru ...\nFetched user info from https://www.freelancer.com/u/ibfisiru\nUsers fetched: 1338\nGetting profile information from https://www.freelancer.com/u/Jameskelly90 ...\nFetched user info from https://www.freelancer.com/u/Jameskelly90\nUsers fetched: 1339\nGetting profile information from https://www.freelancer.com/u/victimlas ...\nFetched user info from https://www.freelancer.com/u/victimlas\nUsers fetched: 1340\nGetting profile information from https://www.freelancer.com/u/SparqGraphics ...\nFetched user info from https://www.freelancer.com/u/SparqGraphics\nUsers fetched: 1341\nGetting profile information from https://www.freelancer.com/u/UmarNY ...\nFetched user info from https://www.freelancer.com/u/UmarNY\nUsers fetched: 1342\nGetting profile information from https://www.freelancer.com/u/aksurya2708 ...\nFetched user info from https://www.freelancer.com/u/aksurya2708\nUsers fetched: 1343\nGetting profile information from https://www.freelancer.com/u/MylesHorn ...\nFetched user info from https://www.freelancer.com/u/MylesHorn\nUsers fetched: 1344\nGetting profile information from https://www.freelancer.com/u/iqbalm11 ...\nFetched user info from https://www.freelancer.com/u/iqbalm11\nUsers fetched: 1345\nGetting profile information from https://www.freelancer.com/u/YaoInteractive ...\nFailed to fetch user profile: https://www.freelancer.com/u/YaoInteractive\nMessage: no such element: Unable to locate element: {\"method\":\"css selector\",\"selector\":\"h2[data-color='mid']\"}\n  (Session info: headless chrome=90.0.4430.212)\nStacktrace:\n#0 0x557d1c4727f9 <unknown>\n#1 0x557d1c4123b3 <unknown>\n#2 0x557d1c15a016 <unknown>\n#3 0x557d1c18e81e <unknown>\n#4 0x557d1c1c48fb <unknown>\n#5 0x557d1c1b1ded <unknown>\n#6 0x557d1c1c29e1 <unknown>\n#7 0x557d1c1b1c93 <unknown>\n#8 0x557d1c183ce4 <unknown>\n#9 0x557d1c1854d2 <unknown>\n#10 0x557d1c43e542 <unknown>\n#11 0x557d1c44dce7 <unknown>\n#12 0x557d1c44d9e4 <unknown>\n#13 0x557d1c45213a <unknown>\n#14 0x557d1c44e5b9 <unknown>\n#15 0x557d1c433e00 <unknown>\n#16 0x557d1c4655d2 <unknown>\n#17 0x557d1c465778 <unknown>\n#18 0x557d1c47da1f <unknown>\n#19 0x7f45ecf8ffa3 start_thread\n#20 0x7f45ebfe54cf clone\n\nUsers fetched: 1346\nGetting profile information from https://www.freelancer.com/u/MFWs3 ...\nFetched user info from https://www.freelancer.com/u/MFWs3\nUsers fetched: 1347\nGetting profile information from https://www.freelancer.com/u/levibaglino ...\nFetched user info from https://www.freelancer.com/u/levibaglino\nUsers fetched: 1348\nGetting profile information from https://www.freelancer.com/u/GalacticNoodles ...\nFetched user info from https://www.freelancer.com/u/GalacticNoodles\nUsers fetched: 1349\nGetting profile information from https://www.freelancer.com/u/saudkhalid09 ...\nFetched user info from https://www.freelancer.com/u/saudkhalid09\nUsers fetched: 1350\nGetting profile information from https://www.freelancer.com/u/AmbitiousMotion ...\nFetched user info from https://www.freelancer.com/u/AmbitiousMotion\nUsers fetched: 1351\nGetting profile information from https://www.freelancer.com/u/estuardoramos ...\nFetched user info from https://www.freelancer.com/u/estuardoramos\nUsers fetched: 1352\nGetting profile information from https://www.freelancer.com/u/IcySideStudios ...\nFetched user info from https://www.freelancer.com/u/IcySideStudios\nUsers fetched: 1353\nGetting profile information from https://www.freelancer.com/u/maryamartin81 ...\nFetched user info from https://www.freelancer.com/u/maryamartin81\nUsers fetched: 1354\nGetting profile information from https://www.freelancer.com/u/DLavArt ...\nFetched user info from https://www.freelancer.com/u/DLavArt\nUsers fetched: 1355\nGetting profile information from https://www.freelancer.com/u/Dayalarm7 ...\nFetched user info from https://www.freelancer.com/u/Dayalarm7\nUsers fetched: 1356\nGetting profile information from https://www.freelancer.com/u/SooSky ...\nFetched user info from https://www.freelancer.com/u/SooSky\nUsers fetched: 1357\nGetting profile information from https://www.freelancer.com/u/Juliablckwll ...\nFetched user info from https://www.freelancer.com/u/Juliablckwll\nUsers fetched: 1358\nGetting profile information from https://www.freelancer.com/u/womxnifesto ...\nFetched user info from https://www.freelancer.com/u/womxnifesto\nUsers fetched: 1359\nGetting profile information from https://www.freelancer.com/u/mnbarchitect ...\nFetched user info from https://www.freelancer.com/u/mnbarchitect\nUsers fetched: 1360\nGetting profile information from https://www.freelancer.com/u/snidmat ...\nFetched user info from https://www.freelancer.com/u/snidmat\nUsers fetched: 1361\nGetting profile information from https://www.freelancer.com/u/RCRussellRocks ...\nFetched user info from https://www.freelancer.com/u/RCRussellRocks\nUsers fetched: 1362\nGetting profile information from https://www.freelancer.com/u/brysonbreakey ...\nFetched user info from https://www.freelancer.com/u/brysonbreakey\nUsers fetched: 1363\nGetting profile information from https://www.freelancer.com/u/Tmarch001 ...\nFetched user info from https://www.freelancer.com/u/Tmarch001\nUsers fetched: 1364\nGetting profile information from https://www.freelancer.com/u/newtypezeta ...\nFetched user info from https://www.freelancer.com/u/newtypezeta\nUsers fetched: 1365\nGetting profile information from https://www.freelancer.com/u/nrodriguez24 ...\nFetched user info from https://www.freelancer.com/u/nrodriguez24\nUsers fetched: 1366\nGetting profile information from https://www.freelancer.com/u/DyllenGeorge ...\nFetched user info from https://www.freelancer.com/u/DyllenGeorge\nUsers fetched: 1367\nGetting profile information from https://www.freelancer.com/u/salmontanika ...\nFetched user info from https://www.freelancer.com/u/salmontanika\nUsers fetched: 1368\nGetting profile information from https://www.freelancer.com/u/blackboxbusiness ...\nFetched user info from https://www.freelancer.com/u/blackboxbusiness\nUsers fetched: 1369\nGetting profile information from https://www.freelancer.com/u/bhick1937 ...\nFetched user info from https://www.freelancer.com/u/bhick1937\nUsers fetched: 1370\nGetting profile information from https://www.freelancer.com/u/PIsola ...\nFetched user info from https://www.freelancer.com/u/PIsola\nUsers fetched: 1371\nGetting profile information from https://www.freelancer.com/u/Alysa3 ...\nFetched user info from https://www.freelancer.com/u/Alysa3\nUsers fetched: 1372\nGetting profile information from https://www.freelancer.com/u/dheerusingh228 ...\nFetched user info from https://www.freelancer.com/u/dheerusingh228\nUsers fetched: 1373\nGetting profile information from https://www.freelancer.com/u/nicolepet ...\nFetched user info from https://www.freelancer.com/u/nicolepet\nUsers fetched: 1374\nGetting profile information from https://www.freelancer.com/u/sachingarg24 ...\nFetched user info from https://www.freelancer.com/u/sachingarg24\nUsers fetched: 1375\nGetting profile information from https://www.freelancer.com/u/miya1115 ...\nFetched user info from https://www.freelancer.com/u/miya1115\nUsers fetched: 1376\nGetting profile information from https://www.freelancer.com/u/Richyricco ...\nFetched user info from https://www.freelancer.com/u/Richyricco\nUsers fetched: 1377\nGetting profile information from https://www.freelancer.com/u/bugglette ...\nFetched user info from https://www.freelancer.com/u/bugglette\nUsers fetched: 1378\nGetting profile information from https://www.freelancer.com/u/ZyXGraphics ...\nFetched user info from https://www.freelancer.com/u/ZyXGraphics\nUsers fetched: 1379\nGetting profile information from https://www.freelancer.com/u/BGR2020 ...\nFetched user info from https://www.freelancer.com/u/BGR2020\nUsers fetched: 1380\nGetting profile information from https://www.freelancer.com/u/CABehnke ...\nFetched user info from https://www.freelancer.com/u/CABehnke\nUsers fetched: 1381\nGetting profile information from https://www.freelancer.com/u/OmarWhittington ...\nFetched user info from https://www.freelancer.com/u/OmarWhittington\nUsers fetched: 1382\nGetting profile information from https://www.freelancer.com/u/eddyfernandes ...\nFetched user info from https://www.freelancer.com/u/eddyfernandes\nUsers fetched: 1383\nGetting profile information from https://www.freelancer.com/u/kiwibumbun ...\nFetched user info from https://www.freelancer.com/u/kiwibumbun\nUsers fetched: 1384\nGetting profile information from https://www.freelancer.com/u/llamoz ...\nFetched user info from https://www.freelancer.com/u/llamoz\nUsers fetched: 1385\nGetting profile information from https://www.freelancer.com/u/imtetra444 ...\nFetched user info from https://www.freelancer.com/u/imtetra444\nUsers fetched: 1386\nGetting profile information from https://www.freelancer.com/u/santhoshabr ...\nFetched user info from https://www.freelancer.com/u/santhoshabr\nUsers fetched: 1387\nGetting profile information from https://www.freelancer.com/u/chrisrwingate ...\nFetched user info from https://www.freelancer.com/u/chrisrwingate\nUsers fetched: 1388\nGetting profile information from https://www.freelancer.com/u/AVXStudio ...\nFetched user info from https://www.freelancer.com/u/AVXStudio\nUsers fetched: 1389\nGetting profile information from https://www.freelancer.com/u/PoliArtDesignz ...\nFetched user info from https://www.freelancer.com/u/PoliArtDesignz\nUsers fetched: 1390\nGetting profile information from https://www.freelancer.com/u/ronholl ...\nFetched user info from https://www.freelancer.com/u/ronholl\nUsers fetched: 1391\nGetting profile information from https://www.freelancer.com/u/JayRhema ...\nFetched user info from https://www.freelancer.com/u/JayRhema\nUsers fetched: 1392\nGetting profile information from https://www.freelancer.com/u/KeithArie ...\nFetched user info from https://www.freelancer.com/u/KeithArie\nUsers fetched: 1393\nGetting profile information from https://www.freelancer.com/u/mdaniels10 ...\nFetched user info from https://www.freelancer.com/u/mdaniels10\nUsers fetched: 1394\nGetting profile information from https://www.freelancer.com/u/bosmacreative ...\nFetched user info from https://www.freelancer.com/u/bosmacreative\nUsers fetched: 1395\nGetting profile information from https://www.freelancer.com/u/natcrame ...\nFetched user info from https://www.freelancer.com/u/natcrame\nUsers fetched: 1396\nGetting profile information from https://www.freelancer.com/u/MonaMohajer ...\nFetched user info from https://www.freelancer.com/u/MonaMohajer\nUsers fetched: 1397\nGetting profile information from https://www.freelancer.com/u/chadcannon ...\nFetched user info from https://www.freelancer.com/u/chadcannon\nUsers fetched: 1398\nGetting profile information from https://www.freelancer.com/u/Chrissykz ...\nFetched user info from https://www.freelancer.com/u/Chrissykz\nUsers fetched: 1399\nGetting profile information from https://www.freelancer.com/u/ArtOfficiaL69 ...\nFetched user info from https://www.freelancer.com/u/ArtOfficiaL69\nUsers fetched: 1400\nGetting profile information from https://www.freelancer.com/u/HeatherEliza ...\nFetched user info from https://www.freelancer.com/u/HeatherEliza\nUsers fetched: 1401\nGetting profile information from https://www.freelancer.com/u/chak7apparel ...\nFetched user info from https://www.freelancer.com/u/chak7apparel\nUsers fetched: 1402\nGetting profile information from https://www.freelancer.com/u/eliranlevi1 ...\nFetched user info from https://www.freelancer.com/u/eliranlevi1\nUsers fetched: 1403\nGetting profile information from https://www.freelancer.com/u/etidorfa ...\nFetched user info from https://www.freelancer.com/u/etidorfa\nUsers fetched: 1404\nGetting profile information from https://www.freelancer.com/u/benniej01 ...\nFetched user info from https://www.freelancer.com/u/benniej01\nUsers fetched: 1405\nGetting profile information from https://www.freelancer.com/u/weimtime04 ...\nFetched user info from https://www.freelancer.com/u/weimtime04\nUsers fetched: 1406\nGetting profile information from https://www.freelancer.com/u/MiraBotross ...\nFetched user info from https://www.freelancer.com/u/MiraBotross\nUsers fetched: 1407\nGetting profile information from https://www.freelancer.com/u/kchristy93 ...\nFetched user info from https://www.freelancer.com/u/kchristy93\nUsers fetched: 1408\nGetting profile information from https://www.freelancer.com/u/dmikester1 ...\nFetched user info from https://www.freelancer.com/u/dmikester1\nUsers fetched: 1409\nGetting profile information from https://www.freelancer.com/u/ryanmichelsen ...\nFetched user info from https://www.freelancer.com/u/ryanmichelsen\nUsers fetched: 1410\nGetting profile information from https://www.freelancer.com/u/ScottJay15 ...\nFetched user info from https://www.freelancer.com/u/ScottJay15\nUsers fetched: 1411\nGetting profile information from https://www.freelancer.com/u/ibdesignhub ...\nFetched user info from https://www.freelancer.com/u/ibdesignhub\nUsers fetched: 1412\nGetting profile information from https://www.freelancer.com/u/tpace891 ...\nFetched user info from https://www.freelancer.com/u/tpace891\nUsers fetched: 1413\nGetting profile information from https://www.freelancer.com/u/mathieuvictor ...\nFetched user info from https://www.freelancer.com/u/mathieuvictor\nUsers fetched: 1414\nGetting profile information from https://www.freelancer.com/u/svitlanasks ...\nFetched user info from https://www.freelancer.com/u/svitlanasks\nUsers fetched: 1415\nGetting profile information from https://www.freelancer.com/u/riasteffe ...\nFetched user info from https://www.freelancer.com/u/riasteffe\nUsers fetched: 1416\nGetting profile information from https://www.freelancer.com/u/Mxdison ...\nFetched user info from https://www.freelancer.com/u/Mxdison\nUsers fetched: 1417\nGetting profile information from https://www.freelancer.com/u/duboisny ...\nFetched user info from https://www.freelancer.com/u/duboisny\nUsers fetched: 1418\nGetting profile information from https://www.freelancer.com/u/RFAllen ...\nFetched user info from https://www.freelancer.com/u/RFAllen\nUsers fetched: 1419\nGetting profile information from https://www.freelancer.com/u/petersamy01 ...\nFetched user info from https://www.freelancer.com/u/petersamy01\nUsers fetched: 1420\nGetting profile information from https://www.freelancer.com/u/mklein91 ...\nFetched user info from https://www.freelancer.com/u/mklein91\nUsers fetched: 1421\nGetting profile information from https://www.freelancer.com/u/suarezlau96 ...\nFetched user info from https://www.freelancer.com/u/suarezlau96\nUsers fetched: 1422\nGetting profile information from https://www.freelancer.com/u/mleiataua ...\nFetched user info from https://www.freelancer.com/u/mleiataua\nUsers fetched: 1423\nGetting profile information from https://www.freelancer.com/u/dantrish ...\nFetched user info from https://www.freelancer.com/u/dantrish\nUsers fetched: 1424\nGetting profile information from https://www.freelancer.com/u/LisaL7 ...\nFetched user info from https://www.freelancer.com/u/LisaL7\nUsers fetched: 1425\nGetting profile information from https://www.freelancer.com/u/DanaRob2021 ...\nFetched user info from https://www.freelancer.com/u/DanaRob2021\nUsers fetched: 1426\nGetting profile information from https://www.freelancer.com/u/BearToeDesign ...\nFetched user info from https://www.freelancer.com/u/BearToeDesign\nUsers fetched: 1427\nGetting profile information from https://www.freelancer.com/u/vicislol ...\nFetched user info from https://www.freelancer.com/u/vicislol\nUsers fetched: 1428\nGetting profile information from https://www.freelancer.com/u/madimadedesign ...\nFetched user info from https://www.freelancer.com/u/madimadedesign\nUsers fetched: 1429\nGetting profile information from https://www.freelancer.com/u/havenst ...\nFetched user info from https://www.freelancer.com/u/havenst\nUsers fetched: 1430\nGetting profile information from https://www.freelancer.com/u/allsitemedia ...\nFetched user info from https://www.freelancer.com/u/allsitemedia\nUsers fetched: 1431\nGetting profile information from https://www.freelancer.com/u/JungDesigns ...\nFetched user info from https://www.freelancer.com/u/JungDesigns\nUsers fetched: 1432\nGetting profile information from https://www.freelancer.com/u/romisasara ...\nFetched user info from https://www.freelancer.com/u/romisasara\nUsers fetched: 1433\nGetting profile information from https://www.freelancer.com/u/eboniewarren ...\nFetched user info from https://www.freelancer.com/u/eboniewarren\nUsers fetched: 1434\nGetting profile information from https://www.freelancer.com/u/rhueth ...\nFailed to fetch user profile: https://www.freelancer.com/u/rhueth\nMessage: no such element: Unable to locate element: {\"method\":\"css selector\",\"selector\":\"h2[data-color='mid']\"}\n  (Session info: headless chrome=90.0.4430.212)\nStacktrace:\n#0 0x55c4568447f9 <unknown>\n#1 0x55c4567e43b3 <unknown>\n#2 0x55c45652c016 <unknown>\n#3 0x55c45656081e <unknown>\n#4 0x55c4565968fb <unknown>\n#5 0x55c456583ded <unknown>\n#6 0x55c4565949e1 <unknown>\n#7 0x55c456583c93 <unknown>\n#8 0x55c456555ce4 <unknown>\n#9 0x55c4565574d2 <unknown>\n#10 0x55c456810542 <unknown>\n#11 0x55c45681fce7 <unknown>\n#12 0x55c45681f9e4 <unknown>\n#13 0x55c45682413a <unknown>\n#14 0x55c4568205b9 <unknown>\n#15 0x55c456805e00 <unknown>\n#16 0x55c4568375d2 <unknown>\n#17 0x55c456837778 <unknown>\n#18 0x55c45684fa1f <unknown>\n#19 0x7f133e837fa3 start_thread\n#20 0x7f133d88d4cf clone\n\nUsers fetched: 1435\nGetting profile information from https://www.freelancer.com/u/itsjustlipe ...\nFetched user info from https://www.freelancer.com/u/itsjustlipe\nUsers fetched: 1436\nGetting profile information from https://www.freelancer.com/u/OMNETECH ...\nFetched user info from https://www.freelancer.com/u/OMNETECH\nUsers fetched: 1437\nGetting profile information from https://www.freelancer.com/u/tykoe ...\nFetched user info from https://www.freelancer.com/u/tykoe\nUsers fetched: 1438\nGetting profile information from https://www.freelancer.com/u/andriimoroz201 ...\nFetched user info from https://www.freelancer.com/u/andriimoroz201\nUsers fetched: 1439\nGetting profile information from https://www.freelancer.com/u/cscitservices ...\nFetched user info from https://www.freelancer.com/u/cscitservices\nUsers fetched: 1440\nGetting profile information from https://www.freelancer.com/u/eternalwaves ...\nFetched user info from https://www.freelancer.com/u/eternalwaves\nUsers fetched: 1441\nGetting profile information from https://www.freelancer.com/u/sarahtahir800 ...\nFetched user info from https://www.freelancer.com/u/sarahtahir800\nUsers fetched: 1442\nGetting profile information from https://www.freelancer.com/u/wtcunningham ...\nFetched user info from https://www.freelancer.com/u/wtcunningham\nUsers fetched: 1443\nGetting profile information from https://www.freelancer.com/u/Connect66 ...\nFetched user info from https://www.freelancer.com/u/Connect66\nUsers fetched: 1444\nGetting profile information from https://www.freelancer.com/u/CalderonLD91 ...\nFetched user info from https://www.freelancer.com/u/CalderonLD91\nUsers fetched: 1445\nGetting profile information from https://www.freelancer.com/u/NovaStudios ...\nFetched user info from https://www.freelancer.com/u/NovaStudios\nUsers fetched: 1446\nGetting profile information from https://www.freelancer.com/u/clairekimisright ...\nFetched user info from https://www.freelancer.com/u/clairekimisright\nUsers fetched: 1447\nGetting profile information from https://www.freelancer.com/u/sam50blakewell ...\nFetched user info from https://www.freelancer.com/u/sam50blakewell\nUsers fetched: 1448\nGetting profile information from https://www.freelancer.com/u/jarias ...\nFetched user info from https://www.freelancer.com/u/jarias\nUsers fetched: 1449\nGetting profile information from https://www.freelancer.com/u/NFTeejay ...\nFetched user info from https://www.freelancer.com/u/NFTeejay\nUsers fetched: 1450\nGetting profile information from https://www.freelancer.com/u/sammyb8sdesign ...\nFetched user info from https://www.freelancer.com/u/sammyb8sdesign\nUsers fetched: 1451\nGetting profile information from https://www.freelancer.com/u/XJuDaHX ...\nFetched user info from https://www.freelancer.com/u/XJuDaHX\nUsers fetched: 1452\nGetting profile information from https://www.freelancer.com/u/activepulse ...\nFetched user info from https://www.freelancer.com/u/activepulse\nUsers fetched: 1453\nGetting profile information from https://www.freelancer.com/u/tmac7 ...\nFetched user info from https://www.freelancer.com/u/tmac7\nUsers fetched: 1454\nGetting profile information from https://www.freelancer.com/u/julzstoian ...\nFetched user info from https://www.freelancer.com/u/julzstoian\nUsers fetched: 1455\nGetting profile information from https://www.freelancer.com/u/JTanner824 ...\nFetched user info from https://www.freelancer.com/u/JTanner824\nUsers fetched: 1456\nGetting profile information from https://www.freelancer.com/u/eslamemad ...\nFetched user info from https://www.freelancer.com/u/eslamemad\nUsers fetched: 1457\nGetting profile information from https://www.freelancer.com/u/Loona82 ...\nFetched user info from https://www.freelancer.com/u/Loona82\nUsers fetched: 1458\nGetting profile information from https://www.freelancer.com/u/rocknroundup ...\nFetched user info from https://www.freelancer.com/u/rocknroundup\nUsers fetched: 1459\nGetting profile information from https://www.freelancer.com/u/KATaylor3D ...\nFetched user info from https://www.freelancer.com/u/KATaylor3D\nUsers fetched: 1460\nGetting profile information from https://www.freelancer.com/u/KevMasterC ...\nFetched user info from https://www.freelancer.com/u/KevMasterC\nUsers fetched: 1461\nGetting profile information from https://www.freelancer.com/u/albanxhili ...\nFetched user info from https://www.freelancer.com/u/albanxhili\nUsers fetched: 1462\nGetting profile information from https://www.freelancer.com/u/ilaydaoran3 ...\nFetched user info from https://www.freelancer.com/u/ilaydaoran3\nUsers fetched: 1463\nGetting profile information from https://www.freelancer.com/u/a27 ...\nFetched user info from https://www.freelancer.com/u/a27\nUsers fetched: 1464\nGetting profile information from https://www.freelancer.com/u/michaelledajaks ...\nFetched user info from https://www.freelancer.com/u/michaelledajaks\nUsers fetched: 1465\nGetting profile information from https://www.freelancer.com/u/jpelldigital ...\nFetched user info from https://www.freelancer.com/u/jpelldigital\nUsers fetched: 1466\nGetting profile information from https://www.freelancer.com/u/dareakinbi ...\nFetched user info from https://www.freelancer.com/u/dareakinbi\nUsers fetched: 1467\nGetting profile information from https://www.freelancer.com/u/ethannorgard ...\nFetched user info from https://www.freelancer.com/u/ethannorgard\nUsers fetched: 1468\nGetting profile information from https://www.freelancer.com/u/Alyssaamano ...\n",
     "output_type": "stream"
    },
    {
     "name": "stdout",
     "text": "#0 0x5592e1ff17f9 <unknown>\n#1 0x5592e1f913b3 <unknown>\n#2 0x5592e1cd9016 <unknown>\n#3 0x5592e1d01833 <unknown>\n#4 0x5592e1d2e93c <unknown>\n#5 0x5592e1d2e0ae <unknown>\n#6 0x5592e1caf687 <unknown>\n#7 0x5592e1cb0763 <unknown>\n#8 0x5592e1fbd542 <unknown>\n#9 0x5592e1fccce7 <unknown>\n#10 0x5592e1fcc9e4 <unknown>\n#11 0x5592e1fd113a <unknown>\n#12 0x5592e1fcd5b9 <unknown>\n#13 0x5592e1fb2e00 <unknown>\n#14 0x5592e1caf4e5 <unknown>\n#15 0x7fc89dc4609b __libc_start_main\n#16 0x5592e1cae02a _start\n\nUsers fetched: 4416\nGetting profile information from https://www.freelancer.com/u/kramercanfield ...\nFailed to fetch user profile: https://www.freelancer.com/u/kramercanfield\nMessage: unknown error: failed to start a thread for the new session\nStacktrace:\n#0 0x5644bcccc7f9 <unknown>\n#1 0x5644bcc6c3b3 <unknown>\n#2 0x5644bc9b4016 <unknown>\n#3 0x5644bc9dc833 <unknown>\n#4 0x5644bca0993c <unknown>\n#5 0x5644bca090ae <unknown>\n#6 0x5644bc98a687 <unknown>\n#7 0x5644bc98b763 <unknown>\n#8 0x5644bcc98542 <unknown>\n#9 0x5644bcca7ce7 <unknown>\n#10 0x5644bcca79e4 <unknown>\n#11 0x5644bccac13a <unknown>\n#12 0x5644bcca85b9 <unknown>\n#13 0x5644bcc8de00 <unknown>\n#14 0x5644bc98a4e5 <unknown>\n#15 0x7f25cd5a809b __libc_start_main\n#16 0x5644bc98902a _start\n\nUsers fetched: 4417\nGetting profile information from https://www.freelancer.com/u/Young1323 ...\nFailed to fetch user profile: https://www.freelancer.com/u/Young1323\nMessage: unknown error: failed to start a thread for the new session\nStacktrace:\n#0 0x5581246517f9 <unknown>\n#1 0x5581245f13b3 <unknown>\n#2 0x558124339016 <unknown>\n#3 0x558124361833 <unknown>\n#4 0x55812438e93c <unknown>\n#5 0x55812438e0ae <unknown>\n#6 0x55812430f687 <unknown>\n#7 0x558124310763 <unknown>\n#8 0x55812461d542 <unknown>\n#9 0x55812462cce7 <unknown>\n#10 0x55812462c9e4 <unknown>\n#11 0x55812463113a <unknown>\n#12 0x55812462d5b9 <unknown>\n#13 0x558124612e00 <unknown>\n#14 0x55812430f4e5 <unknown>\n#15 0x7ff79e28e09b __libc_start_main\n#16 0x55812430e02a _start\n\nUsers fetched: 4418\nGetting profile information from https://www.freelancer.com/u/emilytravo ...\nFailed to fetch user profile: https://www.freelancer.com/u/emilytravo\nMessage: unknown error: failed to start a thread for the new session\nStacktrace:\n#0 0x55f028c227f9 <unknown>\n#1 0x55f028bc23b3 <unknown>\n#2 0x55f02890a016 <unknown>\n#3 0x55f028932833 <unknown>\n#4 0x55f02895f93c <unknown>\n#5 0x55f02895f0ae <unknown>\n#6 0x55f0288e0687 <unknown>\n#7 0x55f0288e1763 <unknown>\n#8 0x55f028bee542 <unknown>\n#9 0x55f028bfdce7 <unknown>\n#10 0x55f028bfd9e4 <unknown>\n#11 0x55f028c0213a <unknown>\n#12 0x55f028bfe5b9 <unknown>\n#13 0x55f028be3e00 <unknown>\n#14 0x55f0288e04e5 <unknown>\n#15 0x7fd257f1209b __libc_start_main\n#16 0x55f0288df02a _start\n\nUsers fetched: 4419\nGetting profile information from https://www.freelancer.com/u/BillyWagner ...\nFailed to fetch user profile: https://www.freelancer.com/u/BillyWagner\nMessage: unknown error: failed to start a thread for the new session\nStacktrace:\n#0 0x5637c45bb7f9 <unknown>\n#1 0x5637c455b3b3 <unknown>\n#2 0x5637c42a3016 <unknown>\n#3 0x5637c42cb833 <unknown>\n#4 0x5637c42f893c <unknown>\n#5 0x5637c42f80ae <unknown>\n#6 0x5637c4279687 <unknown>\n#7 0x5637c427a763 <unknown>\n#8 0x5637c4587542 <unknown>\n#9 0x5637c4596ce7 <unknown>\n#10 0x5637c45969e4 <unknown>\n#11 0x5637c459b13a <unknown>\n#12 0x5637c45975b9 <unknown>\n#13 0x5637c457ce00 <unknown>\n#14 0x5637c42794e5 <unknown>\n#15 0x7f6514bd009b __libc_start_main\n#16 0x5637c427802a _start\n\nUsers fetched: 4420\nGetting profile information from https://www.freelancer.com/u/teamades ...\nFailed to fetch user profile: https://www.freelancer.com/u/teamades\nMessage: unknown error: failed to start a thread for the new session\nStacktrace:\n#0 0x55b3710357f9 <unknown>\n#1 0x55b370fd53b3 <unknown>\n#2 0x55b370d1d016 <unknown>\n#3 0x55b370d45833 <unknown>\n#4 0x55b370d7293c <unknown>\n#5 0x55b370d720ae <unknown>\n#6 0x55b370cf3687 <unknown>\n#7 0x55b370cf4763 <unknown>\n#8 0x55b371001542 <unknown>\n#9 0x55b371010ce7 <unknown>\n#10 0x55b3710109e4 <unknown>\n#11 0x55b37101513a <unknown>\n#12 0x55b3710115b9 <unknown>\n#13 0x55b370ff6e00 <unknown>\n#14 0x55b370cf34e5 <unknown>\n#15 0x7f93065ec09b __libc_start_main\n#16 0x55b370cf202a _start\n\nUsers fetched: 4421\nGetting profile information from https://www.freelancer.com/u/francisihejirika ...\nFailed to fetch user profile: https://www.freelancer.com/u/francisihejirika\nMessage: unknown error: failed to start a thread for the new session\nStacktrace:\n#0 0x55bd9e4ab7f9 <unknown>\n#1 0x55bd9e44b3b3 <unknown>\n#2 0x55bd9e193016 <unknown>\n#3 0x55bd9e1bb833 <unknown>\n#4 0x55bd9e1e893c <unknown>\n#5 0x55bd9e1e80ae <unknown>\n#6 0x55bd9e169687 <unknown>\n#7 0x55bd9e16a763 <unknown>\n#8 0x55bd9e477542 <unknown>\n#9 0x55bd9e486ce7 <unknown>\n#10 0x55bd9e4869e4 <unknown>\n#11 0x55bd9e48b13a <unknown>\n#12 0x55bd9e4875b9 <unknown>\n#13 0x55bd9e46ce00 <unknown>\n#14 0x55bd9e1694e5 <unknown>\n#15 0x7f23aca0e09b __libc_start_main\n#16 0x55bd9e16802a _start\n\nUsers fetched: 4422\nGetting profile information from https://www.freelancer.com/u/Lynnie37 ...\nFailed to fetch user profile: https://www.freelancer.com/u/Lynnie37\n[Errno 11] Resource temporarily unavailable\nUsers fetched: 4423\nGetting profile information from https://www.freelancer.com/u/cleveralgorithm ...\nFailed to fetch user profile: https://www.freelancer.com/u/cleveralgorithm\nMessage: unknown error: failed to start a thread for the new session\nStacktrace:\n#0 0x55d6b5f337f9 <unknown>\n#1 0x55d6b5ed33b3 <unknown>\n#2 0x55d6b5c1b016 <unknown>\n#3 0x55d6b5c43833 <unknown>\n#4 0x55d6b5c7093c <unknown>\n#5 0x55d6b5c700ae <unknown>\n#6 0x55d6b5bf1687 <unknown>\n#7 0x55d6b5bf2763 <unknown>\n#8 0x55d6b5eff542 <unknown>\n#9 0x55d6b5f0ece7 <unknown>\n#10 0x55d6b5f0e9e4 <unknown>\n#11 0x55d6b5f1313a <unknown>\n#12 0x55d6b5f0f5b9 <unknown>\n#13 0x55d6b5ef4e00 <unknown>\n#14 0x55d6b5bf14e5 <unknown>\n#15 0x7f611263109b __libc_start_main\n#16 0x55d6b5bf002a _start\n\nUsers fetched: 4424\nGetting profile information from https://www.freelancer.com/u/raeswonderland ...\nFailed to fetch user profile: https://www.freelancer.com/u/raeswonderland\nMessage: unknown error: failed to start a thread for the new session\nStacktrace:\n#0 0x558a909137f9 <unknown>\n#1 0x558a908b33b3 <unknown>\n#2 0x558a905fb016 <unknown>\n#3 0x558a90623833 <unknown>\n#4 0x558a9065093c <unknown>\n#5 0x558a906500ae <unknown>\n#6 0x558a905d1687 <unknown>\n#7 0x558a905d2763 <unknown>\n#8 0x558a908df542 <unknown>\n#9 0x558a908eece7 <unknown>\n#10 0x558a908ee9e4 <unknown>\n#11 0x558a908f313a <unknown>\n#12 0x558a908ef5b9 <unknown>\n#13 0x558a908d4e00 <unknown>\n#14 0x558a905d14e5 <unknown>\n#15 0x7f8d564ad09b __libc_start_main\n#16 0x558a905d002a _start\n\nUsers fetched: 4425\nGetting profile information from https://www.freelancer.com/u/jazminechasteen ...\nFailed to fetch user profile: https://www.freelancer.com/u/jazminechasteen\nMessage: unknown error: failed to start a thread for the new session\nStacktrace:\n#0 0x560e868567f9 <unknown>\n#1 0x560e867f63b3 <unknown>\n#2 0x560e8653e016 <unknown>\n#3 0x560e86566833 <unknown>\n#4 0x560e8659393c <unknown>\n#5 0x560e865930ae <unknown>\n#6 0x560e86514687 <unknown>\n#7 0x560e86515763 <unknown>\n#8 0x560e86822542 <unknown>\n#9 0x560e86831ce7 <unknown>\n#10 0x560e868319e4 <unknown>\n#11 0x560e8683613a <unknown>\n#12 0x560e868325b9 <unknown>\n#13 0x560e86817e00 <unknown>\n#14 0x560e865144e5 <unknown>\n#15 0x7f02818be09b __libc_start_main\n#16 0x560e8651302a _start\n\nUsers fetched: 4426\nGetting profile information from https://www.freelancer.com/u/bashmcdaniel ...\nFailed to fetch user profile: https://www.freelancer.com/u/bashmcdaniel\nMessage: unknown error: failed to start a thread for the new session\nStacktrace:\n#0 0x5574460f17f9 <unknown>\n#1 0x5574460913b3 <unknown>\n#2 0x557445dd9016 <unknown>\n#3 0x557445e01833 <unknown>\n#4 0x557445e2e93c <unknown>\n#5 0x557445e2e0ae <unknown>\n#6 0x557445daf687 <unknown>\n#7 0x557445db0763 <unknown>\n#8 0x5574460bd542 <unknown>\n#9 0x5574460ccce7 <unknown>\n#10 0x5574460cc9e4 <unknown>\n#11 0x5574460d113a <unknown>\n#12 0x5574460cd5b9 <unknown>\n#13 0x5574460b2e00 <unknown>\n#14 0x557445daf4e5 <unknown>\n#15 0x7f3e5af4709b __libc_start_main\n#16 0x557445dae02a _start\n\nUsers fetched: 4427\nGetting profile information from https://www.freelancer.com/u/sumairaladhaa ...\nFailed to fetch user profile: https://www.freelancer.com/u/sumairaladhaa\nMessage: unknown error: failed to start a thread for the new session\nStacktrace:\n#0 0x55d8c654d7f9 <unknown>\n#1 0x55d8c64ed3b3 <unknown>\n#2 0x55d8c6235016 <unknown>\n#3 0x55d8c625d833 <unknown>\n#4 0x55d8c628a93c <unknown>\n#5 0x55d8c628a0ae <unknown>\n#6 0x55d8c620b687 <unknown>\n#7 0x55d8c620c763 <unknown>\n#8 0x55d8c6519542 <unknown>\n#9 0x55d8c6528ce7 <unknown>\n#10 0x55d8c65289e4 <unknown>\n#11 0x55d8c652d13a <unknown>\n#12 0x55d8c65295b9 <unknown>\n#13 0x55d8c650ee00 <unknown>\n#14 0x55d8c620b4e5 <unknown>\n#15 0x7f1267f2d09b __libc_start_main\n#16 0x55d8c620a02a _start\n\nUsers fetched: 4428\nGetting profile information from https://www.freelancer.com/u/BobTol ...\nFailed to fetch user profile: https://www.freelancer.com/u/BobTol\nMessage: unknown error: failed to start a thread for the new session\nStacktrace:\n#0 0x55893bfb87f9 <unknown>\n#1 0x55893bf583b3 <unknown>\n#2 0x55893bca0016 <unknown>\n#3 0x55893bcc8833 <unknown>\n#4 0x55893bcf593c <unknown>\n#5 0x55893bcf50ae <unknown>\n#6 0x55893bc76687 <unknown>\n#7 0x55893bc77763 <unknown>\n#8 0x55893bf84542 <unknown>\n#9 0x55893bf93ce7 <unknown>\n#10 0x55893bf939e4 <unknown>\n#11 0x55893bf9813a <unknown>\n#12 0x55893bf945b9 <unknown>\n#13 0x55893bf79e00 <unknown>\n#14 0x55893bc764e5 <unknown>\n#15 0x7f19adee509b __libc_start_main\n#16 0x55893bc7502a _start\n\nUsers fetched: 4429\nGetting profile information from https://www.freelancer.com/u/alliebloom94 ...\nFailed to fetch user profile: https://www.freelancer.com/u/alliebloom94\nMessage: unknown error: failed to start a thread for the new session\nStacktrace:\n#0 0x55f2bba2d7f9 <unknown>\n#1 0x55f2bb9cd3b3 <unknown>\n#2 0x55f2bb715016 <unknown>\n#3 0x55f2bb73d833 <unknown>\n#4 0x55f2bb76a93c <unknown>\n#5 0x55f2bb76a0ae <unknown>\n#6 0x55f2bb6eb687 <unknown>\n#7 0x55f2bb6ec763 <unknown>\n#8 0x55f2bb9f9542 <unknown>\n#9 0x55f2bba08ce7 <unknown>\n#10 0x55f2bba089e4 <unknown>\n#11 0x55f2bba0d13a <unknown>\n#12 0x55f2bba095b9 <unknown>\n#13 0x55f2bb9eee00 <unknown>\n#14 0x55f2bb6eb4e5 <unknown>\n#15 0x7f893bfe309b __libc_start_main\n#16 0x55f2bb6ea02a _start\n\nUsers fetched: 4430\nGetting profile information from https://www.freelancer.com/u/jhoarenas ...\nFailed to fetch user profile: https://www.freelancer.com/u/jhoarenas\nMessage: Can not connect to the Service chromedriver\n\nUsers fetched: 4431\nGetting profile information from https://www.freelancer.com/u/hayderlion ...\nFailed to fetch user profile: https://www.freelancer.com/u/hayderlion\nMessage: unknown error: failed to start a thread for the new session\nStacktrace:\n#0 0x55f8b0dc77f9 <unknown>\n#1 0x55f8b0d673b3 <unknown>\n#2 0x55f8b0aaf016 <unknown>\n#3 0x55f8b0ad7833 <unknown>\n#4 0x55f8b0b0493c <unknown>\n#5 0x55f8b0b040ae <unknown>\n#6 0x55f8b0a85687 <unknown>\n#7 0x55f8b0a86763 <unknown>\n#8 0x55f8b0d93542 <unknown>\n#9 0x55f8b0da2ce7 <unknown>\n#10 0x55f8b0da29e4 <unknown>\n#11 0x55f8b0da713a <unknown>\n#12 0x55f8b0da35b9 <unknown>\n#13 0x55f8b0d88e00 <unknown>\n#14 0x55f8b0a854e5 <unknown>\n#15 0x7f96fcb0609b __libc_start_main\n#16 0x55f8b0a8402a _start\n\nUsers fetched: 4432\nGetting profile information from https://www.freelancer.com/u/meralexandra2 ...\nFailed to fetch user profile: https://www.freelancer.com/u/meralexandra2\nMessage: unknown error: failed to start a thread for the new session\nStacktrace:\n#0 0x55d3456377f9 <unknown>\n#1 0x55d3455d73b3 <unknown>\n#2 0x55d34531f016 <unknown>\n#3 0x55d345347833 <unknown>\n#4 0x55d34537493c <unknown>\n#5 0x55d3453740ae <unknown>\n#6 0x55d3452f5687 <unknown>\n#7 0x55d3452f6763 <unknown>\n#8 0x55d345603542 <unknown>\n#9 0x55d345612ce7 <unknown>\n#10 0x55d3456129e4 <unknown>\n#11 0x55d34561713a <unknown>\n#12 0x55d3456135b9 <unknown>\n#13 0x55d3455f8e00 <unknown>\n#14 0x55d3452f54e5 <unknown>\n#15 0x7f00463e409b __libc_start_main\n#16 0x55d3452f402a _start\n\nUsers fetched: 4433\nGetting profile information from https://www.freelancer.com/u/elidw18 ...\nFailed to fetch user profile: https://www.freelancer.com/u/elidw18\nMessage: unknown error: failed to start a thread for the new session\nStacktrace:\n#0 0x558b9b5ed7f9 <unknown>\n#1 0x558b9b58d3b3 <unknown>\n#2 0x558b9b2d5016 <unknown>\n#3 0x558b9b2fd833 <unknown>\n#4 0x558b9b32a93c <unknown>\n#5 0x558b9b32a0ae <unknown>\n#6 0x558b9b2ab687 <unknown>\n#7 0x558b9b2ac763 <unknown>\n#8 0x558b9b5b9542 <unknown>\n#9 0x558b9b5c8ce7 <unknown>\n#10 0x558b9b5c89e4 <unknown>\n#11 0x558b9b5cd13a <unknown>\n#12 0x558b9b5c95b9 <unknown>\n#13 0x558b9b5aee00 <unknown>\n#14 0x558b9b2ab4e5 <unknown>\n#15 0x7faf7ca9e09b __libc_start_main\n#16 0x558b9b2aa02a _start\n\nUsers fetched: 4434\nGetting profile information from https://www.freelancer.com/u/Lindao5 ...\nFailed to fetch user profile: https://www.freelancer.com/u/Lindao5\nMessage: unknown error: Failed to create Chrome process.\nStacktrace:\n#0 0x5636c3a397f9 <unknown>\n#1 0x5636c39d93b3 <unknown>\n#2 0x5636c3721016 <unknown>\n#3 0x5636c3743c27 <unknown>\n#4 0x5636c374089a <unknown>\n#5 0x5636c377e00a <unknown>\n#6 0x5636c3778c93 <unknown>\n#7 0x5636c374ace4 <unknown>\n#8 0x5636c374c4d2 <unknown>\n#9 0x5636c3a05542 <unknown>\n#10 0x5636c3a14ce7 <unknown>\n#11 0x5636c3a149e4 <unknown>\n#12 0x5636c3a1913a <unknown>\n#13 0x5636c3a155b9 <unknown>\n#14 0x5636c39fae00 <unknown>\n#15 0x5636c3a2c5d2 <unknown>\n#16 0x5636c3a2c778 <unknown>\n#17 0x5636c3a44a1f <unknown>\n#18 0x7fd036a38fa3 start_thread\n#19 0x7fd035a8e4cf clone\n\nUsers fetched: 4435\nGetting profile information from https://www.freelancer.com/u/MAtta5 ...\nFailed to fetch user profile: https://www.freelancer.com/u/MAtta5\nMessage: unknown error: Failed to create Chrome process.\nStacktrace:\n#0 0x5610ba5937f9 <unknown>\n#1 0x5610ba5333b3 <unknown>\n#2 0x5610ba27b016 <unknown>\n#3 0x5610ba29dc27 <unknown>\n#4 0x5610ba29a89a <unknown>\n#5 0x5610ba2d800a <unknown>\n#6 0x5610ba2d2c93 <unknown>\n#7 0x5610ba2a4ce4 <unknown>\n#8 0x5610ba2a64d2 <unknown>\n#9 0x5610ba55f542 <unknown>\n#10 0x5610ba56ece7 <unknown>\n#11 0x5610ba56e9e4 <unknown>\n#12 0x5610ba57313a <unknown>\n#13 0x5610ba56f5b9 <unknown>\n#14 0x5610ba554e00 <unknown>\n#15 0x5610ba5865d2 <unknown>\n#16 0x5610ba586778 <unknown>\n#17 0x5610ba59ea1f <unknown>\n#18 0x7f7efdf2efa3 start_thread\n#19 0x7f7efcf844cf clone\n\nUsers fetched: 4436\nGetting profile information from https://www.freelancer.com/u/Alicemyint ...\nFailed to fetch user profile: https://www.freelancer.com/u/Alicemyint\nMessage: unknown error: Chrome failed to start: exited abnormally.\n  (unknown error: DevToolsActivePort file doesn't exist)\n  (The process started from chrome location /usr/bin/chromium is no longer running, so ChromeDriver is assuming that Chrome has crashed.)\nStacktrace:\n#0 0x56173458b7f9 <unknown>\n#1 0x56173452b3b3 <unknown>\n#2 0x561734273016 <unknown>\n#3 0x561734296283 <unknown>\n#4 0x56173429289a <unknown>\n#5 0x5617342d000a <unknown>\n#6 0x5617342cac93 <unknown>\n#7 0x56173429cce4 <unknown>\n#8 0x56173429e4d2 <unknown>\n#9 0x561734557542 <unknown>\n#10 0x561734566ce7 <unknown>\n#11 0x5617345669e4 <unknown>\n#12 0x56173456b13a <unknown>\n#13 0x5617345675b9 <unknown>\n#14 0x56173454ce00 <unknown>\n#15 0x56173457e5d2 <unknown>\n#16 0x56173457e778 <unknown>\n#17 0x561734596a1f <unknown>\n#18 0x7f7f6f714fa3 start_thread\n#19 0x7f7f6e76a4cf clone\n\nUsers fetched: 4437\nGetting profile information from https://www.freelancer.com/u/Brittanyolvera ...\nFailed to fetch user profile: https://www.freelancer.com/u/Brittanyolvera\nMessage: unknown error: failed to start a thread for the new session\nStacktrace:\n#0 0x5640f260d7f9 <unknown>\n#1 0x5640f25ad3b3 <unknown>\n#2 0x5640f22f5016 <unknown>\n#3 0x5640f231d833 <unknown>\n#4 0x5640f234a93c <unknown>\n#5 0x5640f234a0ae <unknown>\n#6 0x5640f22cb687 <unknown>\n#7 0x5640f22cc763 <unknown>\n#8 0x5640f25d9542 <unknown>\n#9 0x5640f25e8ce7 <unknown>\n#10 0x5640f25e89e4 <unknown>\n#11 0x5640f25ed13a <unknown>\n#12 0x5640f25e95b9 <unknown>\n#13 0x5640f25cee00 <unknown>\n#14 0x5640f22cb4e5 <unknown>\n#15 0x7f2f8b05409b __libc_start_main\n#16 0x5640f22ca02a _start\n\nUsers fetched: 4438\nGetting profile information from https://www.freelancer.com/u/BrandynEvans ...\nFailed to fetch user profile: https://www.freelancer.com/u/BrandynEvans\nMessage: unknown error: Chrome failed to start: exited abnormally.\n  (unknown error: DevToolsActivePort file doesn't exist)\n  (The process started from chrome location /usr/bin/chromium is no longer running, so ChromeDriver is assuming that Chrome has crashed.)\nStacktrace:\n#0 0x55e967c687f9 <unknown>\n#1 0x55e967c083b3 <unknown>\n#2 0x55e967950016 <unknown>\n#3 0x55e967973283 <unknown>\n#4 0x55e96796f89a <unknown>\n#5 0x55e9679ad00a <unknown>\n#6 0x55e9679a7c93 <unknown>\n#7 0x55e967979ce4 <unknown>\n#8 0x55e96797b4d2 <unknown>\n#9 0x55e967c34542 <unknown>\n#10 0x55e967c43ce7 <unknown>\n#11 0x55e967c439e4 <unknown>\n#12 0x55e967c4813a <unknown>\n#13 0x55e967c445b9 <unknown>\n#14 0x55e967c29e00 <unknown>\n#15 0x55e967c5b5d2 <unknown>\n#16 0x55e967c5b778 <unknown>\n#17 0x55e967c73a1f <unknown>\n#18 0x7f142f272fa3 start_thread\n#19 0x7f142e2c84cf clone\n\nUsers fetched: 4439\nGetting profile information from https://www.freelancer.com/u/danled123 ...\nFailed to fetch user profile: https://www.freelancer.com/u/danled123\nMessage: unknown error: failed to start a thread for the new session\nStacktrace:\n#0 0x56071a0447f9 <unknown>\n#1 0x560719fe43b3 <unknown>\n#2 0x560719d2c016 <unknown>\n#3 0x560719d54833 <unknown>\n#4 0x560719d8193c <unknown>\n#5 0x560719d810ae <unknown>\n#6 0x560719d02687 <unknown>\n#7 0x560719d03763 <unknown>\n#8 0x56071a010542 <unknown>\n#9 0x56071a01fce7 <unknown>\n#10 0x56071a01f9e4 <unknown>\n#11 0x56071a02413a <unknown>\n#12 0x56071a0205b9 <unknown>\n#13 0x56071a005e00 <unknown>\n#14 0x560719d024e5 <unknown>\n#15 0x7fdec0eaa09b __libc_start_main\n#16 0x560719d0102a _start\n\nUsers fetched: 4440\nGetting profile information from https://www.freelancer.com/u/imtobyhall ...\nFailed to fetch user profile: https://www.freelancer.com/u/imtobyhall\nMessage: unknown error: Chrome failed to start: exited abnormally.\n  (unknown error: DevToolsActivePort file doesn't exist)\n  (The process started from chrome location /usr/bin/chromium is no longer running, so ChromeDriver is assuming that Chrome has crashed.)\nStacktrace:\n#0 0x562d0c79d7f9 <unknown>\n#1 0x562d0c73d3b3 <unknown>\n#2 0x562d0c485016 <unknown>\n#3 0x562d0c4a8283 <unknown>\n#4 0x562d0c4a489a <unknown>\n#5 0x562d0c4e200a <unknown>\n#6 0x562d0c4dcc93 <unknown>\n#7 0x562d0c4aece4 <unknown>\n#8 0x562d0c4b04d2 <unknown>\n#9 0x562d0c769542 <unknown>\n#10 0x562d0c778ce7 <unknown>\n#11 0x562d0c7789e4 <unknown>\n#12 0x562d0c77d13a <unknown>\n#13 0x562d0c7795b9 <unknown>\n#14 0x562d0c75ee00 <unknown>\n#15 0x562d0c7905d2 <unknown>\n#16 0x562d0c790778 <unknown>\n#17 0x562d0c7a8a1f <unknown>\n#18 0x7f2f3e274fa3 start_thread\n#19 0x7f2f3d2ca4cf clone\n\nUsers fetched: 4441\nGetting profile information from https://www.freelancer.com/u/sol13705 ...\nFailed to fetch user profile: https://www.freelancer.com/u/sol13705\nMessage: unknown error: Chrome failed to start: exited abnormally.\n  (unknown error: DevToolsActivePort file doesn't exist)\n  (The process started from chrome location /usr/bin/chromium is no longer running, so ChromeDriver is assuming that Chrome has crashed.)\nStacktrace:\n#0 0x55935f2b27f9 <unknown>\n#1 0x55935f2523b3 <unknown>\n#2 0x55935ef9a016 <unknown>\n#3 0x55935efbd283 <unknown>\n#4 0x55935efb989a <unknown>\n#5 0x55935eff700a <unknown>\n#6 0x55935eff1c93 <unknown>\n#7 0x55935efc3ce4 <unknown>\n#8 0x55935efc54d2 <unknown>\n#9 0x55935f27e542 <unknown>\n#10 0x55935f28dce7 <unknown>\n#11 0x55935f28d9e4 <unknown>\n#12 0x55935f29213a <unknown>\n#13 0x55935f28e5b9 <unknown>\n#14 0x55935f273e00 <unknown>\n#15 0x55935f2a55d2 <unknown>\n#16 0x55935f2a5778 <unknown>\n#17 0x55935f2bda1f <unknown>\n#18 0x7fa0d4b06fa3 start_thread\n#19 0x7fa0d3b5c4cf clone\n\nUsers fetched: 4442\nGetting profile information from https://www.freelancer.com/u/HighDesertWeb ...\nFailed to fetch user profile: https://www.freelancer.com/u/HighDesertWeb\nMessage: unknown error: Chrome failed to start: exited abnormally.\n  (unknown error: DevToolsActivePort file doesn't exist)\n  (The process started from chrome location /usr/bin/chromium is no longer running, so ChromeDriver is assuming that Chrome has crashed.)\nStacktrace:\n#0 0x55bd03df27f9 <unknown>\n#1 0x55bd03d923b3 <unknown>\n#2 0x55bd03ada016 <unknown>\n#3 0x55bd03afd283 <unknown>\n#4 0x55bd03af989a <unknown>\n#5 0x55bd03b3700a <unknown>\n#6 0x55bd03b31c93 <unknown>\n#7 0x55bd03b03ce4 <unknown>\n#8 0x55bd03b054d2 <unknown>\n#9 0x55bd03dbe542 <unknown>\n#10 0x55bd03dcdce7 <unknown>\n#11 0x55bd03dcd9e4 <unknown>\n#12 0x55bd03dd213a <unknown>\n#13 0x55bd03dce5b9 <unknown>\n#14 0x55bd03db3e00 <unknown>\n#15 0x55bd03de55d2 <unknown>\n#16 0x55bd03de5778 <unknown>\n#17 0x55bd03dfda1f <unknown>\n#18 0x7f17b86fffa3 start_thread\n#19 0x7f17b77554cf clone\n\nUsers fetched: 4443\nGetting profile information from https://www.freelancer.com/u/faithfunfuture ...\nFailed to fetch user profile: https://www.freelancer.com/u/faithfunfuture\nMessage: unknown error: Chrome failed to start: exited abnormally.\n  (unknown error: DevToolsActivePort file doesn't exist)\n  (The process started from chrome location /usr/bin/chromium is no longer running, so ChromeDriver is assuming that Chrome has crashed.)\nStacktrace:\n#0 0x558218fb77f9 <unknown>\n#1 0x558218f573b3 <unknown>\n#2 0x558218c9f016 <unknown>\n#3 0x558218cc2283 <unknown>\n#4 0x558218cbe89a <unknown>\n#5 0x558218cfc00a <unknown>\n#6 0x558218cf6c93 <unknown>\n#7 0x558218cc8ce4 <unknown>\n#8 0x558218cca4d2 <unknown>\n#9 0x558218f83542 <unknown>\n#10 0x558218f92ce7 <unknown>\n#11 0x558218f929e4 <unknown>\n#12 0x558218f9713a <unknown>\n#13 0x558218f935b9 <unknown>\n#14 0x558218f78e00 <unknown>\n#15 0x558218faa5d2 <unknown>\n#16 0x558218faa778 <unknown>\n#17 0x558218fc2a1f <unknown>\n#18 0x7f8c42e69fa3 start_thread\n#19 0x7f8c41ebf4cf clone\n\nUsers fetched: 4444\nGetting profile information from https://www.freelancer.com/u/MissMott ...\nFailed to fetch user profile: https://www.freelancer.com/u/MissMott\nMessage: unknown error: failed to start a thread for the new session\nStacktrace:\n#0 0x5593c084b7f9 <unknown>\n#1 0x5593c07eb3b3 <unknown>\n#2 0x5593c0533016 <unknown>\n#3 0x5593c055b833 <unknown>\n#4 0x5593c058893c <unknown>\n#5 0x5593c05880ae <unknown>\n#6 0x5593c0509687 <unknown>\n#7 0x5593c050a763 <unknown>\n#8 0x5593c0817542 <unknown>\n#9 0x5593c0826ce7 <unknown>\n#10 0x5593c08269e4 <unknown>\n#11 0x5593c082b13a <unknown>\n#12 0x5593c08275b9 <unknown>\n#13 0x5593c080ce00 <unknown>\n#14 0x5593c05094e5 <unknown>\n#15 0x7f55e790c09b __libc_start_main\n#16 0x5593c050802a _start\n\nUsers fetched: 4445\nGetting profile information from https://www.freelancer.com/u/gradclif ...\nFailed to fetch user profile: https://www.freelancer.com/u/gradclif\nMessage: unknown error: Chrome failed to start: exited abnormally.\n  (unknown error: DevToolsActivePort file doesn't exist)\n  (The process started from chrome location /usr/bin/chromium is no longer running, so ChromeDriver is assuming that Chrome has crashed.)\nStacktrace:\n#0 0x55c2162387f9 <unknown>\n#1 0x55c2161d83b3 <unknown>\n#2 0x55c215f20016 <unknown>\n#3 0x55c215f43283 <unknown>\n#4 0x55c215f3f89a <unknown>\n#5 0x55c215f7d00a <unknown>\n#6 0x55c215f77c93 <unknown>\n#7 0x55c215f49ce4 <unknown>\n#8 0x55c215f4b4d2 <unknown>\n#9 0x55c216204542 <unknown>\n#10 0x55c216213ce7 <unknown>\n#11 0x55c2162139e4 <unknown>\n#12 0x55c21621813a <unknown>\n#13 0x55c2162145b9 <unknown>\n#14 0x55c2161f9e00 <unknown>\n#15 0x55c21622b5d2 <unknown>\n#16 0x55c21622b778 <unknown>\n#17 0x55c216243a1f <unknown>\n#18 0x7ff3ff372fa3 start_thread\n#19 0x7ff3fe3c84cf clone\n\nUsers fetched: 4446\nGetting profile information from https://www.freelancer.com/u/katrinag5 ...\nFailed to fetch user profile: https://www.freelancer.com/u/katrinag5\nMessage: unknown error: Chrome failed to start: exited abnormally.\n  (unknown error: DevToolsActivePort file doesn't exist)\n  (The process started from chrome location /usr/bin/chromium is no longer running, so ChromeDriver is assuming that Chrome has crashed.)\nStacktrace:\n#0 0x557c53cc37f9 <unknown>\n#1 0x557c53c633b3 <unknown>\n#2 0x557c539ab016 <unknown>\n#3 0x557c539ce283 <unknown>\n#4 0x557c539ca89a <unknown>\n#5 0x557c53a0800a <unknown>\n#6 0x557c53a02c93 <unknown>\n#7 0x557c539d4ce4 <unknown>\n#8 0x557c539d64d2 <unknown>\n#9 0x557c53c8f542 <unknown>\n#10 0x557c53c9ece7 <unknown>\n#11 0x557c53c9e9e4 <unknown>\n#12 0x557c53ca313a <unknown>\n#13 0x557c53c9f5b9 <unknown>\n#14 0x557c53c84e00 <unknown>\n#15 0x557c53cb65d2 <unknown>\n#16 0x557c53cb6778 <unknown>\n#17 0x557c53ccea1f <unknown>\n#18 0x7f63a282afa3 start_thread\n#19 0x7f63a18804cf clone\n\nUsers fetched: 4447\nGetting profile information from https://www.freelancer.com/u/CarloDiDonna ...\nFailed to fetch user profile: https://www.freelancer.com/u/CarloDiDonna\nMessage: unknown error: failed to start a thread for the new session\nStacktrace:\n#0 0x564944a747f9 <unknown>\n#1 0x564944a143b3 <unknown>\n#2 0x56494475c016 <unknown>\n#3 0x564944784833 <unknown>\n#4 0x5649447b193c <unknown>\n#5 0x5649447b10ae <unknown>\n#6 0x564944732687 <unknown>\n#7 0x564944733763 <unknown>\n#8 0x564944a40542 <unknown>\n#9 0x564944a4fce7 <unknown>\n#10 0x564944a4f9e4 <unknown>\n#11 0x564944a5413a <unknown>\n#12 0x564944a505b9 <unknown>\n#13 0x564944a35e00 <unknown>\n#14 0x5649447324e5 <unknown>\n#15 0x7f810994209b __libc_start_main\n#16 0x56494473102a _start\n\nUsers fetched: 4448\nGetting profile information from https://www.freelancer.com/u/nasryamen5 ...\nFailed to fetch user profile: https://www.freelancer.com/u/nasryamen5\nMessage: unknown error: Chrome failed to start: exited abnormally.\n  (unknown error: DevToolsActivePort file doesn't exist)\n  (The process started from chrome location /usr/bin/chromium is no longer running, so ChromeDriver is assuming that Chrome has crashed.)\nStacktrace:\n#0 0x5574ea44a7f9 <unknown>\n#1 0x5574ea3ea3b3 <unknown>\n#2 0x5574ea132016 <unknown>\n#3 0x5574ea155283 <unknown>\n#4 0x5574ea15189a <unknown>\n#5 0x5574ea18f00a <unknown>\n#6 0x5574ea189c93 <unknown>\n#7 0x5574ea15bce4 <unknown>\n#8 0x5574ea15d4d2 <unknown>\n#9 0x5574ea416542 <unknown>\n#10 0x5574ea425ce7 <unknown>\n#11 0x5574ea4259e4 <unknown>\n#12 0x5574ea42a13a <unknown>\n#13 0x5574ea4265b9 <unknown>\n#14 0x5574ea40be00 <unknown>\n#15 0x5574ea43d5d2 <unknown>\n#16 0x5574ea43d778 <unknown>\n#17 0x5574ea455a1f <unknown>\n#18 0x7f9f53a3ffa3 start_thread\n#19 0x7f9f52a954cf clone\n\nUsers fetched: 4449\nGetting profile information from https://www.freelancer.com/u/TrevorMckeon ...\nFailed to fetch user profile: https://www.freelancer.com/u/TrevorMckeon\nMessage: unknown error: failed to start a thread for the new session\nStacktrace:\n#0 0x564e3a3747f9 <unknown>\n#1 0x564e3a3143b3 <unknown>\n#2 0x564e3a05c016 <unknown>\n#3 0x564e3a084833 <unknown>\n#4 0x564e3a0b193c <unknown>\n#5 0x564e3a0b10ae <unknown>\n#6 0x564e3a032687 <unknown>\n#7 0x564e3a033763 <unknown>\n#8 0x564e3a340542 <unknown>\n#9 0x564e3a34fce7 <unknown>\n#10 0x564e3a34f9e4 <unknown>\n#11 0x564e3a35413a <unknown>\n#12 0x564e3a3505b9 <unknown>\n#13 0x564e3a335e00 <unknown>\n#14 0x564e3a0324e5 <unknown>\n#15 0x7f2573be409b __libc_start_main\n#16 0x564e3a03102a _start\n\nUsers fetched: 4450\nGetting profile information from https://www.freelancer.com/u/johnseiler352 ...\nFailed to fetch user profile: https://www.freelancer.com/u/johnseiler352\nMessage: unknown error: Chrome failed to start: exited abnormally.\n  (unknown error: DevToolsActivePort file doesn't exist)\n  (The process started from chrome location /usr/bin/chromium is no longer running, so ChromeDriver is assuming that Chrome has crashed.)\nStacktrace:\n#0 0x55d43a4547f9 <unknown>\n#1 0x55d43a3f43b3 <unknown>\n#2 0x55d43a13c016 <unknown>\n#3 0x55d43a15f283 <unknown>\n#4 0x55d43a15b89a <unknown>\n#5 0x55d43a19900a <unknown>\n#6 0x55d43a193c93 <unknown>\n#7 0x55d43a165ce4 <unknown>\n#8 0x55d43a1674d2 <unknown>\n#9 0x55d43a420542 <unknown>\n#10 0x55d43a42fce7 <unknown>\n#11 0x55d43a42f9e4 <unknown>\n#12 0x55d43a43413a <unknown>\n#13 0x55d43a4305b9 <unknown>\n#14 0x55d43a415e00 <unknown>\n#15 0x55d43a4475d2 <unknown>\n#16 0x55d43a447778 <unknown>\n#17 0x55d43a45fa1f <unknown>\n#18 0x7f8d029e1fa3 start_thread\n#19 0x7f8d01a374cf clone\n\nUsers fetched: 4451\nGetting profile information from https://www.freelancer.com/u/davidryth ...\nFailed to fetch user profile: https://www.freelancer.com/u/davidryth\nMessage: unknown error: Chrome failed to start: exited abnormally.\n  (unknown error: DevToolsActivePort file doesn't exist)\n  (The process started from chrome location /usr/bin/chromium is no longer running, so ChromeDriver is assuming that Chrome has crashed.)\nStacktrace:\n#0 0x5625fc5637f9 <unknown>\n#1 0x5625fc5033b3 <unknown>\n#2 0x5625fc24b016 <unknown>\n#3 0x5625fc26e283 <unknown>\n#4 0x5625fc26a89a <unknown>\n#5 0x5625fc2a800a <unknown>\n#6 0x5625fc2a2c93 <unknown>\n#7 0x5625fc274ce4 <unknown>\n#8 0x5625fc2764d2 <unknown>\n#9 0x5625fc52f542 <unknown>\n#10 0x5625fc53ece7 <unknown>\n#11 0x5625fc53e9e4 <unknown>\n#12 0x5625fc54313a <unknown>\n#13 0x5625fc53f5b9 <unknown>\n#14 0x5625fc524e00 <unknown>\n#15 0x5625fc5565d2 <unknown>\n#16 0x5625fc556778 <unknown>\n#17 0x5625fc56ea1f <unknown>\n#18 0x7f8c44407fa3 start_thread\n#19 0x7f8c4345d4cf clone\n\nUsers fetched: 4452\nGetting profile information from https://www.freelancer.com/u/CDrayton94 ...\nFailed to fetch user profile: https://www.freelancer.com/u/CDrayton94\nMessage: unknown error: Failed to create Chrome process.\nStacktrace:\n#0 0x5621f31777f9 <unknown>\n#1 0x5621f31173b3 <unknown>\n#2 0x5621f2e5f016 <unknown>\n#3 0x5621f2e81c27 <unknown>\n#4 0x5621f2e7e89a <unknown>\n#5 0x5621f2ebc00a <unknown>\n#6 0x5621f2eb6c93 <unknown>\n#7 0x5621f2e88ce4 <unknown>\n#8 0x5621f2e8a4d2 <unknown>\n#9 0x5621f3143542 <unknown>\n#10 0x5621f3152ce7 <unknown>\n#11 0x5621f31529e4 <unknown>\n#12 0x5621f315713a <unknown>\n#13 0x5621f31535b9 <unknown>\n#14 0x5621f3138e00 <unknown>\n#15 0x5621f316a5d2 <unknown>\n#16 0x5621f316a778 <unknown>\n#17 0x5621f3182a1f <unknown>\n#18 0x7fd59910afa3 start_thread\n#19 0x7fd5981604cf clone\n\nUsers fetched: 4453\nGetting profile information from https://www.freelancer.com/u/D2thearch ...\nFailed to fetch user profile: https://www.freelancer.com/u/D2thearch\nMessage: unknown error: Failed to create Chrome process.\nStacktrace:\n#0 0x5631a23097f9 <unknown>\n#1 0x5631a22a93b3 <unknown>\n#2 0x5631a1ff1016 <unknown>\n#3 0x5631a2013c27 <unknown>\n#4 0x5631a201089a <unknown>\n#5 0x5631a204e00a <unknown>\n#6 0x5631a2048c93 <unknown>\n#7 0x5631a201ace4 <unknown>\n#8 0x5631a201c4d2 <unknown>\n#9 0x5631a22d5542 <unknown>\n#10 0x5631a22e4ce7 <unknown>\n#11 0x5631a22e49e4 <unknown>\n#12 0x5631a22e913a <unknown>\n#13 0x5631a22e55b9 <unknown>\n#14 0x5631a22cae00 <unknown>\n#15 0x5631a22fc5d2 <unknown>\n#16 0x5631a22fc778 <unknown>\n#17 0x5631a2314a1f <unknown>\n#18 0x7f52324fdfa3 start_thread\n#19 0x7f52315534cf clone\n\nUsers fetched: 4454\nGetting profile information from https://www.freelancer.com/u/RBar957938 ...\nFailed to fetch user profile: https://www.freelancer.com/u/RBar957938\nMessage: unknown error: failed to start a thread for the new session\nStacktrace:\n#0 0x559cbb6407f9 <unknown>\n#1 0x559cbb5e03b3 <unknown>\n#2 0x559cbb328016 <unknown>\n#3 0x559cbb350833 <unknown>\n#4 0x559cbb37d93c <unknown>\n#5 0x559cbb37d0ae <unknown>\n#6 0x559cbb2fe687 <unknown>\n#7 0x559cbb2ff763 <unknown>\n#8 0x559cbb60c542 <unknown>\n#9 0x559cbb61bce7 <unknown>\n#10 0x559cbb61b9e4 <unknown>\n#11 0x559cbb62013a <unknown>\n#12 0x559cbb61c5b9 <unknown>\n#13 0x559cbb601e00 <unknown>\n#14 0x559cbb2fe4e5 <unknown>\n#15 0x7f023a0fb09b __libc_start_main\n#16 0x559cbb2fd02a _start\n\nUsers fetched: 4455\nGetting profile information from https://www.freelancer.com/u/businesswoman74 ...\nFailed to fetch user profile: https://www.freelancer.com/u/businesswoman74\nMessage: unknown error: Failed to create Chrome process.\nStacktrace:\n#0 0x55c600d077f9 <unknown>\n#1 0x55c600ca73b3 <unknown>\n#2 0x55c6009ef016 <unknown>\n#3 0x55c600a11c27 <unknown>\n#4 0x55c600a0e89a <unknown>\n#5 0x55c600a4c00a <unknown>\n#6 0x55c600a46c93 <unknown>\n#7 0x55c600a18ce4 <unknown>\n#8 0x55c600a1a4d2 <unknown>\n#9 0x55c600cd3542 <unknown>\n#10 0x55c600ce2ce7 <unknown>\n#11 0x55c600ce29e4 <unknown>\n#12 0x55c600ce713a <unknown>\n#13 0x55c600ce35b9 <unknown>\n#14 0x55c600cc8e00 <unknown>\n#15 0x55c600cfa5d2 <unknown>\n#16 0x55c600cfa778 <unknown>\n#17 0x55c600d12a1f <unknown>\n#18 0x7f2298a73fa3 start_thread\n#19 0x7f2297ac94cf clone\n\nUsers fetched: 4456\nGetting profile information from https://www.freelancer.com/u/Arvon ...\nFailed to fetch user profile: https://www.freelancer.com/u/Arvon\nMessage: unknown error: Failed to create Chrome process.\nStacktrace:\n#0 0x562d4e0267f9 <unknown>\n#1 0x562d4dfc63b3 <unknown>\n#2 0x562d4dd0e016 <unknown>\n#3 0x562d4dd30c27 <unknown>\n#4 0x562d4dd2d89a <unknown>\n#5 0x562d4dd6b00a <unknown>\n#6 0x562d4dd65c93 <unknown>\n#7 0x562d4dd37ce4 <unknown>\n#8 0x562d4dd394d2 <unknown>\n#9 0x562d4dff2542 <unknown>\n#10 0x562d4e001ce7 <unknown>\n#11 0x562d4e0019e4 <unknown>\n#12 0x562d4e00613a <unknown>\n#13 0x562d4e0025b9 <unknown>\n#14 0x562d4dfe7e00 <unknown>\n#15 0x562d4e0195d2 <unknown>\n#16 0x562d4e019778 <unknown>\n#17 0x562d4e031a1f <unknown>\n#18 0x7fe4ab7b5fa3 start_thread\n#19 0x7fe4aa80b4cf clone\n\nUsers fetched: 4457\nAll done!\n",
     "output_type": "stream"
    }
   ]
  },
  {
   "cell_type": "code",
   "metadata": {
    "cell_id": "00006-02dea7e4-2897-476b-8c41-edca36e39631",
    "deepnote_to_be_reexecuted": false,
    "source_hash": "79c83c9a",
    "execution_start": 1647362647371,
    "execution_millis": 12,
    "owner_user_id": "137a3c01-b664-418f-a4f7-29c65aed44dc",
    "deepnote_cell_type": "code",
    "deepnote_cell_height": 413
   },
   "source": "scraped_pd_df = pd.DataFrame(scraper.users_info)\nscraped_pd_df.head()",
   "execution_count": null,
   "outputs": [
    {
     "output_type": "execute_result",
     "execution_count": 4,
     "data": {
      "application/vnd.deepnote.dataframe.v3+json": {
       "column_count": 16,
       "row_count": 5,
       "columns": [
        {
         "name": "search_query",
         "dtype": "object",
         "stats": {
          "unique_count": 1,
          "nan_count": 0,
          "categories": [
           {
            "name": "software engineer",
            "count": 5
           }
          ]
         }
        },
        {
         "name": "name",
         "dtype": "object",
         "stats": {
          "unique_count": 5,
          "nan_count": 0,
          "categories": [
           {
            "name": "Sanjay P.",
            "count": 1
           },
           {
            "name": "Ken L.",
            "count": 1
           },
           {
            "name": "3 others",
            "count": 3
           }
          ]
         }
        },
        {
         "name": "profile_link",
         "dtype": "object",
         "stats": {
          "unique_count": 5,
          "nan_count": 0,
          "categories": [
           {
            "name": "https://www.freelancer.com/u/cupertinovw",
            "count": 1
           },
           {
            "name": "https://www.freelancer.com/u/nvmnet",
            "count": 1
           },
           {
            "name": "3 others",
            "count": 3
           }
          ]
         }
        },
        {
         "name": "tagline",
         "dtype": "object",
         "stats": {
          "unique_count": 5,
          "nan_count": 0,
          "categories": [
           {
            "name": "Your Ideas Implemented",
            "count": 1
           },
           {
            "name": "Computer Engineer",
            "count": 1
           },
           {
            "name": "3 others",
            "count": 3
           }
          ]
         }
        },
        {
         "name": "user_description",
         "dtype": "object",
         "stats": {
          "unique_count": 5,
          "nan_count": 0,
          "categories": [
           {
            "name": "Lambodar Inc,\nCupertino, California\n\nSummary: More than 7 years programming and application development experience\n\nProficient in: AJAX, JavaScript,PHP,Perl,Java, Ruby on Rails,C#,C++,Shell Scripting,Python,Objective C, Struts,J2EE,Tomcat,Apache, iPod,iPad,Android.\n\n#Education\n*Master of Computer Applications (M.C.A.) | JNU\n\n# Area of Expertise\n*Linux, Centos, Redhat, Amazon EC2, Cloud Computing, Hadoop\n*Windows server 2003, Windows XP\n*MySQL, SqlServer 2005, 2000\n*PHP,C,C+,C#,Perl,Ruby,VB, , Shell Scripting, , Actionscript,java, xml,xslt,phython\n*Javascipt,CSS, Mootools,JQuery,Prototype,YUI\n*Seagull, , .NET 2.1, .NET 3.x, CakePHP, Rails, QCodo\n*Asterisk\n*JBoss, Apache,Hadoop,Lucene,Tomcat,LDAP\n*Flash,Photoshop,Dreamweaver,Expression Studio\n*Mobile: iPhone, iOS, Android, PhoneGap, Titanium\n*Networking: openNMS,Zabbix,Nagios\n*System Admin: Rackspace, AWS,S3,cloud,VPS\n*Frameworks: Django, RoR, Ruby on Rails,MVC",
            "count": 1
           },
           {
            "name": "I develop computer softwares\ncustom operating system development\nsocket programming\ndesktop application development",
            "count": 1
           },
           {
            "name": "3 others",
            "count": 3
           }
          ]
         }
        },
        {
         "name": "location",
         "dtype": "object",
         "stats": {
          "unique_count": 5,
          "nan_count": 0,
          "categories": [
           {
            "name": "Cupertino, United States",
            "count": 1
           },
           {
            "name": "N/A, United States",
            "count": 1
           },
           {
            "name": "3 others",
            "count": 3
           }
          ]
         }
        },
        {
         "name": "join_date",
         "dtype": "object",
         "stats": {
          "unique_count": 5,
          "nan_count": 0,
          "categories": [
           {
            "name": "August 18, 2004",
            "count": 1
           },
           {
            "name": "March 27, 2011",
            "count": 1
           },
           {
            "name": "3 others",
            "count": 3
           }
          ]
         }
        },
        {
         "name": "hourly_rate",
         "dtype": "object",
         "stats": {
          "unique_count": 4,
          "nan_count": 0,
          "categories": [
           {
            "name": "$50",
            "count": 2
           },
           {
            "name": "$46",
            "count": 1
           },
           {
            "name": "2 others",
            "count": 2
           }
          ]
         }
        },
        {
         "name": "pay_grade",
         "dtype": "object",
         "stats": {
          "unique_count": 2,
          "nan_count": 0,
          "categories": [
           {
            "name": "0.0",
            "count": 4
           },
           {
            "name": "8.5",
            "count": 1
           }
          ]
         }
        },
        {
         "name": "avg_rating",
         "dtype": "object",
         "stats": {
          "unique_count": 2,
          "nan_count": 0,
          "categories": [
           {
            "name": "0.0",
            "count": 4
           },
           {
            "name": "4.9",
            "count": 1
           }
          ]
         }
        },
        {
         "name": "num_reviews",
         "dtype": "object",
         "stats": {
          "unique_count": 2,
          "nan_count": 0,
          "categories": [
           {
            "name": "0",
            "count": 4
           },
           {
            "name": "81",
            "count": 1
           }
          ]
         }
        },
        {
         "name": "num_recommendations",
         "dtype": "object",
         "stats": {
          "unique_count": 2,
          "nan_count": 0,
          "categories": [
           {
            "name": "0",
            "count": 4
           },
           {
            "name": "10",
            "count": 1
           }
          ]
         }
        },
        {
         "name": "pct_jobs_completed",
         "dtype": "object",
         "stats": {
          "unique_count": 2,
          "nan_count": 0,
          "categories": [
           {
            "name": "N/A",
            "count": 4
           },
           {
            "name": "97",
            "count": 1
           }
          ]
         }
        },
        {
         "name": "pct_on_budget",
         "dtype": "object",
         "stats": {
          "unique_count": 2,
          "nan_count": 0,
          "categories": [
           {
            "name": "N/A",
            "count": 4
           },
           {
            "name": "100",
            "count": 1
           }
          ]
         }
        },
        {
         "name": "pct_on_time",
         "dtype": "object",
         "stats": {
          "unique_count": 2,
          "nan_count": 0,
          "categories": [
           {
            "name": "N/A",
            "count": 4
           },
           {
            "name": "96",
            "count": 1
           }
          ]
         }
        },
        {
         "name": "repeat_hire_rate",
         "dtype": "object",
         "stats": {
          "unique_count": 2,
          "nan_count": 0,
          "categories": [
           {
            "name": "N/A",
            "count": 4
           },
           {
            "name": "18",
            "count": 1
           }
          ]
         }
        },
        {
         "name": "_deepnote_index_column",
         "dtype": "int64"
        }
       ],
       "rows": [
        {
         "search_query": "software engineer",
         "name": "Sanjay P.",
         "profile_link": "https://www.freelancer.com/u/cupertinovw",
         "tagline": "Your Ideas Implemented",
         "user_description": "Lambodar Inc,\nCupertino, California\n\nSummary: More than 7 years programming and application develop…",
         "location": "Cupertino, United States",
         "join_date": "August 18, 2004",
         "hourly_rate": "$46",
         "pay_grade": "8.5",
         "avg_rating": "4.9",
         "num_reviews": "81",
         "num_recommendations": "10",
         "pct_jobs_completed": "97",
         "pct_on_budget": "100",
         "pct_on_time": "96",
         "repeat_hire_rate": "18",
         "_deepnote_index_column": 0
        },
        {
         "search_query": "software engineer",
         "name": "Ken L.",
         "profile_link": "https://www.freelancer.com/u/nvmnet",
         "tagline": "Computer Engineer",
         "user_description": "I develop computer softwares\ncustom operating system development\nsocket programming\ndesktop applica…",
         "location": "N/A, United States",
         "join_date": "March 27, 2011",
         "hourly_rate": "$200",
         "pay_grade": "0.0",
         "avg_rating": "0.0",
         "num_reviews": "0",
         "num_recommendations": "0",
         "pct_jobs_completed": "N/A",
         "pct_on_budget": "N/A",
         "pct_on_time": "N/A",
         "repeat_hire_rate": "N/A",
         "_deepnote_index_column": 1
        },
        {
         "search_query": "software engineer",
         "name": "Chris C.",
         "profile_link": "https://www.freelancer.com/u/TeamJump",
         "tagline": "Always looking for extra talent in the areas of design and development.",
         "user_description": "24 years of software development and information technology, from projects including C, C++, .NET, …",
         "location": "Kansas City, United States",
         "join_date": "October 1, 2010",
         "hourly_rate": "$50",
         "pay_grade": "0.0",
         "avg_rating": "0.0",
         "num_reviews": "0",
         "num_recommendations": "0",
         "pct_jobs_completed": "N/A",
         "pct_on_budget": "N/A",
         "pct_on_time": "N/A",
         "repeat_hire_rate": "N/A",
         "_deepnote_index_column": 2
        },
        {
         "search_query": "software engineer",
         "name": "Mena E.",
         "profile_link": "https://www.freelancer.com/u/meskandar317",
         "tagline": "Engineer and Excel Expert",
         "user_description": "I am an engineer with experience in manufacturing processes, process optimization, excel tools deve…",
         "location": "Newark, United States",
         "join_date": "June 19, 2019",
         "hourly_rate": "$22",
         "pay_grade": "0.0",
         "avg_rating": "0.0",
         "num_reviews": "0",
         "num_recommendations": "0",
         "pct_jobs_completed": "N/A",
         "pct_on_budget": "N/A",
         "pct_on_time": "N/A",
         "repeat_hire_rate": "N/A",
         "_deepnote_index_column": 3
        },
        {
         "search_query": "software engineer",
         "name": "Tomer H.",
         "profile_link": "https://www.freelancer.com/u/hebtom",
         "tagline": "Software Engineer",
         "user_description": "I'm located in Austin, Texas.\n\nI have worked professionally as a Software Engineer for almost 15 ye…",
         "location": "Austin, United States",
         "join_date": "April 7, 2019",
         "hourly_rate": "$50",
         "pay_grade": "0.0",
         "avg_rating": "0.0",
         "num_reviews": "0",
         "num_recommendations": "0",
         "pct_jobs_completed": "N/A",
         "pct_on_budget": "N/A",
         "pct_on_time": "N/A",
         "repeat_hire_rate": "N/A",
         "_deepnote_index_column": 4
        }
       ]
      },
      "text/plain": "        search_query       name                               profile_link  \\\n0  software engineer  Sanjay P.   https://www.freelancer.com/u/cupertinovw   \n1  software engineer     Ken L.        https://www.freelancer.com/u/nvmnet   \n2  software engineer   Chris C.      https://www.freelancer.com/u/TeamJump   \n3  software engineer    Mena E.  https://www.freelancer.com/u/meskandar317   \n4  software engineer   Tomer H.        https://www.freelancer.com/u/hebtom   \n\n                                             tagline  \\\n0                             Your Ideas Implemented   \n1                                  Computer Engineer   \n2  Always looking for extra talent in the areas o...   \n3                          Engineer and Excel Expert   \n4                                  Software Engineer   \n\n                                    user_description  \\\n0  Lambodar Inc,\\nCupertino, California\\n\\nSummar...   \n1  I develop computer softwares\\ncustom operating...   \n2  24 years of software development and informati...   \n3  I am an engineer with experience in manufactur...   \n4  I'm located in Austin, Texas.\\n\\nI have worked...   \n\n                     location        join_date hourly_rate pay_grade  \\\n0    Cupertino, United States  August 18, 2004         $46       8.5   \n1          N/A, United States   March 27, 2011        $200       0.0   \n2  Kansas City, United States  October 1, 2010         $50       0.0   \n3       Newark, United States    June 19, 2019         $22       0.0   \n4       Austin, United States    April 7, 2019         $50       0.0   \n\n  avg_rating num_reviews num_recommendations pct_jobs_completed pct_on_budget  \\\n0        4.9          81                  10                 97           100   \n1        0.0           0                   0                N/A           N/A   \n2        0.0           0                   0                N/A           N/A   \n3        0.0           0                   0                N/A           N/A   \n4        0.0           0                   0                N/A           N/A   \n\n  pct_on_time repeat_hire_rate  \n0          96               18  \n1         N/A              N/A  \n2         N/A              N/A  \n3         N/A              N/A  \n4         N/A              N/A  ",
      "text/html": "<div>\n<style scoped>\n    .dataframe tbody tr th:only-of-type {\n        vertical-align: middle;\n    }\n\n    .dataframe tbody tr th {\n        vertical-align: top;\n    }\n\n    .dataframe thead th {\n        text-align: right;\n    }\n</style>\n<table border=\"1\" class=\"dataframe\">\n  <thead>\n    <tr style=\"text-align: right;\">\n      <th></th>\n      <th>search_query</th>\n      <th>name</th>\n      <th>profile_link</th>\n      <th>tagline</th>\n      <th>user_description</th>\n      <th>location</th>\n      <th>join_date</th>\n      <th>hourly_rate</th>\n      <th>pay_grade</th>\n      <th>avg_rating</th>\n      <th>num_reviews</th>\n      <th>num_recommendations</th>\n      <th>pct_jobs_completed</th>\n      <th>pct_on_budget</th>\n      <th>pct_on_time</th>\n      <th>repeat_hire_rate</th>\n    </tr>\n  </thead>\n  <tbody>\n    <tr>\n      <th>0</th>\n      <td>software engineer</td>\n      <td>Sanjay P.</td>\n      <td>https://www.freelancer.com/u/cupertinovw</td>\n      <td>Your Ideas Implemented</td>\n      <td>Lambodar Inc,\\nCupertino, California\\n\\nSummar...</td>\n      <td>Cupertino, United States</td>\n      <td>August 18, 2004</td>\n      <td>$46</td>\n      <td>8.5</td>\n      <td>4.9</td>\n      <td>81</td>\n      <td>10</td>\n      <td>97</td>\n      <td>100</td>\n      <td>96</td>\n      <td>18</td>\n    </tr>\n    <tr>\n      <th>1</th>\n      <td>software engineer</td>\n      <td>Ken L.</td>\n      <td>https://www.freelancer.com/u/nvmnet</td>\n      <td>Computer Engineer</td>\n      <td>I develop computer softwares\\ncustom operating...</td>\n      <td>N/A, United States</td>\n      <td>March 27, 2011</td>\n      <td>$200</td>\n      <td>0.0</td>\n      <td>0.0</td>\n      <td>0</td>\n      <td>0</td>\n      <td>N/A</td>\n      <td>N/A</td>\n      <td>N/A</td>\n      <td>N/A</td>\n    </tr>\n    <tr>\n      <th>2</th>\n      <td>software engineer</td>\n      <td>Chris C.</td>\n      <td>https://www.freelancer.com/u/TeamJump</td>\n      <td>Always looking for extra talent in the areas o...</td>\n      <td>24 years of software development and informati...</td>\n      <td>Kansas City, United States</td>\n      <td>October 1, 2010</td>\n      <td>$50</td>\n      <td>0.0</td>\n      <td>0.0</td>\n      <td>0</td>\n      <td>0</td>\n      <td>N/A</td>\n      <td>N/A</td>\n      <td>N/A</td>\n      <td>N/A</td>\n    </tr>\n    <tr>\n      <th>3</th>\n      <td>software engineer</td>\n      <td>Mena E.</td>\n      <td>https://www.freelancer.com/u/meskandar317</td>\n      <td>Engineer and Excel Expert</td>\n      <td>I am an engineer with experience in manufactur...</td>\n      <td>Newark, United States</td>\n      <td>June 19, 2019</td>\n      <td>$22</td>\n      <td>0.0</td>\n      <td>0.0</td>\n      <td>0</td>\n      <td>0</td>\n      <td>N/A</td>\n      <td>N/A</td>\n      <td>N/A</td>\n      <td>N/A</td>\n    </tr>\n    <tr>\n      <th>4</th>\n      <td>software engineer</td>\n      <td>Tomer H.</td>\n      <td>https://www.freelancer.com/u/hebtom</td>\n      <td>Software Engineer</td>\n      <td>I'm located in Austin, Texas.\\n\\nI have worked...</td>\n      <td>Austin, United States</td>\n      <td>April 7, 2019</td>\n      <td>$50</td>\n      <td>0.0</td>\n      <td>0.0</td>\n      <td>0</td>\n      <td>0</td>\n      <td>N/A</td>\n      <td>N/A</td>\n      <td>N/A</td>\n      <td>N/A</td>\n    </tr>\n  </tbody>\n</table>\n</div>"
     },
     "metadata": {}
    }
   ]
  },
  {
   "cell_type": "code",
   "metadata": {
    "cell_id": "00007-a390f855-6bb6-4db8-946f-20662a7ac88a",
    "deepnote_to_be_reexecuted": false,
    "source_hash": "e58e278f",
    "execution_start": 1647362655650,
    "execution_millis": 152,
    "deepnote_cell_type": "code",
    "deepnote_cell_height": 81
   },
   "source": "scraped_pd_df.to_csv(f'{\"_\".join(scraper.search.split(\" \"))}.csv',index=False)",
   "execution_count": null,
   "outputs": []
  },
  {
   "cell_type": "code",
   "metadata": {
    "cell_id": "00008-ecb32b23-f72b-42f8-a66f-e3d28f704bb3",
    "deepnote_to_be_reexecuted": false,
    "source_hash": "715dbe87",
    "execution_start": 1647362664891,
    "execution_millis": 74,
    "deepnote_cell_type": "code",
    "deepnote_cell_height": 354
   },
   "source": "scraped_pd_df.describe()",
   "execution_count": null,
   "outputs": [
    {
     "output_type": "execute_result",
     "execution_count": 6,
     "data": {
      "application/vnd.deepnote.dataframe.v3+json": {
       "column_count": 16,
       "row_count": 4,
       "columns": [
        {
         "name": "search_query",
         "dtype": "object",
         "stats": {
          "unique_count": 3,
          "nan_count": 0,
          "categories": [
           {
            "name": "4595",
            "count": 2
           },
           {
            "name": "1",
            "count": 1
           },
           {
            "name": "software engineer",
            "count": 1
           }
          ]
         }
        },
        {
         "name": "name",
         "dtype": "object",
         "stats": {
          "unique_count": 4,
          "nan_count": 0,
          "categories": [
           {
            "name": "4595",
            "count": 1
           },
           {
            "name": "3988",
            "count": 1
           },
           {
            "name": "2 others",
            "count": 2
           }
          ]
         }
        },
        {
         "name": "profile_link",
         "dtype": "object",
         "stats": {
          "unique_count": 3,
          "nan_count": 0,
          "categories": [
           {
            "name": "4595",
            "count": 2
           },
           {
            "name": "https://www.freelancer.com/u/cupertinovw",
            "count": 1
           },
           {
            "name": "1",
            "count": 1
           }
          ]
         }
        },
        {
         "name": "tagline",
         "dtype": "object",
         "stats": {
          "unique_count": 4,
          "nan_count": 0,
          "categories": [
           {
            "name": "4595",
            "count": 1
           },
           {
            "name": "3738",
            "count": 1
           },
           {
            "name": "2 others",
            "count": 2
           }
          ]
         }
        },
        {
         "name": "user_description",
         "dtype": "object",
         "stats": {
          "unique_count": 4,
          "nan_count": 0,
          "categories": [
           {
            "name": "4595",
            "count": 1
           },
           {
            "name": "4592",
            "count": 1
           },
           {
            "name": "2 others",
            "count": 2
           }
          ]
         }
        },
        {
         "name": "location",
         "dtype": "object",
         "stats": {
          "unique_count": 4,
          "nan_count": 0,
          "categories": [
           {
            "name": "4595",
            "count": 1
           },
           {
            "name": "1931",
            "count": 1
           },
           {
            "name": "2 others",
            "count": 2
           }
          ]
         }
        },
        {
         "name": "join_date",
         "dtype": "object",
         "stats": {
          "unique_count": 4,
          "nan_count": 0,
          "categories": [
           {
            "name": "4595",
            "count": 1
           },
           {
            "name": "2402",
            "count": 1
           },
           {
            "name": "2 others",
            "count": 2
           }
          ]
         }
        },
        {
         "name": "hourly_rate",
         "dtype": "object",
         "stats": {
          "unique_count": 4,
          "nan_count": 0,
          "categories": [
           {
            "name": "4595",
            "count": 1
           },
           {
            "name": "114",
            "count": 1
           },
           {
            "name": "2 others",
            "count": 2
           }
          ]
         }
        },
        {
         "name": "pay_grade",
         "dtype": "object",
         "stats": {
          "unique_count": 4,
          "nan_count": 0,
          "categories": [
           {
            "name": "4595",
            "count": 1
           },
           {
            "name": "89",
            "count": 1
           },
           {
            "name": "2 others",
            "count": 2
           }
          ]
         }
        },
        {
         "name": "avg_rating",
         "dtype": "object",
         "stats": {
          "unique_count": 4,
          "nan_count": 0,
          "categories": [
           {
            "name": "4595",
            "count": 1
           },
           {
            "name": "20",
            "count": 1
           },
           {
            "name": "2 others",
            "count": 2
           }
          ]
         }
        },
        {
         "name": "num_reviews",
         "dtype": "object",
         "stats": {
          "unique_count": 4,
          "nan_count": 0,
          "categories": [
           {
            "name": "4595",
            "count": 1
           },
           {
            "name": "110",
            "count": 1
           },
           {
            "name": "2 others",
            "count": 2
           }
          ]
         }
        },
        {
         "name": "num_recommendations",
         "dtype": "object",
         "stats": {
          "unique_count": 4,
          "nan_count": 0,
          "categories": [
           {
            "name": "4595",
            "count": 1
           },
           {
            "name": "25",
            "count": 1
           },
           {
            "name": "2 others",
            "count": 2
           }
          ]
         }
        },
        {
         "name": "pct_jobs_completed",
         "dtype": "object",
         "stats": {
          "unique_count": 4,
          "nan_count": 0,
          "categories": [
           {
            "name": "4595",
            "count": 1
           },
           {
            "name": "29",
            "count": 1
           },
           {
            "name": "2 others",
            "count": 2
           }
          ]
         }
        },
        {
         "name": "pct_on_budget",
         "dtype": "object",
         "stats": {
          "unique_count": 4,
          "nan_count": 0,
          "categories": [
           {
            "name": "4595",
            "count": 1
           },
           {
            "name": "55",
            "count": 1
           },
           {
            "name": "2 others",
            "count": 2
           }
          ]
         }
        },
        {
         "name": "pct_on_time",
         "dtype": "object",
         "stats": {
          "unique_count": 4,
          "nan_count": 0,
          "categories": [
           {
            "name": "4595",
            "count": 1
           },
           {
            "name": "55",
            "count": 1
           },
           {
            "name": "2 others",
            "count": 2
           }
          ]
         }
        },
        {
         "name": "repeat_hire_rate",
         "dtype": "object",
         "stats": {
          "unique_count": 4,
          "nan_count": 0,
          "categories": [
           {
            "name": "4595",
            "count": 1
           },
           {
            "name": "52",
            "count": 1
           },
           {
            "name": "2 others",
            "count": 2
           }
          ]
         }
        },
        {
         "name": "_deepnote_index_column",
         "dtype": "object"
        }
       ],
       "rows": [
        {
         "search_query": "4595",
         "name": "4595",
         "profile_link": "4595",
         "tagline": "4595",
         "user_description": "4595",
         "location": "4595",
         "join_date": "4595",
         "hourly_rate": "4595",
         "pay_grade": "4595",
         "avg_rating": "4595",
         "num_reviews": "4595",
         "num_recommendations": "4595",
         "pct_jobs_completed": "4595",
         "pct_on_budget": "4595",
         "pct_on_time": "4595",
         "repeat_hire_rate": "4595",
         "_deepnote_index_column": "count"
        },
        {
         "search_query": "1",
         "name": "3988",
         "profile_link": "4595",
         "tagline": "3738",
         "user_description": "4592",
         "location": "1931",
         "join_date": "2402",
         "hourly_rate": "114",
         "pay_grade": "89",
         "avg_rating": "20",
         "num_reviews": "110",
         "num_recommendations": "25",
         "pct_jobs_completed": "29",
         "pct_on_budget": "55",
         "pct_on_time": "55",
         "repeat_hire_rate": "52",
         "_deepnote_index_column": "unique"
        },
        {
         "search_query": "software engineer",
         "name": "Michael S.",
         "profile_link": "https://www.freelancer.com/u/cupertinovw",
         "tagline": "Software Engineer",
         "user_description": "I am a Full-Stack Software Engineer with a concentration in JavaScript and Elixir.\nI'm very passion…",
         "location": "United States",
         "join_date": "January 10, 2022",
         "hourly_rate": "$20",
         "pay_grade": "0.0",
         "avg_rating": "0.0",
         "num_reviews": "0",
         "num_recommendations": "0",
         "pct_jobs_completed": "N/A",
         "pct_on_budget": "N/A",
         "pct_on_time": "N/A",
         "repeat_hire_rate": "N/A",
         "_deepnote_index_column": "top"
        },
        {
         "search_query": "4595",
         "name": "10",
         "profile_link": "1",
         "tagline": "181",
         "user_description": "2",
         "location": "86",
         "join_date": "20",
         "hourly_rate": "562",
         "pay_grade": "3605",
         "avg_rating": "3611",
         "num_reviews": "3600",
         "num_recommendations": "4206",
         "pct_jobs_completed": "3565",
         "pct_on_budget": "3626",
         "pct_on_time": "3625",
         "repeat_hire_rate": "4103",
         "_deepnote_index_column": "freq"
        }
       ]
      },
      "text/plain": "             search_query        name  \\\ncount                4595        4595   \nunique                  1        3988   \ntop     software engineer  Michael S.   \nfreq                 4595          10   \n\n                                    profile_link            tagline  \\\ncount                                       4595               4595   \nunique                                      4595               3738   \ntop     https://www.freelancer.com/u/cupertinovw  Software Engineer   \nfreq                                           1                181   \n\n                                         user_description       location  \\\ncount                                                4595           4595   \nunique                                               4592           1931   \ntop     I am a Full-Stack Software Engineer with a con...  United States   \nfreq                                                    2             86   \n\n               join_date hourly_rate pay_grade avg_rating num_reviews  \\\ncount               4595        4595      4595       4595        4595   \nunique              2402         114        89         20         110   \ntop     January 10, 2022         $20       0.0        0.0           0   \nfreq                  20         562      3605       3611        3600   \n\n       num_recommendations pct_jobs_completed pct_on_budget pct_on_time  \\\ncount                 4595               4595          4595        4595   \nunique                  25                 29            55          55   \ntop                      0                N/A           N/A         N/A   \nfreq                  4206               3565          3626        3625   \n\n       repeat_hire_rate  \ncount              4595  \nunique               52  \ntop                 N/A  \nfreq               4103  ",
      "text/html": "<div>\n<style scoped>\n    .dataframe tbody tr th:only-of-type {\n        vertical-align: middle;\n    }\n\n    .dataframe tbody tr th {\n        vertical-align: top;\n    }\n\n    .dataframe thead th {\n        text-align: right;\n    }\n</style>\n<table border=\"1\" class=\"dataframe\">\n  <thead>\n    <tr style=\"text-align: right;\">\n      <th></th>\n      <th>search_query</th>\n      <th>name</th>\n      <th>profile_link</th>\n      <th>tagline</th>\n      <th>user_description</th>\n      <th>location</th>\n      <th>join_date</th>\n      <th>hourly_rate</th>\n      <th>pay_grade</th>\n      <th>avg_rating</th>\n      <th>num_reviews</th>\n      <th>num_recommendations</th>\n      <th>pct_jobs_completed</th>\n      <th>pct_on_budget</th>\n      <th>pct_on_time</th>\n      <th>repeat_hire_rate</th>\n    </tr>\n  </thead>\n  <tbody>\n    <tr>\n      <th>count</th>\n      <td>4595</td>\n      <td>4595</td>\n      <td>4595</td>\n      <td>4595</td>\n      <td>4595</td>\n      <td>4595</td>\n      <td>4595</td>\n      <td>4595</td>\n      <td>4595</td>\n      <td>4595</td>\n      <td>4595</td>\n      <td>4595</td>\n      <td>4595</td>\n      <td>4595</td>\n      <td>4595</td>\n      <td>4595</td>\n    </tr>\n    <tr>\n      <th>unique</th>\n      <td>1</td>\n      <td>3988</td>\n      <td>4595</td>\n      <td>3738</td>\n      <td>4592</td>\n      <td>1931</td>\n      <td>2402</td>\n      <td>114</td>\n      <td>89</td>\n      <td>20</td>\n      <td>110</td>\n      <td>25</td>\n      <td>29</td>\n      <td>55</td>\n      <td>55</td>\n      <td>52</td>\n    </tr>\n    <tr>\n      <th>top</th>\n      <td>software engineer</td>\n      <td>Michael S.</td>\n      <td>https://www.freelancer.com/u/cupertinovw</td>\n      <td>Software Engineer</td>\n      <td>I am a Full-Stack Software Engineer with a con...</td>\n      <td>United States</td>\n      <td>January 10, 2022</td>\n      <td>$20</td>\n      <td>0.0</td>\n      <td>0.0</td>\n      <td>0</td>\n      <td>0</td>\n      <td>N/A</td>\n      <td>N/A</td>\n      <td>N/A</td>\n      <td>N/A</td>\n    </tr>\n    <tr>\n      <th>freq</th>\n      <td>4595</td>\n      <td>10</td>\n      <td>1</td>\n      <td>181</td>\n      <td>2</td>\n      <td>86</td>\n      <td>20</td>\n      <td>562</td>\n      <td>3605</td>\n      <td>3611</td>\n      <td>3600</td>\n      <td>4206</td>\n      <td>3565</td>\n      <td>3626</td>\n      <td>3625</td>\n      <td>4103</td>\n    </tr>\n  </tbody>\n</table>\n</div>"
     },
     "metadata": {}
    }
   ]
  },
  {
   "cell_type": "code",
   "metadata": {
    "cell_id": "00009-c057784c-4bc6-4e0c-b316-6649adb9a3d0",
    "deepnote_to_be_reexecuted": false,
    "source_hash": "883d96a6",
    "execution_start": 1647362693703,
    "execution_millis": 5,
    "deepnote_cell_type": "code",
    "deepnote_cell_height": 674.859375,
    "deepnote_output_heights": [
     577.859375
    ]
   },
   "source": "scraped_pd_df[\"pct_jobs_completed\"].value_counts()",
   "execution_count": null,
   "outputs": [
    {
     "output_type": "execute_result",
     "execution_count": 7,
     "data": {
      "text/plain": "N/A    3565\n100     848\n98       21\n50       20\n96       16\n97       14\n99       13\n95       12\n67       11\n75        9\n92        8\n94        7\n80        7\n89        6\n83        5\n93        5\n90        4\n86        4\n88        4\n91        4\n78        3\n71        2\n29        1\n84        1\n63        1\n82        1\n33        1\n77        1\n79        1\nName: pct_jobs_completed, dtype: int64"
     },
     "metadata": {}
    }
   ]
  },
  {
   "cell_type": "code",
   "metadata": {
    "cell_id": "00010-e842ab78-5c1b-4aa3-9393-44931215622f",
    "owner_user_id": "90b26b03-99c4-40c0-a870-8175b99a6ae3",
    "deepnote_cell_type": "code",
    "deepnote_cell_height": 66
   },
   "source": "",
   "execution_count": null,
   "outputs": []
  },
  {
   "cell_type": "markdown",
   "source": "<a style='text-decoration:none;line-height:16px;display:flex;color:#5B5B62;padding:10px;justify-content:end;' href='https://deepnote.com?utm_source=created-in-deepnote-cell&projectId=acc27b92-84be-4130-8026-204943f38189' target=\"_blank\">\n<img alt='Created in deepnote.com' style='display:inline;max-height:16px;margin:0px;margin-right:7.5px;' src='data:image/svg+xml;base64,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' > </img>\nCreated in <span style='font-weight:600;margin-left:4px;'>Deepnote</span></a>",
   "metadata": {
    "tags": [],
    "created_in_deepnote_cell": true,
    "deepnote_cell_type": "markdown"
   }
  }
 ],
 "nbformat": 4,
 "nbformat_minor": 5,
 "metadata": {
  "kernelspec": {
   "display_name": "Python 3",
   "language": "python",
   "name": "python3"
  },
  "language_info": {
   "codemirror_mode": {
    "name": "ipython",
    "version": 3
   },
   "file_extension": ".py",
   "mimetype": "text/x-python",
   "name": "python",
   "nbconvert_exporter": "python",
   "pygments_lexer": "ipython3",
   "version": "3.7.11"
  },
  "deepnote_notebook_id": "a64a92ee-cbb7-4c53-b76f-0ebdb9c1d1e0",
  "deepnote": {},
  "deepnote_execution_queue": []
 }
}