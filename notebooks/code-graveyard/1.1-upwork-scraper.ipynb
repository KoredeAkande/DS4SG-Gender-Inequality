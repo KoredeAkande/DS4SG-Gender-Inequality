{
 "cells": [
  {
   "cell_type": "code",
   "metadata": {
    "cell_id": "ac442772-724a-4ea8-9ab2-2bd58da32b7d",
    "tags": [],
    "deepnote_to_be_reexecuted": false,
    "source_hash": "1c3de7a6",
    "execution_start": 1644965897594,
    "execution_millis": 112,
    "deepnote_cell_type": "code"
   },
   "source": "import requests\nfrom bs4 import BeautifulSoup\nimport pandas as pd\n\nfrom selenium import webdriver\nfrom selenium.webdriver.common.keys import Keys\nfrom selenium.webdriver.common.by import By\nfrom selenium.webdriver.chrome.options import Options",
   "execution_count": null,
   "outputs": []
  },
  {
   "cell_type": "code",
   "metadata": {
    "cell_id": "3e277cff-1b20-4821-99a7-e651e5358cde",
    "tags": [],
    "deepnote_to_be_reexecuted": false,
    "source_hash": "9f3af1d2",
    "execution_start": 1644966162397,
    "execution_millis": 1982,
    "deepnote_cell_type": "code"
   },
   "source": "options = Options()\noptions.add_argument(\"--headless\")\noptions.add_argument('--no-sandbox')\n\ndriver = webdriver.Chrome(options=options)\n\ndriver.get(\"https://www.upwork.com/search/profiles/?q=title%3Aaccountant\")\n# elem = driver.find_element(By.NAME, \"q\")\n# elem.clear()\n# elem.send_keys(\"upwork\")\n# elem.send_keys(Keys.RETURN)\n\npage_source = driver.page_source\n\ndriver.quit()\n\nsoup = BeautifulSoup(page_source, 'html.parser')\nprint(soup.find_all(\"title\"))",
   "execution_count": null,
   "outputs": [
    {
     "name": "stdout",
     "text": "[<title>Access to this page has been denied.</title>]\n",
     "output_type": "stream"
    }
   ]
  },
  {
   "cell_type": "code",
   "metadata": {
    "cell_id": "a9266c33-ca59-4031-9645-b1b15babf984",
    "tags": [],
    "deepnote_to_be_reexecuted": false,
    "source_hash": "f6e25d09",
    "execution_start": 1644966172811,
    "execution_millis": 1908,
    "deepnote_cell_type": "code"
   },
   "source": "options = Options()\noptions.add_argument(\"--headless\")\noptions.add_argument('--no-sandbox')\n\ndriver = webdriver.Chrome(options=options)\n\ndriver.get(\"https://www.upwork.com/ab/account-security/login\")\n# elem = driver.find_element(By.NAME, \"q\")\n# elem.clear()\n# elem.send_keys(\"upwork\")\n# elem.send_keys(Keys.RETURN)\n\npage_source = driver.page_source\n\ndriver.quit()\n\nsoup = BeautifulSoup(page_source, 'html.parser')\nprint(soup.find_all(\"title\"))",
   "execution_count": null,
   "outputs": [
    {
     "name": "stdout",
     "text": "[<title>Access to this page has been denied.</title>]\n",
     "output_type": "stream"
    }
   ]
  },
  {
   "cell_type": "code",
   "metadata": {
    "cell_id": "7785fea2-9e2d-46ef-a2f3-fbf49ad05014",
    "tags": [],
    "deepnote_to_be_reexecuted": false,
    "source_hash": "96a2f46d",
    "execution_start": 1644961766879,
    "execution_millis": 18,
    "deepnote_cell_type": "code"
   },
   "source": "",
   "execution_count": null,
   "outputs": [
    {
     "name": "stdout",
     "text": "[<title>Access to this page has been denied.</title>]\n",
     "output_type": "stream"
    }
   ]
  },
  {
   "cell_type": "code",
   "metadata": {
    "cell_id": "caff5764-9e55-4b2b-a24c-71d306de1230",
    "tags": [],
    "deepnote_to_be_reexecuted": false,
    "source_hash": "1de76bf",
    "execution_start": 1644959147033,
    "execution_millis": 243,
    "deepnote_cell_type": "code"
   },
   "source": "# url = \"https://www.upwork.com/search/profiles/?q=title%3Aaccountant\"\n\n# c = '_pxhd=vopaJEGtuymsG5qWwi8-HvWpnrhM3I3EXbP1amabfM37CZaocfYRllAEKY0x7OkhE-BcpB/-Nj1lbBGOsnk9Jw==:rv/sOYaotXgT0PJDkLmDaa0ay15lK-IDP8rvo7LAtiAAZn5pX9bfj4r3t0o1JgVJ3WMwZ/rJabAIsg6uvsX1B4SzabrY5lxw41OtfRnc6jo=; visitor_id=186.188.12.96.1644954793399000; enabled_ff=CI11132Air2Dot75,CI9570Air2Dot5,!CI10270Air2Dot5QTAllocations,!CI10857Air3Dot0,!air2Dot76,!SSINav,OTBnrOn,!OTBnr; lang=en; lang=en; visitor_gql_token=oauth2v2_504113380423af5213512289227efad3; cookie_prefix=; cookie_domain=.upwork.com; __cfruid=e760b24b274c4557d809f7b0cc254e7d4a78a3c8-1644954793; pxcts=e9d3676c-8e98-11ec-8ed5-6c4544547462; _pxvid=e8cde5bf-8e98-11ec-b1ce-4f7a6c434379; _gcl_au=1.1.487430541.1644954797; _gid=GA1.2.1290932138.1644954797; spt=c98a86ac-ba28-49a5-9daf-915b05837836; IR_gbd=upwork.com; __pdst=7b3206d699f94df78ede4107a62e05bd; _rdt_uuid=1644954797965.66974586-f4e1-4bc8-9839-767289bb3e82; _clck=1arkoy8|1|ez0|0; track_url_params=[]; restriction_verified=1; device_view=full; _sp_ses.2a16=*; vps_gql_token=oauth2v2_34a89689ae5d0fa119c5df672bfa0635; XSRF-TOKEN=f525d449f2dfe360d3de3c7e8c226a22; _ga_KSM221PNDX=GS1.1.1644957541.2.1.1644957542.0; _ga=GA1.1.1260930088.1644954797; _hp2_props.2858077939={\"container_id\":\"GTM-P8M8MVZ\",\"user_context\":\"unknown\",\"user_logged_in\":\"unknown\"}; _hp2_id.2858077939={\"userId\":\"2535253796244657\",\"pageviewId\":\"7509621177066717\",\"sessionId\":\"1484325903469680\",\"identity\":null,\"trackerVersion\":\"4.0\"}; _hp2_ses_props.2858077939={\"ts\":1644957544955,\"d\":\"www.upwork.com\",\"h\":\"/search/profiles/\",\"q\":\"?q=title%3Aaccountant\"}; _dpm_id.5831=e64cd1e8-33a9-425f-a4e5-81af40feda19.1644954798.2.1644957546.1644954933.2cd10f27-4036-438a-8b04-106c5009ad5e; _dpm_ses.5831=*; _uetsid=eb81c7a08e9811ec819b5723b796f17f; _uetvid=eb8216a08e9811eca876e96c8961982a; IR_13634=1644957545906|0|1644957545906||; prodperfect_session={\"session_uuid\":\"b8b7dd91-5dc6-40eb-a943-946f3a3581af\"}; _sp_id.2a16=fba70ceb-697e-4cc7-8d09-abcf2bbc83e1.1644954797.2.1644957557.1644954935.3526bf3a-9e43-4f0a-b1f2-707ef234aef3; _px3=fd5cef151c360300af04cac955ee40e4f2dfa8481e703ee470e84f7f6045310c:RqaSo7J0s/2aNljlJkZemtiR5S8YLj9SlWdMTJVHAXWnB0H7HG127fO/ERf88jDfcKkkiAWUmD9FPC4POenWZw==:1000:NEWvcKsfRCvc7/GTio7IyCBtQyZIkz5NniOVfrj+62pRdxzZJsO2pWO077sVTsSAtRTfslFm/pYZLG7qLGZ7Q+VjpfkaOB+Lgd1Rf09I/nXdmnAdxEuqL4MSSoOcF1if18EhwGY5ni600Kkokgl8laELA5Qx0ZVFYMWRUXMLtnOIUels2bMW0yfWY1FPgWVQAQanmQnzNvOqF4riiKx5pA==; _clsk=6ssvtv|1644958757582|3|0|f.clarity.ms/collect; __cf_bm=ZAQO7TESZF4rfxTVyNnPDW1P9qRA3MIXzXgsNzxNJgE-1644958759-0-Acu/DByC4lcAFv/FgajULLYEcCQ4EwUuMnQWXOz+LnuQGVPRPJYW3LjhtUKJwNt5mnsjmE2lChIDuPv4UHzSvW0=' # cookies here\n# c = c.split(';')\n# cookies = {}\n# for cookie in c:\n#     try:\n#         key, value = cookie.split('=')\n#         cookies[key] = value\n#     except:\n#         pass\n\n# headers = {\n#     \"User-Agent\": \"Mozilla/5.0 (Linux; Android 6.0; Nexus 5 Build/MRA58N) AppleWebKit/537.36 (KHTML, like Gecko) Chrome/98.0.4758.82 Mobile Safari/537.36\"\n# }\n\n# result = requests.get(url, headers=headers, cookies=cookies)",
   "execution_count": null,
   "outputs": []
  },
  {
   "cell_type": "code",
   "metadata": {
    "cell_id": "f04bc882-96d4-4ccc-a892-09d0cee95fe0",
    "tags": [],
    "deepnote_to_be_reexecuted": false,
    "source_hash": "b58958e6",
    "execution_start": 1644959149824,
    "execution_millis": 1,
    "deepnote_output_heights": [
     21.1875
    ],
    "deepnote_cell_type": "code"
   },
   "source": "result.status_code",
   "execution_count": null,
   "outputs": [
    {
     "output_type": "execute_result",
     "execution_count": 4,
     "data": {
      "text/plain": "403"
     },
     "metadata": {}
    }
   ]
  },
  {
   "cell_type": "code",
   "metadata": {
    "cell_id": "67080de2-cf35-4d5b-ac78-109039191e70",
    "tags": [],
    "deepnote_to_be_reexecuted": false,
    "source_hash": "bae0e1b5",
    "execution_start": 1644957598352,
    "execution_millis": 11,
    "deepnote_output_heights": [
     21.1875
    ],
    "deepnote_cell_type": "code"
   },
   "source": "",
   "execution_count": null,
   "outputs": [
    {
     "output_type": "execute_result",
     "execution_count": 7,
     "data": {
      "text/plain": "<Response [200]>"
     },
     "metadata": {}
    }
   ]
  },
  {
   "cell_type": "code",
   "metadata": {
    "cell_id": "f000c641-28ac-4520-aa89-ffbe19e25bde",
    "tags": [],
    "deepnote_to_be_reexecuted": false,
    "source_hash": "73c1f173",
    "execution_start": 1644959184083,
    "execution_millis": 8,
    "deepnote_output_heights": [
     21.1875
    ],
    "deepnote_cell_type": "code"
   },
   "source": "result.text",
   "execution_count": null,
   "outputs": [
    {
     "output_type": "execute_result",
     "execution_count": 7,
     "data": {
      "text/plain": "'<!DOCTYPE html>\\n<html lang=\"en\">\\n<head>\\n    <meta charset=\"utf-8\">\\n    <meta name=\"viewport\" content=\"width=device-width, initial-scale=1\">\\n    <title>Access to this page has been denied.</title>\\n    <link href=\"https://fonts.googleapis.com/css?family=Open+Sans:300\" rel=\"stylesheet\">\\n    <style>\\n        html, body {\\n            margin: 0;\\n            padding: 0;\\n            font-family: \\'Open Sans\\', sans-serif;\\n            color: #000;\\n        }\\n\\n        a {\\n            color: #c5c5c5;\\n            text-decoration: none;\\n        }\\n\\n        .container {\\n            align-items: center;\\n            display: flex;\\n            flex: 1;\\n            justify-content: space-between;\\n            flex-direction: column;\\n            height: 100%;\\n        }\\n\\n        .container > div {\\n            width: 100%;\\n            display: flex;\\n            justify-content: center;\\n        }\\n\\n        .container > div > div {\\n            display: flex;\\n            width: 80%;\\n        }\\n\\n        .customer-logo-wrapper {\\n            padding-top: 2rem;\\n            flex-grow: 0;\\n            background-color: #fff;\\n            visibility: hidden;\\n        }\\n\\n        .customer-logo {\\n            border-bottom: 1px solid #000;\\n        }\\n\\n        .customer-logo > img {\\n            padding-bottom: 1rem;\\n            max-height: 50px;\\n            max-width: 100%;\\n        }\\n\\n        .page-title-wrapper {\\n            flex-grow: 2;\\n        }\\n\\n        .page-title {\\n            flex-direction: column-reverse;\\n        }\\n\\n        .content-wrapper {\\n            flex-grow: 5;\\n        }\\n\\n        .content {\\n            flex-direction: column;\\n        }\\n\\n        .page-footer-wrapper {\\n            align-items: center;\\n            flex-grow: 0.2;\\n            background-color: #000;\\n            color: #c5c5c5;\\n            font-size: 70%;\\n        }\\n\\n        @media (min-width: 768px) {\\n            html, body {\\n                height: 100%;\\n            }\\n        }\\n    </style>\\n    <!-- Custom CSS -->\\n</head>\\n\\n<body>\\n<section class=\"container\">\\n    <div class=\"customer-logo-wrapper\">\\n        <div class=\"customer-logo\">\\n            <img src=\"\" alt=\"Logo\"/>\\n        </div>\\n    </div>\\n    <div class=\"page-title-wrapper\">\\n        <div class=\"page-title\">\\n            <h1>Please verify you are a human</h1>\\n        </div>\\n    </div>\\n    <div class=\"content-wrapper\">\\n        <div class=\"content\">\\n            <div id=\"px-captcha\">\\n            </div>\\n            <p>\\n                Access to this page has been denied because we believe you are using automation tools to browse the\\n                website.\\n            </p>\\n            <p>\\n                This may happen as a result of the following:\\n            </p>\\n            <ul>\\n                <li>\\n                    Javascript is disabled or blocked by an extension (ad blockers for example)\\n                </li>\\n                <li>\\n                    Your browser does not support cookies\\n                </li>\\n            </ul>\\n            <p>\\n                Please make sure that Javascript and cookies are enabled on your browser and that you are not blocking\\n                them from loading.\\n            </p>\\n            <p>\\n                Reference ID: #0be2d879-8ea3-11ec-9f5f-5a4a576c7149\\n            </p>\\n        </div>\\n    </div>\\n    <div class=\"page-footer-wrapper\">\\n        <div class=\"page-footer\">\\n            <p>\\n                Powered by\\n                <a href=\"https://www.perimeterx.com/whywasiblocked\">PerimeterX</a>\\n                , Inc.\\n            </p>\\n        </div>\\n    </div>\\n</section>\\n<!-- Px -->\\n<script>\\n    window._pxAppId = \\'PXSs13U803\\';\\n    window._pxJsClientSrc = \\'/Ss13U803/init.js\\';\\n    window._pxFirstPartyEnabled = true;\\n    window._pxVid = \\'\\';\\n    window._pxUuid = \\'0be2d879-8ea3-11ec-9f5f-5a4a576c7149\\';\\n    window._pxHostUrl = \\'/Ss13U803/xhr\\';\\n</script>\\n<!-- Captcha -->\\n<script>\\n    var s = document.createElement(\\'script\\');\\n    s.src = \\'/Ss13U803/captcha/PXSs13U803/captcha.js?a=c&m=0&u=0be2d879-8ea3-11ec-9f5f-5a4a576c7149&v=\\';\\n    var p = document.getElementsByTagName(\\'head\\')[0];\\n    p.insertBefore(s, null);\\n    if (true) {\\n        s.onerror = function () {\\n            s = document.createElement(\\'script\\');\\n            var suffixIndex = \\'/Ss13U803/captcha/PXSs13U803/captcha.js?a=c&m=0&u=0be2d879-8ea3-11ec-9f5f-5a4a576c7149&v=\\'.indexOf(\\'captcha.js\\');\\n            var temperedBlockScript = \\'/Ss13U803/captcha/PXSs13U803/captcha.js?a=c&m=0&u=0be2d879-8ea3-11ec-9f5f-5a4a576c7149&v=\\'.substring(suffixIndex);\\n            s.src = \\'//captcha.px-cdn.net/PXSs13U803/\\' + temperedBlockScript;\\n            p.parentNode.insertBefore(s, p);\\n        };\\n    }\\n</script>\\n<!-- Custom Script -->\\n</body>\\n</html>\\n\\n'"
     },
     "metadata": {}
    }
   ]
  },
  {
   "cell_type": "code",
   "metadata": {
    "cell_id": "8f6de320-a637-476f-8382-5a9df36770b1",
    "tags": [],
    "deepnote_cell_type": "code"
   },
   "source": "",
   "execution_count": null,
   "outputs": []
  },
  {
   "cell_type": "markdown",
   "source": "<a style='text-decoration:none;line-height:16px;display:flex;color:#5B5B62;padding:10px;justify-content:end;' href='https://deepnote.com?utm_source=created-in-deepnote-cell&projectId=acc27b92-84be-4130-8026-204943f38189' target=\"_blank\">\n<img alt='Created in deepnote.com' style='display:inline;max-height:16px;margin:0px;margin-right:7.5px;' src='data:image/svg+xml;base64,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' > </img>\nCreated in <span style='font-weight:600;margin-left:4px;'>Deepnote</span></a>",
   "metadata": {
    "tags": [],
    "created_in_deepnote_cell": true,
    "deepnote_cell_type": "markdown"
   }
  }
 ],
 "nbformat": 4,
 "nbformat_minor": 2,
 "metadata": {
  "orig_nbformat": 2,
  "deepnote": {
   "is_reactive": false
  },
  "deepnote_notebook_id": "5451e97e-a92f-4f69-bb1d-8c70fed34168",
  "deepnote_execution_queue": []
 }
}