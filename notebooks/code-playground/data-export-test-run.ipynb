{
 "cells": [
  {
   "cell_type": "code",
   "metadata": {
    "tags": [],
    "cell_id": "0ac9f3a2-0d59-408c-976e-caf0fff3b3b1",
    "deepnote_to_be_reexecuted": false,
    "source_hash": "9b82ee11",
    "execution_start": 1647448177301,
    "execution_millis": 2,
    "deepnote_cell_type": "code",
    "deepnote_cell_height": 81
   },
   "source": "import pandas as pd",
   "execution_count": null,
   "outputs": []
  },
  {
   "cell_type": "code",
   "metadata": {
    "cell_id": "057f6d5f-bfe5-431c-9939-bb800d68af90",
    "tags": [],
    "deepnote_to_be_reexecuted": false,
    "source_hash": "d0106994",
    "execution_start": 1647448211208,
    "execution_millis": 2,
    "deepnote_cell_type": "code",
    "deepnote_cell_height": 747
   },
   "source": "df = pd.DataFrame([{'search_query': 'designer',\n  'name': 'Teena V.',\n  'profile_link': 'https://www.freelancer.com/u/TeenaVernekar',\n  'freelancer_badges': None,\n  'verifications': [('Preferred Freelancer', False),\n   ('Identity Verified', True),\n   ('Payment Verified', True),\n   ('Phone Verified', True),\n   ('Email Verified', True),\n   ('Facebook Connected', False)],\n  'tagline': 'Virtual Assistant - Financial Accounting & Billing',\n  'user_description': 'I am self-motivated and precise individual with excellent skills in Financial Accounting, Billing, Lead Management, Virtual Assistance, Internet Research & Data Entry & Analysis, Software Quality Assurance & Testing.\\n\\nI was full time employed with Standard Chartered Bank for close to 5 years in the role of Portfolio Relationship Manager, MIS Officer, Quality Control Reviewer. Currently working as a freelancer. \\n\\nMy expertise lies in,\\n• Internet Research, Web scrapping, Data Analytics, Data Mining, Content Management\\n• Financial Accounting, Billing & Accounting, Banking, Virtual Admin Assistant, Lead Management\\n• MIS (Management Information System) & KPI reporting (Key Performance Indicator)\\n• Banking Functionality - credit cards, Sourcing Loans, Balance Transfer, E-statements. \\n• Good understanding of Financial Market, Banking, Investments, Retirement.\\n\\nI hold Bachelor’s degree in Commerce specialized in financial accounting.',\n  'certifications': None,\n  'top_skills': [('Data Entry', 6),\n   ('Bookkeeping', 6),\n   ('Data Analytics', 6),\n   ('Data Extraction', 6),\n   ('Data Processing', 5),\n   ('Web Search', 2),\n   ('Excel', 0),\n   ('Virtual Assistant', 0),\n   ('Order Processing', 0),\n   ('Microsoft Outlook', 0),\n   ('Microsoft Office', 0),\n   ('Email Handling', 0),\n   ('Investment Research', 0),\n   ('Data Scraping', 0)],\n  'location': 'Charlotte, United States',\n  'join_date': 'September 11, 2017',\n  'hourly_rate': '$15',\n  'pay_grade': '7.8',\n  'avg_rating': '5.0',\n  'num_reviews': '7',\n  'num_recommendations': '8',\n  'pct_jobs_completed': '100',\n  'pct_on_budget': '100',\n  'pct_on_time': '100',\n  'repeat_hire_rate': '33'}])",
   "execution_count": null,
   "outputs": []
  },
  {
   "cell_type": "code",
   "metadata": {
    "cell_id": "1d5ab077-9fbc-401c-80ff-0fca0d620870",
    "tags": [],
    "deepnote_to_be_reexecuted": false,
    "source_hash": "45ba9c39",
    "execution_start": 1647448246738,
    "execution_millis": 6,
    "deepnote_cell_type": "code",
    "deepnote_cell_height": 81
   },
   "source": "df.to_csv('expanded_df.csv',index=False)",
   "execution_count": null,
   "outputs": []
  },
  {
   "cell_type": "code",
   "metadata": {
    "cell_id": "159413a2-7424-469a-87b8-d8a3b097bf4d",
    "tags": [],
    "deepnote_to_be_reexecuted": false,
    "source_hash": "dbda071a",
    "execution_start": 1647448263686,
    "execution_millis": 6,
    "deepnote_cell_type": "code",
    "deepnote_cell_height": 81
   },
   "source": "read_df = pd.read_csv('expanded_df.csv')",
   "execution_count": null,
   "outputs": []
  },
  {
   "cell_type": "code",
   "metadata": {
    "cell_id": "dc49db4e-15f9-48b8-8653-53defcb6e7ba",
    "tags": [],
    "deepnote_to_be_reexecuted": false,
    "source_hash": "f4e4ed9a",
    "execution_start": 1647448314014,
    "execution_millis": 6,
    "deepnote_cell_type": "code",
    "deepnote_cell_height": 229
   },
   "source": "read_df",
   "execution_count": null,
   "outputs": [
    {
     "output_type": "execute_result",
     "execution_count": 12,
     "data": {
      "application/vnd.deepnote.dataframe.v3+json": {
       "column_count": 20,
       "row_count": 1,
       "columns": [
        {
         "name": "search_query",
         "dtype": "object",
         "stats": {
          "unique_count": 1,
          "nan_count": 0,
          "categories": [
           {
            "name": "designer",
            "count": 1
           }
          ]
         }
        },
        {
         "name": "name",
         "dtype": "object",
         "stats": {
          "unique_count": 1,
          "nan_count": 0,
          "categories": [
           {
            "name": "Teena V.",
            "count": 1
           }
          ]
         }
        },
        {
         "name": "profile_link",
         "dtype": "object",
         "stats": {
          "unique_count": 1,
          "nan_count": 0,
          "categories": [
           {
            "name": "https://www.freelancer.com/u/TeenaVernekar",
            "count": 1
           }
          ]
         }
        },
        {
         "name": "freelancer_badges",
         "dtype": "float64",
         "stats": {
          "unique_count": 0,
          "nan_count": 1,
          "min": null,
          "max": null,
          "histogram": [
           {
            "bin_start": 0,
            "bin_end": 0.1,
            "count": 0
           },
           {
            "bin_start": 0.1,
            "bin_end": 0.2,
            "count": 0
           },
           {
            "bin_start": 0.2,
            "bin_end": 0.30000000000000004,
            "count": 0
           },
           {
            "bin_start": 0.30000000000000004,
            "bin_end": 0.4,
            "count": 0
           },
           {
            "bin_start": 0.4,
            "bin_end": 0.5,
            "count": 0
           },
           {
            "bin_start": 0.5,
            "bin_end": 0.6000000000000001,
            "count": 0
           },
           {
            "bin_start": 0.6000000000000001,
            "bin_end": 0.7000000000000001,
            "count": 0
           },
           {
            "bin_start": 0.7000000000000001,
            "bin_end": 0.8,
            "count": 0
           },
           {
            "bin_start": 0.8,
            "bin_end": 0.9,
            "count": 0
           },
           {
            "bin_start": 0.9,
            "bin_end": 1,
            "count": 0
           }
          ]
         }
        },
        {
         "name": "verifications",
         "dtype": "object",
         "stats": {
          "unique_count": 1,
          "nan_count": 0,
          "categories": [
           {
            "name": "[('Preferred Freelancer', False), ('Identity Verified', True), ('Payment Verified', True), ('Phone Verified', True), ('Email Verified', True), ('Facebook Connected', False)]",
            "count": 1
           }
          ]
         }
        },
        {
         "name": "tagline",
         "dtype": "object",
         "stats": {
          "unique_count": 1,
          "nan_count": 0,
          "categories": [
           {
            "name": "Virtual Assistant - Financial Accounting & Billing",
            "count": 1
           }
          ]
         }
        },
        {
         "name": "user_description",
         "dtype": "object",
         "stats": {
          "unique_count": 1,
          "nan_count": 0,
          "categories": [
           {
            "name": "I am self-motivated and precise individual with excellent skills in Financial Accounting, Billing, Lead Management, Virtual Assistance, Internet Research & Data Entry & Analysis, Software Quality Assurance & Testing.\n\nI was full time employed with Standard Chartered Bank for close to 5 years in the role of Portfolio Relationship Manager, MIS Officer, Quality Control Reviewer. Currently working as a freelancer. \n\nMy expertise lies in,\n• Internet Research, Web scrapping, Data Analytics, Data Mining, Content Management\n• Financial Accounting, Billing & Accounting, Banking, Virtual Admin Assistant, Lead Management\n• MIS (Management Information System) & KPI reporting (Key Performance Indicator)\n• Banking Functionality - credit cards, Sourcing Loans, Balance Transfer, E-statements. \n• Good understanding of Financial Market, Banking, Investments, Retirement.\n\nI hold Bachelor’s degree in Commerce specialized in financial accounting.",
            "count": 1
           }
          ]
         }
        },
        {
         "name": "certifications",
         "dtype": "float64",
         "stats": {
          "unique_count": 0,
          "nan_count": 1,
          "min": null,
          "max": null,
          "histogram": [
           {
            "bin_start": 0,
            "bin_end": 0.1,
            "count": 0
           },
           {
            "bin_start": 0.1,
            "bin_end": 0.2,
            "count": 0
           },
           {
            "bin_start": 0.2,
            "bin_end": 0.30000000000000004,
            "count": 0
           },
           {
            "bin_start": 0.30000000000000004,
            "bin_end": 0.4,
            "count": 0
           },
           {
            "bin_start": 0.4,
            "bin_end": 0.5,
            "count": 0
           },
           {
            "bin_start": 0.5,
            "bin_end": 0.6000000000000001,
            "count": 0
           },
           {
            "bin_start": 0.6000000000000001,
            "bin_end": 0.7000000000000001,
            "count": 0
           },
           {
            "bin_start": 0.7000000000000001,
            "bin_end": 0.8,
            "count": 0
           },
           {
            "bin_start": 0.8,
            "bin_end": 0.9,
            "count": 0
           },
           {
            "bin_start": 0.9,
            "bin_end": 1,
            "count": 0
           }
          ]
         }
        },
        {
         "name": "top_skills",
         "dtype": "object",
         "stats": {
          "unique_count": 1,
          "nan_count": 0,
          "categories": [
           {
            "name": "[('Data Entry', 6), ('Bookkeeping', 6), ('Data Analytics', 6), ('Data Extraction', 6), ('Data Processing', 5), ('Web Search', 2), ('Excel', 0), ('Virtual Assistant', 0), ('Order Processing', 0), ('Microsoft Outlook', 0), ('Microsoft Office', 0), ('Email Handling', 0), ('Investment Research', 0), ('Data Scraping', 0)]",
            "count": 1
           }
          ]
         }
        },
        {
         "name": "location",
         "dtype": "object",
         "stats": {
          "unique_count": 1,
          "nan_count": 0,
          "categories": [
           {
            "name": "Charlotte, United States",
            "count": 1
           }
          ]
         }
        },
        {
         "name": "join_date",
         "dtype": "object",
         "stats": {
          "unique_count": 1,
          "nan_count": 0,
          "categories": [
           {
            "name": "September 11, 2017",
            "count": 1
           }
          ]
         }
        },
        {
         "name": "hourly_rate",
         "dtype": "object",
         "stats": {
          "unique_count": 1,
          "nan_count": 0,
          "categories": [
           {
            "name": "$15",
            "count": 1
           }
          ]
         }
        },
        {
         "name": "pay_grade",
         "dtype": "float64",
         "stats": {
          "unique_count": 1,
          "nan_count": 0,
          "min": "7.8",
          "max": "7.8",
          "histogram": [
           {
            "bin_start": 7.3,
            "bin_end": 7.4,
            "count": 0
           },
           {
            "bin_start": 7.4,
            "bin_end": 7.5,
            "count": 0
           },
           {
            "bin_start": 7.5,
            "bin_end": 7.6,
            "count": 0
           },
           {
            "bin_start": 7.6,
            "bin_end": 7.7,
            "count": 0
           },
           {
            "bin_start": 7.7,
            "bin_end": 7.800000000000001,
            "count": 1
           },
           {
            "bin_start": 7.800000000000001,
            "bin_end": 7.9,
            "count": 0
           },
           {
            "bin_start": 7.9,
            "bin_end": 8,
            "count": 0
           },
           {
            "bin_start": 8,
            "bin_end": 8.100000000000001,
            "count": 0
           },
           {
            "bin_start": 8.100000000000001,
            "bin_end": 8.200000000000001,
            "count": 0
           },
           {
            "bin_start": 8.200000000000001,
            "bin_end": 8.3,
            "count": 0
           }
          ]
         }
        },
        {
         "name": "avg_rating",
         "dtype": "float64",
         "stats": {
          "unique_count": 1,
          "nan_count": 0,
          "min": "5.0",
          "max": "5.0",
          "histogram": [
           {
            "bin_start": 4.5,
            "bin_end": 4.6,
            "count": 0
           },
           {
            "bin_start": 4.6,
            "bin_end": 4.7,
            "count": 0
           },
           {
            "bin_start": 4.7,
            "bin_end": 4.8,
            "count": 0
           },
           {
            "bin_start": 4.8,
            "bin_end": 4.9,
            "count": 0
           },
           {
            "bin_start": 4.9,
            "bin_end": 5,
            "count": 0
           },
           {
            "bin_start": 5,
            "bin_end": 5.1,
            "count": 1
           },
           {
            "bin_start": 5.1,
            "bin_end": 5.2,
            "count": 0
           },
           {
            "bin_start": 5.2,
            "bin_end": 5.3,
            "count": 0
           },
           {
            "bin_start": 5.3,
            "bin_end": 5.4,
            "count": 0
           },
           {
            "bin_start": 5.4,
            "bin_end": 5.5,
            "count": 0
           }
          ]
         }
        },
        {
         "name": "num_reviews",
         "dtype": "int64",
         "stats": {
          "unique_count": 1,
          "nan_count": 0,
          "min": "7",
          "max": "7",
          "histogram": [
           {
            "bin_start": 6.5,
            "bin_end": 6.6,
            "count": 0
           },
           {
            "bin_start": 6.6,
            "bin_end": 6.7,
            "count": 0
           },
           {
            "bin_start": 6.7,
            "bin_end": 6.8,
            "count": 0
           },
           {
            "bin_start": 6.8,
            "bin_end": 6.9,
            "count": 0
           },
           {
            "bin_start": 6.9,
            "bin_end": 7,
            "count": 0
           },
           {
            "bin_start": 7,
            "bin_end": 7.1,
            "count": 1
           },
           {
            "bin_start": 7.1,
            "bin_end": 7.2,
            "count": 0
           },
           {
            "bin_start": 7.2,
            "bin_end": 7.3,
            "count": 0
           },
           {
            "bin_start": 7.3,
            "bin_end": 7.4,
            "count": 0
           },
           {
            "bin_start": 7.4,
            "bin_end": 7.5,
            "count": 0
           }
          ]
         }
        },
        {
         "name": "num_recommendations",
         "dtype": "int64",
         "stats": {
          "unique_count": 1,
          "nan_count": 0,
          "min": "8",
          "max": "8",
          "histogram": [
           {
            "bin_start": 7.5,
            "bin_end": 7.6,
            "count": 0
           },
           {
            "bin_start": 7.6,
            "bin_end": 7.7,
            "count": 0
           },
           {
            "bin_start": 7.7,
            "bin_end": 7.8,
            "count": 0
           },
           {
            "bin_start": 7.8,
            "bin_end": 7.9,
            "count": 0
           },
           {
            "bin_start": 7.9,
            "bin_end": 8,
            "count": 0
           },
           {
            "bin_start": 8,
            "bin_end": 8.1,
            "count": 1
           },
           {
            "bin_start": 8.1,
            "bin_end": 8.2,
            "count": 0
           },
           {
            "bin_start": 8.2,
            "bin_end": 8.3,
            "count": 0
           },
           {
            "bin_start": 8.3,
            "bin_end": 8.4,
            "count": 0
           },
           {
            "bin_start": 8.4,
            "bin_end": 8.5,
            "count": 0
           }
          ]
         }
        },
        {
         "name": "pct_jobs_completed",
         "dtype": "int64",
         "stats": {
          "unique_count": 1,
          "nan_count": 0,
          "min": "100",
          "max": "100",
          "histogram": [
           {
            "bin_start": 99.5,
            "bin_end": 99.6,
            "count": 0
           },
           {
            "bin_start": 99.6,
            "bin_end": 99.7,
            "count": 0
           },
           {
            "bin_start": 99.7,
            "bin_end": 99.8,
            "count": 0
           },
           {
            "bin_start": 99.8,
            "bin_end": 99.9,
            "count": 0
           },
           {
            "bin_start": 99.9,
            "bin_end": 100,
            "count": 0
           },
           {
            "bin_start": 100,
            "bin_end": 100.1,
            "count": 1
           },
           {
            "bin_start": 100.1,
            "bin_end": 100.2,
            "count": 0
           },
           {
            "bin_start": 100.2,
            "bin_end": 100.3,
            "count": 0
           },
           {
            "bin_start": 100.3,
            "bin_end": 100.4,
            "count": 0
           },
           {
            "bin_start": 100.4,
            "bin_end": 100.5,
            "count": 0
           }
          ]
         }
        },
        {
         "name": "pct_on_budget",
         "dtype": "int64",
         "stats": {
          "unique_count": 1,
          "nan_count": 0,
          "min": "100",
          "max": "100",
          "histogram": [
           {
            "bin_start": 99.5,
            "bin_end": 99.6,
            "count": 0
           },
           {
            "bin_start": 99.6,
            "bin_end": 99.7,
            "count": 0
           },
           {
            "bin_start": 99.7,
            "bin_end": 99.8,
            "count": 0
           },
           {
            "bin_start": 99.8,
            "bin_end": 99.9,
            "count": 0
           },
           {
            "bin_start": 99.9,
            "bin_end": 100,
            "count": 0
           },
           {
            "bin_start": 100,
            "bin_end": 100.1,
            "count": 1
           },
           {
            "bin_start": 100.1,
            "bin_end": 100.2,
            "count": 0
           },
           {
            "bin_start": 100.2,
            "bin_end": 100.3,
            "count": 0
           },
           {
            "bin_start": 100.3,
            "bin_end": 100.4,
            "count": 0
           },
           {
            "bin_start": 100.4,
            "bin_end": 100.5,
            "count": 0
           }
          ]
         }
        },
        {
         "name": "pct_on_time",
         "dtype": "int64",
         "stats": {
          "unique_count": 1,
          "nan_count": 0,
          "min": "100",
          "max": "100",
          "histogram": [
           {
            "bin_start": 99.5,
            "bin_end": 99.6,
            "count": 0
           },
           {
            "bin_start": 99.6,
            "bin_end": 99.7,
            "count": 0
           },
           {
            "bin_start": 99.7,
            "bin_end": 99.8,
            "count": 0
           },
           {
            "bin_start": 99.8,
            "bin_end": 99.9,
            "count": 0
           },
           {
            "bin_start": 99.9,
            "bin_end": 100,
            "count": 0
           },
           {
            "bin_start": 100,
            "bin_end": 100.1,
            "count": 1
           },
           {
            "bin_start": 100.1,
            "bin_end": 100.2,
            "count": 0
           },
           {
            "bin_start": 100.2,
            "bin_end": 100.3,
            "count": 0
           },
           {
            "bin_start": 100.3,
            "bin_end": 100.4,
            "count": 0
           },
           {
            "bin_start": 100.4,
            "bin_end": 100.5,
            "count": 0
           }
          ]
         }
        },
        {
         "name": "repeat_hire_rate",
         "dtype": "int64",
         "stats": {
          "unique_count": 1,
          "nan_count": 0,
          "min": "33",
          "max": "33",
          "histogram": [
           {
            "bin_start": 32.5,
            "bin_end": 32.6,
            "count": 0
           },
           {
            "bin_start": 32.6,
            "bin_end": 32.7,
            "count": 0
           },
           {
            "bin_start": 32.7,
            "bin_end": 32.8,
            "count": 0
           },
           {
            "bin_start": 32.8,
            "bin_end": 32.9,
            "count": 0
           },
           {
            "bin_start": 32.9,
            "bin_end": 33,
            "count": 0
           },
           {
            "bin_start": 33,
            "bin_end": 33.1,
            "count": 1
           },
           {
            "bin_start": 33.1,
            "bin_end": 33.2,
            "count": 0
           },
           {
            "bin_start": 33.2,
            "bin_end": 33.3,
            "count": 0
           },
           {
            "bin_start": 33.3,
            "bin_end": 33.4,
            "count": 0
           },
           {
            "bin_start": 33.4,
            "bin_end": 33.5,
            "count": 0
           }
          ]
         }
        },
        {
         "name": "_deepnote_index_column",
         "dtype": "int64"
        }
       ],
       "rows": [
        {
         "search_query": "designer",
         "name": "Teena V.",
         "profile_link": "https://www.freelancer.com/u/TeenaVernekar",
         "freelancer_badges": "nan",
         "verifications": "[('Preferred Freelancer', False), ('Identity Verified', True), ('Payment Verified', True), ('Phone …",
         "tagline": "Virtual Assistant - Financial Accounting & Billing",
         "user_description": "I am self-motivated and precise individual with excellent skills in Financial Accounting, Billing, …",
         "certifications": "nan",
         "top_skills": "[('Data Entry', 6), ('Bookkeeping', 6), ('Data Analytics', 6), ('Data Extraction', 6), ('Data Proce…",
         "location": "Charlotte, United States",
         "join_date": "September 11, 2017",
         "hourly_rate": "$15",
         "pay_grade": 7.8,
         "avg_rating": 5,
         "num_reviews": 7,
         "num_recommendations": 8,
         "pct_jobs_completed": 100,
         "pct_on_budget": 100,
         "pct_on_time": 100,
         "repeat_hire_rate": 33,
         "_deepnote_index_column": 0
        }
       ]
      },
      "text/plain": "  search_query      name                                profile_link  \\\n0     designer  Teena V.  https://www.freelancer.com/u/TeenaVernekar   \n\n   freelancer_badges                                      verifications  \\\n0                NaN  [('Preferred Freelancer', False), ('Identity V...   \n\n                                             tagline  \\\n0  Virtual Assistant - Financial Accounting & Bil...   \n\n                                    user_description  certifications  \\\n0  I am self-motivated and precise individual wit...             NaN   \n\n                                          top_skills  \\\n0  [('Data Entry', 6), ('Bookkeeping', 6), ('Data...   \n\n                   location           join_date hourly_rate  pay_grade  \\\n0  Charlotte, United States  September 11, 2017         $15        7.8   \n\n   avg_rating  num_reviews  num_recommendations  pct_jobs_completed  \\\n0         5.0            7                    8                 100   \n\n   pct_on_budget  pct_on_time  repeat_hire_rate  \n0            100          100                33  ",
      "text/html": "<div>\n<style scoped>\n    .dataframe tbody tr th:only-of-type {\n        vertical-align: middle;\n    }\n\n    .dataframe tbody tr th {\n        vertical-align: top;\n    }\n\n    .dataframe thead th {\n        text-align: right;\n    }\n</style>\n<table border=\"1\" class=\"dataframe\">\n  <thead>\n    <tr style=\"text-align: right;\">\n      <th></th>\n      <th>search_query</th>\n      <th>name</th>\n      <th>profile_link</th>\n      <th>freelancer_badges</th>\n      <th>verifications</th>\n      <th>tagline</th>\n      <th>user_description</th>\n      <th>certifications</th>\n      <th>top_skills</th>\n      <th>location</th>\n      <th>join_date</th>\n      <th>hourly_rate</th>\n      <th>pay_grade</th>\n      <th>avg_rating</th>\n      <th>num_reviews</th>\n      <th>num_recommendations</th>\n      <th>pct_jobs_completed</th>\n      <th>pct_on_budget</th>\n      <th>pct_on_time</th>\n      <th>repeat_hire_rate</th>\n    </tr>\n  </thead>\n  <tbody>\n    <tr>\n      <th>0</th>\n      <td>designer</td>\n      <td>Teena V.</td>\n      <td>https://www.freelancer.com/u/TeenaVernekar</td>\n      <td>NaN</td>\n      <td>[('Preferred Freelancer', False), ('Identity V...</td>\n      <td>Virtual Assistant - Financial Accounting &amp; Bil...</td>\n      <td>I am self-motivated and precise individual wit...</td>\n      <td>NaN</td>\n      <td>[('Data Entry', 6), ('Bookkeeping', 6), ('Data...</td>\n      <td>Charlotte, United States</td>\n      <td>September 11, 2017</td>\n      <td>$15</td>\n      <td>7.8</td>\n      <td>5.0</td>\n      <td>7</td>\n      <td>8</td>\n      <td>100</td>\n      <td>100</td>\n      <td>100</td>\n      <td>33</td>\n    </tr>\n  </tbody>\n</table>\n</div>"
     },
     "metadata": {}
    }
   ]
  },
  {
   "cell_type": "code",
   "metadata": {
    "cell_id": "cd0d29c8-215a-49f8-bc41-35456dd146ce",
    "tags": [],
    "deepnote_to_be_reexecuted": false,
    "source_hash": "4dc23697",
    "execution_start": 1647448513601,
    "execution_millis": 4,
    "deepnote_cell_type": "code",
    "deepnote_cell_height": 181.875,
    "deepnote_output_heights": [
     117.171875,
     21.1875
    ]
   },
   "source": "print('old type:',type(read_df.verifications[0]))\nread_df.verifications[0]",
   "execution_count": null,
   "outputs": [
    {
     "name": "stdout",
     "text": "old type: <class 'str'>\n",
     "output_type": "stream"
    },
    {
     "output_type": "execute_result",
     "execution_count": 21,
     "data": {
      "text/plain": "\"[('Preferred Freelancer', False), ('Identity Verified', True), ('Payment Verified', True), ('Phone Verified', True), ('Email Verified', True), ('Facebook Connected', False)]\""
     },
     "metadata": {}
    }
   ]
  },
  {
   "cell_type": "code",
   "metadata": {
    "cell_id": "343286cb-90fb-407f-b66d-f873a4ac6eba",
    "tags": [],
    "deepnote_to_be_reexecuted": false,
    "source_hash": "4b9f4809",
    "execution_start": 1647448500480,
    "execution_millis": 2,
    "deepnote_cell_type": "code",
    "deepnote_cell_height": 295.859375,
    "deepnote_output_heights": [
     null,
     117.171875
    ]
   },
   "source": "k = eval(read_df.verifications[0])\nprint('new type:',type(k))\nk",
   "execution_count": null,
   "outputs": [
    {
     "name": "stdout",
     "text": "new type: <class 'list'>\n",
     "output_type": "stream"
    },
    {
     "output_type": "execute_result",
     "execution_count": 20,
     "data": {
      "text/plain": "[('Preferred Freelancer', False),\n ('Identity Verified', True),\n ('Payment Verified', True),\n ('Phone Verified', True),\n ('Email Verified', True),\n ('Facebook Connected', False)]"
     },
     "metadata": {}
    }
   ]
  },
  {
   "cell_type": "code",
   "metadata": {
    "cell_id": "354e5a86-bb2a-49dd-8a97-68141ec0a0b7",
    "tags": [],
    "deepnote_cell_type": "code",
    "deepnote_cell_height": 66
   },
   "source": "",
   "execution_count": null,
   "outputs": []
  },
  {
   "cell_type": "code",
   "metadata": {
    "cell_id": "e23569b0-c219-4b1c-ada8-27f538f57d60",
    "tags": [],
    "deepnote_to_be_reexecuted": false,
    "source_hash": "c63ea8b5",
    "execution_start": 1647448628533,
    "execution_millis": 7,
    "deepnote_cell_type": "code",
    "deepnote_cell_height": 199.875,
    "deepnote_output_heights": [
     null,
     21.1875
    ]
   },
   "source": "#TOP SKILLS\nprint('old type:',type(read_df.top_skills[0]))\nread_df.top_skills[0]",
   "execution_count": null,
   "outputs": [
    {
     "name": "stdout",
     "text": "old type: <class 'str'>\n",
     "output_type": "stream"
    },
    {
     "output_type": "execute_result",
     "execution_count": 22,
     "data": {
      "text/plain": "\"[('Data Entry', 6), ('Bookkeeping', 6), ('Data Analytics', 6), ('Data Extraction', 6), ('Data Processing', 5), ('Web Search', 2), ('Excel', 0), ('Virtual Assistant', 0), ('Order Processing', 0), ('Microsoft Outlook', 0), ('Microsoft Office', 0), ('Email Handling', 0), ('Investment Research', 0), ('Data Scraping', 0)]\""
     },
     "metadata": {}
    }
   ]
  },
  {
   "cell_type": "code",
   "metadata": {
    "cell_id": "566bc85c-d065-4b12-9310-bbd9398c3bd2",
    "tags": [],
    "deepnote_to_be_reexecuted": false,
    "source_hash": "8d06c56e",
    "execution_start": 1647448643262,
    "execution_millis": 4,
    "deepnote_cell_type": "code",
    "deepnote_cell_height": 102
   },
   "source": "k = eval(read_df.top_skills[0])\nprint('new type:',type(k))\nk",
   "execution_count": null,
   "outputs": [
    {
     "name": "stdout",
     "text": "new type: <class 'list'>\n",
     "output_type": "stream"
    },
    {
     "output_type": "execute_result",
     "execution_count": 23,
     "data": {
      "text/plain": "[('Data Entry', 6),\n ('Bookkeeping', 6),\n ('Data Analytics', 6),\n ('Data Extraction', 6),\n ('Data Processing', 5),\n ('Web Search', 2),\n ('Excel', 0),\n ('Virtual Assistant', 0),\n ('Order Processing', 0),\n ('Microsoft Outlook', 0),\n ('Microsoft Office', 0),\n ('Email Handling', 0),\n ('Investment Research', 0),\n ('Data Scraping', 0)]"
     },
     "metadata": {}
    }
   ]
  },
  {
   "cell_type": "code",
   "metadata": {
    "cell_id": "89b0c0f4-d4db-4cbb-8aea-aa594aec2ff7",
    "tags": [],
    "deepnote_cell_type": "code"
   },
   "source": "",
   "execution_count": null,
   "outputs": []
  },
  {
   "cell_type": "markdown",
   "source": "<a style='text-decoration:none;line-height:16px;display:flex;color:#5B5B62;padding:10px;justify-content:end;' href='https://deepnote.com?utm_source=created-in-deepnote-cell&projectId=acc27b92-84be-4130-8026-204943f38189' target=\"_blank\">\n<img alt='Created in deepnote.com' style='display:inline;max-height:16px;margin:0px;margin-right:7.5px;' src='data:image/svg+xml;base64,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' > </img>\nCreated in <span style='font-weight:600;margin-left:4px;'>Deepnote</span></a>",
   "metadata": {
    "tags": [],
    "created_in_deepnote_cell": true,
    "deepnote_cell_type": "markdown"
   }
  }
 ],
 "nbformat": 4,
 "nbformat_minor": 2,
 "metadata": {
  "orig_nbformat": 2,
  "deepnote": {
   "is_reactive": false
  },
  "deepnote_notebook_id": "6fb0e4e3-f1e0-40b5-95e4-4bc7053f7644",
  "deepnote_execution_queue": []
 }
}