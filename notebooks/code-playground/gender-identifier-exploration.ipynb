{
 "cells": [
  {
   "cell_type": "markdown",
   "source": "# Gender Identifier Exploration\n\n**`Goal` :** Toy around with some of the gender identification packages to figure out the best way to combine and complement them",
   "metadata": {
    "cell_id": "3959f604-3f3b-4cf1-a251-82e7f2da407b",
    "tags": [],
    "deepnote_cell_type": "markdown",
    "deepnote_cell_height": 120.390625
   }
  },
  {
   "cell_type": "markdown",
   "source": "## 1. Import packages",
   "metadata": {
    "cell_id": "4e8d5c4a-7748-42a0-a61f-15a2a41bb82e",
    "tags": [],
    "deepnote_cell_type": "markdown",
    "deepnote_cell_height": 70
   }
  },
  {
   "cell_type": "code",
   "metadata": {
    "tags": [],
    "cell_id": "2914ceaf-cb04-443e-b785-98dc22f505b1",
    "deepnote_to_be_reexecuted": false,
    "source_hash": "ed777d08",
    "execution_start": 1647446291558,
    "execution_millis": 2,
    "deepnote_cell_type": "code",
    "deepnote_cell_height": 117
   },
   "source": "import pandas as pd\nfrom genderize import Genderize\nimport gender_guesser.detector as gender",
   "execution_count": null,
   "outputs": []
  },
  {
   "cell_type": "markdown",
   "source": "## 2. Load the data",
   "metadata": {
    "cell_id": "108b0fbe-42a6-409a-9109-679e723cc487",
    "tags": [],
    "deepnote_cell_type": "markdown",
    "deepnote_cell_height": 70
   }
  },
  {
   "cell_type": "code",
   "metadata": {
    "cell_id": "c9781990-ac38-4018-a289-ec72e465d414",
    "tags": [],
    "deepnote_to_be_reexecuted": false,
    "source_hash": "232f721",
    "execution_start": 1647443536031,
    "execution_millis": 10,
    "deepnote_cell_type": "code",
    "deepnote_cell_height": 81
   },
   "source": "df = pd.read_csv('../data/interim/accounting-cleaned.csv')",
   "execution_count": null,
   "outputs": []
  },
  {
   "cell_type": "code",
   "metadata": {
    "cell_id": "41535844-63e7-4893-9c29-2908b51d477a",
    "tags": [],
    "deepnote_to_be_reexecuted": false,
    "source_hash": "f804c160",
    "execution_start": 1647443541240,
    "execution_millis": 259,
    "deepnote_table_state": {
     "pageSize": 10,
     "pageIndex": 1,
     "filters": [],
     "sortBy": []
    },
    "deepnote_table_loading": false,
    "deepnote_cell_type": "code",
    "deepnote_cell_height": 614.796875
   },
   "source": "df",
   "execution_count": null,
   "outputs": [
    {
     "output_type": "execute_result",
     "execution_count": 15,
     "data": {
      "application/vnd.deepnote.dataframe.v3+json": {
       "column_count": 12,
       "row_count": 473,
       "columns": [
        {
         "name": "Unnamed: 0",
         "dtype": "int64",
         "stats": {
          "unique_count": 473,
          "nan_count": 0,
          "min": "0",
          "max": "472",
          "histogram": [
           {
            "bin_start": 0,
            "bin_end": 47.2,
            "count": 48
           },
           {
            "bin_start": 47.2,
            "bin_end": 94.4,
            "count": 47
           },
           {
            "bin_start": 94.4,
            "bin_end": 141.60000000000002,
            "count": 47
           },
           {
            "bin_start": 141.60000000000002,
            "bin_end": 188.8,
            "count": 47
           },
           {
            "bin_start": 188.8,
            "bin_end": 236,
            "count": 47
           },
           {
            "bin_start": 236,
            "bin_end": 283.20000000000005,
            "count": 48
           },
           {
            "bin_start": 283.20000000000005,
            "bin_end": 330.40000000000003,
            "count": 47
           },
           {
            "bin_start": 330.40000000000003,
            "bin_end": 377.6,
            "count": 47
           },
           {
            "bin_start": 377.6,
            "bin_end": 424.8,
            "count": 47
           },
           {
            "bin_start": 424.8,
            "bin_end": 472,
            "count": 48
           }
          ]
         }
        },
        {
         "name": "search_query",
         "dtype": "object",
         "stats": {
          "unique_count": 1,
          "nan_count": 0,
          "categories": [
           {
            "name": "accountant",
            "count": 473
           }
          ]
         }
        },
        {
         "name": "name",
         "dtype": "object",
         "stats": {
          "unique_count": 405,
          "nan_count": 0,
          "categories": [
           {
            "name": "Jennifer",
            "count": 7
           },
           {
            "name": "Jessica",
            "count": 6
           },
           {
            "name": "403 others",
            "count": 460
           }
          ]
         }
        },
        {
         "name": "hourly_rate",
         "dtype": "float64",
         "stats": {
          "unique_count": 56,
          "nan_count": 0,
          "min": "2.0",
          "max": "700.0",
          "histogram": [
           {
            "bin_start": 2,
            "bin_end": 71.8,
            "count": 432
           },
           {
            "bin_start": 71.8,
            "bin_end": 141.6,
            "count": 27
           },
           {
            "bin_start": 141.6,
            "bin_end": 211.39999999999998,
            "count": 5
           },
           {
            "bin_start": 211.39999999999998,
            "bin_end": 281.2,
            "count": 2
           },
           {
            "bin_start": 281.2,
            "bin_end": 351,
            "count": 3
           },
           {
            "bin_start": 351,
            "bin_end": 420.79999999999995,
            "count": 0
           },
           {
            "bin_start": 420.79999999999995,
            "bin_end": 490.59999999999997,
            "count": 1
           },
           {
            "bin_start": 490.59999999999997,
            "bin_end": 560.4,
            "count": 2
           },
           {
            "bin_start": 560.4,
            "bin_end": 630.1999999999999,
            "count": 0
           },
           {
            "bin_start": 630.1999999999999,
            "bin_end": 700,
            "count": 1
           }
          ]
         }
        },
        {
         "name": "pay_grade",
         "dtype": "float64",
         "stats": {
          "unique_count": 16,
          "nan_count": 0,
          "min": "0.0",
          "max": "6.1",
          "histogram": [
           {
            "bin_start": 0,
            "bin_end": 0.61,
            "count": 454
           },
           {
            "bin_start": 0.61,
            "bin_end": 1.22,
            "count": 0
           },
           {
            "bin_start": 1.22,
            "bin_end": 1.83,
            "count": 3
           },
           {
            "bin_start": 1.83,
            "bin_end": 2.44,
            "count": 0
           },
           {
            "bin_start": 2.44,
            "bin_end": 3.05,
            "count": 2
           },
           {
            "bin_start": 3.05,
            "bin_end": 3.66,
            "count": 0
           },
           {
            "bin_start": 3.66,
            "bin_end": 4.27,
            "count": 6
           },
           {
            "bin_start": 4.27,
            "bin_end": 4.88,
            "count": 3
           },
           {
            "bin_start": 4.88,
            "bin_end": 5.49,
            "count": 1
           },
           {
            "bin_start": 5.49,
            "bin_end": 6.1,
            "count": 4
           }
          ]
         }
        },
        {
         "name": "avg_rating",
         "dtype": "float64",
         "stats": {
          "unique_count": 5,
          "nan_count": 0,
          "min": "0.0",
          "max": "5.0",
          "histogram": [
           {
            "bin_start": 0,
            "bin_end": 0.5,
            "count": 454
           },
           {
            "bin_start": 0.5,
            "bin_end": 1,
            "count": 0
           },
           {
            "bin_start": 1,
            "bin_end": 1.5,
            "count": 0
           },
           {
            "bin_start": 1.5,
            "bin_end": 2,
            "count": 0
           },
           {
            "bin_start": 2,
            "bin_end": 2.5,
            "count": 0
           },
           {
            "bin_start": 2.5,
            "bin_end": 3,
            "count": 0
           },
           {
            "bin_start": 3,
            "bin_end": 3.5,
            "count": 0
           },
           {
            "bin_start": 3.5,
            "bin_end": 4,
            "count": 0
           },
           {
            "bin_start": 4,
            "bin_end": 4.5,
            "count": 0
           },
           {
            "bin_start": 4.5,
            "bin_end": 5,
            "count": 19
           }
          ]
         }
        },
        {
         "name": "num_reviews",
         "dtype": "int64",
         "stats": {
          "unique_count": 15,
          "nan_count": 0,
          "min": "0",
          "max": "104",
          "histogram": [
           {
            "bin_start": 0,
            "bin_end": 10.4,
            "count": 465
           },
           {
            "bin_start": 10.4,
            "bin_end": 20.8,
            "count": 4
           },
           {
            "bin_start": 20.8,
            "bin_end": 31.200000000000003,
            "count": 1
           },
           {
            "bin_start": 31.200000000000003,
            "bin_end": 41.6,
            "count": 0
           },
           {
            "bin_start": 41.6,
            "bin_end": 52,
            "count": 1
           },
           {
            "bin_start": 52,
            "bin_end": 62.400000000000006,
            "count": 1
           },
           {
            "bin_start": 62.400000000000006,
            "bin_end": 72.8,
            "count": 0
           },
           {
            "bin_start": 72.8,
            "bin_end": 83.2,
            "count": 0
           },
           {
            "bin_start": 83.2,
            "bin_end": 93.60000000000001,
            "count": 0
           },
           {
            "bin_start": 93.60000000000001,
            "bin_end": 104,
            "count": 1
           }
          ]
         }
        },
        {
         "name": "num_recommendations",
         "dtype": "int64",
         "stats": {
          "unique_count": 4,
          "nan_count": 0,
          "min": "0",
          "max": "5",
          "histogram": [
           {
            "bin_start": 0,
            "bin_end": 0.5,
            "count": 462
           },
           {
            "bin_start": 0.5,
            "bin_end": 1,
            "count": 0
           },
           {
            "bin_start": 1,
            "bin_end": 1.5,
            "count": 6
           },
           {
            "bin_start": 1.5,
            "bin_end": 2,
            "count": 0
           },
           {
            "bin_start": 2,
            "bin_end": 2.5,
            "count": 0
           },
           {
            "bin_start": 2.5,
            "bin_end": 3,
            "count": 0
           },
           {
            "bin_start": 3,
            "bin_end": 3.5,
            "count": 3
           },
           {
            "bin_start": 3.5,
            "bin_end": 4,
            "count": 0
           },
           {
            "bin_start": 4,
            "bin_end": 4.5,
            "count": 0
           },
           {
            "bin_start": 4.5,
            "bin_end": 5,
            "count": 2
           }
          ]
         }
        },
        {
         "name": "pct_jobs_completed",
         "dtype": "float64",
         "stats": {
          "unique_count": 6,
          "nan_count": 453,
          "min": "94.0",
          "max": "100.0",
          "histogram": [
           {
            "bin_start": 94,
            "bin_end": 94.6,
            "count": 1
           },
           {
            "bin_start": 94.6,
            "bin_end": 95.2,
            "count": 1
           },
           {
            "bin_start": 95.2,
            "bin_end": 95.8,
            "count": 0
           },
           {
            "bin_start": 95.8,
            "bin_end": 96.4,
            "count": 0
           },
           {
            "bin_start": 96.4,
            "bin_end": 97,
            "count": 0
           },
           {
            "bin_start": 97,
            "bin_end": 97.6,
            "count": 1
           },
           {
            "bin_start": 97.6,
            "bin_end": 98.2,
            "count": 1
           },
           {
            "bin_start": 98.2,
            "bin_end": 98.8,
            "count": 0
           },
           {
            "bin_start": 98.8,
            "bin_end": 99.4,
            "count": 1
           },
           {
            "bin_start": 99.4,
            "bin_end": 100,
            "count": 15
           }
          ]
         }
        },
        {
         "name": "pct_on_budget",
         "dtype": "float64",
         "stats": {
          "unique_count": 6,
          "nan_count": 454,
          "min": "87.0",
          "max": "100.0",
          "histogram": [
           {
            "bin_start": 87,
            "bin_end": 88.3,
            "count": 1
           },
           {
            "bin_start": 88.3,
            "bin_end": 89.6,
            "count": 0
           },
           {
            "bin_start": 89.6,
            "bin_end": 90.9,
            "count": 0
           },
           {
            "bin_start": 90.9,
            "bin_end": 92.2,
            "count": 0
           },
           {
            "bin_start": 92.2,
            "bin_end": 93.5,
            "count": 1
           },
           {
            "bin_start": 93.5,
            "bin_end": 94.8,
            "count": 0
           },
           {
            "bin_start": 94.8,
            "bin_end": 96.1,
            "count": 0
           },
           {
            "bin_start": 96.1,
            "bin_end": 97.4,
            "count": 1
           },
           {
            "bin_start": 97.4,
            "bin_end": 98.7,
            "count": 1
           },
           {
            "bin_start": 98.7,
            "bin_end": 100,
            "count": 15
           }
          ]
         }
        },
        {
         "name": "pct_on_time",
         "dtype": "float64",
         "stats": {
          "unique_count": 5,
          "nan_count": 454,
          "min": "41.0",
          "max": "100.0",
          "histogram": [
           {
            "bin_start": 41,
            "bin_end": 46.9,
            "count": 1
           },
           {
            "bin_start": 46.9,
            "bin_end": 52.8,
            "count": 0
           },
           {
            "bin_start": 52.8,
            "bin_end": 58.7,
            "count": 0
           },
           {
            "bin_start": 58.7,
            "bin_end": 64.6,
            "count": 0
           },
           {
            "bin_start": 64.6,
            "bin_end": 70.5,
            "count": 0
           },
           {
            "bin_start": 70.5,
            "bin_end": 76.4,
            "count": 0
           },
           {
            "bin_start": 76.4,
            "bin_end": 82.30000000000001,
            "count": 0
           },
           {
            "bin_start": 82.30000000000001,
            "bin_end": 88.2,
            "count": 1
           },
           {
            "bin_start": 88.2,
            "bin_end": 94.1,
            "count": 0
           },
           {
            "bin_start": 94.1,
            "bin_end": 100,
            "count": 17
           }
          ]
         }
        },
        {
         "name": "days_joined",
         "dtype": "int64",
         "stats": {
          "unique_count": 367,
          "nan_count": 0,
          "min": "3",
          "max": "4661",
          "histogram": [
           {
            "bin_start": 3,
            "bin_end": 468.8,
            "count": 288
           },
           {
            "bin_start": 468.8,
            "bin_end": 934.6,
            "count": 57
           },
           {
            "bin_start": 934.6,
            "bin_end": 1400.4,
            "count": 43
           },
           {
            "bin_start": 1400.4,
            "bin_end": 1866.2,
            "count": 26
           },
           {
            "bin_start": 1866.2,
            "bin_end": 2332,
            "count": 23
           },
           {
            "bin_start": 2332,
            "bin_end": 2797.8,
            "count": 19
           },
           {
            "bin_start": 2797.8,
            "bin_end": 3263.6,
            "count": 9
           },
           {
            "bin_start": 3263.6,
            "bin_end": 3729.4,
            "count": 2
           },
           {
            "bin_start": 3729.4,
            "bin_end": 4195.2,
            "count": 2
           },
           {
            "bin_start": 4195.2,
            "bin_end": 4661,
            "count": 4
           }
          ]
         }
        },
        {
         "name": "_deepnote_index_column",
         "dtype": "int64"
        }
       ],
       "rows": [
        {
         "Unnamed: 0": 10,
         "search_query": "accountant",
         "name": "Bayley",
         "hourly_rate": 20,
         "pay_grade": 0,
         "avg_rating": 0,
         "num_reviews": 0,
         "num_recommendations": 0,
         "pct_jobs_completed": "nan",
         "pct_on_budget": "nan",
         "pct_on_time": "nan",
         "days_joined": 47,
         "_deepnote_index_column": 10
        },
        {
         "Unnamed: 0": 11,
         "search_query": "accountant",
         "name": "Dewaine",
         "hourly_rate": 48,
         "pay_grade": 0,
         "avg_rating": 0,
         "num_reviews": 0,
         "num_recommendations": 0,
         "pct_jobs_completed": "nan",
         "pct_on_budget": "nan",
         "pct_on_time": "nan",
         "days_joined": 21,
         "_deepnote_index_column": 11
        },
        {
         "Unnamed: 0": 12,
         "search_query": "accountant",
         "name": "Tuyisabe",
         "hourly_rate": 25,
         "pay_grade": 0,
         "avg_rating": 0,
         "num_reviews": 0,
         "num_recommendations": 0,
         "pct_jobs_completed": "nan",
         "pct_on_budget": "nan",
         "pct_on_time": "nan",
         "days_joined": 88,
         "_deepnote_index_column": 12
        },
        {
         "Unnamed: 0": 13,
         "search_query": "accountant",
         "name": "Dennisvin",
         "hourly_rate": 12,
         "pay_grade": 0,
         "avg_rating": 0,
         "num_reviews": 0,
         "num_recommendations": 0,
         "pct_jobs_completed": "nan",
         "pct_on_budget": "nan",
         "pct_on_time": "nan",
         "days_joined": 39,
         "_deepnote_index_column": 13
        },
        {
         "Unnamed: 0": 14,
         "search_query": "accountant",
         "name": "Qudrat",
         "hourly_rate": 30,
         "pay_grade": 0,
         "avg_rating": 0,
         "num_reviews": 0,
         "num_recommendations": 0,
         "pct_jobs_completed": "nan",
         "pct_on_budget": "nan",
         "pct_on_time": "nan",
         "days_joined": 19,
         "_deepnote_index_column": 14
        },
        {
         "Unnamed: 0": 15,
         "search_query": "accountant",
         "name": "Feng",
         "hourly_rate": 30,
         "pay_grade": 0,
         "avg_rating": 0,
         "num_reviews": 0,
         "num_recommendations": 0,
         "pct_jobs_completed": "nan",
         "pct_on_budget": "nan",
         "pct_on_time": "nan",
         "days_joined": 406,
         "_deepnote_index_column": 15
        },
        {
         "Unnamed: 0": 16,
         "search_query": "accountant",
         "name": "Margareth",
         "hourly_rate": 5,
         "pay_grade": 4.3,
         "avg_rating": 4.9,
         "num_reviews": 16,
         "num_recommendations": 0,
         "pct_jobs_completed": 94,
         "pct_on_budget": 100,
         "pct_on_time": 95,
         "days_joined": 2752,
         "_deepnote_index_column": 16
        },
        {
         "Unnamed: 0": 17,
         "search_query": "accountant",
         "name": "Francoisrnelius",
         "hourly_rate": 10,
         "pay_grade": 4,
         "avg_rating": 4.9,
         "num_reviews": 14,
         "num_recommendations": 0,
         "pct_jobs_completed": 100,
         "pct_on_budget": 100,
         "pct_on_time": 100,
         "days_joined": 4210,
         "_deepnote_index_column": 17
        },
        {
         "Unnamed: 0": 18,
         "search_query": "accountant",
         "name": "Patrick",
         "hourly_rate": 300,
         "pay_grade": 0,
         "avg_rating": 0,
         "num_reviews": 0,
         "num_recommendations": 0,
         "pct_jobs_completed": "nan",
         "pct_on_budget": "nan",
         "pct_on_time": "nan",
         "days_joined": 44,
         "_deepnote_index_column": 18
        },
        {
         "Unnamed: 0": 19,
         "search_query": "accountant",
         "name": "Carlos",
         "hourly_rate": 10,
         "pay_grade": 0,
         "avg_rating": 0,
         "num_reviews": 0,
         "num_recommendations": 0,
         "pct_jobs_completed": "nan",
         "pct_on_budget": "nan",
         "pct_on_time": "nan",
         "days_joined": 2961,
         "_deepnote_index_column": 19
        }
       ]
      },
      "text/plain": "     Unnamed: 0 search_query      name  hourly_rate  pay_grade  avg_rating  \\\n0             0   accountant  Shineeza         40.0        0.0         0.0   \n1             1   accountant      Lisa         13.0        0.0         0.0   \n2             2   accountant     Ahmed         15.0        0.0         0.0   \n3             3   accountant      Alex         75.0        0.0         0.0   \n4             4   accountant  Agustina         40.0        0.0         0.0   \n..          ...          ...       ...          ...        ...         ...   \n468         468   accountant   Jessica         15.0        0.0         0.0   \n469         469   accountant       Roy         20.0        0.0         0.0   \n470         470   accountant   Beverly         30.0        0.0         0.0   \n471         471   accountant    Marian         15.0        0.0         0.0   \n472         472   accountant   Martina         25.0        0.0         0.0   \n\n     num_reviews  num_recommendations  pct_jobs_completed  pct_on_budget  \\\n0              0                    0                 NaN            NaN   \n1              0                    0                 NaN            NaN   \n2              0                    0                 NaN            NaN   \n3              0                    0                 NaN            NaN   \n4              0                    0                 NaN            NaN   \n..           ...                  ...                 ...            ...   \n468            0                    0                 NaN            NaN   \n469            0                    0                 NaN            NaN   \n470            0                    0                 NaN            NaN   \n471            0                    0                 NaN            NaN   \n472            0                    1                 NaN            NaN   \n\n     pct_on_time  days_joined  \n0            NaN           42  \n1            NaN           77  \n2            NaN          814  \n3            NaN          212  \n4            NaN          181  \n..           ...          ...  \n468          NaN           66  \n469          NaN         1370  \n470          NaN           61  \n471          NaN          281  \n472          NaN         1833  \n\n[473 rows x 12 columns]",
      "text/html": "<div>\n<style scoped>\n    .dataframe tbody tr th:only-of-type {\n        vertical-align: middle;\n    }\n\n    .dataframe tbody tr th {\n        vertical-align: top;\n    }\n\n    .dataframe thead th {\n        text-align: right;\n    }\n</style>\n<table border=\"1\" class=\"dataframe\">\n  <thead>\n    <tr style=\"text-align: right;\">\n      <th></th>\n      <th>Unnamed: 0</th>\n      <th>search_query</th>\n      <th>name</th>\n      <th>hourly_rate</th>\n      <th>pay_grade</th>\n      <th>avg_rating</th>\n      <th>num_reviews</th>\n      <th>num_recommendations</th>\n      <th>pct_jobs_completed</th>\n      <th>pct_on_budget</th>\n      <th>pct_on_time</th>\n      <th>days_joined</th>\n    </tr>\n  </thead>\n  <tbody>\n    <tr>\n      <th>0</th>\n      <td>0</td>\n      <td>accountant</td>\n      <td>Shineeza</td>\n      <td>40.0</td>\n      <td>0.0</td>\n      <td>0.0</td>\n      <td>0</td>\n      <td>0</td>\n      <td>NaN</td>\n      <td>NaN</td>\n      <td>NaN</td>\n      <td>42</td>\n    </tr>\n    <tr>\n      <th>1</th>\n      <td>1</td>\n      <td>accountant</td>\n      <td>Lisa</td>\n      <td>13.0</td>\n      <td>0.0</td>\n      <td>0.0</td>\n      <td>0</td>\n      <td>0</td>\n      <td>NaN</td>\n      <td>NaN</td>\n      <td>NaN</td>\n      <td>77</td>\n    </tr>\n    <tr>\n      <th>2</th>\n      <td>2</td>\n      <td>accountant</td>\n      <td>Ahmed</td>\n      <td>15.0</td>\n      <td>0.0</td>\n      <td>0.0</td>\n      <td>0</td>\n      <td>0</td>\n      <td>NaN</td>\n      <td>NaN</td>\n      <td>NaN</td>\n      <td>814</td>\n    </tr>\n    <tr>\n      <th>3</th>\n      <td>3</td>\n      <td>accountant</td>\n      <td>Alex</td>\n      <td>75.0</td>\n      <td>0.0</td>\n      <td>0.0</td>\n      <td>0</td>\n      <td>0</td>\n      <td>NaN</td>\n      <td>NaN</td>\n      <td>NaN</td>\n      <td>212</td>\n    </tr>\n    <tr>\n      <th>4</th>\n      <td>4</td>\n      <td>accountant</td>\n      <td>Agustina</td>\n      <td>40.0</td>\n      <td>0.0</td>\n      <td>0.0</td>\n      <td>0</td>\n      <td>0</td>\n      <td>NaN</td>\n      <td>NaN</td>\n      <td>NaN</td>\n      <td>181</td>\n    </tr>\n    <tr>\n      <th>...</th>\n      <td>...</td>\n      <td>...</td>\n      <td>...</td>\n      <td>...</td>\n      <td>...</td>\n      <td>...</td>\n      <td>...</td>\n      <td>...</td>\n      <td>...</td>\n      <td>...</td>\n      <td>...</td>\n      <td>...</td>\n    </tr>\n    <tr>\n      <th>468</th>\n      <td>468</td>\n      <td>accountant</td>\n      <td>Jessica</td>\n      <td>15.0</td>\n      <td>0.0</td>\n      <td>0.0</td>\n      <td>0</td>\n      <td>0</td>\n      <td>NaN</td>\n      <td>NaN</td>\n      <td>NaN</td>\n      <td>66</td>\n    </tr>\n    <tr>\n      <th>469</th>\n      <td>469</td>\n      <td>accountant</td>\n      <td>Roy</td>\n      <td>20.0</td>\n      <td>0.0</td>\n      <td>0.0</td>\n      <td>0</td>\n      <td>0</td>\n      <td>NaN</td>\n      <td>NaN</td>\n      <td>NaN</td>\n      <td>1370</td>\n    </tr>\n    <tr>\n      <th>470</th>\n      <td>470</td>\n      <td>accountant</td>\n      <td>Beverly</td>\n      <td>30.0</td>\n      <td>0.0</td>\n      <td>0.0</td>\n      <td>0</td>\n      <td>0</td>\n      <td>NaN</td>\n      <td>NaN</td>\n      <td>NaN</td>\n      <td>61</td>\n    </tr>\n    <tr>\n      <th>471</th>\n      <td>471</td>\n      <td>accountant</td>\n      <td>Marian</td>\n      <td>15.0</td>\n      <td>0.0</td>\n      <td>0.0</td>\n      <td>0</td>\n      <td>0</td>\n      <td>NaN</td>\n      <td>NaN</td>\n      <td>NaN</td>\n      <td>281</td>\n    </tr>\n    <tr>\n      <th>472</th>\n      <td>472</td>\n      <td>accountant</td>\n      <td>Martina</td>\n      <td>25.0</td>\n      <td>0.0</td>\n      <td>0.0</td>\n      <td>0</td>\n      <td>1</td>\n      <td>NaN</td>\n      <td>NaN</td>\n      <td>NaN</td>\n      <td>1833</td>\n    </tr>\n  </tbody>\n</table>\n<p>473 rows × 12 columns</p>\n</div>"
     },
     "metadata": {}
    }
   ]
  },
  {
   "cell_type": "markdown",
   "source": "## 3. Gender Detection",
   "metadata": {
    "cell_id": "0e14fbfc-6da3-41e5-9d95-6828dbc55a41",
    "tags": [],
    "deepnote_cell_type": "markdown",
    "deepnote_cell_height": 70
   }
  },
  {
   "cell_type": "code",
   "metadata": {
    "cell_id": "88e47216-25a2-4237-8868-08e1cdadd11a",
    "tags": [],
    "deepnote_to_be_reexecuted": false,
    "source_hash": "686bd30b",
    "execution_start": 1647446346876,
    "execution_millis": 310,
    "deepnote_cell_type": "code",
    "deepnote_cell_height": 99
   },
   "source": "#Initialize the second option detector\ngender_detector_opt2 = gender.Detector()",
   "execution_count": null,
   "outputs": []
  },
  {
   "cell_type": "code",
   "metadata": {
    "cell_id": "d1c4af02-c986-4811-abee-953e3c848c06",
    "tags": [],
    "deepnote_to_be_reexecuted": false,
    "source_hash": "b8ea4718",
    "execution_start": 1647446881652,
    "execution_millis": 3,
    "deepnote_cell_type": "code",
    "deepnote_cell_height": 621
   },
   "source": "def determine_gender(x,prob_threshold = 0.8,count_threshold=50):\n\n    \"\"\"\n    Function to determine gender based on first name. \n    Prediction is adjusted based on a probability and frequency threshold\n    \"\"\"\n    \n    #Use prefererred tool (Only 1000 free requests daily)\n    try:\n        results = Genderize().get1(x)\n\n        if results['probability'] >= prob_threshold and results['count'] >= count_threshold:\n            return results['gender']\n        else:\n            return ('low_conf',results['probability'],results['count'])\n\n    #If request limit for preferred tool reached, use second option\n    except:\n\n        result = gender_detector_opt2.get_gender(x)\n\n        if result == 'andy':\n            return 'low_conf'\n        \n        elif 'mostly' in result:\n            return result.replace('mostly_','')\n        \n        else:\n            return result\n        \n",
   "execution_count": null,
   "outputs": []
  },
  {
   "cell_type": "code",
   "metadata": {
    "cell_id": "44a44d9d-0384-441e-85d4-134cb026cc00",
    "tags": [],
    "deepnote_to_be_reexecuted": false,
    "source_hash": "35d6c52f",
    "execution_start": 1647444737950,
    "execution_millis": 20152,
    "deepnote_cell_type": "code",
    "deepnote_cell_height": 221
   },
   "source": "df['gender'] = df.name.apply(determine_gender)",
   "execution_count": null,
   "outputs": [
    {
     "output_type": "error",
     "ename": "GenderizeException",
     "evalue": "('Request limit reached', 429, {'Server': 'nginx/1.16.1', 'Date': 'Wed, 16 Mar 2022 15:32:38 GMT', 'Content-Type': 'application/json; charset=utf-8', 'Content-Length': '33', 'Connection': 'keep-alive', 'Access-Control-Allow-Origin': '*', 'Access-Control-Allow-Methods': 'GET', 'Access-Control-Allow-Headers': 'Content-Type, X-Genderize-Source', 'X-Rate-Limit-Limit': '1000', 'X-Rate-Reset': '30442', 'X-Rate-Limit-Remaining': '0', 'ETag': 'W/\"21-tYoIBroDGdB+35cIAOMCdpXfqjI\"'})",
     "traceback": [
      "\u001b[0;31m---------------------------------------------------------------------------\u001b[0m",
      "\u001b[0;31mGenderizeException\u001b[0m                        Traceback (most recent call last)",
      "\u001b[0;32m<ipython-input-47-2dc247857dfa>\u001b[0m in \u001b[0;36m<module>\u001b[0;34m\u001b[0m\n\u001b[0;32m----> 1\u001b[0;31m \u001b[0mdf\u001b[0m\u001b[0;34m[\u001b[0m\u001b[0;34m'gender'\u001b[0m\u001b[0;34m]\u001b[0m \u001b[0;34m=\u001b[0m \u001b[0mdf\u001b[0m\u001b[0;34m.\u001b[0m\u001b[0mname\u001b[0m\u001b[0;34m.\u001b[0m\u001b[0mapply\u001b[0m\u001b[0;34m(\u001b[0m\u001b[0mdetermine_gender\u001b[0m\u001b[0;34m)\u001b[0m\u001b[0;34m\u001b[0m\u001b[0;34m\u001b[0m\u001b[0m\n\u001b[0m",
      "\u001b[0;32m/shared-libs/python3.7/py/lib/python3.7/site-packages/pandas/core/series.py\u001b[0m in \u001b[0;36mapply\u001b[0;34m(self, func, convert_dtype, args, **kwargs)\u001b[0m\n\u001b[1;32m   4355\u001b[0m         \u001b[0mdtype\u001b[0m\u001b[0;34m:\u001b[0m \u001b[0mfloat64\u001b[0m\u001b[0;34m\u001b[0m\u001b[0;34m\u001b[0m\u001b[0m\n\u001b[1;32m   4356\u001b[0m         \"\"\"\n\u001b[0;32m-> 4357\u001b[0;31m         \u001b[0;32mreturn\u001b[0m \u001b[0mSeriesApply\u001b[0m\u001b[0;34m(\u001b[0m\u001b[0mself\u001b[0m\u001b[0;34m,\u001b[0m \u001b[0mfunc\u001b[0m\u001b[0;34m,\u001b[0m \u001b[0mconvert_dtype\u001b[0m\u001b[0;34m,\u001b[0m \u001b[0margs\u001b[0m\u001b[0;34m,\u001b[0m \u001b[0mkwargs\u001b[0m\u001b[0;34m)\u001b[0m\u001b[0;34m.\u001b[0m\u001b[0mapply\u001b[0m\u001b[0;34m(\u001b[0m\u001b[0;34m)\u001b[0m\u001b[0;34m\u001b[0m\u001b[0;34m\u001b[0m\u001b[0m\n\u001b[0m\u001b[1;32m   4358\u001b[0m \u001b[0;34m\u001b[0m\u001b[0m\n\u001b[1;32m   4359\u001b[0m     def _reduce(\n",
      "\u001b[0;32m/shared-libs/python3.7/py/lib/python3.7/site-packages/pandas/core/apply.py\u001b[0m in \u001b[0;36mapply\u001b[0;34m(self)\u001b[0m\n\u001b[1;32m   1041\u001b[0m             \u001b[0;32mreturn\u001b[0m \u001b[0mself\u001b[0m\u001b[0;34m.\u001b[0m\u001b[0mapply_str\u001b[0m\u001b[0;34m(\u001b[0m\u001b[0;34m)\u001b[0m\u001b[0;34m\u001b[0m\u001b[0;34m\u001b[0m\u001b[0m\n\u001b[1;32m   1042\u001b[0m \u001b[0;34m\u001b[0m\u001b[0m\n\u001b[0;32m-> 1043\u001b[0;31m         \u001b[0;32mreturn\u001b[0m \u001b[0mself\u001b[0m\u001b[0;34m.\u001b[0m\u001b[0mapply_standard\u001b[0m\u001b[0;34m(\u001b[0m\u001b[0;34m)\u001b[0m\u001b[0;34m\u001b[0m\u001b[0;34m\u001b[0m\u001b[0m\n\u001b[0m\u001b[1;32m   1044\u001b[0m \u001b[0;34m\u001b[0m\u001b[0m\n\u001b[1;32m   1045\u001b[0m     \u001b[0;32mdef\u001b[0m \u001b[0magg\u001b[0m\u001b[0;34m(\u001b[0m\u001b[0mself\u001b[0m\u001b[0;34m)\u001b[0m\u001b[0;34m:\u001b[0m\u001b[0;34m\u001b[0m\u001b[0;34m\u001b[0m\u001b[0m\n",
      "\u001b[0;32m/shared-libs/python3.7/py/lib/python3.7/site-packages/pandas/core/apply.py\u001b[0m in \u001b[0;36mapply_standard\u001b[0;34m(self)\u001b[0m\n\u001b[1;32m   1099\u001b[0m                     \u001b[0mvalues\u001b[0m\u001b[0;34m,\u001b[0m\u001b[0;34m\u001b[0m\u001b[0;34m\u001b[0m\u001b[0m\n\u001b[1;32m   1100\u001b[0m                     \u001b[0mf\u001b[0m\u001b[0;34m,\u001b[0m  \u001b[0;31m# type: ignore[arg-type]\u001b[0m\u001b[0;34m\u001b[0m\u001b[0;34m\u001b[0m\u001b[0m\n\u001b[0;32m-> 1101\u001b[0;31m                     \u001b[0mconvert\u001b[0m\u001b[0;34m=\u001b[0m\u001b[0mself\u001b[0m\u001b[0;34m.\u001b[0m\u001b[0mconvert_dtype\u001b[0m\u001b[0;34m,\u001b[0m\u001b[0;34m\u001b[0m\u001b[0;34m\u001b[0m\u001b[0m\n\u001b[0m\u001b[1;32m   1102\u001b[0m                 )\n\u001b[1;32m   1103\u001b[0m \u001b[0;34m\u001b[0m\u001b[0m\n",
      "\u001b[0;32m/shared-libs/python3.7/py/lib/python3.7/site-packages/pandas/_libs/lib.pyx\u001b[0m in \u001b[0;36mpandas._libs.lib.map_infer\u001b[0;34m()\u001b[0m\n",
      "\u001b[0;32m<ipython-input-46-0233a150a400>\u001b[0m in \u001b[0;36mdetermine_gender\u001b[0;34m(x, prob_threshold, count_threshold)\u001b[0m\n\u001b[1;32m      6\u001b[0m     \"\"\"\n\u001b[1;32m      7\u001b[0m \u001b[0;34m\u001b[0m\u001b[0m\n\u001b[0;32m----> 8\u001b[0;31m     \u001b[0mresults\u001b[0m \u001b[0;34m=\u001b[0m \u001b[0mGenderize\u001b[0m\u001b[0;34m(\u001b[0m\u001b[0;34m)\u001b[0m\u001b[0;34m.\u001b[0m\u001b[0mget1\u001b[0m\u001b[0;34m(\u001b[0m\u001b[0mx\u001b[0m\u001b[0;34m)\u001b[0m\u001b[0;34m\u001b[0m\u001b[0;34m\u001b[0m\u001b[0m\n\u001b[0m\u001b[1;32m      9\u001b[0m \u001b[0;34m\u001b[0m\u001b[0m\n\u001b[1;32m     10\u001b[0m     \u001b[0;32mif\u001b[0m \u001b[0mresults\u001b[0m\u001b[0;34m[\u001b[0m\u001b[0;34m'probability'\u001b[0m\u001b[0;34m]\u001b[0m \u001b[0;34m>=\u001b[0m \u001b[0mprob_threshold\u001b[0m \u001b[0;32mand\u001b[0m \u001b[0mresults\u001b[0m\u001b[0;34m[\u001b[0m\u001b[0;34m'count'\u001b[0m\u001b[0;34m]\u001b[0m \u001b[0;34m>=\u001b[0m \u001b[0mcount_threshold\u001b[0m\u001b[0;34m:\u001b[0m\u001b[0;34m\u001b[0m\u001b[0;34m\u001b[0m\u001b[0m\n",
      "\u001b[0;32m~/venv/lib/python3.7/site-packages/genderize/__init__.py\u001b[0m in \u001b[0;36mget1\u001b[0;34m(self, name, **kwargs)\u001b[0m\n\u001b[1;32m    161\u001b[0m             raise GenderizeException(\n\u001b[1;32m    162\u001b[0m                 \"get1() doesn't support the retheader option.\")\n\u001b[0;32m--> 163\u001b[0;31m         \u001b[0;32mreturn\u001b[0m \u001b[0mself\u001b[0m\u001b[0;34m.\u001b[0m\u001b[0mget\u001b[0m\u001b[0;34m(\u001b[0m\u001b[0;34m[\u001b[0m\u001b[0mname\u001b[0m\u001b[0;34m]\u001b[0m\u001b[0;34m,\u001b[0m \u001b[0;34m**\u001b[0m\u001b[0mkwargs\u001b[0m\u001b[0;34m)\u001b[0m\u001b[0;34m[\u001b[0m\u001b[0;36m0\u001b[0m\u001b[0;34m]\u001b[0m\u001b[0;34m\u001b[0m\u001b[0;34m\u001b[0m\u001b[0m\n\u001b[0m\u001b[1;32m    164\u001b[0m \u001b[0;34m\u001b[0m\u001b[0m\n\u001b[1;32m    165\u001b[0m \u001b[0;34m\u001b[0m\u001b[0m\n",
      "\u001b[0;32m~/venv/lib/python3.7/site-packages/genderize/__init__.py\u001b[0m in \u001b[0;36mget\u001b[0;34m(self, names, country_id, language_id, retheader)\u001b[0m\n\u001b[1;32m     97\u001b[0m             \u001b[0mself\u001b[0m\u001b[0;34m.\u001b[0m\u001b[0m_get_chunk\u001b[0m\u001b[0;34m(\u001b[0m\u001b[0mname_chunk\u001b[0m\u001b[0;34m,\u001b[0m \u001b[0mcountry_id\u001b[0m\u001b[0;34m,\u001b[0m \u001b[0mlanguage_id\u001b[0m\u001b[0;34m)\u001b[0m\u001b[0;34m\u001b[0m\u001b[0;34m\u001b[0m\u001b[0m\n\u001b[1;32m     98\u001b[0m             \u001b[0;32mfor\u001b[0m \u001b[0mname_chunk\u001b[0m\u001b[0;34m\u001b[0m\u001b[0;34m\u001b[0m\u001b[0m\n\u001b[0;32m---> 99\u001b[0;31m             \u001b[0;32min\u001b[0m \u001b[0m_chunked\u001b[0m\u001b[0;34m(\u001b[0m\u001b[0mnames\u001b[0m\u001b[0;34m,\u001b[0m \u001b[0mGenderize\u001b[0m\u001b[0;34m.\u001b[0m\u001b[0mBATCH_SIZE\u001b[0m\u001b[0;34m)\u001b[0m\u001b[0;34m\u001b[0m\u001b[0;34m\u001b[0m\u001b[0m\n\u001b[0m\u001b[1;32m    100\u001b[0m         ]\n\u001b[1;32m    101\u001b[0m         data = list(chain.from_iterable(\n",
      "\u001b[0;32m~/venv/lib/python3.7/site-packages/genderize/__init__.py\u001b[0m in \u001b[0;36m<listcomp>\u001b[0;34m(.0)\u001b[0m\n\u001b[1;32m     96\u001b[0m         responses = [\n\u001b[1;32m     97\u001b[0m             \u001b[0mself\u001b[0m\u001b[0;34m.\u001b[0m\u001b[0m_get_chunk\u001b[0m\u001b[0;34m(\u001b[0m\u001b[0mname_chunk\u001b[0m\u001b[0;34m,\u001b[0m \u001b[0mcountry_id\u001b[0m\u001b[0;34m,\u001b[0m \u001b[0mlanguage_id\u001b[0m\u001b[0;34m)\u001b[0m\u001b[0;34m\u001b[0m\u001b[0;34m\u001b[0m\u001b[0m\n\u001b[0;32m---> 98\u001b[0;31m             \u001b[0;32mfor\u001b[0m \u001b[0mname_chunk\u001b[0m\u001b[0;34m\u001b[0m\u001b[0;34m\u001b[0m\u001b[0m\n\u001b[0m\u001b[1;32m     99\u001b[0m             \u001b[0;32min\u001b[0m \u001b[0m_chunked\u001b[0m\u001b[0;34m(\u001b[0m\u001b[0mnames\u001b[0m\u001b[0;34m,\u001b[0m \u001b[0mGenderize\u001b[0m\u001b[0;34m.\u001b[0m\u001b[0mBATCH_SIZE\u001b[0m\u001b[0;34m)\u001b[0m\u001b[0;34m\u001b[0m\u001b[0;34m\u001b[0m\u001b[0m\n\u001b[1;32m    100\u001b[0m         ]\n",
      "\u001b[0;32m~/venv/lib/python3.7/site-packages/genderize/__init__.py\u001b[0m in \u001b[0;36m_get_chunk\u001b[0;34m(self, name_chunk, country_id, language_id)\u001b[0m\n\u001b[1;32m    150\u001b[0m                 \u001b[0mdecoded\u001b[0m\u001b[0;34m[\u001b[0m\u001b[0;34m'error'\u001b[0m\u001b[0;34m]\u001b[0m\u001b[0;34m,\u001b[0m\u001b[0;34m\u001b[0m\u001b[0;34m\u001b[0m\u001b[0m\n\u001b[1;32m    151\u001b[0m                 \u001b[0mresponse\u001b[0m\u001b[0;34m.\u001b[0m\u001b[0mstatus_code\u001b[0m\u001b[0;34m,\u001b[0m\u001b[0;34m\u001b[0m\u001b[0;34m\u001b[0m\u001b[0m\n\u001b[0;32m--> 152\u001b[0;31m                 response.headers)\n\u001b[0m\u001b[1;32m    153\u001b[0m \u001b[0;34m\u001b[0m\u001b[0m\n\u001b[1;32m    154\u001b[0m     \u001b[0;32mdef\u001b[0m \u001b[0mget1\u001b[0m\u001b[0;34m(\u001b[0m\u001b[0mself\u001b[0m\u001b[0;34m,\u001b[0m \u001b[0mname\u001b[0m\u001b[0;34m,\u001b[0m \u001b[0;34m**\u001b[0m\u001b[0mkwargs\u001b[0m\u001b[0;34m)\u001b[0m\u001b[0;34m:\u001b[0m\u001b[0;34m\u001b[0m\u001b[0;34m\u001b[0m\u001b[0m\n",
      "\u001b[0;31mGenderizeException\u001b[0m: ('Request limit reached', 429, {'Server': 'nginx/1.16.1', 'Date': 'Wed, 16 Mar 2022 15:32:38 GMT', 'Content-Type': 'application/json; charset=utf-8', 'Content-Length': '33', 'Connection': 'keep-alive', 'Access-Control-Allow-Origin': '*', 'Access-Control-Allow-Methods': 'GET', 'Access-Control-Allow-Headers': 'Content-Type, X-Genderize-Source', 'X-Rate-Limit-Limit': '1000', 'X-Rate-Reset': '30442', 'X-Rate-Limit-Remaining': '0', 'ETag': 'W/\"21-tYoIBroDGdB+35cIAOMCdpXfqjI\"'})"
     ]
    }
   ]
  },
  {
   "cell_type": "code",
   "metadata": {
    "cell_id": "5937338d-9306-4eee-8935-b6aa4ba3b58d",
    "tags": [],
    "deepnote_to_be_reexecuted": false,
    "source_hash": "8ab063fb",
    "execution_start": 1647473023559,
    "execution_millis": 28,
    "deepnote_cell_type": "code",
    "deepnote_cell_height": 144.1875
   },
   "source": "",
   "execution_count": null,
   "outputs": [
    {
     "output_type": "error",
     "ename": "ValueError",
     "evalue": "\"isinstance\" is not a supported function",
     "traceback": [
      "\u001b[0;31m---------------------------------------------------------------------------\u001b[0m",
      "\u001b[0;31mKeyError\u001b[0m                                  Traceback (most recent call last)",
      "\u001b[0;32m/shared-libs/python3.7/py/lib/python3.7/site-packages/pandas/core/computation/scope.py\u001b[0m in \u001b[0;36mresolve\u001b[0;34m(self, key, is_local)\u001b[0m\n\u001b[1;32m    199\u001b[0m             \u001b[0;32mif\u001b[0m \u001b[0mself\u001b[0m\u001b[0;34m.\u001b[0m\u001b[0mhas_resolvers\u001b[0m\u001b[0;34m:\u001b[0m\u001b[0;34m\u001b[0m\u001b[0;34m\u001b[0m\u001b[0m\n\u001b[0;32m--> 200\u001b[0;31m                 \u001b[0;32mreturn\u001b[0m \u001b[0mself\u001b[0m\u001b[0;34m.\u001b[0m\u001b[0mresolvers\u001b[0m\u001b[0;34m[\u001b[0m\u001b[0mkey\u001b[0m\u001b[0;34m]\u001b[0m\u001b[0;34m\u001b[0m\u001b[0;34m\u001b[0m\u001b[0m\n\u001b[0m\u001b[1;32m    201\u001b[0m \u001b[0;34m\u001b[0m\u001b[0m\n",
      "\u001b[0;32m/usr/local/lib/python3.7/collections/__init__.py\u001b[0m in \u001b[0;36m__getitem__\u001b[0;34m(self, key)\u001b[0m\n\u001b[1;32m    915\u001b[0m                 \u001b[0;32mpass\u001b[0m\u001b[0;34m\u001b[0m\u001b[0;34m\u001b[0m\u001b[0m\n\u001b[0;32m--> 916\u001b[0;31m         \u001b[0;32mreturn\u001b[0m \u001b[0mself\u001b[0m\u001b[0;34m.\u001b[0m\u001b[0m__missing__\u001b[0m\u001b[0;34m(\u001b[0m\u001b[0mkey\u001b[0m\u001b[0;34m)\u001b[0m            \u001b[0;31m# support subclasses that define __missing__\u001b[0m\u001b[0;34m\u001b[0m\u001b[0;34m\u001b[0m\u001b[0m\n\u001b[0m\u001b[1;32m    917\u001b[0m \u001b[0;34m\u001b[0m\u001b[0m\n",
      "\u001b[0;32m/usr/local/lib/python3.7/collections/__init__.py\u001b[0m in \u001b[0;36m__missing__\u001b[0;34m(self, key)\u001b[0m\n\u001b[1;32m    907\u001b[0m     \u001b[0;32mdef\u001b[0m \u001b[0m__missing__\u001b[0m\u001b[0;34m(\u001b[0m\u001b[0mself\u001b[0m\u001b[0;34m,\u001b[0m \u001b[0mkey\u001b[0m\u001b[0;34m)\u001b[0m\u001b[0;34m:\u001b[0m\u001b[0;34m\u001b[0m\u001b[0;34m\u001b[0m\u001b[0m\n\u001b[0;32m--> 908\u001b[0;31m         \u001b[0;32mraise\u001b[0m \u001b[0mKeyError\u001b[0m\u001b[0;34m(\u001b[0m\u001b[0mkey\u001b[0m\u001b[0;34m)\u001b[0m\u001b[0;34m\u001b[0m\u001b[0;34m\u001b[0m\u001b[0m\n\u001b[0m\u001b[1;32m    909\u001b[0m \u001b[0;34m\u001b[0m\u001b[0m\n",
      "\u001b[0;31mKeyError\u001b[0m: 'isinstance'",
      "\nDuring handling of the above exception, another exception occurred:\n",
      "\u001b[0;31mKeyError\u001b[0m                                  Traceback (most recent call last)",
      "\u001b[0;32m/shared-libs/python3.7/py/lib/python3.7/site-packages/pandas/core/computation/scope.py\u001b[0m in \u001b[0;36mresolve\u001b[0;34m(self, key, is_local)\u001b[0m\n\u001b[1;32m    210\u001b[0m                 \u001b[0;31m# e.g., df[df > 0]\u001b[0m\u001b[0;34m\u001b[0m\u001b[0;34m\u001b[0m\u001b[0;34m\u001b[0m\u001b[0m\n\u001b[0;32m--> 211\u001b[0;31m                 \u001b[0;32mreturn\u001b[0m \u001b[0mself\u001b[0m\u001b[0;34m.\u001b[0m\u001b[0mtemps\u001b[0m\u001b[0;34m[\u001b[0m\u001b[0mkey\u001b[0m\u001b[0;34m]\u001b[0m\u001b[0;34m\u001b[0m\u001b[0;34m\u001b[0m\u001b[0m\n\u001b[0m\u001b[1;32m    212\u001b[0m             \u001b[0;32mexcept\u001b[0m \u001b[0mKeyError\u001b[0m \u001b[0;32mas\u001b[0m \u001b[0merr\u001b[0m\u001b[0;34m:\u001b[0m\u001b[0;34m\u001b[0m\u001b[0;34m\u001b[0m\u001b[0m\n",
      "\u001b[0;31mKeyError\u001b[0m: 'isinstance'",
      "\nThe above exception was the direct cause of the following exception:\n",
      "\u001b[0;31mUndefinedVariableError\u001b[0m                    Traceback (most recent call last)",
      "\u001b[0;32m/shared-libs/python3.7/py/lib/python3.7/site-packages/pandas/core/computation/expr.py\u001b[0m in \u001b[0;36mvisit_Call\u001b[0;34m(self, node, side, **kwargs)\u001b[0m\n\u001b[1;32m    661\u001b[0m             \u001b[0;32mtry\u001b[0m\u001b[0;34m:\u001b[0m\u001b[0;34m\u001b[0m\u001b[0;34m\u001b[0m\u001b[0m\n\u001b[0;32m--> 662\u001b[0;31m                 \u001b[0mres\u001b[0m \u001b[0;34m=\u001b[0m \u001b[0mself\u001b[0m\u001b[0;34m.\u001b[0m\u001b[0mvisit\u001b[0m\u001b[0;34m(\u001b[0m\u001b[0mnode\u001b[0m\u001b[0;34m.\u001b[0m\u001b[0mfunc\u001b[0m\u001b[0;34m)\u001b[0m\u001b[0;34m\u001b[0m\u001b[0;34m\u001b[0m\u001b[0m\n\u001b[0m\u001b[1;32m    663\u001b[0m             \u001b[0;32mexcept\u001b[0m \u001b[0mUndefinedVariableError\u001b[0m\u001b[0;34m:\u001b[0m\u001b[0;34m\u001b[0m\u001b[0;34m\u001b[0m\u001b[0m\n",
      "\u001b[0;32m/shared-libs/python3.7/py/lib/python3.7/site-packages/pandas/core/computation/expr.py\u001b[0m in \u001b[0;36mvisit\u001b[0;34m(self, node, **kwargs)\u001b[0m\n\u001b[1;32m    410\u001b[0m         \u001b[0mvisitor\u001b[0m \u001b[0;34m=\u001b[0m \u001b[0mgetattr\u001b[0m\u001b[0;34m(\u001b[0m\u001b[0mself\u001b[0m\u001b[0;34m,\u001b[0m \u001b[0mmethod\u001b[0m\u001b[0;34m)\u001b[0m\u001b[0;34m\u001b[0m\u001b[0;34m\u001b[0m\u001b[0m\n\u001b[0;32m--> 411\u001b[0;31m         \u001b[0;32mreturn\u001b[0m \u001b[0mvisitor\u001b[0m\u001b[0;34m(\u001b[0m\u001b[0mnode\u001b[0m\u001b[0;34m,\u001b[0m \u001b[0;34m**\u001b[0m\u001b[0mkwargs\u001b[0m\u001b[0;34m)\u001b[0m\u001b[0;34m\u001b[0m\u001b[0;34m\u001b[0m\u001b[0m\n\u001b[0m\u001b[1;32m    412\u001b[0m \u001b[0;34m\u001b[0m\u001b[0m\n",
      "\u001b[0;32m/shared-libs/python3.7/py/lib/python3.7/site-packages/pandas/core/computation/expr.py\u001b[0m in \u001b[0;36mvisit_Name\u001b[0;34m(self, node, **kwargs)\u001b[0m\n\u001b[1;32m    544\u001b[0m     \u001b[0;32mdef\u001b[0m \u001b[0mvisit_Name\u001b[0m\u001b[0;34m(\u001b[0m\u001b[0mself\u001b[0m\u001b[0;34m,\u001b[0m \u001b[0mnode\u001b[0m\u001b[0;34m,\u001b[0m \u001b[0;34m**\u001b[0m\u001b[0mkwargs\u001b[0m\u001b[0;34m)\u001b[0m\u001b[0;34m:\u001b[0m\u001b[0;34m\u001b[0m\u001b[0;34m\u001b[0m\u001b[0m\n\u001b[0;32m--> 545\u001b[0;31m         \u001b[0;32mreturn\u001b[0m \u001b[0mself\u001b[0m\u001b[0;34m.\u001b[0m\u001b[0mterm_type\u001b[0m\u001b[0;34m(\u001b[0m\u001b[0mnode\u001b[0m\u001b[0;34m.\u001b[0m\u001b[0mid\u001b[0m\u001b[0;34m,\u001b[0m \u001b[0mself\u001b[0m\u001b[0;34m.\u001b[0m\u001b[0menv\u001b[0m\u001b[0;34m,\u001b[0m \u001b[0;34m**\u001b[0m\u001b[0mkwargs\u001b[0m\u001b[0;34m)\u001b[0m\u001b[0;34m\u001b[0m\u001b[0;34m\u001b[0m\u001b[0m\n\u001b[0m\u001b[1;32m    546\u001b[0m \u001b[0;34m\u001b[0m\u001b[0m\n",
      "\u001b[0;32m/shared-libs/python3.7/py/lib/python3.7/site-packages/pandas/core/computation/ops.py\u001b[0m in \u001b[0;36m__init__\u001b[0;34m(self, name, env, side, encoding)\u001b[0m\n\u001b[1;32m     97\u001b[0m         \u001b[0mself\u001b[0m\u001b[0;34m.\u001b[0m\u001b[0mis_local\u001b[0m \u001b[0;34m=\u001b[0m \u001b[0mtname\u001b[0m\u001b[0;34m.\u001b[0m\u001b[0mstartswith\u001b[0m\u001b[0;34m(\u001b[0m\u001b[0mLOCAL_TAG\u001b[0m\u001b[0;34m)\u001b[0m \u001b[0;32mor\u001b[0m \u001b[0mtname\u001b[0m \u001b[0;32min\u001b[0m \u001b[0mDEFAULT_GLOBALS\u001b[0m\u001b[0;34m\u001b[0m\u001b[0;34m\u001b[0m\u001b[0m\n\u001b[0;32m---> 98\u001b[0;31m         \u001b[0mself\u001b[0m\u001b[0;34m.\u001b[0m\u001b[0m_value\u001b[0m \u001b[0;34m=\u001b[0m \u001b[0mself\u001b[0m\u001b[0;34m.\u001b[0m\u001b[0m_resolve_name\u001b[0m\u001b[0;34m(\u001b[0m\u001b[0;34m)\u001b[0m\u001b[0;34m\u001b[0m\u001b[0;34m\u001b[0m\u001b[0m\n\u001b[0m\u001b[1;32m     99\u001b[0m         \u001b[0mself\u001b[0m\u001b[0;34m.\u001b[0m\u001b[0mencoding\u001b[0m \u001b[0;34m=\u001b[0m \u001b[0mencoding\u001b[0m\u001b[0;34m\u001b[0m\u001b[0;34m\u001b[0m\u001b[0m\n",
      "\u001b[0;32m/shared-libs/python3.7/py/lib/python3.7/site-packages/pandas/core/computation/ops.py\u001b[0m in \u001b[0;36m_resolve_name\u001b[0;34m(self)\u001b[0m\n\u001b[1;32m    114\u001b[0m     \u001b[0;32mdef\u001b[0m \u001b[0m_resolve_name\u001b[0m\u001b[0;34m(\u001b[0m\u001b[0mself\u001b[0m\u001b[0;34m)\u001b[0m\u001b[0;34m:\u001b[0m\u001b[0;34m\u001b[0m\u001b[0;34m\u001b[0m\u001b[0m\n\u001b[0;32m--> 115\u001b[0;31m         \u001b[0mres\u001b[0m \u001b[0;34m=\u001b[0m \u001b[0mself\u001b[0m\u001b[0;34m.\u001b[0m\u001b[0menv\u001b[0m\u001b[0;34m.\u001b[0m\u001b[0mresolve\u001b[0m\u001b[0;34m(\u001b[0m\u001b[0mself\u001b[0m\u001b[0;34m.\u001b[0m\u001b[0mlocal_name\u001b[0m\u001b[0;34m,\u001b[0m \u001b[0mis_local\u001b[0m\u001b[0;34m=\u001b[0m\u001b[0mself\u001b[0m\u001b[0;34m.\u001b[0m\u001b[0mis_local\u001b[0m\u001b[0;34m)\u001b[0m\u001b[0;34m\u001b[0m\u001b[0;34m\u001b[0m\u001b[0m\n\u001b[0m\u001b[1;32m    116\u001b[0m         \u001b[0mself\u001b[0m\u001b[0;34m.\u001b[0m\u001b[0mupdate\u001b[0m\u001b[0;34m(\u001b[0m\u001b[0mres\u001b[0m\u001b[0;34m)\u001b[0m\u001b[0;34m\u001b[0m\u001b[0;34m\u001b[0m\u001b[0m\n",
      "\u001b[0;32m/shared-libs/python3.7/py/lib/python3.7/site-packages/pandas/core/computation/scope.py\u001b[0m in \u001b[0;36mresolve\u001b[0;34m(self, key, is_local)\u001b[0m\n\u001b[1;32m    215\u001b[0m \u001b[0;34m\u001b[0m\u001b[0m\n\u001b[0;32m--> 216\u001b[0;31m                 \u001b[0;32mraise\u001b[0m \u001b[0mUndefinedVariableError\u001b[0m\u001b[0;34m(\u001b[0m\u001b[0mkey\u001b[0m\u001b[0;34m,\u001b[0m \u001b[0mis_local\u001b[0m\u001b[0;34m)\u001b[0m \u001b[0;32mfrom\u001b[0m \u001b[0merr\u001b[0m\u001b[0;34m\u001b[0m\u001b[0;34m\u001b[0m\u001b[0m\n\u001b[0m\u001b[1;32m    217\u001b[0m \u001b[0;34m\u001b[0m\u001b[0m\n",
      "\u001b[0;31mUndefinedVariableError\u001b[0m: name 'isinstance' is not defined",
      "\nDuring handling of the above exception, another exception occurred:\n",
      "\u001b[0;31mValueError\u001b[0m                                Traceback (most recent call last)",
      "\u001b[0;32m<ipython-input-130-9b2f55198f54>\u001b[0m in \u001b[0;36m<module>\u001b[0;34m\u001b[0m\n\u001b[0;32m----> 1\u001b[0;31m \u001b[0mdf\u001b[0m\u001b[0;34m.\u001b[0m\u001b[0mquery\u001b[0m\u001b[0;34m(\u001b[0m\u001b[0;34m\"isinstance(gender,str)\"\u001b[0m\u001b[0;34m)\u001b[0m\u001b[0;34m\u001b[0m\u001b[0;34m\u001b[0m\u001b[0m\n\u001b[0m",
      "\u001b[0;32m/shared-libs/python3.7/py/lib/python3.7/site-packages/pandas/core/frame.py\u001b[0m in \u001b[0;36mquery\u001b[0;34m(self, expr, inplace, **kwargs)\u001b[0m\n\u001b[1;32m   4058\u001b[0m         \u001b[0mkwargs\u001b[0m\u001b[0;34m[\u001b[0m\u001b[0;34m\"level\"\u001b[0m\u001b[0;34m]\u001b[0m \u001b[0;34m=\u001b[0m \u001b[0mkwargs\u001b[0m\u001b[0;34m.\u001b[0m\u001b[0mpop\u001b[0m\u001b[0;34m(\u001b[0m\u001b[0;34m\"level\"\u001b[0m\u001b[0;34m,\u001b[0m \u001b[0;36m0\u001b[0m\u001b[0;34m)\u001b[0m \u001b[0;34m+\u001b[0m \u001b[0;36m1\u001b[0m\u001b[0;34m\u001b[0m\u001b[0;34m\u001b[0m\u001b[0m\n\u001b[1;32m   4059\u001b[0m         \u001b[0mkwargs\u001b[0m\u001b[0;34m[\u001b[0m\u001b[0;34m\"target\"\u001b[0m\u001b[0;34m]\u001b[0m \u001b[0;34m=\u001b[0m \u001b[0;32mNone\u001b[0m\u001b[0;34m\u001b[0m\u001b[0;34m\u001b[0m\u001b[0m\n\u001b[0;32m-> 4060\u001b[0;31m         \u001b[0mres\u001b[0m \u001b[0;34m=\u001b[0m \u001b[0mself\u001b[0m\u001b[0;34m.\u001b[0m\u001b[0meval\u001b[0m\u001b[0;34m(\u001b[0m\u001b[0mexpr\u001b[0m\u001b[0;34m,\u001b[0m \u001b[0;34m**\u001b[0m\u001b[0mkwargs\u001b[0m\u001b[0;34m)\u001b[0m\u001b[0;34m\u001b[0m\u001b[0;34m\u001b[0m\u001b[0m\n\u001b[0m\u001b[1;32m   4061\u001b[0m \u001b[0;34m\u001b[0m\u001b[0m\n\u001b[1;32m   4062\u001b[0m         \u001b[0;32mtry\u001b[0m\u001b[0;34m:\u001b[0m\u001b[0;34m\u001b[0m\u001b[0;34m\u001b[0m\u001b[0m\n",
      "\u001b[0;32m/shared-libs/python3.7/py/lib/python3.7/site-packages/pandas/core/frame.py\u001b[0m in \u001b[0;36meval\u001b[0;34m(self, expr, inplace, **kwargs)\u001b[0m\n\u001b[1;32m   4189\u001b[0m         \u001b[0mkwargs\u001b[0m\u001b[0;34m[\u001b[0m\u001b[0;34m\"resolvers\"\u001b[0m\u001b[0;34m]\u001b[0m \u001b[0;34m=\u001b[0m \u001b[0mkwargs\u001b[0m\u001b[0;34m.\u001b[0m\u001b[0mget\u001b[0m\u001b[0;34m(\u001b[0m\u001b[0;34m\"resolvers\"\u001b[0m\u001b[0;34m,\u001b[0m \u001b[0;34m(\u001b[0m\u001b[0;34m)\u001b[0m\u001b[0;34m)\u001b[0m \u001b[0;34m+\u001b[0m \u001b[0mtuple\u001b[0m\u001b[0;34m(\u001b[0m\u001b[0mresolvers\u001b[0m\u001b[0;34m)\u001b[0m\u001b[0;34m\u001b[0m\u001b[0;34m\u001b[0m\u001b[0m\n\u001b[1;32m   4190\u001b[0m \u001b[0;34m\u001b[0m\u001b[0m\n\u001b[0;32m-> 4191\u001b[0;31m         \u001b[0;32mreturn\u001b[0m \u001b[0m_eval\u001b[0m\u001b[0;34m(\u001b[0m\u001b[0mexpr\u001b[0m\u001b[0;34m,\u001b[0m \u001b[0minplace\u001b[0m\u001b[0;34m=\u001b[0m\u001b[0minplace\u001b[0m\u001b[0;34m,\u001b[0m \u001b[0;34m**\u001b[0m\u001b[0mkwargs\u001b[0m\u001b[0;34m)\u001b[0m\u001b[0;34m\u001b[0m\u001b[0;34m\u001b[0m\u001b[0m\n\u001b[0m\u001b[1;32m   4192\u001b[0m \u001b[0;34m\u001b[0m\u001b[0m\n\u001b[1;32m   4193\u001b[0m     \u001b[0;32mdef\u001b[0m \u001b[0mselect_dtypes\u001b[0m\u001b[0;34m(\u001b[0m\u001b[0mself\u001b[0m\u001b[0;34m,\u001b[0m \u001b[0minclude\u001b[0m\u001b[0;34m=\u001b[0m\u001b[0;32mNone\u001b[0m\u001b[0;34m,\u001b[0m \u001b[0mexclude\u001b[0m\u001b[0;34m=\u001b[0m\u001b[0;32mNone\u001b[0m\u001b[0;34m)\u001b[0m \u001b[0;34m->\u001b[0m \u001b[0mDataFrame\u001b[0m\u001b[0;34m:\u001b[0m\u001b[0;34m\u001b[0m\u001b[0;34m\u001b[0m\u001b[0m\n",
      "\u001b[0;32m/shared-libs/python3.7/py/lib/python3.7/site-packages/pandas/core/computation/eval.py\u001b[0m in \u001b[0;36meval\u001b[0;34m(expr, parser, engine, truediv, local_dict, global_dict, resolvers, level, target, inplace)\u001b[0m\n\u001b[1;32m    346\u001b[0m         )\n\u001b[1;32m    347\u001b[0m \u001b[0;34m\u001b[0m\u001b[0m\n\u001b[0;32m--> 348\u001b[0;31m         \u001b[0mparsed_expr\u001b[0m \u001b[0;34m=\u001b[0m \u001b[0mExpr\u001b[0m\u001b[0;34m(\u001b[0m\u001b[0mexpr\u001b[0m\u001b[0;34m,\u001b[0m \u001b[0mengine\u001b[0m\u001b[0;34m=\u001b[0m\u001b[0mengine\u001b[0m\u001b[0;34m,\u001b[0m \u001b[0mparser\u001b[0m\u001b[0;34m=\u001b[0m\u001b[0mparser\u001b[0m\u001b[0;34m,\u001b[0m \u001b[0menv\u001b[0m\u001b[0;34m=\u001b[0m\u001b[0menv\u001b[0m\u001b[0;34m)\u001b[0m\u001b[0;34m\u001b[0m\u001b[0;34m\u001b[0m\u001b[0m\n\u001b[0m\u001b[1;32m    349\u001b[0m \u001b[0;34m\u001b[0m\u001b[0m\n\u001b[1;32m    350\u001b[0m         \u001b[0;31m# construct the engine and evaluate the parsed expression\u001b[0m\u001b[0;34m\u001b[0m\u001b[0;34m\u001b[0m\u001b[0;34m\u001b[0m\u001b[0m\n",
      "\u001b[0;32m/shared-libs/python3.7/py/lib/python3.7/site-packages/pandas/core/computation/expr.py\u001b[0m in \u001b[0;36m__init__\u001b[0;34m(self, expr, engine, parser, env, level)\u001b[0m\n\u001b[1;32m    804\u001b[0m         \u001b[0mself\u001b[0m\u001b[0;34m.\u001b[0m\u001b[0mparser\u001b[0m \u001b[0;34m=\u001b[0m \u001b[0mparser\u001b[0m\u001b[0;34m\u001b[0m\u001b[0;34m\u001b[0m\u001b[0m\n\u001b[1;32m    805\u001b[0m         \u001b[0mself\u001b[0m\u001b[0;34m.\u001b[0m\u001b[0m_visitor\u001b[0m \u001b[0;34m=\u001b[0m \u001b[0mPARSERS\u001b[0m\u001b[0;34m[\u001b[0m\u001b[0mparser\u001b[0m\u001b[0;34m]\u001b[0m\u001b[0;34m(\u001b[0m\u001b[0mself\u001b[0m\u001b[0;34m.\u001b[0m\u001b[0menv\u001b[0m\u001b[0;34m,\u001b[0m \u001b[0mself\u001b[0m\u001b[0;34m.\u001b[0m\u001b[0mengine\u001b[0m\u001b[0;34m,\u001b[0m \u001b[0mself\u001b[0m\u001b[0;34m.\u001b[0m\u001b[0mparser\u001b[0m\u001b[0;34m)\u001b[0m\u001b[0;34m\u001b[0m\u001b[0;34m\u001b[0m\u001b[0m\n\u001b[0;32m--> 806\u001b[0;31m         \u001b[0mself\u001b[0m\u001b[0;34m.\u001b[0m\u001b[0mterms\u001b[0m \u001b[0;34m=\u001b[0m \u001b[0mself\u001b[0m\u001b[0;34m.\u001b[0m\u001b[0mparse\u001b[0m\u001b[0;34m(\u001b[0m\u001b[0;34m)\u001b[0m\u001b[0;34m\u001b[0m\u001b[0;34m\u001b[0m\u001b[0m\n\u001b[0m\u001b[1;32m    807\u001b[0m \u001b[0;34m\u001b[0m\u001b[0m\n\u001b[1;32m    808\u001b[0m     \u001b[0;34m@\u001b[0m\u001b[0mproperty\u001b[0m\u001b[0;34m\u001b[0m\u001b[0;34m\u001b[0m\u001b[0m\n",
      "\u001b[0;32m/shared-libs/python3.7/py/lib/python3.7/site-packages/pandas/core/computation/expr.py\u001b[0m in \u001b[0;36mparse\u001b[0;34m(self)\u001b[0m\n\u001b[1;32m    823\u001b[0m         \u001b[0mParse\u001b[0m \u001b[0man\u001b[0m \u001b[0mexpression\u001b[0m\u001b[0;34m.\u001b[0m\u001b[0;34m\u001b[0m\u001b[0;34m\u001b[0m\u001b[0m\n\u001b[1;32m    824\u001b[0m         \"\"\"\n\u001b[0;32m--> 825\u001b[0;31m         \u001b[0;32mreturn\u001b[0m \u001b[0mself\u001b[0m\u001b[0;34m.\u001b[0m\u001b[0m_visitor\u001b[0m\u001b[0;34m.\u001b[0m\u001b[0mvisit\u001b[0m\u001b[0;34m(\u001b[0m\u001b[0mself\u001b[0m\u001b[0;34m.\u001b[0m\u001b[0mexpr\u001b[0m\u001b[0;34m)\u001b[0m\u001b[0;34m\u001b[0m\u001b[0;34m\u001b[0m\u001b[0m\n\u001b[0m\u001b[1;32m    826\u001b[0m \u001b[0;34m\u001b[0m\u001b[0m\n\u001b[1;32m    827\u001b[0m     \u001b[0;34m@\u001b[0m\u001b[0mproperty\u001b[0m\u001b[0;34m\u001b[0m\u001b[0;34m\u001b[0m\u001b[0m\n",
      "\u001b[0;32m/shared-libs/python3.7/py/lib/python3.7/site-packages/pandas/core/computation/expr.py\u001b[0m in \u001b[0;36mvisit\u001b[0;34m(self, node, **kwargs)\u001b[0m\n\u001b[1;32m    409\u001b[0m         \u001b[0mmethod\u001b[0m \u001b[0;34m=\u001b[0m \u001b[0;34m\"visit_\"\u001b[0m \u001b[0;34m+\u001b[0m \u001b[0mtype\u001b[0m\u001b[0;34m(\u001b[0m\u001b[0mnode\u001b[0m\u001b[0;34m)\u001b[0m\u001b[0;34m.\u001b[0m\u001b[0m__name__\u001b[0m\u001b[0;34m\u001b[0m\u001b[0;34m\u001b[0m\u001b[0m\n\u001b[1;32m    410\u001b[0m         \u001b[0mvisitor\u001b[0m \u001b[0;34m=\u001b[0m \u001b[0mgetattr\u001b[0m\u001b[0;34m(\u001b[0m\u001b[0mself\u001b[0m\u001b[0;34m,\u001b[0m \u001b[0mmethod\u001b[0m\u001b[0;34m)\u001b[0m\u001b[0;34m\u001b[0m\u001b[0;34m\u001b[0m\u001b[0m\n\u001b[0;32m--> 411\u001b[0;31m         \u001b[0;32mreturn\u001b[0m \u001b[0mvisitor\u001b[0m\u001b[0;34m(\u001b[0m\u001b[0mnode\u001b[0m\u001b[0;34m,\u001b[0m \u001b[0;34m**\u001b[0m\u001b[0mkwargs\u001b[0m\u001b[0;34m)\u001b[0m\u001b[0;34m\u001b[0m\u001b[0;34m\u001b[0m\u001b[0m\n\u001b[0m\u001b[1;32m    412\u001b[0m \u001b[0;34m\u001b[0m\u001b[0m\n\u001b[1;32m    413\u001b[0m     \u001b[0;32mdef\u001b[0m \u001b[0mvisit_Module\u001b[0m\u001b[0;34m(\u001b[0m\u001b[0mself\u001b[0m\u001b[0;34m,\u001b[0m \u001b[0mnode\u001b[0m\u001b[0;34m,\u001b[0m \u001b[0;34m**\u001b[0m\u001b[0mkwargs\u001b[0m\u001b[0;34m)\u001b[0m\u001b[0;34m:\u001b[0m\u001b[0;34m\u001b[0m\u001b[0;34m\u001b[0m\u001b[0m\n",
      "\u001b[0;32m/shared-libs/python3.7/py/lib/python3.7/site-packages/pandas/core/computation/expr.py\u001b[0m in \u001b[0;36mvisit_Module\u001b[0;34m(self, node, **kwargs)\u001b[0m\n\u001b[1;32m    415\u001b[0m             \u001b[0;32mraise\u001b[0m \u001b[0mSyntaxError\u001b[0m\u001b[0;34m(\u001b[0m\u001b[0;34m\"only a single expression is allowed\"\u001b[0m\u001b[0;34m)\u001b[0m\u001b[0;34m\u001b[0m\u001b[0;34m\u001b[0m\u001b[0m\n\u001b[1;32m    416\u001b[0m         \u001b[0mexpr\u001b[0m \u001b[0;34m=\u001b[0m \u001b[0mnode\u001b[0m\u001b[0;34m.\u001b[0m\u001b[0mbody\u001b[0m\u001b[0;34m[\u001b[0m\u001b[0;36m0\u001b[0m\u001b[0;34m]\u001b[0m\u001b[0;34m\u001b[0m\u001b[0;34m\u001b[0m\u001b[0m\n\u001b[0;32m--> 417\u001b[0;31m         \u001b[0;32mreturn\u001b[0m \u001b[0mself\u001b[0m\u001b[0;34m.\u001b[0m\u001b[0mvisit\u001b[0m\u001b[0;34m(\u001b[0m\u001b[0mexpr\u001b[0m\u001b[0;34m,\u001b[0m \u001b[0;34m**\u001b[0m\u001b[0mkwargs\u001b[0m\u001b[0;34m)\u001b[0m\u001b[0;34m\u001b[0m\u001b[0;34m\u001b[0m\u001b[0m\n\u001b[0m\u001b[1;32m    418\u001b[0m \u001b[0;34m\u001b[0m\u001b[0m\n\u001b[1;32m    419\u001b[0m     \u001b[0;32mdef\u001b[0m \u001b[0mvisit_Expr\u001b[0m\u001b[0;34m(\u001b[0m\u001b[0mself\u001b[0m\u001b[0;34m,\u001b[0m \u001b[0mnode\u001b[0m\u001b[0;34m,\u001b[0m \u001b[0;34m**\u001b[0m\u001b[0mkwargs\u001b[0m\u001b[0;34m)\u001b[0m\u001b[0;34m:\u001b[0m\u001b[0;34m\u001b[0m\u001b[0;34m\u001b[0m\u001b[0m\n",
      "\u001b[0;32m/shared-libs/python3.7/py/lib/python3.7/site-packages/pandas/core/computation/expr.py\u001b[0m in \u001b[0;36mvisit\u001b[0;34m(self, node, **kwargs)\u001b[0m\n\u001b[1;32m    409\u001b[0m         \u001b[0mmethod\u001b[0m \u001b[0;34m=\u001b[0m \u001b[0;34m\"visit_\"\u001b[0m \u001b[0;34m+\u001b[0m \u001b[0mtype\u001b[0m\u001b[0;34m(\u001b[0m\u001b[0mnode\u001b[0m\u001b[0;34m)\u001b[0m\u001b[0;34m.\u001b[0m\u001b[0m__name__\u001b[0m\u001b[0;34m\u001b[0m\u001b[0;34m\u001b[0m\u001b[0m\n\u001b[1;32m    410\u001b[0m         \u001b[0mvisitor\u001b[0m \u001b[0;34m=\u001b[0m \u001b[0mgetattr\u001b[0m\u001b[0;34m(\u001b[0m\u001b[0mself\u001b[0m\u001b[0;34m,\u001b[0m \u001b[0mmethod\u001b[0m\u001b[0;34m)\u001b[0m\u001b[0;34m\u001b[0m\u001b[0;34m\u001b[0m\u001b[0m\n\u001b[0;32m--> 411\u001b[0;31m         \u001b[0;32mreturn\u001b[0m \u001b[0mvisitor\u001b[0m\u001b[0;34m(\u001b[0m\u001b[0mnode\u001b[0m\u001b[0;34m,\u001b[0m \u001b[0;34m**\u001b[0m\u001b[0mkwargs\u001b[0m\u001b[0;34m)\u001b[0m\u001b[0;34m\u001b[0m\u001b[0;34m\u001b[0m\u001b[0m\n\u001b[0m\u001b[1;32m    412\u001b[0m \u001b[0;34m\u001b[0m\u001b[0m\n\u001b[1;32m    413\u001b[0m     \u001b[0;32mdef\u001b[0m \u001b[0mvisit_Module\u001b[0m\u001b[0;34m(\u001b[0m\u001b[0mself\u001b[0m\u001b[0;34m,\u001b[0m \u001b[0mnode\u001b[0m\u001b[0;34m,\u001b[0m \u001b[0;34m**\u001b[0m\u001b[0mkwargs\u001b[0m\u001b[0;34m)\u001b[0m\u001b[0;34m:\u001b[0m\u001b[0;34m\u001b[0m\u001b[0;34m\u001b[0m\u001b[0m\n",
      "\u001b[0;32m/shared-libs/python3.7/py/lib/python3.7/site-packages/pandas/core/computation/expr.py\u001b[0m in \u001b[0;36mvisit_Expr\u001b[0;34m(self, node, **kwargs)\u001b[0m\n\u001b[1;32m    418\u001b[0m \u001b[0;34m\u001b[0m\u001b[0m\n\u001b[1;32m    419\u001b[0m     \u001b[0;32mdef\u001b[0m \u001b[0mvisit_Expr\u001b[0m\u001b[0;34m(\u001b[0m\u001b[0mself\u001b[0m\u001b[0;34m,\u001b[0m \u001b[0mnode\u001b[0m\u001b[0;34m,\u001b[0m \u001b[0;34m**\u001b[0m\u001b[0mkwargs\u001b[0m\u001b[0;34m)\u001b[0m\u001b[0;34m:\u001b[0m\u001b[0;34m\u001b[0m\u001b[0;34m\u001b[0m\u001b[0m\n\u001b[0;32m--> 420\u001b[0;31m         \u001b[0;32mreturn\u001b[0m \u001b[0mself\u001b[0m\u001b[0;34m.\u001b[0m\u001b[0mvisit\u001b[0m\u001b[0;34m(\u001b[0m\u001b[0mnode\u001b[0m\u001b[0;34m.\u001b[0m\u001b[0mvalue\u001b[0m\u001b[0;34m,\u001b[0m \u001b[0;34m**\u001b[0m\u001b[0mkwargs\u001b[0m\u001b[0;34m)\u001b[0m\u001b[0;34m\u001b[0m\u001b[0;34m\u001b[0m\u001b[0m\n\u001b[0m\u001b[1;32m    421\u001b[0m \u001b[0;34m\u001b[0m\u001b[0m\n\u001b[1;32m    422\u001b[0m     \u001b[0;32mdef\u001b[0m \u001b[0m_rewrite_membership_op\u001b[0m\u001b[0;34m(\u001b[0m\u001b[0mself\u001b[0m\u001b[0;34m,\u001b[0m \u001b[0mnode\u001b[0m\u001b[0;34m,\u001b[0m \u001b[0mleft\u001b[0m\u001b[0;34m,\u001b[0m \u001b[0mright\u001b[0m\u001b[0;34m)\u001b[0m\u001b[0;34m:\u001b[0m\u001b[0;34m\u001b[0m\u001b[0;34m\u001b[0m\u001b[0m\n",
      "\u001b[0;32m/shared-libs/python3.7/py/lib/python3.7/site-packages/pandas/core/computation/expr.py\u001b[0m in \u001b[0;36mvisit\u001b[0;34m(self, node, **kwargs)\u001b[0m\n\u001b[1;32m    409\u001b[0m         \u001b[0mmethod\u001b[0m \u001b[0;34m=\u001b[0m \u001b[0;34m\"visit_\"\u001b[0m \u001b[0;34m+\u001b[0m \u001b[0mtype\u001b[0m\u001b[0;34m(\u001b[0m\u001b[0mnode\u001b[0m\u001b[0;34m)\u001b[0m\u001b[0;34m.\u001b[0m\u001b[0m__name__\u001b[0m\u001b[0;34m\u001b[0m\u001b[0;34m\u001b[0m\u001b[0m\n\u001b[1;32m    410\u001b[0m         \u001b[0mvisitor\u001b[0m \u001b[0;34m=\u001b[0m \u001b[0mgetattr\u001b[0m\u001b[0;34m(\u001b[0m\u001b[0mself\u001b[0m\u001b[0;34m,\u001b[0m \u001b[0mmethod\u001b[0m\u001b[0;34m)\u001b[0m\u001b[0;34m\u001b[0m\u001b[0;34m\u001b[0m\u001b[0m\n\u001b[0;32m--> 411\u001b[0;31m         \u001b[0;32mreturn\u001b[0m \u001b[0mvisitor\u001b[0m\u001b[0;34m(\u001b[0m\u001b[0mnode\u001b[0m\u001b[0;34m,\u001b[0m \u001b[0;34m**\u001b[0m\u001b[0mkwargs\u001b[0m\u001b[0;34m)\u001b[0m\u001b[0;34m\u001b[0m\u001b[0;34m\u001b[0m\u001b[0m\n\u001b[0m\u001b[1;32m    412\u001b[0m \u001b[0;34m\u001b[0m\u001b[0m\n\u001b[1;32m    413\u001b[0m     \u001b[0;32mdef\u001b[0m \u001b[0mvisit_Module\u001b[0m\u001b[0;34m(\u001b[0m\u001b[0mself\u001b[0m\u001b[0;34m,\u001b[0m \u001b[0mnode\u001b[0m\u001b[0;34m,\u001b[0m \u001b[0;34m**\u001b[0m\u001b[0mkwargs\u001b[0m\u001b[0;34m)\u001b[0m\u001b[0;34m:\u001b[0m\u001b[0;34m\u001b[0m\u001b[0;34m\u001b[0m\u001b[0m\n",
      "\u001b[0;32m/shared-libs/python3.7/py/lib/python3.7/site-packages/pandas/core/computation/expr.py\u001b[0m in \u001b[0;36mvisit_Call\u001b[0;34m(self, node, side, **kwargs)\u001b[0m\n\u001b[1;32m    664\u001b[0m                 \u001b[0;31m# Check if this is a supported function name\u001b[0m\u001b[0;34m\u001b[0m\u001b[0;34m\u001b[0m\u001b[0;34m\u001b[0m\u001b[0m\n\u001b[1;32m    665\u001b[0m                 \u001b[0;32mtry\u001b[0m\u001b[0;34m:\u001b[0m\u001b[0;34m\u001b[0m\u001b[0;34m\u001b[0m\u001b[0m\n\u001b[0;32m--> 666\u001b[0;31m                     \u001b[0mres\u001b[0m \u001b[0;34m=\u001b[0m \u001b[0mFuncNode\u001b[0m\u001b[0;34m(\u001b[0m\u001b[0mnode\u001b[0m\u001b[0;34m.\u001b[0m\u001b[0mfunc\u001b[0m\u001b[0;34m.\u001b[0m\u001b[0mid\u001b[0m\u001b[0;34m)\u001b[0m\u001b[0;34m\u001b[0m\u001b[0;34m\u001b[0m\u001b[0m\n\u001b[0m\u001b[1;32m    667\u001b[0m                 \u001b[0;32mexcept\u001b[0m \u001b[0mValueError\u001b[0m\u001b[0;34m:\u001b[0m\u001b[0;34m\u001b[0m\u001b[0;34m\u001b[0m\u001b[0m\n\u001b[1;32m    668\u001b[0m                     \u001b[0;31m# Raise original error\u001b[0m\u001b[0;34m\u001b[0m\u001b[0;34m\u001b[0m\u001b[0;34m\u001b[0m\u001b[0m\n",
      "\u001b[0;32m/shared-libs/python3.7/py/lib/python3.7/site-packages/pandas/core/computation/ops.py\u001b[0m in \u001b[0;36m__init__\u001b[0;34m(self, name)\u001b[0m\n\u001b[1;32m    617\u001b[0m     \u001b[0;32mdef\u001b[0m \u001b[0m__init__\u001b[0m\u001b[0;34m(\u001b[0m\u001b[0mself\u001b[0m\u001b[0;34m,\u001b[0m \u001b[0mname\u001b[0m\u001b[0;34m:\u001b[0m \u001b[0mstr\u001b[0m\u001b[0;34m)\u001b[0m\u001b[0;34m:\u001b[0m\u001b[0;34m\u001b[0m\u001b[0;34m\u001b[0m\u001b[0m\n\u001b[1;32m    618\u001b[0m         \u001b[0;32mif\u001b[0m \u001b[0mname\u001b[0m \u001b[0;32mnot\u001b[0m \u001b[0;32min\u001b[0m \u001b[0mMATHOPS\u001b[0m\u001b[0;34m:\u001b[0m\u001b[0;34m\u001b[0m\u001b[0;34m\u001b[0m\u001b[0m\n\u001b[0;32m--> 619\u001b[0;31m             \u001b[0;32mraise\u001b[0m \u001b[0mValueError\u001b[0m\u001b[0;34m(\u001b[0m\u001b[0;34mf'\"{name}\" is not a supported function'\u001b[0m\u001b[0;34m)\u001b[0m\u001b[0;34m\u001b[0m\u001b[0;34m\u001b[0m\u001b[0m\n\u001b[0m\u001b[1;32m    620\u001b[0m         \u001b[0mself\u001b[0m\u001b[0;34m.\u001b[0m\u001b[0mname\u001b[0m \u001b[0;34m=\u001b[0m \u001b[0mname\u001b[0m\u001b[0;34m\u001b[0m\u001b[0;34m\u001b[0m\u001b[0m\n\u001b[1;32m    621\u001b[0m         \u001b[0mself\u001b[0m\u001b[0;34m.\u001b[0m\u001b[0mfunc\u001b[0m \u001b[0;34m=\u001b[0m \u001b[0mgetattr\u001b[0m\u001b[0;34m(\u001b[0m\u001b[0mnp\u001b[0m\u001b[0;34m,\u001b[0m \u001b[0mname\u001b[0m\u001b[0;34m)\u001b[0m\u001b[0;34m\u001b[0m\u001b[0;34m\u001b[0m\u001b[0m\n",
      "\u001b[0;31mValueError\u001b[0m: \"isinstance\" is not a supported function"
     ]
    }
   ]
  },
  {
   "cell_type": "code",
   "metadata": {
    "cell_id": "45f42788-5047-4ea0-889a-3ec84d3a1cd4",
    "tags": [],
    "deepnote_to_be_reexecuted": false,
    "source_hash": "777bb5a9",
    "execution_start": 1647444475151,
    "execution_millis": 43,
    "deepnote_table_state": {
     "pageSize": 10,
     "pageIndex": 13,
     "filters": [],
     "sortBy": []
    },
    "deepnote_table_loading": false,
    "deepnote_cell_type": "code",
    "deepnote_cell_height": 427.796875
   },
   "source": "df.insert(3,'gender',df.pop('gender'))\ndf.query(\"gender != gender\")",
   "execution_count": null,
   "outputs": [
    {
     "output_type": "execute_result",
     "execution_count": 45,
     "data": {
      "application/vnd.deepnote.dataframe.v3+json": {
       "column_count": 13,
       "row_count": 135,
       "columns": [
        {
         "name": "Unnamed: 0",
         "dtype": "int64",
         "stats": {
          "unique_count": 135,
          "nan_count": 0,
          "min": "0",
          "max": "471",
          "histogram": [
           {
            "bin_start": 0,
            "bin_end": 47.1,
            "count": 17
           },
           {
            "bin_start": 47.1,
            "bin_end": 94.2,
            "count": 13
           },
           {
            "bin_start": 94.2,
            "bin_end": 141.3,
            "count": 11
           },
           {
            "bin_start": 141.3,
            "bin_end": 188.4,
            "count": 12
           },
           {
            "bin_start": 188.4,
            "bin_end": 235.5,
            "count": 14
           },
           {
            "bin_start": 235.5,
            "bin_end": 282.6,
            "count": 14
           },
           {
            "bin_start": 282.6,
            "bin_end": 329.7,
            "count": 16
           },
           {
            "bin_start": 329.7,
            "bin_end": 376.8,
            "count": 17
           },
           {
            "bin_start": 376.8,
            "bin_end": 423.90000000000003,
            "count": 9
           },
           {
            "bin_start": 423.90000000000003,
            "bin_end": 471,
            "count": 12
           }
          ]
         }
        },
        {
         "name": "search_query",
         "dtype": "object",
         "stats": {
          "unique_count": 1,
          "nan_count": 0,
          "categories": [
           {
            "name": "accountant",
            "count": 135
           }
          ]
         }
        },
        {
         "name": "name",
         "dtype": "object",
         "stats": {
          "unique_count": 132,
          "nan_count": 0,
          "categories": [
           {
            "name": "Eman",
            "count": 2
           },
           {
            "name": "Nikita",
            "count": 2
           },
           {
            "name": "130 others",
            "count": 131
           }
          ]
         }
        },
        {
         "name": "gender",
         "dtype": "object",
         "stats": {
          "unique_count": 0,
          "nan_count": 135,
          "categories": [
           {
            "name": "Missing",
            "count": 135
           }
          ]
         }
        },
        {
         "name": "hourly_rate",
         "dtype": "float64",
         "stats": {
          "unique_count": 34,
          "nan_count": 0,
          "min": "5.0",
          "max": "445.0",
          "histogram": [
           {
            "bin_start": 5,
            "bin_end": 49,
            "count": 117
           },
           {
            "bin_start": 49,
            "bin_end": 93,
            "count": 12
           },
           {
            "bin_start": 93,
            "bin_end": 137,
            "count": 3
           },
           {
            "bin_start": 137,
            "bin_end": 181,
            "count": 1
           },
           {
            "bin_start": 181,
            "bin_end": 225,
            "count": 0
           },
           {
            "bin_start": 225,
            "bin_end": 269,
            "count": 0
           },
           {
            "bin_start": 269,
            "bin_end": 313,
            "count": 1
           },
           {
            "bin_start": 313,
            "bin_end": 357,
            "count": 0
           },
           {
            "bin_start": 357,
            "bin_end": 401,
            "count": 0
           },
           {
            "bin_start": 401,
            "bin_end": 445,
            "count": 1
           }
          ]
         }
        },
        {
         "name": "pay_grade",
         "dtype": "float64",
         "stats": {
          "unique_count": 8,
          "nan_count": 0,
          "min": "0.0",
          "max": "5.5",
          "histogram": [
           {
            "bin_start": 0,
            "bin_end": 0.55,
            "count": 126
           },
           {
            "bin_start": 0.55,
            "bin_end": 1.1,
            "count": 0
           },
           {
            "bin_start": 1.1,
            "bin_end": 1.6500000000000001,
            "count": 0
           },
           {
            "bin_start": 1.6500000000000001,
            "bin_end": 2.2,
            "count": 1
           },
           {
            "bin_start": 2.2,
            "bin_end": 2.75,
            "count": 1
           },
           {
            "bin_start": 2.75,
            "bin_end": 3.3000000000000003,
            "count": 0
           },
           {
            "bin_start": 3.3000000000000003,
            "bin_end": 3.8500000000000005,
            "count": 1
           },
           {
            "bin_start": 3.8500000000000005,
            "bin_end": 4.4,
            "count": 5
           },
           {
            "bin_start": 4.4,
            "bin_end": 4.95,
            "count": 0
           },
           {
            "bin_start": 4.95,
            "bin_end": 5.5,
            "count": 1
           }
          ]
         }
        },
        {
         "name": "avg_rating",
         "dtype": "float64",
         "stats": {
          "unique_count": 5,
          "nan_count": 0,
          "min": "0.0",
          "max": "5.0",
          "histogram": [
           {
            "bin_start": 0,
            "bin_end": 0.5,
            "count": 126
           },
           {
            "bin_start": 0.5,
            "bin_end": 1,
            "count": 0
           },
           {
            "bin_start": 1,
            "bin_end": 1.5,
            "count": 0
           },
           {
            "bin_start": 1.5,
            "bin_end": 2,
            "count": 0
           },
           {
            "bin_start": 2,
            "bin_end": 2.5,
            "count": 0
           },
           {
            "bin_start": 2.5,
            "bin_end": 3,
            "count": 0
           },
           {
            "bin_start": 3,
            "bin_end": 3.5,
            "count": 0
           },
           {
            "bin_start": 3.5,
            "bin_end": 4,
            "count": 0
           },
           {
            "bin_start": 4,
            "bin_end": 4.5,
            "count": 0
           },
           {
            "bin_start": 4.5,
            "bin_end": 5,
            "count": 9
           }
          ]
         }
        },
        {
         "name": "num_reviews",
         "dtype": "int64",
         "stats": {
          "unique_count": 8,
          "nan_count": 0,
          "min": "0",
          "max": "43",
          "histogram": [
           {
            "bin_start": 0,
            "bin_end": 4.3,
            "count": 131
           },
           {
            "bin_start": 4.3,
            "bin_end": 8.6,
            "count": 1
           },
           {
            "bin_start": 8.6,
            "bin_end": 12.899999999999999,
            "count": 1
           },
           {
            "bin_start": 12.899999999999999,
            "bin_end": 17.2,
            "count": 1
           },
           {
            "bin_start": 17.2,
            "bin_end": 21.5,
            "count": 0
           },
           {
            "bin_start": 21.5,
            "bin_end": 25.799999999999997,
            "count": 0
           },
           {
            "bin_start": 25.799999999999997,
            "bin_end": 30.099999999999998,
            "count": 0
           },
           {
            "bin_start": 30.099999999999998,
            "bin_end": 34.4,
            "count": 0
           },
           {
            "bin_start": 34.4,
            "bin_end": 38.699999999999996,
            "count": 0
           },
           {
            "bin_start": 38.699999999999996,
            "bin_end": 43,
            "count": 1
           }
          ]
         }
        },
        {
         "name": "num_recommendations",
         "dtype": "int64",
         "stats": {
          "unique_count": 3,
          "nan_count": 0,
          "min": "0",
          "max": "3",
          "histogram": [
           {
            "bin_start": 0,
            "bin_end": 0.3,
            "count": 131
           },
           {
            "bin_start": 0.3,
            "bin_end": 0.6,
            "count": 0
           },
           {
            "bin_start": 0.6,
            "bin_end": 0.8999999999999999,
            "count": 0
           },
           {
            "bin_start": 0.8999999999999999,
            "bin_end": 1.2,
            "count": 3
           },
           {
            "bin_start": 1.2,
            "bin_end": 1.5,
            "count": 0
           },
           {
            "bin_start": 1.5,
            "bin_end": 1.7999999999999998,
            "count": 0
           },
           {
            "bin_start": 1.7999999999999998,
            "bin_end": 2.1,
            "count": 0
           },
           {
            "bin_start": 2.1,
            "bin_end": 2.4,
            "count": 0
           },
           {
            "bin_start": 2.4,
            "bin_end": 2.6999999999999997,
            "count": 0
           },
           {
            "bin_start": 2.6999999999999997,
            "bin_end": 3,
            "count": 1
           }
          ]
         }
        },
        {
         "name": "pct_jobs_completed",
         "dtype": "float64",
         "stats": {
          "unique_count": 2,
          "nan_count": 125,
          "min": "98.0",
          "max": "100.0",
          "histogram": [
           {
            "bin_start": 98,
            "bin_end": 98.2,
            "count": 1
           },
           {
            "bin_start": 98.2,
            "bin_end": 98.4,
            "count": 0
           },
           {
            "bin_start": 98.4,
            "bin_end": 98.6,
            "count": 0
           },
           {
            "bin_start": 98.6,
            "bin_end": 98.8,
            "count": 0
           },
           {
            "bin_start": 98.8,
            "bin_end": 99,
            "count": 0
           },
           {
            "bin_start": 99,
            "bin_end": 99.2,
            "count": 0
           },
           {
            "bin_start": 99.2,
            "bin_end": 99.4,
            "count": 0
           },
           {
            "bin_start": 99.4,
            "bin_end": 99.6,
            "count": 0
           },
           {
            "bin_start": 99.6,
            "bin_end": 99.8,
            "count": 0
           },
           {
            "bin_start": 99.8,
            "bin_end": 100,
            "count": 9
           }
          ]
         }
        },
        {
         "name": "pct_on_budget",
         "dtype": "float64",
         "stats": {
          "unique_count": 3,
          "nan_count": 126,
          "min": "93.0",
          "max": "100.0",
          "histogram": [
           {
            "bin_start": 93,
            "bin_end": 93.7,
            "count": 1
           },
           {
            "bin_start": 93.7,
            "bin_end": 94.4,
            "count": 0
           },
           {
            "bin_start": 94.4,
            "bin_end": 95.1,
            "count": 0
           },
           {
            "bin_start": 95.1,
            "bin_end": 95.8,
            "count": 0
           },
           {
            "bin_start": 95.8,
            "bin_end": 96.5,
            "count": 0
           },
           {
            "bin_start": 96.5,
            "bin_end": 97.2,
            "count": 0
           },
           {
            "bin_start": 97.2,
            "bin_end": 97.9,
            "count": 0
           },
           {
            "bin_start": 97.9,
            "bin_end": 98.6,
            "count": 1
           },
           {
            "bin_start": 98.6,
            "bin_end": 99.3,
            "count": 0
           },
           {
            "bin_start": 99.3,
            "bin_end": 100,
            "count": 7
           }
          ]
         }
        },
        {
         "name": "pct_on_time",
         "dtype": "float64",
         "stats": {
          "unique_count": 3,
          "nan_count": 126,
          "min": "41.0",
          "max": "100.0",
          "histogram": [
           {
            "bin_start": 41,
            "bin_end": 46.9,
            "count": 1
           },
           {
            "bin_start": 46.9,
            "bin_end": 52.8,
            "count": 0
           },
           {
            "bin_start": 52.8,
            "bin_end": 58.7,
            "count": 0
           },
           {
            "bin_start": 58.7,
            "bin_end": 64.6,
            "count": 0
           },
           {
            "bin_start": 64.6,
            "bin_end": 70.5,
            "count": 0
           },
           {
            "bin_start": 70.5,
            "bin_end": 76.4,
            "count": 0
           },
           {
            "bin_start": 76.4,
            "bin_end": 82.30000000000001,
            "count": 0
           },
           {
            "bin_start": 82.30000000000001,
            "bin_end": 88.2,
            "count": 0
           },
           {
            "bin_start": 88.2,
            "bin_end": 94.1,
            "count": 0
           },
           {
            "bin_start": 94.1,
            "bin_end": 100,
            "count": 8
           }
          ]
         }
        },
        {
         "name": "days_joined",
         "dtype": "int64",
         "stats": {
          "unique_count": 128,
          "nan_count": 0,
          "min": "3",
          "max": "4551",
          "histogram": [
           {
            "bin_start": 3,
            "bin_end": 457.8,
            "count": 73
           },
           {
            "bin_start": 457.8,
            "bin_end": 912.6,
            "count": 16
           },
           {
            "bin_start": 912.6,
            "bin_end": 1367.4,
            "count": 15
           },
           {
            "bin_start": 1367.4,
            "bin_end": 1822.2,
            "count": 8
           },
           {
            "bin_start": 1822.2,
            "bin_end": 2277,
            "count": 11
           },
           {
            "bin_start": 2277,
            "bin_end": 2731.8,
            "count": 8
           },
           {
            "bin_start": 2731.8,
            "bin_end": 3186.6,
            "count": 1
           },
           {
            "bin_start": 3186.6,
            "bin_end": 3641.4,
            "count": 0
           },
           {
            "bin_start": 3641.4,
            "bin_end": 4096.200000000001,
            "count": 0
           },
           {
            "bin_start": 4096.200000000001,
            "bin_end": 4551,
            "count": 3
           }
          ]
         }
        },
        {
         "name": "_deepnote_index_column",
         "dtype": "int64"
        }
       ],
       "rows": [
        {
         "Unnamed: 0": 452,
         "search_query": "accountant",
         "name": "Iveel",
         "gender": "None",
         "hourly_rate": 30,
         "pay_grade": 0,
         "avg_rating": 0,
         "num_reviews": 0,
         "num_recommendations": 0,
         "pct_jobs_completed": "nan",
         "pct_on_budget": "nan",
         "pct_on_time": "nan",
         "days_joined": 884,
         "_deepnote_index_column": 452
        },
        {
         "Unnamed: 0": 460,
         "search_query": "accountant",
         "name": "Vanaja",
         "gender": "None",
         "hourly_rate": 10,
         "pay_grade": 0,
         "avg_rating": 0,
         "num_reviews": 0,
         "num_recommendations": 0,
         "pct_jobs_completed": "nan",
         "pct_on_budget": "nan",
         "pct_on_time": "nan",
         "days_joined": 94,
         "_deepnote_index_column": 460
        },
        {
         "Unnamed: 0": 462,
         "search_query": "accountant",
         "name": "Hsundar",
         "gender": "None",
         "hourly_rate": 15,
         "pay_grade": 0,
         "avg_rating": 0,
         "num_reviews": 0,
         "num_recommendations": 0,
         "pct_jobs_completed": "nan",
         "pct_on_budget": "nan",
         "pct_on_time": "nan",
         "days_joined": 231,
         "_deepnote_index_column": 462
        },
        {
         "Unnamed: 0": 466,
         "search_query": "accountant",
         "name": "Oddailin",
         "gender": "None",
         "hourly_rate": 40,
         "pay_grade": 0,
         "avg_rating": 0,
         "num_reviews": 0,
         "num_recommendations": 0,
         "pct_jobs_completed": "nan",
         "pct_on_budget": "nan",
         "pct_on_time": "nan",
         "days_joined": 873,
         "_deepnote_index_column": 466
        },
        {
         "Unnamed: 0": 471,
         "search_query": "accountant",
         "name": "Marian",
         "gender": "None",
         "hourly_rate": 15,
         "pay_grade": 0,
         "avg_rating": 0,
         "num_reviews": 0,
         "num_recommendations": 0,
         "pct_jobs_completed": "nan",
         "pct_on_budget": "nan",
         "pct_on_time": "nan",
         "days_joined": 281,
         "_deepnote_index_column": 471
        }
       ]
      },
      "text/plain": "     Unnamed: 0 search_query      name gender  hourly_rate  pay_grade  \\\n0             0   accountant  Shineeza   None         40.0        0.0   \n5             5   accountant  fkoenigs   None         18.0        0.0   \n6             6   accountant   Soodong   None         65.0        0.0   \n7             7   accountant   Walsens   None         15.0        0.0   \n10           10   accountant    Bayley   None         20.0        0.0   \n..          ...          ...       ...    ...          ...        ...   \n452         452   accountant     Iveel   None         30.0        0.0   \n460         460   accountant    Vanaja   None         10.0        0.0   \n462         462   accountant   Hsundar   None         15.0        0.0   \n466         466   accountant  Oddailin   None         40.0        0.0   \n471         471   accountant    Marian   None         15.0        0.0   \n\n     avg_rating  num_reviews  num_recommendations  pct_jobs_completed  \\\n0           0.0            0                    0                 NaN   \n5           0.0            0                    0                 NaN   \n6           0.0            0                    0                 NaN   \n7           0.0            0                    0                 NaN   \n10          0.0            0                    0                 NaN   \n..          ...          ...                  ...                 ...   \n452         0.0            0                    0                 NaN   \n460         0.0            0                    0                 NaN   \n462         0.0            0                    0                 NaN   \n466         0.0            0                    0                 NaN   \n471         0.0            0                    0                 NaN   \n\n     pct_on_budget  pct_on_time  days_joined  \n0              NaN          NaN           42  \n5              NaN          NaN          209  \n6              NaN          NaN           70  \n7              NaN          NaN          114  \n10             NaN          NaN           47  \n..             ...          ...          ...  \n452            NaN          NaN          884  \n460            NaN          NaN           94  \n462            NaN          NaN          231  \n466            NaN          NaN          873  \n471            NaN          NaN          281  \n\n[135 rows x 13 columns]",
      "text/html": "<div>\n<style scoped>\n    .dataframe tbody tr th:only-of-type {\n        vertical-align: middle;\n    }\n\n    .dataframe tbody tr th {\n        vertical-align: top;\n    }\n\n    .dataframe thead th {\n        text-align: right;\n    }\n</style>\n<table border=\"1\" class=\"dataframe\">\n  <thead>\n    <tr style=\"text-align: right;\">\n      <th></th>\n      <th>Unnamed: 0</th>\n      <th>search_query</th>\n      <th>name</th>\n      <th>gender</th>\n      <th>hourly_rate</th>\n      <th>pay_grade</th>\n      <th>avg_rating</th>\n      <th>num_reviews</th>\n      <th>num_recommendations</th>\n      <th>pct_jobs_completed</th>\n      <th>pct_on_budget</th>\n      <th>pct_on_time</th>\n      <th>days_joined</th>\n    </tr>\n  </thead>\n  <tbody>\n    <tr>\n      <th>0</th>\n      <td>0</td>\n      <td>accountant</td>\n      <td>Shineeza</td>\n      <td>None</td>\n      <td>40.0</td>\n      <td>0.0</td>\n      <td>0.0</td>\n      <td>0</td>\n      <td>0</td>\n      <td>NaN</td>\n      <td>NaN</td>\n      <td>NaN</td>\n      <td>42</td>\n    </tr>\n    <tr>\n      <th>5</th>\n      <td>5</td>\n      <td>accountant</td>\n      <td>fkoenigs</td>\n      <td>None</td>\n      <td>18.0</td>\n      <td>0.0</td>\n      <td>0.0</td>\n      <td>0</td>\n      <td>0</td>\n      <td>NaN</td>\n      <td>NaN</td>\n      <td>NaN</td>\n      <td>209</td>\n    </tr>\n    <tr>\n      <th>6</th>\n      <td>6</td>\n      <td>accountant</td>\n      <td>Soodong</td>\n      <td>None</td>\n      <td>65.0</td>\n      <td>0.0</td>\n      <td>0.0</td>\n      <td>0</td>\n      <td>0</td>\n      <td>NaN</td>\n      <td>NaN</td>\n      <td>NaN</td>\n      <td>70</td>\n    </tr>\n    <tr>\n      <th>7</th>\n      <td>7</td>\n      <td>accountant</td>\n      <td>Walsens</td>\n      <td>None</td>\n      <td>15.0</td>\n      <td>0.0</td>\n      <td>0.0</td>\n      <td>0</td>\n      <td>0</td>\n      <td>NaN</td>\n      <td>NaN</td>\n      <td>NaN</td>\n      <td>114</td>\n    </tr>\n    <tr>\n      <th>10</th>\n      <td>10</td>\n      <td>accountant</td>\n      <td>Bayley</td>\n      <td>None</td>\n      <td>20.0</td>\n      <td>0.0</td>\n      <td>0.0</td>\n      <td>0</td>\n      <td>0</td>\n      <td>NaN</td>\n      <td>NaN</td>\n      <td>NaN</td>\n      <td>47</td>\n    </tr>\n    <tr>\n      <th>...</th>\n      <td>...</td>\n      <td>...</td>\n      <td>...</td>\n      <td>...</td>\n      <td>...</td>\n      <td>...</td>\n      <td>...</td>\n      <td>...</td>\n      <td>...</td>\n      <td>...</td>\n      <td>...</td>\n      <td>...</td>\n      <td>...</td>\n    </tr>\n    <tr>\n      <th>452</th>\n      <td>452</td>\n      <td>accountant</td>\n      <td>Iveel</td>\n      <td>None</td>\n      <td>30.0</td>\n      <td>0.0</td>\n      <td>0.0</td>\n      <td>0</td>\n      <td>0</td>\n      <td>NaN</td>\n      <td>NaN</td>\n      <td>NaN</td>\n      <td>884</td>\n    </tr>\n    <tr>\n      <th>460</th>\n      <td>460</td>\n      <td>accountant</td>\n      <td>Vanaja</td>\n      <td>None</td>\n      <td>10.0</td>\n      <td>0.0</td>\n      <td>0.0</td>\n      <td>0</td>\n      <td>0</td>\n      <td>NaN</td>\n      <td>NaN</td>\n      <td>NaN</td>\n      <td>94</td>\n    </tr>\n    <tr>\n      <th>462</th>\n      <td>462</td>\n      <td>accountant</td>\n      <td>Hsundar</td>\n      <td>None</td>\n      <td>15.0</td>\n      <td>0.0</td>\n      <td>0.0</td>\n      <td>0</td>\n      <td>0</td>\n      <td>NaN</td>\n      <td>NaN</td>\n      <td>NaN</td>\n      <td>231</td>\n    </tr>\n    <tr>\n      <th>466</th>\n      <td>466</td>\n      <td>accountant</td>\n      <td>Oddailin</td>\n      <td>None</td>\n      <td>40.0</td>\n      <td>0.0</td>\n      <td>0.0</td>\n      <td>0</td>\n      <td>0</td>\n      <td>NaN</td>\n      <td>NaN</td>\n      <td>NaN</td>\n      <td>873</td>\n    </tr>\n    <tr>\n      <th>471</th>\n      <td>471</td>\n      <td>accountant</td>\n      <td>Marian</td>\n      <td>None</td>\n      <td>15.0</td>\n      <td>0.0</td>\n      <td>0.0</td>\n      <td>0</td>\n      <td>0</td>\n      <td>NaN</td>\n      <td>NaN</td>\n      <td>NaN</td>\n      <td>281</td>\n    </tr>\n  </tbody>\n</table>\n<p>135 rows × 13 columns</p>\n</div>"
     },
     "metadata": {}
    }
   ]
  },
  {
   "cell_type": "code",
   "metadata": {
    "cell_id": "7670bcfc-b03d-4233-9809-e96cd3d752b1",
    "tags": [],
    "deepnote_to_be_reexecuted": false,
    "source_hash": "c6322f8f",
    "execution_start": 1647450798883,
    "execution_millis": 1,
    "deepnote_cell_type": "code",
    "deepnote_cell_height": 99
   },
   "source": "df['gender2'] = df.name.apply(gender_detector_opt2.get_gender)\ndf.insert(4,'gender2',df.pop('gender2'))",
   "execution_count": null,
   "outputs": []
  },
  {
   "cell_type": "code",
   "metadata": {
    "cell_id": "fd4c32a8-2897-4f36-b257-106d8027e092",
    "tags": [],
    "deepnote_to_be_reexecuted": false,
    "source_hash": "f91a71af",
    "execution_start": 1647450818090,
    "execution_millis": 0,
    "deepnote_cell_type": "code",
    "deepnote_cell_height": 81
   },
   "source": "df2 = df.copy()",
   "execution_count": null,
   "outputs": []
  },
  {
   "cell_type": "code",
   "metadata": {
    "cell_id": "b375796c-c192-4bd0-ae72-20d66c49a5b7",
    "tags": [],
    "deepnote_to_be_reexecuted": false,
    "source_hash": "5e8d68a8",
    "execution_start": 1647450951595,
    "execution_millis": 32,
    "deepnote_table_state": {
     "pageSize": 10,
     "pageIndex": 8,
     "filters": [],
     "sortBy": []
    },
    "deepnote_table_loading": false,
    "deepnote_table_invalid": false,
    "deepnote_cell_type": "code",
    "deepnote_cell_height": 833.59375
   },
   "source": "df2['gender'] = df2['gender'].fillna('unknown')\ndf2['gender2'] = df2['gender2'].fillna('unknown')\ndf2['gender2'].loc[df2['gender2'] == 'andy'] = None\ndf2.gender2 = df2.gender2.str.replace('mostly_','')\n\ndf2",
   "execution_count": null,
   "outputs": [
    {
     "name": "stderr",
     "text": "/shared-libs/python3.7/py/lib/python3.7/site-packages/pandas/core/indexing.py:1732: SettingWithCopyWarning: \nA value is trying to be set on a copy of a slice from a DataFrame\n\nSee the caveats in the documentation: https://pandas.pydata.org/pandas-docs/stable/user_guide/indexing.html#returning-a-view-versus-a-copy\n  self._setitem_single_block(indexer, value, name)\n",
     "output_type": "stream"
    },
    {
     "output_type": "execute_result",
     "execution_count": 112,
     "data": {
      "application/vnd.deepnote.dataframe.v3+json": {
       "column_count": 14,
       "row_count": 473,
       "columns": [
        {
         "name": "Unnamed: 0",
         "dtype": "int64",
         "stats": {
          "unique_count": 473,
          "nan_count": 0,
          "min": "0",
          "max": "472",
          "histogram": [
           {
            "bin_start": 0,
            "bin_end": 47.2,
            "count": 48
           },
           {
            "bin_start": 47.2,
            "bin_end": 94.4,
            "count": 47
           },
           {
            "bin_start": 94.4,
            "bin_end": 141.60000000000002,
            "count": 47
           },
           {
            "bin_start": 141.60000000000002,
            "bin_end": 188.8,
            "count": 47
           },
           {
            "bin_start": 188.8,
            "bin_end": 236,
            "count": 47
           },
           {
            "bin_start": 236,
            "bin_end": 283.20000000000005,
            "count": 48
           },
           {
            "bin_start": 283.20000000000005,
            "bin_end": 330.40000000000003,
            "count": 47
           },
           {
            "bin_start": 330.40000000000003,
            "bin_end": 377.6,
            "count": 47
           },
           {
            "bin_start": 377.6,
            "bin_end": 424.8,
            "count": 47
           },
           {
            "bin_start": 424.8,
            "bin_end": 472,
            "count": 48
           }
          ]
         }
        },
        {
         "name": "search_query",
         "dtype": "object",
         "stats": {
          "unique_count": 1,
          "nan_count": 0,
          "categories": [
           {
            "name": "accountant",
            "count": 473
           }
          ]
         }
        },
        {
         "name": "name",
         "dtype": "object",
         "stats": {
          "unique_count": 405,
          "nan_count": 0,
          "categories": [
           {
            "name": "Jennifer",
            "count": 7
           },
           {
            "name": "Jessica",
            "count": 6
           },
           {
            "name": "403 others",
            "count": 460
           }
          ]
         }
        },
        {
         "name": "gender",
         "dtype": "object",
         "stats": {
          "unique_count": 3,
          "nan_count": 0,
          "categories": [
           {
            "name": "female",
            "count": 172
           },
           {
            "name": "male",
            "count": 166
           },
           {
            "name": "unknown",
            "count": 135
           }
          ]
         }
        },
        {
         "name": "gender2",
         "dtype": "object",
         "stats": {
          "unique_count": 3,
          "nan_count": 0,
          "categories": [
           {
            "name": "female",
            "count": 181
           },
           {
            "name": "male",
            "count": 152
           },
           {
            "name": "unknown",
            "count": 140
           }
          ]
         }
        },
        {
         "name": "hourly_rate",
         "dtype": "float64",
         "stats": {
          "unique_count": 56,
          "nan_count": 0,
          "min": "2.0",
          "max": "700.0",
          "histogram": [
           {
            "bin_start": 2,
            "bin_end": 71.8,
            "count": 432
           },
           {
            "bin_start": 71.8,
            "bin_end": 141.6,
            "count": 27
           },
           {
            "bin_start": 141.6,
            "bin_end": 211.39999999999998,
            "count": 5
           },
           {
            "bin_start": 211.39999999999998,
            "bin_end": 281.2,
            "count": 2
           },
           {
            "bin_start": 281.2,
            "bin_end": 351,
            "count": 3
           },
           {
            "bin_start": 351,
            "bin_end": 420.79999999999995,
            "count": 0
           },
           {
            "bin_start": 420.79999999999995,
            "bin_end": 490.59999999999997,
            "count": 1
           },
           {
            "bin_start": 490.59999999999997,
            "bin_end": 560.4,
            "count": 2
           },
           {
            "bin_start": 560.4,
            "bin_end": 630.1999999999999,
            "count": 0
           },
           {
            "bin_start": 630.1999999999999,
            "bin_end": 700,
            "count": 1
           }
          ]
         }
        },
        {
         "name": "pay_grade",
         "dtype": "float64",
         "stats": {
          "unique_count": 16,
          "nan_count": 0,
          "min": "0.0",
          "max": "6.1",
          "histogram": [
           {
            "bin_start": 0,
            "bin_end": 0.61,
            "count": 454
           },
           {
            "bin_start": 0.61,
            "bin_end": 1.22,
            "count": 0
           },
           {
            "bin_start": 1.22,
            "bin_end": 1.83,
            "count": 3
           },
           {
            "bin_start": 1.83,
            "bin_end": 2.44,
            "count": 0
           },
           {
            "bin_start": 2.44,
            "bin_end": 3.05,
            "count": 2
           },
           {
            "bin_start": 3.05,
            "bin_end": 3.66,
            "count": 0
           },
           {
            "bin_start": 3.66,
            "bin_end": 4.27,
            "count": 6
           },
           {
            "bin_start": 4.27,
            "bin_end": 4.88,
            "count": 3
           },
           {
            "bin_start": 4.88,
            "bin_end": 5.49,
            "count": 1
           },
           {
            "bin_start": 5.49,
            "bin_end": 6.1,
            "count": 4
           }
          ]
         }
        },
        {
         "name": "avg_rating",
         "dtype": "float64",
         "stats": {
          "unique_count": 5,
          "nan_count": 0,
          "min": "0.0",
          "max": "5.0",
          "histogram": [
           {
            "bin_start": 0,
            "bin_end": 0.5,
            "count": 454
           },
           {
            "bin_start": 0.5,
            "bin_end": 1,
            "count": 0
           },
           {
            "bin_start": 1,
            "bin_end": 1.5,
            "count": 0
           },
           {
            "bin_start": 1.5,
            "bin_end": 2,
            "count": 0
           },
           {
            "bin_start": 2,
            "bin_end": 2.5,
            "count": 0
           },
           {
            "bin_start": 2.5,
            "bin_end": 3,
            "count": 0
           },
           {
            "bin_start": 3,
            "bin_end": 3.5,
            "count": 0
           },
           {
            "bin_start": 3.5,
            "bin_end": 4,
            "count": 0
           },
           {
            "bin_start": 4,
            "bin_end": 4.5,
            "count": 0
           },
           {
            "bin_start": 4.5,
            "bin_end": 5,
            "count": 19
           }
          ]
         }
        },
        {
         "name": "num_reviews",
         "dtype": "int64",
         "stats": {
          "unique_count": 15,
          "nan_count": 0,
          "min": "0",
          "max": "104",
          "histogram": [
           {
            "bin_start": 0,
            "bin_end": 10.4,
            "count": 465
           },
           {
            "bin_start": 10.4,
            "bin_end": 20.8,
            "count": 4
           },
           {
            "bin_start": 20.8,
            "bin_end": 31.200000000000003,
            "count": 1
           },
           {
            "bin_start": 31.200000000000003,
            "bin_end": 41.6,
            "count": 0
           },
           {
            "bin_start": 41.6,
            "bin_end": 52,
            "count": 1
           },
           {
            "bin_start": 52,
            "bin_end": 62.400000000000006,
            "count": 1
           },
           {
            "bin_start": 62.400000000000006,
            "bin_end": 72.8,
            "count": 0
           },
           {
            "bin_start": 72.8,
            "bin_end": 83.2,
            "count": 0
           },
           {
            "bin_start": 83.2,
            "bin_end": 93.60000000000001,
            "count": 0
           },
           {
            "bin_start": 93.60000000000001,
            "bin_end": 104,
            "count": 1
           }
          ]
         }
        },
        {
         "name": "num_recommendations",
         "dtype": "int64",
         "stats": {
          "unique_count": 4,
          "nan_count": 0,
          "min": "0",
          "max": "5",
          "histogram": [
           {
            "bin_start": 0,
            "bin_end": 0.5,
            "count": 462
           },
           {
            "bin_start": 0.5,
            "bin_end": 1,
            "count": 0
           },
           {
            "bin_start": 1,
            "bin_end": 1.5,
            "count": 6
           },
           {
            "bin_start": 1.5,
            "bin_end": 2,
            "count": 0
           },
           {
            "bin_start": 2,
            "bin_end": 2.5,
            "count": 0
           },
           {
            "bin_start": 2.5,
            "bin_end": 3,
            "count": 0
           },
           {
            "bin_start": 3,
            "bin_end": 3.5,
            "count": 3
           },
           {
            "bin_start": 3.5,
            "bin_end": 4,
            "count": 0
           },
           {
            "bin_start": 4,
            "bin_end": 4.5,
            "count": 0
           },
           {
            "bin_start": 4.5,
            "bin_end": 5,
            "count": 2
           }
          ]
         }
        },
        {
         "name": "pct_jobs_completed",
         "dtype": "float64",
         "stats": {
          "unique_count": 6,
          "nan_count": 453,
          "min": "94.0",
          "max": "100.0",
          "histogram": [
           {
            "bin_start": 94,
            "bin_end": 94.6,
            "count": 1
           },
           {
            "bin_start": 94.6,
            "bin_end": 95.2,
            "count": 1
           },
           {
            "bin_start": 95.2,
            "bin_end": 95.8,
            "count": 0
           },
           {
            "bin_start": 95.8,
            "bin_end": 96.4,
            "count": 0
           },
           {
            "bin_start": 96.4,
            "bin_end": 97,
            "count": 0
           },
           {
            "bin_start": 97,
            "bin_end": 97.6,
            "count": 1
           },
           {
            "bin_start": 97.6,
            "bin_end": 98.2,
            "count": 1
           },
           {
            "bin_start": 98.2,
            "bin_end": 98.8,
            "count": 0
           },
           {
            "bin_start": 98.8,
            "bin_end": 99.4,
            "count": 1
           },
           {
            "bin_start": 99.4,
            "bin_end": 100,
            "count": 15
           }
          ]
         }
        },
        {
         "name": "pct_on_budget",
         "dtype": "float64",
         "stats": {
          "unique_count": 6,
          "nan_count": 454,
          "min": "87.0",
          "max": "100.0",
          "histogram": [
           {
            "bin_start": 87,
            "bin_end": 88.3,
            "count": 1
           },
           {
            "bin_start": 88.3,
            "bin_end": 89.6,
            "count": 0
           },
           {
            "bin_start": 89.6,
            "bin_end": 90.9,
            "count": 0
           },
           {
            "bin_start": 90.9,
            "bin_end": 92.2,
            "count": 0
           },
           {
            "bin_start": 92.2,
            "bin_end": 93.5,
            "count": 1
           },
           {
            "bin_start": 93.5,
            "bin_end": 94.8,
            "count": 0
           },
           {
            "bin_start": 94.8,
            "bin_end": 96.1,
            "count": 0
           },
           {
            "bin_start": 96.1,
            "bin_end": 97.4,
            "count": 1
           },
           {
            "bin_start": 97.4,
            "bin_end": 98.7,
            "count": 1
           },
           {
            "bin_start": 98.7,
            "bin_end": 100,
            "count": 15
           }
          ]
         }
        },
        {
         "name": "pct_on_time",
         "dtype": "float64",
         "stats": {
          "unique_count": 5,
          "nan_count": 454,
          "min": "41.0",
          "max": "100.0",
          "histogram": [
           {
            "bin_start": 41,
            "bin_end": 46.9,
            "count": 1
           },
           {
            "bin_start": 46.9,
            "bin_end": 52.8,
            "count": 0
           },
           {
            "bin_start": 52.8,
            "bin_end": 58.7,
            "count": 0
           },
           {
            "bin_start": 58.7,
            "bin_end": 64.6,
            "count": 0
           },
           {
            "bin_start": 64.6,
            "bin_end": 70.5,
            "count": 0
           },
           {
            "bin_start": 70.5,
            "bin_end": 76.4,
            "count": 0
           },
           {
            "bin_start": 76.4,
            "bin_end": 82.30000000000001,
            "count": 0
           },
           {
            "bin_start": 82.30000000000001,
            "bin_end": 88.2,
            "count": 1
           },
           {
            "bin_start": 88.2,
            "bin_end": 94.1,
            "count": 0
           },
           {
            "bin_start": 94.1,
            "bin_end": 100,
            "count": 17
           }
          ]
         }
        },
        {
         "name": "days_joined",
         "dtype": "int64",
         "stats": {
          "unique_count": 367,
          "nan_count": 0,
          "min": "3",
          "max": "4661",
          "histogram": [
           {
            "bin_start": 3,
            "bin_end": 468.8,
            "count": 288
           },
           {
            "bin_start": 468.8,
            "bin_end": 934.6,
            "count": 57
           },
           {
            "bin_start": 934.6,
            "bin_end": 1400.4,
            "count": 43
           },
           {
            "bin_start": 1400.4,
            "bin_end": 1866.2,
            "count": 26
           },
           {
            "bin_start": 1866.2,
            "bin_end": 2332,
            "count": 23
           },
           {
            "bin_start": 2332,
            "bin_end": 2797.8,
            "count": 19
           },
           {
            "bin_start": 2797.8,
            "bin_end": 3263.6,
            "count": 9
           },
           {
            "bin_start": 3263.6,
            "bin_end": 3729.4,
            "count": 2
           },
           {
            "bin_start": 3729.4,
            "bin_end": 4195.2,
            "count": 2
           },
           {
            "bin_start": 4195.2,
            "bin_end": 4661,
            "count": 4
           }
          ]
         }
        },
        {
         "name": "_deepnote_index_column",
         "dtype": "int64"
        }
       ],
       "rows": [
        {
         "Unnamed: 0": 80,
         "search_query": "accountant",
         "name": "Mohammad",
         "gender": "male",
         "gender2": "male",
         "hourly_rate": 40,
         "pay_grade": 0,
         "avg_rating": 0,
         "num_reviews": 0,
         "num_recommendations": 0,
         "pct_jobs_completed": "nan",
         "pct_on_budget": "nan",
         "pct_on_time": "nan",
         "days_joined": 49,
         "_deepnote_index_column": 80
        },
        {
         "Unnamed: 0": 81,
         "search_query": "accountant",
         "name": "Tyler",
         "gender": "male",
         "gender2": "male",
         "hourly_rate": 10,
         "pay_grade": 0,
         "avg_rating": 0,
         "num_reviews": 0,
         "num_recommendations": 0,
         "pct_jobs_completed": "nan",
         "pct_on_budget": "nan",
         "pct_on_time": "nan",
         "days_joined": 1869,
         "_deepnote_index_column": 81
        },
        {
         "Unnamed: 0": 82,
         "search_query": "accountant",
         "name": "Vladimire",
         "gender": "unknown",
         "gender2": "unknown",
         "hourly_rate": 30,
         "pay_grade": 4.1,
         "avg_rating": 5,
         "num_reviews": 4,
         "num_recommendations": 0,
         "pct_jobs_completed": 100,
         "pct_on_budget": 100,
         "pct_on_time": 100,
         "days_joined": 604,
         "_deepnote_index_column": 82
        },
        {
         "Unnamed: 0": 83,
         "search_query": "accountant",
         "name": "Christopher",
         "gender": "male",
         "gender2": "male",
         "hourly_rate": 325,
         "pay_grade": 0,
         "avg_rating": 0,
         "num_reviews": 0,
         "num_recommendations": 0,
         "pct_jobs_completed": "nan",
         "pct_on_budget": "nan",
         "pct_on_time": "nan",
         "days_joined": 2137,
         "_deepnote_index_column": 83
        },
        {
         "Unnamed: 0": 84,
         "search_query": "accountant",
         "name": "Mike",
         "gender": "male",
         "gender2": "male",
         "hourly_rate": 30,
         "pay_grade": 0,
         "avg_rating": 0,
         "num_reviews": 0,
         "num_recommendations": 0,
         "pct_jobs_completed": "nan",
         "pct_on_budget": "nan",
         "pct_on_time": "nan",
         "days_joined": 118,
         "_deepnote_index_column": 84
        },
        {
         "Unnamed: 0": 85,
         "search_query": "accountant",
         "name": "Connally",
         "gender": "unknown",
         "gender2": "unknown",
         "hourly_rate": 43,
         "pay_grade": 0,
         "avg_rating": 0,
         "num_reviews": 0,
         "num_recommendations": 0,
         "pct_jobs_completed": "nan",
         "pct_on_budget": "nan",
         "pct_on_time": "nan",
         "days_joined": 772,
         "_deepnote_index_column": 85
        },
        {
         "Unnamed: 0": 86,
         "search_query": "accountant",
         "name": "George",
         "gender": "male",
         "gender2": "male",
         "hourly_rate": 75,
         "pay_grade": 5.3,
         "avg_rating": 5,
         "num_reviews": 5,
         "num_recommendations": 1,
         "pct_jobs_completed": 100,
         "pct_on_budget": 100,
         "pct_on_time": 100,
         "days_joined": 2661,
         "_deepnote_index_column": 86
        },
        {
         "Unnamed: 0": 87,
         "search_query": "accountant",
         "name": "Madison",
         "gender": "female",
         "gender2": "female",
         "hourly_rate": 50,
         "pay_grade": 0,
         "avg_rating": 0,
         "num_reviews": 0,
         "num_recommendations": 0,
         "pct_jobs_completed": "nan",
         "pct_on_budget": "nan",
         "pct_on_time": "nan",
         "days_joined": 251,
         "_deepnote_index_column": 87
        },
        {
         "Unnamed: 0": 88,
         "search_query": "accountant",
         "name": "Esteban",
         "gender": "male",
         "gender2": "male",
         "hourly_rate": 15,
         "pay_grade": 0,
         "avg_rating": 0,
         "num_reviews": 0,
         "num_recommendations": 0,
         "pct_jobs_completed": "nan",
         "pct_on_budget": "nan",
         "pct_on_time": "nan",
         "days_joined": 2796,
         "_deepnote_index_column": 88
        },
        {
         "Unnamed: 0": 89,
         "search_query": "accountant",
         "name": "Fnu",
         "gender": "unknown",
         "gender2": "unknown",
         "hourly_rate": 20,
         "pay_grade": 0,
         "avg_rating": 0,
         "num_reviews": 0,
         "num_recommendations": 0,
         "pct_jobs_completed": "nan",
         "pct_on_budget": "nan",
         "pct_on_time": "nan",
         "days_joined": 29,
         "_deepnote_index_column": 89
        }
       ]
      },
      "text/plain": "     Unnamed: 0 search_query      name   gender  gender2  hourly_rate  \\\n0             0   accountant  Shineeza  unknown  unknown         40.0   \n1             1   accountant      Lisa   female   female         13.0   \n2             2   accountant     Ahmed     male     male         15.0   \n3             3   accountant      Alex     male     male         75.0   \n4             4   accountant  Agustina   female   female         40.0   \n..          ...          ...       ...      ...      ...          ...   \n468         468   accountant   Jessica   female   female         15.0   \n469         469   accountant       Roy     male     male         20.0   \n470         470   accountant   Beverly   female   female         30.0   \n471         471   accountant    Marian  unknown     male         15.0   \n472         472   accountant   Martina   female   female         25.0   \n\n     pay_grade  avg_rating  num_reviews  num_recommendations  \\\n0          0.0         0.0            0                    0   \n1          0.0         0.0            0                    0   \n2          0.0         0.0            0                    0   \n3          0.0         0.0            0                    0   \n4          0.0         0.0            0                    0   \n..         ...         ...          ...                  ...   \n468        0.0         0.0            0                    0   \n469        0.0         0.0            0                    0   \n470        0.0         0.0            0                    0   \n471        0.0         0.0            0                    0   \n472        0.0         0.0            0                    1   \n\n     pct_jobs_completed  pct_on_budget  pct_on_time  days_joined  \n0                   NaN            NaN          NaN           42  \n1                   NaN            NaN          NaN           77  \n2                   NaN            NaN          NaN          814  \n3                   NaN            NaN          NaN          212  \n4                   NaN            NaN          NaN          181  \n..                  ...            ...          ...          ...  \n468                 NaN            NaN          NaN           66  \n469                 NaN            NaN          NaN         1370  \n470                 NaN            NaN          NaN           61  \n471                 NaN            NaN          NaN          281  \n472                 NaN            NaN          NaN         1833  \n\n[473 rows x 14 columns]",
      "text/html": "<div>\n<style scoped>\n    .dataframe tbody tr th:only-of-type {\n        vertical-align: middle;\n    }\n\n    .dataframe tbody tr th {\n        vertical-align: top;\n    }\n\n    .dataframe thead th {\n        text-align: right;\n    }\n</style>\n<table border=\"1\" class=\"dataframe\">\n  <thead>\n    <tr style=\"text-align: right;\">\n      <th></th>\n      <th>Unnamed: 0</th>\n      <th>search_query</th>\n      <th>name</th>\n      <th>gender</th>\n      <th>gender2</th>\n      <th>hourly_rate</th>\n      <th>pay_grade</th>\n      <th>avg_rating</th>\n      <th>num_reviews</th>\n      <th>num_recommendations</th>\n      <th>pct_jobs_completed</th>\n      <th>pct_on_budget</th>\n      <th>pct_on_time</th>\n      <th>days_joined</th>\n    </tr>\n  </thead>\n  <tbody>\n    <tr>\n      <th>0</th>\n      <td>0</td>\n      <td>accountant</td>\n      <td>Shineeza</td>\n      <td>unknown</td>\n      <td>unknown</td>\n      <td>40.0</td>\n      <td>0.0</td>\n      <td>0.0</td>\n      <td>0</td>\n      <td>0</td>\n      <td>NaN</td>\n      <td>NaN</td>\n      <td>NaN</td>\n      <td>42</td>\n    </tr>\n    <tr>\n      <th>1</th>\n      <td>1</td>\n      <td>accountant</td>\n      <td>Lisa</td>\n      <td>female</td>\n      <td>female</td>\n      <td>13.0</td>\n      <td>0.0</td>\n      <td>0.0</td>\n      <td>0</td>\n      <td>0</td>\n      <td>NaN</td>\n      <td>NaN</td>\n      <td>NaN</td>\n      <td>77</td>\n    </tr>\n    <tr>\n      <th>2</th>\n      <td>2</td>\n      <td>accountant</td>\n      <td>Ahmed</td>\n      <td>male</td>\n      <td>male</td>\n      <td>15.0</td>\n      <td>0.0</td>\n      <td>0.0</td>\n      <td>0</td>\n      <td>0</td>\n      <td>NaN</td>\n      <td>NaN</td>\n      <td>NaN</td>\n      <td>814</td>\n    </tr>\n    <tr>\n      <th>3</th>\n      <td>3</td>\n      <td>accountant</td>\n      <td>Alex</td>\n      <td>male</td>\n      <td>male</td>\n      <td>75.0</td>\n      <td>0.0</td>\n      <td>0.0</td>\n      <td>0</td>\n      <td>0</td>\n      <td>NaN</td>\n      <td>NaN</td>\n      <td>NaN</td>\n      <td>212</td>\n    </tr>\n    <tr>\n      <th>4</th>\n      <td>4</td>\n      <td>accountant</td>\n      <td>Agustina</td>\n      <td>female</td>\n      <td>female</td>\n      <td>40.0</td>\n      <td>0.0</td>\n      <td>0.0</td>\n      <td>0</td>\n      <td>0</td>\n      <td>NaN</td>\n      <td>NaN</td>\n      <td>NaN</td>\n      <td>181</td>\n    </tr>\n    <tr>\n      <th>...</th>\n      <td>...</td>\n      <td>...</td>\n      <td>...</td>\n      <td>...</td>\n      <td>...</td>\n      <td>...</td>\n      <td>...</td>\n      <td>...</td>\n      <td>...</td>\n      <td>...</td>\n      <td>...</td>\n      <td>...</td>\n      <td>...</td>\n      <td>...</td>\n    </tr>\n    <tr>\n      <th>468</th>\n      <td>468</td>\n      <td>accountant</td>\n      <td>Jessica</td>\n      <td>female</td>\n      <td>female</td>\n      <td>15.0</td>\n      <td>0.0</td>\n      <td>0.0</td>\n      <td>0</td>\n      <td>0</td>\n      <td>NaN</td>\n      <td>NaN</td>\n      <td>NaN</td>\n      <td>66</td>\n    </tr>\n    <tr>\n      <th>469</th>\n      <td>469</td>\n      <td>accountant</td>\n      <td>Roy</td>\n      <td>male</td>\n      <td>male</td>\n      <td>20.0</td>\n      <td>0.0</td>\n      <td>0.0</td>\n      <td>0</td>\n      <td>0</td>\n      <td>NaN</td>\n      <td>NaN</td>\n      <td>NaN</td>\n      <td>1370</td>\n    </tr>\n    <tr>\n      <th>470</th>\n      <td>470</td>\n      <td>accountant</td>\n      <td>Beverly</td>\n      <td>female</td>\n      <td>female</td>\n      <td>30.0</td>\n      <td>0.0</td>\n      <td>0.0</td>\n      <td>0</td>\n      <td>0</td>\n      <td>NaN</td>\n      <td>NaN</td>\n      <td>NaN</td>\n      <td>61</td>\n    </tr>\n    <tr>\n      <th>471</th>\n      <td>471</td>\n      <td>accountant</td>\n      <td>Marian</td>\n      <td>unknown</td>\n      <td>male</td>\n      <td>15.0</td>\n      <td>0.0</td>\n      <td>0.0</td>\n      <td>0</td>\n      <td>0</td>\n      <td>NaN</td>\n      <td>NaN</td>\n      <td>NaN</td>\n      <td>281</td>\n    </tr>\n    <tr>\n      <th>472</th>\n      <td>472</td>\n      <td>accountant</td>\n      <td>Martina</td>\n      <td>female</td>\n      <td>female</td>\n      <td>25.0</td>\n      <td>0.0</td>\n      <td>0.0</td>\n      <td>0</td>\n      <td>1</td>\n      <td>NaN</td>\n      <td>NaN</td>\n      <td>NaN</td>\n      <td>1833</td>\n    </tr>\n  </tbody>\n</table>\n<p>473 rows × 14 columns</p>\n</div>"
     },
     "metadata": {}
    }
   ]
  },
  {
   "cell_type": "code",
   "metadata": {
    "cell_id": "b180951c-8629-4015-8ed4-14ff200c984a",
    "tags": [],
    "deepnote_to_be_reexecuted": false,
    "source_hash": "64f32d10",
    "execution_start": 1647450952678,
    "execution_millis": 5,
    "deepnote_cell_type": "code",
    "deepnote_cell_height": 118.1875,
    "deepnote_output_heights": [
     21.1875
    ]
   },
   "source": "sum(df2.gender == df2.gender2)/len(df2)",
   "execution_count": null,
   "outputs": [
    {
     "output_type": "execute_result",
     "execution_count": 113,
     "data": {
      "text/plain": "0.8477801268498943"
     },
     "metadata": {}
    }
   ]
  },
  {
   "cell_type": "code",
   "metadata": {
    "cell_id": "ee46a277-e6b8-4662-ac5c-29d2f1d96236",
    "tags": [],
    "deepnote_to_be_reexecuted": false,
    "source_hash": "d67fa753",
    "execution_start": 1647450958348,
    "execution_millis": 27,
    "deepnote_table_state": {
     "pageSize": 10,
     "pageIndex": 0,
     "filters": [],
     "sortBy": []
    },
    "deepnote_table_loading": false,
    "deepnote_cell_type": "code",
    "deepnote_cell_height": 614.796875
   },
   "source": "df2.query(\"gender != gender2\")",
   "execution_count": null,
   "outputs": [
    {
     "output_type": "execute_result",
     "execution_count": 115,
     "data": {
      "application/vnd.deepnote.dataframe.v3+json": {
       "column_count": 14,
       "row_count": 72,
       "columns": [
        {
         "name": "Unnamed: 0",
         "dtype": "int64",
         "stats": {
          "unique_count": 72,
          "nan_count": 0,
          "min": "14",
          "max": "471",
          "histogram": [
           {
            "bin_start": 14,
            "bin_end": 59.7,
            "count": 11
           },
           {
            "bin_start": 59.7,
            "bin_end": 105.4,
            "count": 5
           },
           {
            "bin_start": 105.4,
            "bin_end": 151.10000000000002,
            "count": 5
           },
           {
            "bin_start": 151.10000000000002,
            "bin_end": 196.8,
            "count": 4
           },
           {
            "bin_start": 196.8,
            "bin_end": 242.5,
            "count": 11
           },
           {
            "bin_start": 242.5,
            "bin_end": 288.20000000000005,
            "count": 8
           },
           {
            "bin_start": 288.20000000000005,
            "bin_end": 333.90000000000003,
            "count": 9
           },
           {
            "bin_start": 333.90000000000003,
            "bin_end": 379.6,
            "count": 8
           },
           {
            "bin_start": 379.6,
            "bin_end": 425.3,
            "count": 5
           },
           {
            "bin_start": 425.3,
            "bin_end": 471,
            "count": 6
           }
          ]
         }
        },
        {
         "name": "search_query",
         "dtype": "object",
         "stats": {
          "unique_count": 1,
          "nan_count": 0,
          "categories": [
           {
            "name": "accountant",
            "count": 72
           }
          ]
         }
        },
        {
         "name": "name",
         "dtype": "object",
         "stats": {
          "unique_count": 69,
          "nan_count": 0,
          "categories": [
           {
            "name": "Eman",
            "count": 2
           },
           {
            "name": "Nikita",
            "count": 2
           },
           {
            "name": "67 others",
            "count": 68
           }
          ]
         }
        },
        {
         "name": "gender",
         "dtype": "object",
         "stats": {
          "unique_count": 3,
          "nan_count": 0,
          "categories": [
           {
            "name": "unknown",
            "count": 32
           },
           {
            "name": "male",
            "count": 25
           },
           {
            "name": "female",
            "count": 15
           }
          ]
         }
        },
        {
         "name": "gender2",
         "dtype": "object",
         "stats": {
          "unique_count": 3,
          "nan_count": 0,
          "categories": [
           {
            "name": "unknown",
            "count": 37
           },
           {
            "name": "female",
            "count": 24
           },
           {
            "name": "male",
            "count": 11
           }
          ]
         }
        },
        {
         "name": "hourly_rate",
         "dtype": "float64",
         "stats": {
          "unique_count": 26,
          "nan_count": 0,
          "min": "2.0",
          "max": "700.0",
          "histogram": [
           {
            "bin_start": 2,
            "bin_end": 71.8,
            "count": 61
           },
           {
            "bin_start": 71.8,
            "bin_end": 141.6,
            "count": 7
           },
           {
            "bin_start": 141.6,
            "bin_end": 211.39999999999998,
            "count": 2
           },
           {
            "bin_start": 211.39999999999998,
            "bin_end": 281.2,
            "count": 0
           },
           {
            "bin_start": 281.2,
            "bin_end": 351,
            "count": 0
           },
           {
            "bin_start": 351,
            "bin_end": 420.79999999999995,
            "count": 0
           },
           {
            "bin_start": 420.79999999999995,
            "bin_end": 490.59999999999997,
            "count": 0
           },
           {
            "bin_start": 490.59999999999997,
            "bin_end": 560.4,
            "count": 1
           },
           {
            "bin_start": 560.4,
            "bin_end": 630.1999999999999,
            "count": 0
           },
           {
            "bin_start": 630.1999999999999,
            "bin_end": 700,
            "count": 1
           }
          ]
         }
        },
        {
         "name": "pay_grade",
         "dtype": "float64",
         "stats": {
          "unique_count": 1,
          "nan_count": 0,
          "min": "0.0",
          "max": "0.0",
          "histogram": [
           {
            "bin_start": -0.5,
            "bin_end": -0.4,
            "count": 0
           },
           {
            "bin_start": -0.4,
            "bin_end": -0.3,
            "count": 0
           },
           {
            "bin_start": -0.3,
            "bin_end": -0.19999999999999996,
            "count": 0
           },
           {
            "bin_start": -0.19999999999999996,
            "bin_end": -0.09999999999999998,
            "count": 0
           },
           {
            "bin_start": -0.09999999999999998,
            "bin_end": 0,
            "count": 0
           },
           {
            "bin_start": 0,
            "bin_end": 0.10000000000000009,
            "count": 72
           },
           {
            "bin_start": 0.10000000000000009,
            "bin_end": 0.20000000000000007,
            "count": 0
           },
           {
            "bin_start": 0.20000000000000007,
            "bin_end": 0.30000000000000004,
            "count": 0
           },
           {
            "bin_start": 0.30000000000000004,
            "bin_end": 0.4,
            "count": 0
           },
           {
            "bin_start": 0.4,
            "bin_end": 0.5,
            "count": 0
           }
          ]
         }
        },
        {
         "name": "avg_rating",
         "dtype": "float64",
         "stats": {
          "unique_count": 1,
          "nan_count": 0,
          "min": "0.0",
          "max": "0.0",
          "histogram": [
           {
            "bin_start": -0.5,
            "bin_end": -0.4,
            "count": 0
           },
           {
            "bin_start": -0.4,
            "bin_end": -0.3,
            "count": 0
           },
           {
            "bin_start": -0.3,
            "bin_end": -0.19999999999999996,
            "count": 0
           },
           {
            "bin_start": -0.19999999999999996,
            "bin_end": -0.09999999999999998,
            "count": 0
           },
           {
            "bin_start": -0.09999999999999998,
            "bin_end": 0,
            "count": 0
           },
           {
            "bin_start": 0,
            "bin_end": 0.10000000000000009,
            "count": 72
           },
           {
            "bin_start": 0.10000000000000009,
            "bin_end": 0.20000000000000007,
            "count": 0
           },
           {
            "bin_start": 0.20000000000000007,
            "bin_end": 0.30000000000000004,
            "count": 0
           },
           {
            "bin_start": 0.30000000000000004,
            "bin_end": 0.4,
            "count": 0
           },
           {
            "bin_start": 0.4,
            "bin_end": 0.5,
            "count": 0
           }
          ]
         }
        },
        {
         "name": "num_reviews",
         "dtype": "int64",
         "stats": {
          "unique_count": 1,
          "nan_count": 0,
          "min": "0",
          "max": "0",
          "histogram": [
           {
            "bin_start": -0.5,
            "bin_end": -0.4,
            "count": 0
           },
           {
            "bin_start": -0.4,
            "bin_end": -0.3,
            "count": 0
           },
           {
            "bin_start": -0.3,
            "bin_end": -0.19999999999999996,
            "count": 0
           },
           {
            "bin_start": -0.19999999999999996,
            "bin_end": -0.09999999999999998,
            "count": 0
           },
           {
            "bin_start": -0.09999999999999998,
            "bin_end": 0,
            "count": 0
           },
           {
            "bin_start": 0,
            "bin_end": 0.10000000000000009,
            "count": 72
           },
           {
            "bin_start": 0.10000000000000009,
            "bin_end": 0.20000000000000007,
            "count": 0
           },
           {
            "bin_start": 0.20000000000000007,
            "bin_end": 0.30000000000000004,
            "count": 0
           },
           {
            "bin_start": 0.30000000000000004,
            "bin_end": 0.4,
            "count": 0
           },
           {
            "bin_start": 0.4,
            "bin_end": 0.5,
            "count": 0
           }
          ]
         }
        },
        {
         "name": "num_recommendations",
         "dtype": "int64",
         "stats": {
          "unique_count": 2,
          "nan_count": 0,
          "min": "0",
          "max": "1",
          "histogram": [
           {
            "bin_start": 0,
            "bin_end": 0.1,
            "count": 71
           },
           {
            "bin_start": 0.1,
            "bin_end": 0.2,
            "count": 0
           },
           {
            "bin_start": 0.2,
            "bin_end": 0.30000000000000004,
            "count": 0
           },
           {
            "bin_start": 0.30000000000000004,
            "bin_end": 0.4,
            "count": 0
           },
           {
            "bin_start": 0.4,
            "bin_end": 0.5,
            "count": 0
           },
           {
            "bin_start": 0.5,
            "bin_end": 0.6000000000000001,
            "count": 0
           },
           {
            "bin_start": 0.6000000000000001,
            "bin_end": 0.7000000000000001,
            "count": 0
           },
           {
            "bin_start": 0.7000000000000001,
            "bin_end": 0.8,
            "count": 0
           },
           {
            "bin_start": 0.8,
            "bin_end": 0.9,
            "count": 0
           },
           {
            "bin_start": 0.9,
            "bin_end": 1,
            "count": 1
           }
          ]
         }
        },
        {
         "name": "pct_jobs_completed",
         "dtype": "float64",
         "stats": {
          "unique_count": 0,
          "nan_count": 72,
          "min": null,
          "max": null,
          "histogram": [
           {
            "bin_start": 0,
            "bin_end": 0.1,
            "count": 0
           },
           {
            "bin_start": 0.1,
            "bin_end": 0.2,
            "count": 0
           },
           {
            "bin_start": 0.2,
            "bin_end": 0.30000000000000004,
            "count": 0
           },
           {
            "bin_start": 0.30000000000000004,
            "bin_end": 0.4,
            "count": 0
           },
           {
            "bin_start": 0.4,
            "bin_end": 0.5,
            "count": 0
           },
           {
            "bin_start": 0.5,
            "bin_end": 0.6000000000000001,
            "count": 0
           },
           {
            "bin_start": 0.6000000000000001,
            "bin_end": 0.7000000000000001,
            "count": 0
           },
           {
            "bin_start": 0.7000000000000001,
            "bin_end": 0.8,
            "count": 0
           },
           {
            "bin_start": 0.8,
            "bin_end": 0.9,
            "count": 0
           },
           {
            "bin_start": 0.9,
            "bin_end": 1,
            "count": 0
           }
          ]
         }
        },
        {
         "name": "pct_on_budget",
         "dtype": "float64",
         "stats": {
          "unique_count": 0,
          "nan_count": 72,
          "min": null,
          "max": null,
          "histogram": [
           {
            "bin_start": 0,
            "bin_end": 0.1,
            "count": 0
           },
           {
            "bin_start": 0.1,
            "bin_end": 0.2,
            "count": 0
           },
           {
            "bin_start": 0.2,
            "bin_end": 0.30000000000000004,
            "count": 0
           },
           {
            "bin_start": 0.30000000000000004,
            "bin_end": 0.4,
            "count": 0
           },
           {
            "bin_start": 0.4,
            "bin_end": 0.5,
            "count": 0
           },
           {
            "bin_start": 0.5,
            "bin_end": 0.6000000000000001,
            "count": 0
           },
           {
            "bin_start": 0.6000000000000001,
            "bin_end": 0.7000000000000001,
            "count": 0
           },
           {
            "bin_start": 0.7000000000000001,
            "bin_end": 0.8,
            "count": 0
           },
           {
            "bin_start": 0.8,
            "bin_end": 0.9,
            "count": 0
           },
           {
            "bin_start": 0.9,
            "bin_end": 1,
            "count": 0
           }
          ]
         }
        },
        {
         "name": "pct_on_time",
         "dtype": "float64",
         "stats": {
          "unique_count": 0,
          "nan_count": 72,
          "min": null,
          "max": null,
          "histogram": [
           {
            "bin_start": 0,
            "bin_end": 0.1,
            "count": 0
           },
           {
            "bin_start": 0.1,
            "bin_end": 0.2,
            "count": 0
           },
           {
            "bin_start": 0.2,
            "bin_end": 0.30000000000000004,
            "count": 0
           },
           {
            "bin_start": 0.30000000000000004,
            "bin_end": 0.4,
            "count": 0
           },
           {
            "bin_start": 0.4,
            "bin_end": 0.5,
            "count": 0
           },
           {
            "bin_start": 0.5,
            "bin_end": 0.6000000000000001,
            "count": 0
           },
           {
            "bin_start": 0.6000000000000001,
            "bin_end": 0.7000000000000001,
            "count": 0
           },
           {
            "bin_start": 0.7000000000000001,
            "bin_end": 0.8,
            "count": 0
           },
           {
            "bin_start": 0.8,
            "bin_end": 0.9,
            "count": 0
           },
           {
            "bin_start": 0.9,
            "bin_end": 1,
            "count": 0
           }
          ]
         }
        },
        {
         "name": "days_joined",
         "dtype": "int64",
         "stats": {
          "unique_count": 71,
          "nan_count": 0,
          "min": "13",
          "max": "2603",
          "histogram": [
           {
            "bin_start": 13,
            "bin_end": 272,
            "count": 38
           },
           {
            "bin_start": 272,
            "bin_end": 531,
            "count": 7
           },
           {
            "bin_start": 531,
            "bin_end": 790,
            "count": 5
           },
           {
            "bin_start": 790,
            "bin_end": 1049,
            "count": 5
           },
           {
            "bin_start": 1049,
            "bin_end": 1308,
            "count": 2
           },
           {
            "bin_start": 1308,
            "bin_end": 1567,
            "count": 6
           },
           {
            "bin_start": 1567,
            "bin_end": 1826,
            "count": 1
           },
           {
            "bin_start": 1826,
            "bin_end": 2085,
            "count": 2
           },
           {
            "bin_start": 2085,
            "bin_end": 2344,
            "count": 3
           },
           {
            "bin_start": 2344,
            "bin_end": 2603,
            "count": 3
           }
          ]
         }
        },
        {
         "name": "_deepnote_index_column",
         "dtype": "int64"
        }
       ],
       "rows": [
        {
         "Unnamed: 0": 14,
         "search_query": "accountant",
         "name": "Qudrat",
         "gender": "male",
         "gender2": "unknown",
         "hourly_rate": 30,
         "pay_grade": 0,
         "avg_rating": 0,
         "num_reviews": 0,
         "num_recommendations": 0,
         "pct_jobs_completed": "nan",
         "pct_on_budget": "nan",
         "pct_on_time": "nan",
         "days_joined": 19,
         "_deepnote_index_column": 14
        },
        {
         "Unnamed: 0": 21,
         "search_query": "accountant",
         "name": "Eman",
         "gender": "unknown",
         "gender2": "female",
         "hourly_rate": 100,
         "pay_grade": 0,
         "avg_rating": 0,
         "num_reviews": 0,
         "num_recommendations": 0,
         "pct_jobs_completed": "nan",
         "pct_on_budget": "nan",
         "pct_on_time": "nan",
         "days_joined": 927,
         "_deepnote_index_column": 21
        },
        {
         "Unnamed: 0": 22,
         "search_query": "accountant",
         "name": "Rupali",
         "gender": "female",
         "gender2": "unknown",
         "hourly_rate": 25,
         "pay_grade": 0,
         "avg_rating": 0,
         "num_reviews": 0,
         "num_recommendations": 0,
         "pct_jobs_completed": "nan",
         "pct_on_budget": "nan",
         "pct_on_time": "nan",
         "days_joined": 1315,
         "_deepnote_index_column": 22
        },
        {
         "Unnamed: 0": 32,
         "search_query": "accountant",
         "name": "Dat",
         "gender": "unknown",
         "gender2": "male",
         "hourly_rate": 25,
         "pay_grade": 0,
         "avg_rating": 0,
         "num_reviews": 0,
         "num_recommendations": 0,
         "pct_jobs_completed": "nan",
         "pct_on_budget": "nan",
         "pct_on_time": "nan",
         "days_joined": 1945,
         "_deepnote_index_column": 32
        },
        {
         "Unnamed: 0": 34,
         "search_query": "accountant",
         "name": "Atika",
         "gender": "female",
         "gender2": "unknown",
         "hourly_rate": 5,
         "pay_grade": 0,
         "avg_rating": 0,
         "num_reviews": 0,
         "num_recommendations": 0,
         "pct_jobs_completed": "nan",
         "pct_on_budget": "nan",
         "pct_on_time": "nan",
         "days_joined": 225,
         "_deepnote_index_column": 34
        },
        {
         "Unnamed: 0": 35,
         "search_query": "accountant",
         "name": "Hoyt",
         "gender": "unknown",
         "gender2": "male",
         "hourly_rate": 150,
         "pay_grade": 0,
         "avg_rating": 0,
         "num_reviews": 0,
         "num_recommendations": 0,
         "pct_jobs_completed": "nan",
         "pct_on_budget": "nan",
         "pct_on_time": "nan",
         "days_joined": 881,
         "_deepnote_index_column": 35
        },
        {
         "Unnamed: 0": 41,
         "search_query": "accountant",
         "name": "Nikita",
         "gender": "unknown",
         "gender2": "male",
         "hourly_rate": 30,
         "pay_grade": 0,
         "avg_rating": 0,
         "num_reviews": 0,
         "num_recommendations": 0,
         "pct_jobs_completed": "nan",
         "pct_on_budget": "nan",
         "pct_on_time": "nan",
         "days_joined": 627,
         "_deepnote_index_column": 41
        },
        {
         "Unnamed: 0": 47,
         "search_query": "accountant",
         "name": "Andi",
         "gender": "unknown",
         "gender2": "male",
         "hourly_rate": 25,
         "pay_grade": 0,
         "avg_rating": 0,
         "num_reviews": 0,
         "num_recommendations": 0,
         "pct_jobs_completed": "nan",
         "pct_on_budget": "nan",
         "pct_on_time": "nan",
         "days_joined": 2603,
         "_deepnote_index_column": 47
        },
        {
         "Unnamed: 0": 50,
         "search_query": "accountant",
         "name": "Randi",
         "gender": "unknown",
         "gender2": "female",
         "hourly_rate": 65,
         "pay_grade": 0,
         "avg_rating": 0,
         "num_reviews": 0,
         "num_recommendations": 0,
         "pct_jobs_completed": "nan",
         "pct_on_budget": "nan",
         "pct_on_time": "nan",
         "days_joined": 191,
         "_deepnote_index_column": 50
        },
        {
         "Unnamed: 0": 53,
         "search_query": "accountant",
         "name": "Marily",
         "gender": "female",
         "gender2": "unknown",
         "hourly_rate": 15,
         "pay_grade": 0,
         "avg_rating": 0,
         "num_reviews": 0,
         "num_recommendations": 0,
         "pct_jobs_completed": "nan",
         "pct_on_budget": "nan",
         "pct_on_time": "nan",
         "days_joined": 127,
         "_deepnote_index_column": 53
        }
       ]
      },
      "text/plain": "     Unnamed: 0 search_query      name   gender  gender2  hourly_rate  \\\n14           14   accountant    Qudrat     male  unknown         30.0   \n21           21   accountant      Eman  unknown   female        100.0   \n22           22   accountant    Rupali   female  unknown         25.0   \n32           32   accountant       Dat  unknown     male         25.0   \n34           34   accountant     Atika   female  unknown          5.0   \n..          ...          ...       ...      ...      ...          ...   \n437         437   accountant   Farheen   female  unknown        700.0   \n440         440   accountant      Nike  unknown   female         39.0   \n459         459   accountant  Paritosh     male  unknown         20.0   \n460         460   accountant    Vanaja  unknown   female         10.0   \n471         471   accountant    Marian  unknown     male         15.0   \n\n     pay_grade  avg_rating  num_reviews  num_recommendations  \\\n14         0.0         0.0            0                    0   \n21         0.0         0.0            0                    0   \n22         0.0         0.0            0                    0   \n32         0.0         0.0            0                    0   \n34         0.0         0.0            0                    0   \n..         ...         ...          ...                  ...   \n437        0.0         0.0            0                    0   \n440        0.0         0.0            0                    0   \n459        0.0         0.0            0                    0   \n460        0.0         0.0            0                    0   \n471        0.0         0.0            0                    0   \n\n     pct_jobs_completed  pct_on_budget  pct_on_time  days_joined  \n14                  NaN            NaN          NaN           19  \n21                  NaN            NaN          NaN          927  \n22                  NaN            NaN          NaN         1315  \n32                  NaN            NaN          NaN         1945  \n34                  NaN            NaN          NaN          225  \n..                  ...            ...          ...          ...  \n437                 NaN            NaN          NaN         1513  \n440                 NaN            NaN          NaN         2289  \n459                 NaN            NaN          NaN           53  \n460                 NaN            NaN          NaN           94  \n471                 NaN            NaN          NaN          281  \n\n[72 rows x 14 columns]",
      "text/html": "<div>\n<style scoped>\n    .dataframe tbody tr th:only-of-type {\n        vertical-align: middle;\n    }\n\n    .dataframe tbody tr th {\n        vertical-align: top;\n    }\n\n    .dataframe thead th {\n        text-align: right;\n    }\n</style>\n<table border=\"1\" class=\"dataframe\">\n  <thead>\n    <tr style=\"text-align: right;\">\n      <th></th>\n      <th>Unnamed: 0</th>\n      <th>search_query</th>\n      <th>name</th>\n      <th>gender</th>\n      <th>gender2</th>\n      <th>hourly_rate</th>\n      <th>pay_grade</th>\n      <th>avg_rating</th>\n      <th>num_reviews</th>\n      <th>num_recommendations</th>\n      <th>pct_jobs_completed</th>\n      <th>pct_on_budget</th>\n      <th>pct_on_time</th>\n      <th>days_joined</th>\n    </tr>\n  </thead>\n  <tbody>\n    <tr>\n      <th>14</th>\n      <td>14</td>\n      <td>accountant</td>\n      <td>Qudrat</td>\n      <td>male</td>\n      <td>unknown</td>\n      <td>30.0</td>\n      <td>0.0</td>\n      <td>0.0</td>\n      <td>0</td>\n      <td>0</td>\n      <td>NaN</td>\n      <td>NaN</td>\n      <td>NaN</td>\n      <td>19</td>\n    </tr>\n    <tr>\n      <th>21</th>\n      <td>21</td>\n      <td>accountant</td>\n      <td>Eman</td>\n      <td>unknown</td>\n      <td>female</td>\n      <td>100.0</td>\n      <td>0.0</td>\n      <td>0.0</td>\n      <td>0</td>\n      <td>0</td>\n      <td>NaN</td>\n      <td>NaN</td>\n      <td>NaN</td>\n      <td>927</td>\n    </tr>\n    <tr>\n      <th>22</th>\n      <td>22</td>\n      <td>accountant</td>\n      <td>Rupali</td>\n      <td>female</td>\n      <td>unknown</td>\n      <td>25.0</td>\n      <td>0.0</td>\n      <td>0.0</td>\n      <td>0</td>\n      <td>0</td>\n      <td>NaN</td>\n      <td>NaN</td>\n      <td>NaN</td>\n      <td>1315</td>\n    </tr>\n    <tr>\n      <th>32</th>\n      <td>32</td>\n      <td>accountant</td>\n      <td>Dat</td>\n      <td>unknown</td>\n      <td>male</td>\n      <td>25.0</td>\n      <td>0.0</td>\n      <td>0.0</td>\n      <td>0</td>\n      <td>0</td>\n      <td>NaN</td>\n      <td>NaN</td>\n      <td>NaN</td>\n      <td>1945</td>\n    </tr>\n    <tr>\n      <th>34</th>\n      <td>34</td>\n      <td>accountant</td>\n      <td>Atika</td>\n      <td>female</td>\n      <td>unknown</td>\n      <td>5.0</td>\n      <td>0.0</td>\n      <td>0.0</td>\n      <td>0</td>\n      <td>0</td>\n      <td>NaN</td>\n      <td>NaN</td>\n      <td>NaN</td>\n      <td>225</td>\n    </tr>\n    <tr>\n      <th>...</th>\n      <td>...</td>\n      <td>...</td>\n      <td>...</td>\n      <td>...</td>\n      <td>...</td>\n      <td>...</td>\n      <td>...</td>\n      <td>...</td>\n      <td>...</td>\n      <td>...</td>\n      <td>...</td>\n      <td>...</td>\n      <td>...</td>\n      <td>...</td>\n    </tr>\n    <tr>\n      <th>437</th>\n      <td>437</td>\n      <td>accountant</td>\n      <td>Farheen</td>\n      <td>female</td>\n      <td>unknown</td>\n      <td>700.0</td>\n      <td>0.0</td>\n      <td>0.0</td>\n      <td>0</td>\n      <td>0</td>\n      <td>NaN</td>\n      <td>NaN</td>\n      <td>NaN</td>\n      <td>1513</td>\n    </tr>\n    <tr>\n      <th>440</th>\n      <td>440</td>\n      <td>accountant</td>\n      <td>Nike</td>\n      <td>unknown</td>\n      <td>female</td>\n      <td>39.0</td>\n      <td>0.0</td>\n      <td>0.0</td>\n      <td>0</td>\n      <td>0</td>\n      <td>NaN</td>\n      <td>NaN</td>\n      <td>NaN</td>\n      <td>2289</td>\n    </tr>\n    <tr>\n      <th>459</th>\n      <td>459</td>\n      <td>accountant</td>\n      <td>Paritosh</td>\n      <td>male</td>\n      <td>unknown</td>\n      <td>20.0</td>\n      <td>0.0</td>\n      <td>0.0</td>\n      <td>0</td>\n      <td>0</td>\n      <td>NaN</td>\n      <td>NaN</td>\n      <td>NaN</td>\n      <td>53</td>\n    </tr>\n    <tr>\n      <th>460</th>\n      <td>460</td>\n      <td>accountant</td>\n      <td>Vanaja</td>\n      <td>unknown</td>\n      <td>female</td>\n      <td>10.0</td>\n      <td>0.0</td>\n      <td>0.0</td>\n      <td>0</td>\n      <td>0</td>\n      <td>NaN</td>\n      <td>NaN</td>\n      <td>NaN</td>\n      <td>94</td>\n    </tr>\n    <tr>\n      <th>471</th>\n      <td>471</td>\n      <td>accountant</td>\n      <td>Marian</td>\n      <td>unknown</td>\n      <td>male</td>\n      <td>15.0</td>\n      <td>0.0</td>\n      <td>0.0</td>\n      <td>0</td>\n      <td>0</td>\n      <td>NaN</td>\n      <td>NaN</td>\n      <td>NaN</td>\n      <td>281</td>\n    </tr>\n  </tbody>\n</table>\n<p>72 rows × 14 columns</p>\n</div>"
     },
     "metadata": {}
    }
   ]
  },
  {
   "cell_type": "code",
   "metadata": {
    "cell_id": "66d544b5-ec1d-4c32-915a-3ea363598592",
    "tags": [],
    "deepnote_cell_type": "code",
    "deepnote_cell_height": 66
   },
   "source": "",
   "execution_count": null,
   "outputs": []
  },
  {
   "cell_type": "markdown",
   "source": "When both make a confident prediction, they match >99% of the time. ",
   "metadata": {
    "cell_id": "919eef09-f059-4ef2-8923-8e5c7b815953",
    "tags": [],
    "deepnote_cell_type": "markdown",
    "deepnote_cell_height": 52.390625
   }
  },
  {
   "cell_type": "code",
   "metadata": {
    "cell_id": "f70bc54b-f8da-412d-b326-b4859ffa5bf5",
    "tags": [],
    "deepnote_to_be_reexecuted": false,
    "source_hash": "6c81dc3c",
    "execution_start": 1647451062221,
    "execution_millis": 2,
    "deepnote_cell_type": "code",
    "deepnote_cell_height": 99
   },
   "source": "df2['gender3'] = df2.name.apply(gender_detector_opt2.get_gender)\ndf2.insert(5,'gender3',df2.pop('gender3'))",
   "execution_count": null,
   "outputs": []
  },
  {
   "cell_type": "code",
   "metadata": {
    "cell_id": "bf6c02ee-cfb2-4063-9c81-7b864e18d318",
    "tags": [],
    "deepnote_to_be_reexecuted": false,
    "source_hash": "d67fa753",
    "execution_start": 1647451087275,
    "execution_millis": 78,
    "deepnote_table_state": {
     "pageSize": 10,
     "pageIndex": 4,
     "filters": [],
     "sortBy": []
    },
    "deepnote_table_loading": false,
    "deepnote_cell_type": "code",
    "deepnote_cell_height": 614.796875
   },
   "source": "df2.query(\"gender != gender2\")",
   "execution_count": null,
   "outputs": [
    {
     "output_type": "execute_result",
     "execution_count": 120,
     "data": {
      "application/vnd.deepnote.dataframe.v3+json": {
       "column_count": 15,
       "row_count": 72,
       "columns": [
        {
         "name": "Unnamed: 0",
         "dtype": "int64",
         "stats": {
          "unique_count": 72,
          "nan_count": 0,
          "min": "14",
          "max": "471",
          "histogram": [
           {
            "bin_start": 14,
            "bin_end": 59.7,
            "count": 11
           },
           {
            "bin_start": 59.7,
            "bin_end": 105.4,
            "count": 5
           },
           {
            "bin_start": 105.4,
            "bin_end": 151.10000000000002,
            "count": 5
           },
           {
            "bin_start": 151.10000000000002,
            "bin_end": 196.8,
            "count": 4
           },
           {
            "bin_start": 196.8,
            "bin_end": 242.5,
            "count": 11
           },
           {
            "bin_start": 242.5,
            "bin_end": 288.20000000000005,
            "count": 8
           },
           {
            "bin_start": 288.20000000000005,
            "bin_end": 333.90000000000003,
            "count": 9
           },
           {
            "bin_start": 333.90000000000003,
            "bin_end": 379.6,
            "count": 8
           },
           {
            "bin_start": 379.6,
            "bin_end": 425.3,
            "count": 5
           },
           {
            "bin_start": 425.3,
            "bin_end": 471,
            "count": 6
           }
          ]
         }
        },
        {
         "name": "search_query",
         "dtype": "object",
         "stats": {
          "unique_count": 1,
          "nan_count": 0,
          "categories": [
           {
            "name": "accountant",
            "count": 72
           }
          ]
         }
        },
        {
         "name": "name",
         "dtype": "object",
         "stats": {
          "unique_count": 69,
          "nan_count": 0,
          "categories": [
           {
            "name": "Eman",
            "count": 2
           },
           {
            "name": "Nikita",
            "count": 2
           },
           {
            "name": "67 others",
            "count": 68
           }
          ]
         }
        },
        {
         "name": "gender",
         "dtype": "object",
         "stats": {
          "unique_count": 3,
          "nan_count": 0,
          "categories": [
           {
            "name": "unknown",
            "count": 32
           },
           {
            "name": "male",
            "count": 25
           },
           {
            "name": "female",
            "count": 15
           }
          ]
         }
        },
        {
         "name": "gender2",
         "dtype": "object",
         "stats": {
          "unique_count": 3,
          "nan_count": 0,
          "categories": [
           {
            "name": "unknown",
            "count": 37
           },
           {
            "name": "female",
            "count": 24
           },
           {
            "name": "male",
            "count": 11
           }
          ]
         }
        },
        {
         "name": "gender3",
         "dtype": "object",
         "stats": {
          "unique_count": 5,
          "nan_count": 0,
          "categories": [
           {
            "name": "unknown",
            "count": 37
           },
           {
            "name": "female",
            "count": 17
           },
           {
            "name": "3 others",
            "count": 18
           }
          ]
         }
        },
        {
         "name": "hourly_rate",
         "dtype": "float64",
         "stats": {
          "unique_count": 26,
          "nan_count": 0,
          "min": "2.0",
          "max": "700.0",
          "histogram": [
           {
            "bin_start": 2,
            "bin_end": 71.8,
            "count": 61
           },
           {
            "bin_start": 71.8,
            "bin_end": 141.6,
            "count": 7
           },
           {
            "bin_start": 141.6,
            "bin_end": 211.39999999999998,
            "count": 2
           },
           {
            "bin_start": 211.39999999999998,
            "bin_end": 281.2,
            "count": 0
           },
           {
            "bin_start": 281.2,
            "bin_end": 351,
            "count": 0
           },
           {
            "bin_start": 351,
            "bin_end": 420.79999999999995,
            "count": 0
           },
           {
            "bin_start": 420.79999999999995,
            "bin_end": 490.59999999999997,
            "count": 0
           },
           {
            "bin_start": 490.59999999999997,
            "bin_end": 560.4,
            "count": 1
           },
           {
            "bin_start": 560.4,
            "bin_end": 630.1999999999999,
            "count": 0
           },
           {
            "bin_start": 630.1999999999999,
            "bin_end": 700,
            "count": 1
           }
          ]
         }
        },
        {
         "name": "pay_grade",
         "dtype": "float64",
         "stats": {
          "unique_count": 1,
          "nan_count": 0,
          "min": "0.0",
          "max": "0.0",
          "histogram": [
           {
            "bin_start": -0.5,
            "bin_end": -0.4,
            "count": 0
           },
           {
            "bin_start": -0.4,
            "bin_end": -0.3,
            "count": 0
           },
           {
            "bin_start": -0.3,
            "bin_end": -0.19999999999999996,
            "count": 0
           },
           {
            "bin_start": -0.19999999999999996,
            "bin_end": -0.09999999999999998,
            "count": 0
           },
           {
            "bin_start": -0.09999999999999998,
            "bin_end": 0,
            "count": 0
           },
           {
            "bin_start": 0,
            "bin_end": 0.10000000000000009,
            "count": 72
           },
           {
            "bin_start": 0.10000000000000009,
            "bin_end": 0.20000000000000007,
            "count": 0
           },
           {
            "bin_start": 0.20000000000000007,
            "bin_end": 0.30000000000000004,
            "count": 0
           },
           {
            "bin_start": 0.30000000000000004,
            "bin_end": 0.4,
            "count": 0
           },
           {
            "bin_start": 0.4,
            "bin_end": 0.5,
            "count": 0
           }
          ]
         }
        },
        {
         "name": "avg_rating",
         "dtype": "float64",
         "stats": {
          "unique_count": 1,
          "nan_count": 0,
          "min": "0.0",
          "max": "0.0",
          "histogram": [
           {
            "bin_start": -0.5,
            "bin_end": -0.4,
            "count": 0
           },
           {
            "bin_start": -0.4,
            "bin_end": -0.3,
            "count": 0
           },
           {
            "bin_start": -0.3,
            "bin_end": -0.19999999999999996,
            "count": 0
           },
           {
            "bin_start": -0.19999999999999996,
            "bin_end": -0.09999999999999998,
            "count": 0
           },
           {
            "bin_start": -0.09999999999999998,
            "bin_end": 0,
            "count": 0
           },
           {
            "bin_start": 0,
            "bin_end": 0.10000000000000009,
            "count": 72
           },
           {
            "bin_start": 0.10000000000000009,
            "bin_end": 0.20000000000000007,
            "count": 0
           },
           {
            "bin_start": 0.20000000000000007,
            "bin_end": 0.30000000000000004,
            "count": 0
           },
           {
            "bin_start": 0.30000000000000004,
            "bin_end": 0.4,
            "count": 0
           },
           {
            "bin_start": 0.4,
            "bin_end": 0.5,
            "count": 0
           }
          ]
         }
        },
        {
         "name": "num_reviews",
         "dtype": "int64",
         "stats": {
          "unique_count": 1,
          "nan_count": 0,
          "min": "0",
          "max": "0",
          "histogram": [
           {
            "bin_start": -0.5,
            "bin_end": -0.4,
            "count": 0
           },
           {
            "bin_start": -0.4,
            "bin_end": -0.3,
            "count": 0
           },
           {
            "bin_start": -0.3,
            "bin_end": -0.19999999999999996,
            "count": 0
           },
           {
            "bin_start": -0.19999999999999996,
            "bin_end": -0.09999999999999998,
            "count": 0
           },
           {
            "bin_start": -0.09999999999999998,
            "bin_end": 0,
            "count": 0
           },
           {
            "bin_start": 0,
            "bin_end": 0.10000000000000009,
            "count": 72
           },
           {
            "bin_start": 0.10000000000000009,
            "bin_end": 0.20000000000000007,
            "count": 0
           },
           {
            "bin_start": 0.20000000000000007,
            "bin_end": 0.30000000000000004,
            "count": 0
           },
           {
            "bin_start": 0.30000000000000004,
            "bin_end": 0.4,
            "count": 0
           },
           {
            "bin_start": 0.4,
            "bin_end": 0.5,
            "count": 0
           }
          ]
         }
        },
        {
         "name": "num_recommendations",
         "dtype": "int64",
         "stats": {
          "unique_count": 2,
          "nan_count": 0,
          "min": "0",
          "max": "1",
          "histogram": [
           {
            "bin_start": 0,
            "bin_end": 0.1,
            "count": 71
           },
           {
            "bin_start": 0.1,
            "bin_end": 0.2,
            "count": 0
           },
           {
            "bin_start": 0.2,
            "bin_end": 0.30000000000000004,
            "count": 0
           },
           {
            "bin_start": 0.30000000000000004,
            "bin_end": 0.4,
            "count": 0
           },
           {
            "bin_start": 0.4,
            "bin_end": 0.5,
            "count": 0
           },
           {
            "bin_start": 0.5,
            "bin_end": 0.6000000000000001,
            "count": 0
           },
           {
            "bin_start": 0.6000000000000001,
            "bin_end": 0.7000000000000001,
            "count": 0
           },
           {
            "bin_start": 0.7000000000000001,
            "bin_end": 0.8,
            "count": 0
           },
           {
            "bin_start": 0.8,
            "bin_end": 0.9,
            "count": 0
           },
           {
            "bin_start": 0.9,
            "bin_end": 1,
            "count": 1
           }
          ]
         }
        },
        {
         "name": "pct_jobs_completed",
         "dtype": "float64",
         "stats": {
          "unique_count": 0,
          "nan_count": 72,
          "min": null,
          "max": null,
          "histogram": [
           {
            "bin_start": 0,
            "bin_end": 0.1,
            "count": 0
           },
           {
            "bin_start": 0.1,
            "bin_end": 0.2,
            "count": 0
           },
           {
            "bin_start": 0.2,
            "bin_end": 0.30000000000000004,
            "count": 0
           },
           {
            "bin_start": 0.30000000000000004,
            "bin_end": 0.4,
            "count": 0
           },
           {
            "bin_start": 0.4,
            "bin_end": 0.5,
            "count": 0
           },
           {
            "bin_start": 0.5,
            "bin_end": 0.6000000000000001,
            "count": 0
           },
           {
            "bin_start": 0.6000000000000001,
            "bin_end": 0.7000000000000001,
            "count": 0
           },
           {
            "bin_start": 0.7000000000000001,
            "bin_end": 0.8,
            "count": 0
           },
           {
            "bin_start": 0.8,
            "bin_end": 0.9,
            "count": 0
           },
           {
            "bin_start": 0.9,
            "bin_end": 1,
            "count": 0
           }
          ]
         }
        },
        {
         "name": "pct_on_budget",
         "dtype": "float64",
         "stats": {
          "unique_count": 0,
          "nan_count": 72,
          "min": null,
          "max": null,
          "histogram": [
           {
            "bin_start": 0,
            "bin_end": 0.1,
            "count": 0
           },
           {
            "bin_start": 0.1,
            "bin_end": 0.2,
            "count": 0
           },
           {
            "bin_start": 0.2,
            "bin_end": 0.30000000000000004,
            "count": 0
           },
           {
            "bin_start": 0.30000000000000004,
            "bin_end": 0.4,
            "count": 0
           },
           {
            "bin_start": 0.4,
            "bin_end": 0.5,
            "count": 0
           },
           {
            "bin_start": 0.5,
            "bin_end": 0.6000000000000001,
            "count": 0
           },
           {
            "bin_start": 0.6000000000000001,
            "bin_end": 0.7000000000000001,
            "count": 0
           },
           {
            "bin_start": 0.7000000000000001,
            "bin_end": 0.8,
            "count": 0
           },
           {
            "bin_start": 0.8,
            "bin_end": 0.9,
            "count": 0
           },
           {
            "bin_start": 0.9,
            "bin_end": 1,
            "count": 0
           }
          ]
         }
        },
        {
         "name": "pct_on_time",
         "dtype": "float64",
         "stats": {
          "unique_count": 0,
          "nan_count": 72,
          "min": null,
          "max": null,
          "histogram": [
           {
            "bin_start": 0,
            "bin_end": 0.1,
            "count": 0
           },
           {
            "bin_start": 0.1,
            "bin_end": 0.2,
            "count": 0
           },
           {
            "bin_start": 0.2,
            "bin_end": 0.30000000000000004,
            "count": 0
           },
           {
            "bin_start": 0.30000000000000004,
            "bin_end": 0.4,
            "count": 0
           },
           {
            "bin_start": 0.4,
            "bin_end": 0.5,
            "count": 0
           },
           {
            "bin_start": 0.5,
            "bin_end": 0.6000000000000001,
            "count": 0
           },
           {
            "bin_start": 0.6000000000000001,
            "bin_end": 0.7000000000000001,
            "count": 0
           },
           {
            "bin_start": 0.7000000000000001,
            "bin_end": 0.8,
            "count": 0
           },
           {
            "bin_start": 0.8,
            "bin_end": 0.9,
            "count": 0
           },
           {
            "bin_start": 0.9,
            "bin_end": 1,
            "count": 0
           }
          ]
         }
        },
        {
         "name": "days_joined",
         "dtype": "int64",
         "stats": {
          "unique_count": 71,
          "nan_count": 0,
          "min": "13",
          "max": "2603",
          "histogram": [
           {
            "bin_start": 13,
            "bin_end": 272,
            "count": 38
           },
           {
            "bin_start": 272,
            "bin_end": 531,
            "count": 7
           },
           {
            "bin_start": 531,
            "bin_end": 790,
            "count": 5
           },
           {
            "bin_start": 790,
            "bin_end": 1049,
            "count": 5
           },
           {
            "bin_start": 1049,
            "bin_end": 1308,
            "count": 2
           },
           {
            "bin_start": 1308,
            "bin_end": 1567,
            "count": 6
           },
           {
            "bin_start": 1567,
            "bin_end": 1826,
            "count": 1
           },
           {
            "bin_start": 1826,
            "bin_end": 2085,
            "count": 2
           },
           {
            "bin_start": 2085,
            "bin_end": 2344,
            "count": 3
           },
           {
            "bin_start": 2344,
            "bin_end": 2603,
            "count": 3
           }
          ]
         }
        },
        {
         "name": "_deepnote_index_column",
         "dtype": "int64"
        }
       ],
       "rows": [
        {
         "Unnamed: 0": 268,
         "search_query": "accountant",
         "name": "Miah",
         "gender": "unknown",
         "gender2": "female",
         "gender3": "female",
         "hourly_rate": 30,
         "pay_grade": 0,
         "avg_rating": 0,
         "num_reviews": 0,
         "num_recommendations": 0,
         "pct_jobs_completed": "nan",
         "pct_on_budget": "nan",
         "pct_on_time": "nan",
         "days_joined": 132,
         "_deepnote_index_column": 268
        },
        {
         "Unnamed: 0": 270,
         "search_query": "accountant",
         "name": "Brennon",
         "gender": "unknown",
         "gender2": "male",
         "gender3": "male",
         "hourly_rate": 65,
         "pay_grade": 0,
         "avg_rating": 0,
         "num_reviews": 0,
         "num_recommendations": 0,
         "pct_jobs_completed": "nan",
         "pct_on_budget": "nan",
         "pct_on_time": "nan",
         "days_joined": 2191,
         "_deepnote_index_column": 270
        },
        {
         "Unnamed: 0": 276,
         "search_query": "accountant",
         "name": "Ginna",
         "gender": "female",
         "gender2": "unknown",
         "gender3": "unknown",
         "hourly_rate": 30,
         "pay_grade": 0,
         "avg_rating": 0,
         "num_reviews": 0,
         "num_recommendations": 0,
         "pct_jobs_completed": "nan",
         "pct_on_budget": "nan",
         "pct_on_time": "nan",
         "days_joined": 463,
         "_deepnote_index_column": 276
        },
        {
         "Unnamed: 0": 288,
         "search_query": "accountant",
         "name": "Niki",
         "gender": "unknown",
         "gender2": "female",
         "gender3": "female",
         "hourly_rate": 40,
         "pay_grade": 0,
         "avg_rating": 0,
         "num_reviews": 0,
         "num_recommendations": 0,
         "pct_jobs_completed": "nan",
         "pct_on_budget": "nan",
         "pct_on_time": "nan",
         "days_joined": 151,
         "_deepnote_index_column": 288
        },
        {
         "Unnamed: 0": 290,
         "search_query": "accountant",
         "name": "Odhiambo",
         "gender": "male",
         "gender2": "unknown",
         "gender3": "unknown",
         "hourly_rate": 15,
         "pay_grade": 0,
         "avg_rating": 0,
         "num_reviews": 0,
         "num_recommendations": 0,
         "pct_jobs_completed": "nan",
         "pct_on_budget": "nan",
         "pct_on_time": "nan",
         "days_joined": 40,
         "_deepnote_index_column": 290
        },
        {
         "Unnamed: 0": 306,
         "search_query": "accountant",
         "name": "Wasif",
         "gender": "male",
         "gender2": "unknown",
         "gender3": "unknown",
         "hourly_rate": 10,
         "pay_grade": 0,
         "avg_rating": 0,
         "num_reviews": 0,
         "num_recommendations": 0,
         "pct_jobs_completed": "nan",
         "pct_on_budget": "nan",
         "pct_on_time": "nan",
         "days_joined": 723,
         "_deepnote_index_column": 306
        },
        {
         "Unnamed: 0": 312,
         "search_query": "accountant",
         "name": "Ronalyn",
         "gender": "female",
         "gender2": "unknown",
         "gender3": "unknown",
         "hourly_rate": 20,
         "pay_grade": 0,
         "avg_rating": 0,
         "num_reviews": 0,
         "num_recommendations": 0,
         "pct_jobs_completed": "nan",
         "pct_on_budget": "nan",
         "pct_on_time": "nan",
         "days_joined": 1387,
         "_deepnote_index_column": 312
        },
        {
         "Unnamed: 0": 314,
         "search_query": "accountant",
         "name": "Joan",
         "gender": "unknown",
         "gender2": "female",
         "gender3": "female",
         "hourly_rate": 35,
         "pay_grade": 0,
         "avg_rating": 0,
         "num_reviews": 0,
         "num_recommendations": 0,
         "pct_jobs_completed": "nan",
         "pct_on_budget": "nan",
         "pct_on_time": "nan",
         "days_joined": 2192,
         "_deepnote_index_column": 314
        },
        {
         "Unnamed: 0": 317,
         "search_query": "accountant",
         "name": "Ronke",
         "gender": "female",
         "gender2": "unknown",
         "gender3": "unknown",
         "hourly_rate": 100,
         "pay_grade": 0,
         "avg_rating": 0,
         "num_reviews": 0,
         "num_recommendations": 0,
         "pct_jobs_completed": "nan",
         "pct_on_budget": "nan",
         "pct_on_time": "nan",
         "days_joined": 1006,
         "_deepnote_index_column": 317
        },
        {
         "Unnamed: 0": 324,
         "search_query": "accountant",
         "name": "Kim",
         "gender": "unknown",
         "gender2": "female",
         "gender3": "mostly_female",
         "hourly_rate": 50,
         "pay_grade": 0,
         "avg_rating": 0,
         "num_reviews": 0,
         "num_recommendations": 0,
         "pct_jobs_completed": "nan",
         "pct_on_budget": "nan",
         "pct_on_time": "nan",
         "days_joined": 1895,
         "_deepnote_index_column": 324
        }
       ]
      },
      "text/plain": "     Unnamed: 0 search_query      name   gender  gender2      gender3  \\\n14           14   accountant    Qudrat     male  unknown      unknown   \n21           21   accountant      Eman  unknown   female       female   \n22           22   accountant    Rupali   female  unknown      unknown   \n32           32   accountant       Dat  unknown     male  mostly_male   \n34           34   accountant     Atika   female  unknown      unknown   \n..          ...          ...       ...      ...      ...          ...   \n437         437   accountant   Farheen   female  unknown      unknown   \n440         440   accountant      Nike  unknown   female       female   \n459         459   accountant  Paritosh     male  unknown      unknown   \n460         460   accountant    Vanaja  unknown   female       female   \n471         471   accountant    Marian  unknown     male         male   \n\n     hourly_rate  pay_grade  avg_rating  num_reviews  num_recommendations  \\\n14          30.0        0.0         0.0            0                    0   \n21         100.0        0.0         0.0            0                    0   \n22          25.0        0.0         0.0            0                    0   \n32          25.0        0.0         0.0            0                    0   \n34           5.0        0.0         0.0            0                    0   \n..           ...        ...         ...          ...                  ...   \n437        700.0        0.0         0.0            0                    0   \n440         39.0        0.0         0.0            0                    0   \n459         20.0        0.0         0.0            0                    0   \n460         10.0        0.0         0.0            0                    0   \n471         15.0        0.0         0.0            0                    0   \n\n     pct_jobs_completed  pct_on_budget  pct_on_time  days_joined  \n14                  NaN            NaN          NaN           19  \n21                  NaN            NaN          NaN          927  \n22                  NaN            NaN          NaN         1315  \n32                  NaN            NaN          NaN         1945  \n34                  NaN            NaN          NaN          225  \n..                  ...            ...          ...          ...  \n437                 NaN            NaN          NaN         1513  \n440                 NaN            NaN          NaN         2289  \n459                 NaN            NaN          NaN           53  \n460                 NaN            NaN          NaN           94  \n471                 NaN            NaN          NaN          281  \n\n[72 rows x 15 columns]",
      "text/html": "<div>\n<style scoped>\n    .dataframe tbody tr th:only-of-type {\n        vertical-align: middle;\n    }\n\n    .dataframe tbody tr th {\n        vertical-align: top;\n    }\n\n    .dataframe thead th {\n        text-align: right;\n    }\n</style>\n<table border=\"1\" class=\"dataframe\">\n  <thead>\n    <tr style=\"text-align: right;\">\n      <th></th>\n      <th>Unnamed: 0</th>\n      <th>search_query</th>\n      <th>name</th>\n      <th>gender</th>\n      <th>gender2</th>\n      <th>gender3</th>\n      <th>hourly_rate</th>\n      <th>pay_grade</th>\n      <th>avg_rating</th>\n      <th>num_reviews</th>\n      <th>num_recommendations</th>\n      <th>pct_jobs_completed</th>\n      <th>pct_on_budget</th>\n      <th>pct_on_time</th>\n      <th>days_joined</th>\n    </tr>\n  </thead>\n  <tbody>\n    <tr>\n      <th>14</th>\n      <td>14</td>\n      <td>accountant</td>\n      <td>Qudrat</td>\n      <td>male</td>\n      <td>unknown</td>\n      <td>unknown</td>\n      <td>30.0</td>\n      <td>0.0</td>\n      <td>0.0</td>\n      <td>0</td>\n      <td>0</td>\n      <td>NaN</td>\n      <td>NaN</td>\n      <td>NaN</td>\n      <td>19</td>\n    </tr>\n    <tr>\n      <th>21</th>\n      <td>21</td>\n      <td>accountant</td>\n      <td>Eman</td>\n      <td>unknown</td>\n      <td>female</td>\n      <td>female</td>\n      <td>100.0</td>\n      <td>0.0</td>\n      <td>0.0</td>\n      <td>0</td>\n      <td>0</td>\n      <td>NaN</td>\n      <td>NaN</td>\n      <td>NaN</td>\n      <td>927</td>\n    </tr>\n    <tr>\n      <th>22</th>\n      <td>22</td>\n      <td>accountant</td>\n      <td>Rupali</td>\n      <td>female</td>\n      <td>unknown</td>\n      <td>unknown</td>\n      <td>25.0</td>\n      <td>0.0</td>\n      <td>0.0</td>\n      <td>0</td>\n      <td>0</td>\n      <td>NaN</td>\n      <td>NaN</td>\n      <td>NaN</td>\n      <td>1315</td>\n    </tr>\n    <tr>\n      <th>32</th>\n      <td>32</td>\n      <td>accountant</td>\n      <td>Dat</td>\n      <td>unknown</td>\n      <td>male</td>\n      <td>mostly_male</td>\n      <td>25.0</td>\n      <td>0.0</td>\n      <td>0.0</td>\n      <td>0</td>\n      <td>0</td>\n      <td>NaN</td>\n      <td>NaN</td>\n      <td>NaN</td>\n      <td>1945</td>\n    </tr>\n    <tr>\n      <th>34</th>\n      <td>34</td>\n      <td>accountant</td>\n      <td>Atika</td>\n      <td>female</td>\n      <td>unknown</td>\n      <td>unknown</td>\n      <td>5.0</td>\n      <td>0.0</td>\n      <td>0.0</td>\n      <td>0</td>\n      <td>0</td>\n      <td>NaN</td>\n      <td>NaN</td>\n      <td>NaN</td>\n      <td>225</td>\n    </tr>\n    <tr>\n      <th>...</th>\n      <td>...</td>\n      <td>...</td>\n      <td>...</td>\n      <td>...</td>\n      <td>...</td>\n      <td>...</td>\n      <td>...</td>\n      <td>...</td>\n      <td>...</td>\n      <td>...</td>\n      <td>...</td>\n      <td>...</td>\n      <td>...</td>\n      <td>...</td>\n      <td>...</td>\n    </tr>\n    <tr>\n      <th>437</th>\n      <td>437</td>\n      <td>accountant</td>\n      <td>Farheen</td>\n      <td>female</td>\n      <td>unknown</td>\n      <td>unknown</td>\n      <td>700.0</td>\n      <td>0.0</td>\n      <td>0.0</td>\n      <td>0</td>\n      <td>0</td>\n      <td>NaN</td>\n      <td>NaN</td>\n      <td>NaN</td>\n      <td>1513</td>\n    </tr>\n    <tr>\n      <th>440</th>\n      <td>440</td>\n      <td>accountant</td>\n      <td>Nike</td>\n      <td>unknown</td>\n      <td>female</td>\n      <td>female</td>\n      <td>39.0</td>\n      <td>0.0</td>\n      <td>0.0</td>\n      <td>0</td>\n      <td>0</td>\n      <td>NaN</td>\n      <td>NaN</td>\n      <td>NaN</td>\n      <td>2289</td>\n    </tr>\n    <tr>\n      <th>459</th>\n      <td>459</td>\n      <td>accountant</td>\n      <td>Paritosh</td>\n      <td>male</td>\n      <td>unknown</td>\n      <td>unknown</td>\n      <td>20.0</td>\n      <td>0.0</td>\n      <td>0.0</td>\n      <td>0</td>\n      <td>0</td>\n      <td>NaN</td>\n      <td>NaN</td>\n      <td>NaN</td>\n      <td>53</td>\n    </tr>\n    <tr>\n      <th>460</th>\n      <td>460</td>\n      <td>accountant</td>\n      <td>Vanaja</td>\n      <td>unknown</td>\n      <td>female</td>\n      <td>female</td>\n      <td>10.0</td>\n      <td>0.0</td>\n      <td>0.0</td>\n      <td>0</td>\n      <td>0</td>\n      <td>NaN</td>\n      <td>NaN</td>\n      <td>NaN</td>\n      <td>94</td>\n    </tr>\n    <tr>\n      <th>471</th>\n      <td>471</td>\n      <td>accountant</td>\n      <td>Marian</td>\n      <td>unknown</td>\n      <td>male</td>\n      <td>male</td>\n      <td>15.0</td>\n      <td>0.0</td>\n      <td>0.0</td>\n      <td>0</td>\n      <td>0</td>\n      <td>NaN</td>\n      <td>NaN</td>\n      <td>NaN</td>\n      <td>281</td>\n    </tr>\n  </tbody>\n</table>\n<p>72 rows × 15 columns</p>\n</div>"
     },
     "metadata": {}
    }
   ]
  },
  {
   "cell_type": "markdown",
   "source": "Chinonso\n\n- Option 2 seems to mostly get it right with the mostlys lol\n- Both seem to complement each other well. When one doesn't know the other knows and seems to be right a lot of the time\n- Both have a high correspondence towards the same prediction ~85% of the time in this dataset\n\nThoughts: Start with option 2 and only resort to option 1 when option 2 makes no prediction\n",
   "metadata": {
    "cell_id": "543838dd-dcaf-49a1-88a7-90b0729bacf6",
    "tags": [],
    "deepnote_cell_type": "markdown",
    "deepnote_cell_height": 176
   }
  },
  {
   "cell_type": "markdown",
   "source": "<a style='text-decoration:none;line-height:16px;display:flex;color:#5B5B62;padding:10px;justify-content:end;' href='https://deepnote.com?utm_source=created-in-deepnote-cell&projectId=acc27b92-84be-4130-8026-204943f38189' target=\"_blank\">\n<img alt='Created in deepnote.com' style='display:inline;max-height:16px;margin:0px;margin-right:7.5px;' src='data:image/svg+xml;base64,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' > </img>\nCreated in <span style='font-weight:600;margin-left:4px;'>Deepnote</span></a>",
   "metadata": {
    "tags": [],
    "created_in_deepnote_cell": true,
    "deepnote_cell_type": "markdown"
   }
  }
 ],
 "nbformat": 4,
 "nbformat_minor": 2,
 "metadata": {
  "orig_nbformat": 2,
  "deepnote": {
   "is_reactive": false
  },
  "deepnote_notebook_id": "96eb3a60-89b5-4011-81cd-66768931feb2",
  "deepnote_execution_queue": []
 }
}